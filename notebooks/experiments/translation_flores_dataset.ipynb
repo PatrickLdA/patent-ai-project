{
 "cells": [
  {
   "cell_type": "code",
   "execution_count": 1,
   "id": "d1490abf",
   "metadata": {},
   "outputs": [
    {
     "data": {
      "application/vnd.jupyter.widget-view+json": {
       "model_id": "f20f1cf06fae4f6fb3f24926bdfc2417",
       "version_major": 2,
       "version_minor": 0
      },
      "text/plain": [
       "VBox(children=(HTML(value='<center> <img\\nsrc=https://huggingface.co/front/assets/huggingface_logo-noborder.sv…"
      ]
     },
     "metadata": {},
     "output_type": "display_data"
    }
   ],
   "source": [
    "from tqdm import tqdm   \n",
    "\n",
    "import numpy as np\n",
    "import pandas as pd\n",
    "from datasets import load_dataset\n",
    "\n",
    "import dl_translate as dlt\n",
    "\n",
    "from transformers import AutoTokenizer, AutoModelForSeq2SeqLM, AutoModelForCausalLM, pipeline\n",
    "\n",
    "import huggingface_hub\n",
    "huggingface_hub.login() # now you will be prompted to enter your token; enter it."
   ]
  },
  {
   "cell_type": "code",
   "execution_count": null,
   "id": "7709315c",
   "metadata": {},
   "outputs": [
    {
     "name": "stdout",
     "output_type": "stream",
     "text": [
      "Collecting en-core-web-lg==3.8.0\n",
      "  Downloading https://github.com/explosion/spacy-models/releases/download/en_core_web_lg-3.8.0/en_core_web_lg-3.8.0-py3-none-any.whl (400.7 MB)\n",
      "\u001b[2K     \u001b[90m━━━━━━━━━━━━━━━━━━━━━━━━━━━━━━━━━━━━━━━\u001b[0m \u001b[32m400.7/400.7 MB\u001b[0m \u001b[31m5.3 MB/s\u001b[0m eta \u001b[36m0:00:00\u001b[0m00:01\u001b[0m00:01\u001b[0m\n",
      "\u001b[?25h\n",
      "\u001b[1m[\u001b[0m\u001b[34;49mnotice\u001b[0m\u001b[1;39;49m]\u001b[0m\u001b[39;49m A new release of pip is available: \u001b[0m\u001b[31;49m24.0\u001b[0m\u001b[39;49m -> \u001b[0m\u001b[32;49m25.2\u001b[0m\n",
      "\u001b[1m[\u001b[0m\u001b[34;49mnotice\u001b[0m\u001b[1;39;49m]\u001b[0m\u001b[39;49m To update, run: \u001b[0m\u001b[32;49mpip install --upgrade pip\u001b[0m\n",
      "\u001b[38;5;2m✔ Download and installation successful\u001b[0m\n",
      "You can now load the package via spacy.load('en_core_web_lg')\n"
     ]
    }
   ],
   "source": [
    "!python -m spacy download en_core_web_lg\n",
    "import spacy\n",
    "import spacy_transformers\n",
    "import torch\n",
    "\n",
    "tqdm.pandas()"
   ]
  },
  {
   "cell_type": "markdown",
   "id": "0619ebdc",
   "metadata": {},
   "source": [
    "# English processing use cases\n",
    "This notebook aims to test the Task and Object identification in patents in english.\n",
    "\n",
    "1. **Task:** the method used in the described patent. In can be compress something or agilize a effect, for example.\n",
    "2. **Object:** the \"target\" of the task. It can be a food, a construction material or any other object that, combined with the task, defines the patent.\n",
    "\n",
    "It is supposed that NLP techniques are more refined to english data as the models are well-developed and to validate this theory, all the patents will be translated to english to them be processed.\n",
    "\n",
    "[DL-Translate](https://pypi.org/project/dl-translate/), a Python library that implements a low verbosity use of many open source models to translation tasks.\n",
    "\n",
    "Three models can be used to translate from portuguese to english:\n",
    "- [mBART-50 Large](https://huggingface.co/transformers/master/model_doc/mbart.html): Allows translations across 50 languages.\n",
    "- [m2m100](https://huggingface.co/docs/transformers/model_doc/m2m_100): Allows translations across 100 languages.\n",
    "- [nllb-200](https://huggingface.co/docs/transformers/model_doc/nllb): Allows translations across 200 languages, and is faster than m2m100 (On RTX A6000, we can see speed up of 3x)."
   ]
  },
  {
   "cell_type": "markdown",
   "id": "aab5155c",
   "metadata": {},
   "source": [
    "# Model translation evaluation\n",
    "\n",
    "To test the models we will evaluate using [FLORES+](https://huggingface.co/datasets/openlanguagedata/flores_plus) from Meta and evaluate the BLEU score for each model. This will serve as a benchmark to choose the best translating model to portuguese.\n",
    "\n",
    "To do so, we have to download the portuguese and english bases and combine then by the ID."
   ]
  },
  {
   "cell_type": "code",
   "execution_count": 3,
   "id": "7d0d345e",
   "metadata": {},
   "outputs": [
    {
     "data": {
      "application/vnd.jupyter.widget-view+json": {
       "model_id": "b82ee18a75c4451184b3533f5752fe35",
       "version_major": 2,
       "version_minor": 0
      },
      "text/plain": [
       "Resolving data files:   0%|          | 0/220 [00:00<?, ?it/s]"
      ]
     },
     "metadata": {},
     "output_type": "display_data"
    },
    {
     "data": {
      "application/vnd.jupyter.widget-view+json": {
       "model_id": "bc75e9fb80d24ba7b6ffd885d7d838d8",
       "version_major": 2,
       "version_minor": 0
      },
      "text/plain": [
       "Resolving data files:   0%|          | 0/214 [00:00<?, ?it/s]"
      ]
     },
     "metadata": {},
     "output_type": "display_data"
    },
    {
     "data": {
      "text/html": [
       "<div>\n",
       "<style scoped>\n",
       "    .dataframe tbody tr th:only-of-type {\n",
       "        vertical-align: middle;\n",
       "    }\n",
       "\n",
       "    .dataframe tbody tr th {\n",
       "        vertical-align: top;\n",
       "    }\n",
       "\n",
       "    .dataframe thead th {\n",
       "        text-align: right;\n",
       "    }\n",
       "</style>\n",
       "<table border=\"1\" class=\"dataframe\">\n",
       "  <thead>\n",
       "    <tr style=\"text-align: right;\">\n",
       "      <th></th>\n",
       "      <th>id</th>\n",
       "      <th>iso_639_3</th>\n",
       "      <th>iso_15924</th>\n",
       "      <th>glottocode</th>\n",
       "      <th>text</th>\n",
       "      <th>url</th>\n",
       "      <th>domain</th>\n",
       "      <th>topic</th>\n",
       "      <th>has_image</th>\n",
       "      <th>has_hyperlink</th>\n",
       "      <th>last_updated</th>\n",
       "    </tr>\n",
       "  </thead>\n",
       "  <tbody>\n",
       "    <tr>\n",
       "      <th>0</th>\n",
       "      <td>0</td>\n",
       "      <td>por</td>\n",
       "      <td>Latn</td>\n",
       "      <td>braz1246</td>\n",
       "      <td>Na segunda-feira, cientistas da Escola de Medi...</td>\n",
       "      <td>https://en.wikinews.org/wiki/Scientists_say_ne...</td>\n",
       "      <td>wikinews</td>\n",
       "      <td>health</td>\n",
       "      <td>yes</td>\n",
       "      <td>yes</td>\n",
       "      <td>1.0</td>\n",
       "    </tr>\n",
       "    <tr>\n",
       "      <th>1</th>\n",
       "      <td>1</td>\n",
       "      <td>por</td>\n",
       "      <td>Latn</td>\n",
       "      <td>braz1246</td>\n",
       "      <td>Os principais pesquisadores dizem que isso pod...</td>\n",
       "      <td>https://en.wikinews.org/wiki/Scientists_say_ne...</td>\n",
       "      <td>wikinews</td>\n",
       "      <td>health</td>\n",
       "      <td>yes</td>\n",
       "      <td>yes</td>\n",
       "      <td>1.0</td>\n",
       "    </tr>\n",
       "    <tr>\n",
       "      <th>2</th>\n",
       "      <td>2</td>\n",
       "      <td>por</td>\n",
       "      <td>Latn</td>\n",
       "      <td>braz1246</td>\n",
       "      <td>O JAS 39 Gripen se chocou com a pista por volt...</td>\n",
       "      <td>https://en.wikinews.org/wiki/Fighter_jet_crash...</td>\n",
       "      <td>wikinews</td>\n",
       "      <td>accident</td>\n",
       "      <td>yes</td>\n",
       "      <td>yes</td>\n",
       "      <td>1.0</td>\n",
       "    </tr>\n",
       "    <tr>\n",
       "      <th>3</th>\n",
       "      <td>3</td>\n",
       "      <td>por</td>\n",
       "      <td>Latn</td>\n",
       "      <td>braz1246</td>\n",
       "      <td>O piloto foi identificado como o Líder de Esqu...</td>\n",
       "      <td>https://en.wikinews.org/wiki/Fighter_jet_crash...</td>\n",
       "      <td>wikinews</td>\n",
       "      <td>accident</td>\n",
       "      <td>yes</td>\n",
       "      <td>yes</td>\n",
       "      <td>1.0</td>\n",
       "    </tr>\n",
       "    <tr>\n",
       "      <th>4</th>\n",
       "      <td>4</td>\n",
       "      <td>por</td>\n",
       "      <td>Latn</td>\n",
       "      <td>braz1246</td>\n",
       "      <td>A mídia local informa o capotamento de um veíc...</td>\n",
       "      <td>https://en.wikinews.org/wiki/Fighter_jet_crash...</td>\n",
       "      <td>wikinews</td>\n",
       "      <td>accident</td>\n",
       "      <td>yes</td>\n",
       "      <td>yes</td>\n",
       "      <td>1.0</td>\n",
       "    </tr>\n",
       "  </tbody>\n",
       "</table>\n",
       "</div>"
      ],
      "text/plain": [
       "   id iso_639_3 iso_15924 glottocode  \\\n",
       "0   0       por      Latn   braz1246   \n",
       "1   1       por      Latn   braz1246   \n",
       "2   2       por      Latn   braz1246   \n",
       "3   3       por      Latn   braz1246   \n",
       "4   4       por      Latn   braz1246   \n",
       "\n",
       "                                                text  \\\n",
       "0  Na segunda-feira, cientistas da Escola de Medi...   \n",
       "1  Os principais pesquisadores dizem que isso pod...   \n",
       "2  O JAS 39 Gripen se chocou com a pista por volt...   \n",
       "3  O piloto foi identificado como o Líder de Esqu...   \n",
       "4  A mídia local informa o capotamento de um veíc...   \n",
       "\n",
       "                                                 url    domain     topic  \\\n",
       "0  https://en.wikinews.org/wiki/Scientists_say_ne...  wikinews    health   \n",
       "1  https://en.wikinews.org/wiki/Scientists_say_ne...  wikinews    health   \n",
       "2  https://en.wikinews.org/wiki/Fighter_jet_crash...  wikinews  accident   \n",
       "3  https://en.wikinews.org/wiki/Fighter_jet_crash...  wikinews  accident   \n",
       "4  https://en.wikinews.org/wiki/Fighter_jet_crash...  wikinews  accident   \n",
       "\n",
       "  has_image has_hyperlink last_updated  \n",
       "0       yes           yes          1.0  \n",
       "1       yes           yes          1.0  \n",
       "2       yes           yes          1.0  \n",
       "3       yes           yes          1.0  \n",
       "4       yes           yes          1.0  "
      ]
     },
     "execution_count": 3,
     "metadata": {},
     "output_type": "execute_result"
    }
   ],
   "source": [
    "ds_por = load_dataset(\"openlanguagedata/flores_plus\", \"por_Latn\")\n",
    "ds_por_df = ds_por['dev'].to_pandas()\n",
    "ds_por_df.head()"
   ]
  },
  {
   "cell_type": "code",
   "execution_count": 4,
   "id": "7c513cae",
   "metadata": {},
   "outputs": [
    {
     "data": {
      "application/vnd.jupyter.widget-view+json": {
       "model_id": "a1a77d10c2544097b8cf03196e70269a",
       "version_major": 2,
       "version_minor": 0
      },
      "text/plain": [
       "Resolving data files:   0%|          | 0/220 [00:00<?, ?it/s]"
      ]
     },
     "metadata": {},
     "output_type": "display_data"
    },
    {
     "data": {
      "application/vnd.jupyter.widget-view+json": {
       "model_id": "46d89bd209aa47e385bb77e82bcff7e3",
       "version_major": 2,
       "version_minor": 0
      },
      "text/plain": [
       "Resolving data files:   0%|          | 0/214 [00:00<?, ?it/s]"
      ]
     },
     "metadata": {},
     "output_type": "display_data"
    },
    {
     "data": {
      "text/html": [
       "<div>\n",
       "<style scoped>\n",
       "    .dataframe tbody tr th:only-of-type {\n",
       "        vertical-align: middle;\n",
       "    }\n",
       "\n",
       "    .dataframe tbody tr th {\n",
       "        vertical-align: top;\n",
       "    }\n",
       "\n",
       "    .dataframe thead th {\n",
       "        text-align: right;\n",
       "    }\n",
       "</style>\n",
       "<table border=\"1\" class=\"dataframe\">\n",
       "  <thead>\n",
       "    <tr style=\"text-align: right;\">\n",
       "      <th></th>\n",
       "      <th>id</th>\n",
       "      <th>iso_639_3</th>\n",
       "      <th>iso_15924</th>\n",
       "      <th>glottocode</th>\n",
       "      <th>text</th>\n",
       "      <th>url</th>\n",
       "      <th>domain</th>\n",
       "      <th>topic</th>\n",
       "      <th>has_image</th>\n",
       "      <th>has_hyperlink</th>\n",
       "      <th>last_updated</th>\n",
       "    </tr>\n",
       "  </thead>\n",
       "  <tbody>\n",
       "    <tr>\n",
       "      <th>0</th>\n",
       "      <td>0</td>\n",
       "      <td>eng</td>\n",
       "      <td>Latn</td>\n",
       "      <td>stan1293</td>\n",
       "      <td>On Monday, scientists from the Stanford Univer...</td>\n",
       "      <td>https://en.wikinews.org/wiki/Scientists_say_ne...</td>\n",
       "      <td>wikinews</td>\n",
       "      <td>health</td>\n",
       "      <td>yes</td>\n",
       "      <td>yes</td>\n",
       "      <td>1.0</td>\n",
       "    </tr>\n",
       "    <tr>\n",
       "      <th>1</th>\n",
       "      <td>1</td>\n",
       "      <td>eng</td>\n",
       "      <td>Latn</td>\n",
       "      <td>stan1293</td>\n",
       "      <td>Lead researchers say this may bring early dete...</td>\n",
       "      <td>https://en.wikinews.org/wiki/Scientists_say_ne...</td>\n",
       "      <td>wikinews</td>\n",
       "      <td>health</td>\n",
       "      <td>yes</td>\n",
       "      <td>yes</td>\n",
       "      <td>1.0</td>\n",
       "    </tr>\n",
       "    <tr>\n",
       "      <th>2</th>\n",
       "      <td>2</td>\n",
       "      <td>eng</td>\n",
       "      <td>Latn</td>\n",
       "      <td>stan1293</td>\n",
       "      <td>The JAS 39C Gripen crashed onto a runway at ar...</td>\n",
       "      <td>https://en.wikinews.org/wiki/Fighter_jet_crash...</td>\n",
       "      <td>wikinews</td>\n",
       "      <td>accident</td>\n",
       "      <td>yes</td>\n",
       "      <td>yes</td>\n",
       "      <td>1.0</td>\n",
       "    </tr>\n",
       "    <tr>\n",
       "      <th>3</th>\n",
       "      <td>3</td>\n",
       "      <td>eng</td>\n",
       "      <td>Latn</td>\n",
       "      <td>stan1293</td>\n",
       "      <td>The pilot was identified as Squadron Leader Di...</td>\n",
       "      <td>https://en.wikinews.org/wiki/Fighter_jet_crash...</td>\n",
       "      <td>wikinews</td>\n",
       "      <td>accident</td>\n",
       "      <td>yes</td>\n",
       "      <td>yes</td>\n",
       "      <td>1.0</td>\n",
       "    </tr>\n",
       "    <tr>\n",
       "      <th>4</th>\n",
       "      <td>4</td>\n",
       "      <td>eng</td>\n",
       "      <td>Latn</td>\n",
       "      <td>stan1293</td>\n",
       "      <td>Local media reports an airport fire vehicle ro...</td>\n",
       "      <td>https://en.wikinews.org/wiki/Fighter_jet_crash...</td>\n",
       "      <td>wikinews</td>\n",
       "      <td>accident</td>\n",
       "      <td>yes</td>\n",
       "      <td>yes</td>\n",
       "      <td>1.0</td>\n",
       "    </tr>\n",
       "  </tbody>\n",
       "</table>\n",
       "</div>"
      ],
      "text/plain": [
       "   id iso_639_3 iso_15924 glottocode  \\\n",
       "0   0       eng      Latn   stan1293   \n",
       "1   1       eng      Latn   stan1293   \n",
       "2   2       eng      Latn   stan1293   \n",
       "3   3       eng      Latn   stan1293   \n",
       "4   4       eng      Latn   stan1293   \n",
       "\n",
       "                                                text  \\\n",
       "0  On Monday, scientists from the Stanford Univer...   \n",
       "1  Lead researchers say this may bring early dete...   \n",
       "2  The JAS 39C Gripen crashed onto a runway at ar...   \n",
       "3  The pilot was identified as Squadron Leader Di...   \n",
       "4  Local media reports an airport fire vehicle ro...   \n",
       "\n",
       "                                                 url    domain     topic  \\\n",
       "0  https://en.wikinews.org/wiki/Scientists_say_ne...  wikinews    health   \n",
       "1  https://en.wikinews.org/wiki/Scientists_say_ne...  wikinews    health   \n",
       "2  https://en.wikinews.org/wiki/Fighter_jet_crash...  wikinews  accident   \n",
       "3  https://en.wikinews.org/wiki/Fighter_jet_crash...  wikinews  accident   \n",
       "4  https://en.wikinews.org/wiki/Fighter_jet_crash...  wikinews  accident   \n",
       "\n",
       "  has_image has_hyperlink last_updated  \n",
       "0       yes           yes          1.0  \n",
       "1       yes           yes          1.0  \n",
       "2       yes           yes          1.0  \n",
       "3       yes           yes          1.0  \n",
       "4       yes           yes          1.0  "
      ]
     },
     "execution_count": 4,
     "metadata": {},
     "output_type": "execute_result"
    }
   ],
   "source": [
    "ds_en = load_dataset(\"openlanguagedata/flores_plus\", \"eng_Latn\")\n",
    "ds_en_df = ds_en['dev'].to_pandas()\n",
    "ds_en_df.head()"
   ]
  },
  {
   "cell_type": "code",
   "execution_count": 5,
   "id": "90ac2519",
   "metadata": {},
   "outputs": [
    {
     "name": "stdout",
     "output_type": "stream",
     "text": [
      "English: On Monday, scientists from the Stanford University School of Medicine announced the invention of a new diagnostic tool that can sort cells by type: a tiny printable chip that can be manufactured using standard inkjet printers for possibly about one U.S. cent each.\n",
      "Portuguese: Na segunda-feira, cientistas da Escola de Medicina da Universidade de Stanford anunciaram a invenção de uma nova ferramenta de diagnóstico que pode classificar células por tipo: um minúsculo chip imprimível que pode ser fabricado usando impressoras jato de tinta padrão por possivelmente cerca de um centavo de dólar cada.\n"
     ]
    }
   ],
   "source": [
    "id = 0\n",
    "print(f\"English: {ds_en_df.loc[ds_en_df['id'] == id]['text'].values[0]}\")\n",
    "print(f\"Portuguese: {ds_por_df.loc[ds_por_df['id'] == id]['text'].values[0]}\")"
   ]
  },
  {
   "cell_type": "code",
   "execution_count": 6,
   "id": "dbdf09f8",
   "metadata": {},
   "outputs": [
    {
     "data": {
      "text/html": [
       "<div>\n",
       "<style scoped>\n",
       "    .dataframe tbody tr th:only-of-type {\n",
       "        vertical-align: middle;\n",
       "    }\n",
       "\n",
       "    .dataframe tbody tr th {\n",
       "        vertical-align: top;\n",
       "    }\n",
       "\n",
       "    .dataframe thead th {\n",
       "        text-align: right;\n",
       "    }\n",
       "</style>\n",
       "<table border=\"1\" class=\"dataframe\">\n",
       "  <thead>\n",
       "    <tr style=\"text-align: right;\">\n",
       "      <th></th>\n",
       "      <th>id</th>\n",
       "      <th>text_pt</th>\n",
       "      <th>text_en</th>\n",
       "    </tr>\n",
       "  </thead>\n",
       "  <tbody>\n",
       "    <tr>\n",
       "      <th>0</th>\n",
       "      <td>0</td>\n",
       "      <td>Na segunda-feira, cientistas da Escola de Medi...</td>\n",
       "      <td>On Monday, scientists from the Stanford Univer...</td>\n",
       "    </tr>\n",
       "    <tr>\n",
       "      <th>1</th>\n",
       "      <td>1</td>\n",
       "      <td>Os principais pesquisadores dizem que isso pod...</td>\n",
       "      <td>Lead researchers say this may bring early dete...</td>\n",
       "    </tr>\n",
       "    <tr>\n",
       "      <th>2</th>\n",
       "      <td>2</td>\n",
       "      <td>O JAS 39 Gripen se chocou com a pista por volt...</td>\n",
       "      <td>The JAS 39C Gripen crashed onto a runway at ar...</td>\n",
       "    </tr>\n",
       "    <tr>\n",
       "      <th>3</th>\n",
       "      <td>3</td>\n",
       "      <td>O piloto foi identificado como o Líder de Esqu...</td>\n",
       "      <td>The pilot was identified as Squadron Leader Di...</td>\n",
       "    </tr>\n",
       "    <tr>\n",
       "      <th>4</th>\n",
       "      <td>4</td>\n",
       "      <td>A mídia local informa o capotamento de um veíc...</td>\n",
       "      <td>Local media reports an airport fire vehicle ro...</td>\n",
       "    </tr>\n",
       "  </tbody>\n",
       "</table>\n",
       "</div>"
      ],
      "text/plain": [
       "   id                                            text_pt  \\\n",
       "0   0  Na segunda-feira, cientistas da Escola de Medi...   \n",
       "1   1  Os principais pesquisadores dizem que isso pod...   \n",
       "2   2  O JAS 39 Gripen se chocou com a pista por volt...   \n",
       "3   3  O piloto foi identificado como o Líder de Esqu...   \n",
       "4   4  A mídia local informa o capotamento de um veíc...   \n",
       "\n",
       "                                             text_en  \n",
       "0  On Monday, scientists from the Stanford Univer...  \n",
       "1  Lead researchers say this may bring early dete...  \n",
       "2  The JAS 39C Gripen crashed onto a runway at ar...  \n",
       "3  The pilot was identified as Squadron Leader Di...  \n",
       "4  Local media reports an airport fire vehicle ro...  "
      ]
     },
     "execution_count": 6,
     "metadata": {},
     "output_type": "execute_result"
    }
   ],
   "source": [
    "df_merged = ds_por_df[['id', 'text']].merge(\n",
    "    ds_en_df[['id', 'text']],\n",
    "    on='id',\n",
    "    suffixes=('_pt', '_en')\n",
    ")\n",
    "\n",
    "df_merged.head()"
   ]
  },
  {
   "cell_type": "code",
   "execution_count": null,
   "id": "b0d9d8ad",
   "metadata": {},
   "outputs": [],
   "source": [
    "df_merged = df_merged.head(5)"
   ]
  },
  {
   "cell_type": "code",
   "execution_count": 7,
   "id": "c20a6b76",
   "metadata": {},
   "outputs": [
    {
     "name": "stdout",
     "output_type": "stream",
     "text": [
      "Size of the evaluation dataset: 997\n"
     ]
    }
   ],
   "source": [
    "print(f\"Size of the evaluation dataset: {len(df_merged)}\")"
   ]
  },
  {
   "cell_type": "markdown",
   "id": "9f166c88",
   "metadata": {},
   "source": [
    "First, we will process the data with m2m model"
   ]
  },
  {
   "cell_type": "code",
   "execution_count": 8,
   "id": "7757485e",
   "metadata": {},
   "outputs": [
    {
     "name": "stdout",
     "output_type": "stream",
     "text": [
      "Using device: 0 as cuda\n"
     ]
    }
   ],
   "source": [
    "import torch\n",
    "\n",
    "device = 0 if torch.cuda.is_available() else -1\n",
    "print(f\"Using device: {device} as {'cuda' if device == 0 else 'cpu'}\")"
   ]
  },
  {
   "cell_type": "code",
   "execution_count": null,
   "id": "7d29495d",
   "metadata": {},
   "outputs": [
    {
     "name": "stderr",
     "output_type": "stream",
     "text": [
      "100%|██████████| 997/997 [32:49<00:00,  1.98s/it]\n"
     ]
    },
    {
     "data": {
      "text/html": [
       "<div>\n",
       "<style scoped>\n",
       "    .dataframe tbody tr th:only-of-type {\n",
       "        vertical-align: middle;\n",
       "    }\n",
       "\n",
       "    .dataframe tbody tr th {\n",
       "        vertical-align: top;\n",
       "    }\n",
       "\n",
       "    .dataframe thead th {\n",
       "        text-align: right;\n",
       "    }\n",
       "</style>\n",
       "<table border=\"1\" class=\"dataframe\">\n",
       "  <thead>\n",
       "    <tr style=\"text-align: right;\">\n",
       "      <th></th>\n",
       "      <th>id</th>\n",
       "      <th>text_pt</th>\n",
       "      <th>text_en</th>\n",
       "      <th>m2m100_translation</th>\n",
       "    </tr>\n",
       "  </thead>\n",
       "  <tbody>\n",
       "    <tr>\n",
       "      <th>0</th>\n",
       "      <td>0</td>\n",
       "      <td>Na segunda-feira, cientistas da Escola de Medi...</td>\n",
       "      <td>On Monday, scientists from the Stanford Univer...</td>\n",
       "      <td>On Monday, scientists from the University of S...</td>\n",
       "    </tr>\n",
       "    <tr>\n",
       "      <th>1</th>\n",
       "      <td>1</td>\n",
       "      <td>Os principais pesquisadores dizem que isso pod...</td>\n",
       "      <td>Lead researchers say this may bring early dete...</td>\n",
       "      <td>Lead researchers say that this can lead to ear...</td>\n",
       "    </tr>\n",
       "    <tr>\n",
       "      <th>2</th>\n",
       "      <td>2</td>\n",
       "      <td>O JAS 39 Gripen se chocou com a pista por volt...</td>\n",
       "      <td>The JAS 39C Gripen crashed onto a runway at ar...</td>\n",
       "      <td>The JAS 39 Gripen shocked with the track aroun...</td>\n",
       "    </tr>\n",
       "    <tr>\n",
       "      <th>3</th>\n",
       "      <td>3</td>\n",
       "      <td>O piloto foi identificado como o Líder de Esqu...</td>\n",
       "      <td>The pilot was identified as Squadron Leader Di...</td>\n",
       "      <td>The pilot was identified as the Squad Leader D...</td>\n",
       "    </tr>\n",
       "    <tr>\n",
       "      <th>4</th>\n",
       "      <td>4</td>\n",
       "      <td>A mídia local informa o capotamento de um veíc...</td>\n",
       "      <td>Local media reports an airport fire vehicle ro...</td>\n",
       "      <td>The local media the capture of a fire vehicle ...</td>\n",
       "    </tr>\n",
       "  </tbody>\n",
       "</table>\n",
       "</div>"
      ],
      "text/plain": [
       "   id                                            text_pt  \\\n",
       "0   0  Na segunda-feira, cientistas da Escola de Medi...   \n",
       "1   1  Os principais pesquisadores dizem que isso pod...   \n",
       "2   2  O JAS 39 Gripen se chocou com a pista por volt...   \n",
       "3   3  O piloto foi identificado como o Líder de Esqu...   \n",
       "4   4  A mídia local informa o capotamento de um veíc...   \n",
       "\n",
       "                                             text_en  \\\n",
       "0  On Monday, scientists from the Stanford Univer...   \n",
       "1  Lead researchers say this may bring early dete...   \n",
       "2  The JAS 39C Gripen crashed onto a runway at ar...   \n",
       "3  The pilot was identified as Squadron Leader Di...   \n",
       "4  Local media reports an airport fire vehicle ro...   \n",
       "\n",
       "                                  m2m100_translation  \n",
       "0  On Monday, scientists from the University of S...  \n",
       "1  Lead researchers say that this can lead to ear...  \n",
       "2  The JAS 39 Gripen shocked with the track aroun...  \n",
       "3  The pilot was identified as the Squad Leader D...  \n",
       "4  The local media the capture of a fire vehicle ...  "
      ]
     },
     "execution_count": 9,
     "metadata": {},
     "output_type": "execute_result"
    }
   ],
   "source": [
    "col_name = \"m2m100_translation\"\n",
    "\n",
    "if not df_merged.columns.str.contains(col_name).any():\n",
    "    mt = dlt.TranslationModel(model_or_path=\"m2m100\", device=\"cpu\")\n",
    "\n",
    "\n",
    "    df_merged[col_name] = df_merged[\"text_pt\"].progress_apply(\n",
    "        lambda x: mt.translate(x, source=dlt.lang.PORTUGUESE, target=dlt.lang.ENGLISH)\n",
    "    )\n",
    "\n",
    "    df_merged.to_csv(\"../../data/processed/translation_benchmark_flores_plus_pt_en.csv\", index=False)\n",
    "    df_merged.head()"
   ]
  },
  {
   "cell_type": "markdown",
   "id": "f49915ec",
   "metadata": {},
   "source": [
    "Now mbart-50"
   ]
  },
  {
   "cell_type": "code",
   "execution_count": null,
   "id": "6c14215b",
   "metadata": {},
   "outputs": [
    {
     "name": "stderr",
     "output_type": "stream",
     "text": [
      "100%|██████████| 997/997 [37:07<00:00,  2.23s/it]\n"
     ]
    }
   ],
   "source": [
    "# Traduzindo os textos em português para inglês usando o modelo mbart50\n",
    "col_name = \"mbart50_translation\"\n",
    "\n",
    "if not df_merged.columns.str.contains(col_name).any():\n",
    "    mt_mbart50 = dlt.TranslationModel(model_or_path=\"mbart50\", device=\"cpu\")\n",
    "    df_merged[col_name] = df_merged[\"text_pt\"].progress_apply(\n",
    "        lambda x: mt_mbart50.translate(x, source=dlt.lang.PORTUGUESE, target=dlt.lang.ENGLISH)\n",
    "    )\n",
    "\n",
    "    df_merged.to_csv(\"../../data/processed/translation_benchmark_flores_plus_pt_en.csv\", index=False)"
   ]
  },
  {
   "cell_type": "markdown",
   "id": "f90a07cf",
   "metadata": {},
   "source": [
    "Now unicamp-dl/translation-pt-en-t5"
   ]
  },
  {
   "cell_type": "code",
   "execution_count": null,
   "id": "72abf9c8",
   "metadata": {},
   "outputs": [
    {
     "name": "stderr",
     "output_type": "stream",
     "text": [
      "Device set to use cuda:0\n",
      "  1%|          | 11/997 [00:03<05:38,  2.91it/s]You seem to be using the pipelines sequentially on GPU. In order to maximize efficiency please use a dataset\n",
      "100%|██████████| 997/997 [06:15<00:00,  2.65it/s]\n"
     ]
    }
   ],
   "source": [
    "col_name = \"unicamp_pt_en_t5\"\n",
    "\n",
    "if not df_merged.columns.str.contains(col_name).any():\n",
    "    tokenizer = AutoTokenizer.from_pretrained(\"unicamp-dl/translation-pt-en-t5\")\n",
    "    model = AutoModelForSeq2SeqLM.from_pretrained(\"unicamp-dl/translation-pt-en-t5\")\n",
    "\n",
    "    pt_en_pipeline = pipeline(\n",
    "        \"text2text-generation\",\n",
    "        model=model,\n",
    "        tokenizer=tokenizer,\n",
    "        device=device\n",
    "    )\n",
    "\n",
    "    df_merged[col_name] = df_merged[\"text_pt\"].progress_apply(\n",
    "        lambda x: pt_en_pipeline(f\"translate Portuguese to English: {x}\")[0]['generated_text']\n",
    "    )\n",
    "\n",
    "    df_merged.to_csv(\"../../data/processed/translation_benchmark_flores_plus_pt_en.csv\", index=False)"
   ]
  },
  {
   "cell_type": "markdown",
   "id": "e51cb0ff",
   "metadata": {},
   "source": [
    "Now facebook/nllb-200-distilled-600M"
   ]
  },
  {
   "cell_type": "code",
   "execution_count": null,
   "id": "1dbf5083",
   "metadata": {},
   "outputs": [
    {
     "name": "stderr",
     "output_type": "stream",
     "text": [
      "Device set to use cuda:0\n",
      "100%|██████████| 997/997 [08:27<00:00,  1.97it/s]\n"
     ]
    }
   ],
   "source": [
    "col_name = \"facebook_nlb_200\"\n",
    "\n",
    "if not df_merged.columns.str.contains(col_name).any():\n",
    "    tokenizer = AutoTokenizer.from_pretrained(\"facebook/nllb-200-distilled-600M\")\n",
    "    model = AutoModelForSeq2SeqLM.from_pretrained(\"facebook/nllb-200-distilled-600M\")\n",
    "\n",
    "    translator = pipeline(\n",
    "        \"translation\",\n",
    "        model=model,\n",
    "        tokenizer=tokenizer,\n",
    "        src_lang=\"por_Latn\",\n",
    "        tgt_lang=\"eng_Latn\",\n",
    "        device=device\n",
    "    )\n",
    "\n",
    "    df_merged[col_name] = df_merged[\"text_pt\"].progress_apply(\n",
    "        lambda x: translator(x)[0][\"translation_text\"]\n",
    "    )\n",
    "\n",
    "    df_merged.to_csv(\"../../data/processed/translation_benchmark_flores_plus_pt_en.csv\", index=False)"
   ]
  },
  {
   "cell_type": "markdown",
   "id": "c60f0a42",
   "metadata": {},
   "source": [
    "Now Helsinki-NLP/opus-mt-mul-en"
   ]
  },
  {
   "cell_type": "code",
   "execution_count": null,
   "id": "e1265651",
   "metadata": {},
   "outputs": [
    {
     "name": "stderr",
     "output_type": "stream",
     "text": [
      "/home/patrick/documents/patent-ai-project/venv/lib/python3.12/site-packages/transformers/models/marian/tokenization_marian.py:175: UserWarning: Recommended: pip install sacremoses.\n",
      "  warnings.warn(\"Recommended: pip install sacremoses.\")\n",
      "Device set to use cuda:0\n",
      "100%|██████████| 997/997 [05:07<00:00,  3.24it/s]\n"
     ]
    }
   ],
   "source": [
    "col_name = \"helsink_opus_mult\"\n",
    "\n",
    "if not df_merged.columns.str.contains(col_name).any():\n",
    "    tokenizer = AutoTokenizer.from_pretrained(\"Helsinki-NLP/opus-mt-mul-en\")\n",
    "    model = AutoModelForSeq2SeqLM.from_pretrained(\"Helsinki-NLP/opus-mt-mul-en\")\n",
    "\n",
    "    translator = pipeline(\n",
    "        \"translation\",\n",
    "        model=model,\n",
    "        tokenizer=tokenizer,\n",
    "        device=device\n",
    "    )\n",
    "\n",
    "    df_merged[col_name] = df_merged[\"text_pt\"].progress_apply(\n",
    "        lambda x: translator(x)[0][\"translation_text\"]\n",
    "    )\n",
    "\n",
    "    df_merged.to_csv(\"../../data/processed/translation_benchmark_flores_plus_pt_en.csv\", index=False)"
   ]
  },
  {
   "cell_type": "markdown",
   "id": "96794572",
   "metadata": {},
   "source": [
    "Now google/madlad400-3b-mt.\n",
    "\n",
    "Update: the madlab400-3b, even so as the lightest models of madlad family will be discontinued because a big processing power is needed to run this model."
   ]
  },
  {
   "cell_type": "code",
   "execution_count": 14,
   "id": "a342eac5",
   "metadata": {},
   "outputs": [],
   "source": [
    "# tokenizer = AutoTokenizer.from_pretrained(\"google/madlad400-3b-mt\")\n",
    "# model = AutoModelForSeq2SeqLM.from_pretrained(\"google/madlad400-3b-mt\")\n",
    "\n",
    "# translator = pipeline(\n",
    "#     \"text2text-generation\",\n",
    "#     model=model,\n",
    "#     tokenizer=tokenizer,\n",
    "#     device=device\n",
    "# )\n",
    "\n",
    "# df_merged[\"google_madlad_3b\"] = df_merged[\"text_pt\"].progress_apply(\n",
    "#     lambda x: translator(f\">>en<< {x}\")[0][\"generated_text\"]\n",
    "# )\n",
    "\n",
    "# df_merged.to_csv(\"../../data/processed/translation_benchmark_flores_plus_pt_en.csv\", index=False)"
   ]
  },
  {
   "cell_type": "markdown",
   "id": "69c65396",
   "metadata": {},
   "source": [
    "Now ByteDance\n",
    "Update: the Seed-X-PPO-7B, will be discontinued because a big processing power is needed to run this model."
   ]
  },
  {
   "cell_type": "code",
   "execution_count": 15,
   "id": "ebb2af0b",
   "metadata": {},
   "outputs": [],
   "source": [
    "# from vllm import LLM, SamplingParams\n",
    "\n",
    "# model_path = \"ByteDance-Seed/Seed-X-PPO-7B\"\n",
    "\n",
    "# model = LLM(model=model_path,\n",
    "#             max_num_seqs=512,\n",
    "#             tensor_parallel_size=8,\n",
    "#             enable_prefix_caching=True, \n",
    "#             gpu_memory_utilization=0.95)\n",
    "\n",
    "# def translate_bytedance(text_pt):\n",
    "#     prompt = f\"Translate the following Portuguese sentence into English:\\n{text_pt} <en>\"\n",
    "\n",
    "#     # decoding_params = BeamSearchParams(beam_width=4,\n",
    "#                                     # max_tokens=512)\n",
    "#     decoding_params = SamplingParams(temperature=0,\n",
    "#                                     max_tokens=512,\n",
    "#                                     skip_special_tokens=True)\n",
    "\n",
    "#     results = model.generate(prompt, decoding_params)\n",
    "#     output = [res.outputs[0].text.strip() for res in results]\n",
    "#     print(output)\n",
    "#     # translation = output.replace(prompt, \"\").strip()\n",
    "#     return output\n",
    "\n",
    "# # df_merged[\"bytedance_seedx\"] = df_merged[\"text_pt\"].progress_apply(translate_bytedance)\n",
    "\n",
    "# # df_merged.to_csv(\"../../data/processed/translation_benchmark_seedx_pt_en.csv\", index=False)"
   ]
  },
  {
   "cell_type": "code",
   "execution_count": 17,
   "id": "96bd762d",
   "metadata": {},
   "outputs": [
    {
     "data": {
      "text/html": [
       "<div>\n",
       "<style scoped>\n",
       "    .dataframe tbody tr th:only-of-type {\n",
       "        vertical-align: middle;\n",
       "    }\n",
       "\n",
       "    .dataframe tbody tr th {\n",
       "        vertical-align: top;\n",
       "    }\n",
       "\n",
       "    .dataframe thead th {\n",
       "        text-align: right;\n",
       "    }\n",
       "</style>\n",
       "<table border=\"1\" class=\"dataframe\">\n",
       "  <thead>\n",
       "    <tr style=\"text-align: right;\">\n",
       "      <th></th>\n",
       "      <th>id</th>\n",
       "      <th>text_pt</th>\n",
       "      <th>text_en</th>\n",
       "      <th>m2m100_translation</th>\n",
       "      <th>mbart50_translation</th>\n",
       "      <th>unicamp_pt_en_t5</th>\n",
       "      <th>facebook_nlb_200</th>\n",
       "      <th>helsink_opus_mult</th>\n",
       "    </tr>\n",
       "  </thead>\n",
       "  <tbody>\n",
       "    <tr>\n",
       "      <th>0</th>\n",
       "      <td>0</td>\n",
       "      <td>Na segunda-feira, cientistas da Escola de Medi...</td>\n",
       "      <td>On Monday, scientists from the Stanford Univer...</td>\n",
       "      <td>On Monday, scientists from the University of S...</td>\n",
       "      <td>On Monday, scientists at Stanford Medical Scho...</td>\n",
       "      <td>On Monday, scientists from the Stanford Univer...</td>\n",
       "      <td>On Monday, scientists at Stanford University S...</td>\n",
       "      <td>On Tuesday, scientists at Stanford University ...</td>\n",
       "    </tr>\n",
       "    <tr>\n",
       "      <th>1</th>\n",
       "      <td>1</td>\n",
       "      <td>Os principais pesquisadores dizem que isso pod...</td>\n",
       "      <td>Lead researchers say this may bring early dete...</td>\n",
       "      <td>Lead researchers say that this can lead to ear...</td>\n",
       "      <td>Leading researchers say this can lead to early...</td>\n",
       "      <td>The main researchers say that this may lead to e</td>\n",
       "      <td>Leading researchers say this could lead to ear...</td>\n",
       "      <td>The main researchers say that this can lead to...</td>\n",
       "    </tr>\n",
       "    <tr>\n",
       "      <th>2</th>\n",
       "      <td>2</td>\n",
       "      <td>O JAS 39 Gripen se chocou com a pista por volt...</td>\n",
       "      <td>The JAS 39C Gripen crashed onto a runway at ar...</td>\n",
       "      <td>The JAS 39 Gripen shocked with the track aroun...</td>\n",
       "      <td>JAS 39 Gripen slammed into the runway at about...</td>\n",
       "      <td>The JAS 39 Gripen stinged around 9:30 at the l...</td>\n",
       "      <td>JAS 39 Gripen crashed into the runway around 9...</td>\n",
       "      <td>The JAS 39 Gripen hit the track around 9:30 at...</td>\n",
       "    </tr>\n",
       "    <tr>\n",
       "      <th>3</th>\n",
       "      <td>3</td>\n",
       "      <td>O piloto foi identificado como o Líder de Esqu...</td>\n",
       "      <td>The pilot was identified as Squadron Leader Di...</td>\n",
       "      <td>The pilot was identified as the Squad Leader D...</td>\n",
       "      <td>The pilot was identified as Commander-in-Chief...</td>\n",
       "      <td>The pilot was identified as the Squad Leader D...</td>\n",
       "      <td>The pilot has been identified as Squadron Lead...</td>\n",
       "      <td>The pilot was identified as the Dilokrit Patta...</td>\n",
       "    </tr>\n",
       "    <tr>\n",
       "      <th>4</th>\n",
       "      <td>4</td>\n",
       "      <td>A mídia local informa o capotamento de um veíc...</td>\n",
       "      <td>Local media reports an airport fire vehicle ro...</td>\n",
       "      <td>The local media the capture of a fire vehicle ...</td>\n",
       "      <td>The local media reports a helicopter capsize f...</td>\n",
       "      <td>The local media reports the capture of a fire ...</td>\n",
       "      <td>Local media reports a fire truck from the airp...</td>\n",
       "      <td>The local media will report the capture of an ...</td>\n",
       "    </tr>\n",
       "  </tbody>\n",
       "</table>\n",
       "</div>"
      ],
      "text/plain": [
       "   id                                            text_pt  \\\n",
       "0   0  Na segunda-feira, cientistas da Escola de Medi...   \n",
       "1   1  Os principais pesquisadores dizem que isso pod...   \n",
       "2   2  O JAS 39 Gripen se chocou com a pista por volt...   \n",
       "3   3  O piloto foi identificado como o Líder de Esqu...   \n",
       "4   4  A mídia local informa o capotamento de um veíc...   \n",
       "\n",
       "                                             text_en  \\\n",
       "0  On Monday, scientists from the Stanford Univer...   \n",
       "1  Lead researchers say this may bring early dete...   \n",
       "2  The JAS 39C Gripen crashed onto a runway at ar...   \n",
       "3  The pilot was identified as Squadron Leader Di...   \n",
       "4  Local media reports an airport fire vehicle ro...   \n",
       "\n",
       "                                  m2m100_translation  \\\n",
       "0  On Monday, scientists from the University of S...   \n",
       "1  Lead researchers say that this can lead to ear...   \n",
       "2  The JAS 39 Gripen shocked with the track aroun...   \n",
       "3  The pilot was identified as the Squad Leader D...   \n",
       "4  The local media the capture of a fire vehicle ...   \n",
       "\n",
       "                                 mbart50_translation  \\\n",
       "0  On Monday, scientists at Stanford Medical Scho...   \n",
       "1  Leading researchers say this can lead to early...   \n",
       "2  JAS 39 Gripen slammed into the runway at about...   \n",
       "3  The pilot was identified as Commander-in-Chief...   \n",
       "4  The local media reports a helicopter capsize f...   \n",
       "\n",
       "                                    unicamp_pt_en_t5  \\\n",
       "0  On Monday, scientists from the Stanford Univer...   \n",
       "1   The main researchers say that this may lead to e   \n",
       "2  The JAS 39 Gripen stinged around 9:30 at the l...   \n",
       "3  The pilot was identified as the Squad Leader D...   \n",
       "4  The local media reports the capture of a fire ...   \n",
       "\n",
       "                                    facebook_nlb_200  \\\n",
       "0  On Monday, scientists at Stanford University S...   \n",
       "1  Leading researchers say this could lead to ear...   \n",
       "2  JAS 39 Gripen crashed into the runway around 9...   \n",
       "3  The pilot has been identified as Squadron Lead...   \n",
       "4  Local media reports a fire truck from the airp...   \n",
       "\n",
       "                                   helsink_opus_mult  \n",
       "0  On Tuesday, scientists at Stanford University ...  \n",
       "1  The main researchers say that this can lead to...  \n",
       "2  The JAS 39 Gripen hit the track around 9:30 at...  \n",
       "3  The pilot was identified as the Dilokrit Patta...  \n",
       "4  The local media will report the capture of an ...  "
      ]
     },
     "execution_count": 17,
     "metadata": {},
     "output_type": "execute_result"
    }
   ],
   "source": [
    "df_merged.head()"
   ]
  },
  {
   "cell_type": "markdown",
   "id": "ea428010",
   "metadata": {},
   "source": [
    "Calculo Bleu"
   ]
  },
  {
   "cell_type": "code",
   "execution_count": null,
   "id": "85515736",
   "metadata": {},
   "outputs": [
    {
     "data": {
      "text/html": [
       "<div>\n",
       "<style scoped>\n",
       "    .dataframe tbody tr th:only-of-type {\n",
       "        vertical-align: middle;\n",
       "    }\n",
       "\n",
       "    .dataframe tbody tr th {\n",
       "        vertical-align: top;\n",
       "    }\n",
       "\n",
       "    .dataframe thead th {\n",
       "        text-align: right;\n",
       "    }\n",
       "</style>\n",
       "<table border=\"1\" class=\"dataframe\">\n",
       "  <thead>\n",
       "    <tr style=\"text-align: right;\">\n",
       "      <th></th>\n",
       "      <th>text_en</th>\n",
       "      <th>m2m100_translation</th>\n",
       "      <th>mbart50_translation</th>\n",
       "      <th>unicamp_pt_en_t5</th>\n",
       "      <th>facebook_nlb_200</th>\n",
       "      <th>helsink_opus_mult</th>\n",
       "      <th>bleu_m2m100</th>\n",
       "      <th>bleu_mbart50</th>\n",
       "      <th>bleu_unicamp</th>\n",
       "      <th>bleu_facebook</th>\n",
       "      <th>bleu_helsink</th>\n",
       "    </tr>\n",
       "  </thead>\n",
       "  <tbody>\n",
       "    <tr>\n",
       "      <th>0</th>\n",
       "      <td>On Monday, scientists from the Stanford Univer...</td>\n",
       "      <td>On Monday, scientists from the University of S...</td>\n",
       "      <td>On Monday, scientists at Stanford Medical Scho...</td>\n",
       "      <td>On Monday, scientists from the Stanford Univer...</td>\n",
       "      <td>On Monday, scientists at Stanford University S...</td>\n",
       "      <td>On Tuesday, scientists at Stanford University ...</td>\n",
       "      <td>0.608199</td>\n",
       "      <td>0.462046</td>\n",
       "      <td>0.035355</td>\n",
       "      <td>0.695954</td>\n",
       "      <td>0.603504</td>\n",
       "    </tr>\n",
       "    <tr>\n",
       "      <th>1</th>\n",
       "      <td>Lead researchers say this may bring early dete...</td>\n",
       "      <td>Lead researchers say that this can lead to ear...</td>\n",
       "      <td>Leading researchers say this can lead to early...</td>\n",
       "      <td>The main researchers say that this may lead to e</td>\n",
       "      <td>Leading researchers say this could lead to ear...</td>\n",
       "      <td>The main researchers say that this can lead to...</td>\n",
       "      <td>0.285757</td>\n",
       "      <td>0.222648</td>\n",
       "      <td>0.006325</td>\n",
       "      <td>0.290405</td>\n",
       "      <td>0.325550</td>\n",
       "    </tr>\n",
       "    <tr>\n",
       "      <th>2</th>\n",
       "      <td>The JAS 39C Gripen crashed onto a runway at ar...</td>\n",
       "      <td>The JAS 39 Gripen shocked with the track aroun...</td>\n",
       "      <td>JAS 39 Gripen slammed into the runway at about...</td>\n",
       "      <td>The JAS 39 Gripen stinged around 9:30 at the l...</td>\n",
       "      <td>JAS 39 Gripen crashed into the runway around 9...</td>\n",
       "      <td>The JAS 39 Gripen hit the track around 9:30 at...</td>\n",
       "      <td>0.413621</td>\n",
       "      <td>0.059216</td>\n",
       "      <td>0.030518</td>\n",
       "      <td>0.536418</td>\n",
       "      <td>0.419798</td>\n",
       "    </tr>\n",
       "    <tr>\n",
       "      <th>3</th>\n",
       "      <td>The pilot was identified as Squadron Leader Di...</td>\n",
       "      <td>The pilot was identified as the Squad Leader D...</td>\n",
       "      <td>The pilot was identified as Commander-in-Chief...</td>\n",
       "      <td>The pilot was identified as the Squad Leader D...</td>\n",
       "      <td>The pilot has been identified as Squadron Lead...</td>\n",
       "      <td>The pilot was identified as the Dilokrit Patta...</td>\n",
       "      <td>0.525382</td>\n",
       "      <td>0.524736</td>\n",
       "      <td>0.467138</td>\n",
       "      <td>0.581431</td>\n",
       "      <td>0.411134</td>\n",
       "    </tr>\n",
       "    <tr>\n",
       "      <th>4</th>\n",
       "      <td>Local media reports an airport fire vehicle ro...</td>\n",
       "      <td>The local media the capture of a fire vehicle ...</td>\n",
       "      <td>The local media reports a helicopter capsize f...</td>\n",
       "      <td>The local media reports the capture of a fire ...</td>\n",
       "      <td>Local media reports a fire truck from the airp...</td>\n",
       "      <td>The local media will report the capture of an ...</td>\n",
       "      <td>0.045999</td>\n",
       "      <td>0.052841</td>\n",
       "      <td>0.062578</td>\n",
       "      <td>0.110571</td>\n",
       "      <td>0.187983</td>\n",
       "    </tr>\n",
       "  </tbody>\n",
       "</table>\n",
       "</div>"
      ],
      "text/plain": [
       "                                             text_en  \\\n",
       "0  On Monday, scientists from the Stanford Univer...   \n",
       "1  Lead researchers say this may bring early dete...   \n",
       "2  The JAS 39C Gripen crashed onto a runway at ar...   \n",
       "3  The pilot was identified as Squadron Leader Di...   \n",
       "4  Local media reports an airport fire vehicle ro...   \n",
       "\n",
       "                                  m2m100_translation  \\\n",
       "0  On Monday, scientists from the University of S...   \n",
       "1  Lead researchers say that this can lead to ear...   \n",
       "2  The JAS 39 Gripen shocked with the track aroun...   \n",
       "3  The pilot was identified as the Squad Leader D...   \n",
       "4  The local media the capture of a fire vehicle ...   \n",
       "\n",
       "                                 mbart50_translation  \\\n",
       "0  On Monday, scientists at Stanford Medical Scho...   \n",
       "1  Leading researchers say this can lead to early...   \n",
       "2  JAS 39 Gripen slammed into the runway at about...   \n",
       "3  The pilot was identified as Commander-in-Chief...   \n",
       "4  The local media reports a helicopter capsize f...   \n",
       "\n",
       "                                    unicamp_pt_en_t5  \\\n",
       "0  On Monday, scientists from the Stanford Univer...   \n",
       "1   The main researchers say that this may lead to e   \n",
       "2  The JAS 39 Gripen stinged around 9:30 at the l...   \n",
       "3  The pilot was identified as the Squad Leader D...   \n",
       "4  The local media reports the capture of a fire ...   \n",
       "\n",
       "                                    facebook_nlb_200  \\\n",
       "0  On Monday, scientists at Stanford University S...   \n",
       "1  Leading researchers say this could lead to ear...   \n",
       "2  JAS 39 Gripen crashed into the runway around 9...   \n",
       "3  The pilot has been identified as Squadron Lead...   \n",
       "4  Local media reports a fire truck from the airp...   \n",
       "\n",
       "                                   helsink_opus_mult  bleu_m2m100  \\\n",
       "0  On Tuesday, scientists at Stanford University ...     0.608199   \n",
       "1  The main researchers say that this can lead to...     0.285757   \n",
       "2  The JAS 39 Gripen hit the track around 9:30 at...     0.413621   \n",
       "3  The pilot was identified as the Dilokrit Patta...     0.525382   \n",
       "4  The local media will report the capture of an ...     0.045999   \n",
       "\n",
       "   bleu_mbart50  bleu_unicamp  bleu_facebook  bleu_helsink  \n",
       "0      0.462046      0.035355       0.695954      0.603504  \n",
       "1      0.222648      0.006325       0.290405      0.325550  \n",
       "2      0.059216      0.030518       0.536418      0.419798  \n",
       "3      0.524736      0.467138       0.581431      0.411134  \n",
       "4      0.052841      0.062578       0.110571      0.187983  "
      ]
     },
     "execution_count": 20,
     "metadata": {},
     "output_type": "execute_result"
    }
   ],
   "source": [
    "from nltk.translate.bleu_score import sentence_bleu, SmoothingFunction\n",
    "\n",
    "def calc_bleu(reference, hypothesis):\n",
    "    smoothie = SmoothingFunction().method4\n",
    "    return sentence_bleu([reference.split()], hypothesis.split(), smoothing_function=smoothie)\n",
    "\n",
    "df_merged[\"bleu_m2m100\"] = df_merged.apply(\n",
    "    lambda row: calc_bleu(row[\"text_en\"], row[\"m2m100_translation\"]), axis=1\n",
    ")\n",
    "\n",
    "df_merged[\"bleu_mbart50\"] = df_merged.apply(\n",
    "    lambda row: calc_bleu(row[\"text_en\"], row[\"mbart50_translation\"]), axis=1\n",
    ")\n",
    "\n",
    "df_merged[\"bleu_unicamp\"] = df_merged.apply(\n",
    "    lambda row: calc_bleu(row[\"text_en\"], row[\"unicamp_pt_en_t5\"]), axis=1\n",
    ")\n",
    "\n",
    "df_merged[\"bleu_facebook\"] = df_merged.apply(\n",
    "    lambda row: calc_bleu(row[\"text_en\"], row[\"facebook_nlb_200\"]), axis=1\n",
    ")\n",
    "\n",
    "df_merged[\"bleu_helsink\"] = df_merged.apply(\n",
    "    lambda row: calc_bleu(row[\"text_en\"], row[\"helsink_opus_mult\"]), axis=1\n",
    ")\n",
    "\n",
    "df_merged[[\"text_en\", \"m2m100_translation\", \"mbart50_translation\", \n",
    "           \"unicamp_pt_en_t5\", \"facebook_nlb_200\", \"helsink_opus_mult\",\n",
    "           \"bleu_m2m100\", \"bleu_mbart50\", \"bleu_unicamp\",\n",
    "           \"bleu_facebook\", \"bleu_helsink\"]].head()"
   ]
  },
  {
   "cell_type": "code",
   "execution_count": 21,
   "id": "34c327f4",
   "metadata": {},
   "outputs": [],
   "source": [
    "df_merged.to_csv(\"../../data/processed/translation_benchmark_flores_plus_pt_en.csv\", index=False)"
   ]
  },
  {
   "cell_type": "code",
   "execution_count": 22,
   "id": "8846bfd7",
   "metadata": {},
   "outputs": [
    {
     "data": {
      "image/png": "[encoded data removed]",
      "text/plain": [
       "<Figure size 1400x500 with 2 Axes>"
      ]
     },
     "metadata": {},
     "output_type": "display_data"
    }
   ],
   "source": [
    "import matplotlib.pyplot as plt\n",
    "import seaborn as sns\n",
    "\n",
    "sns.set(style=\"whitegrid\")\n",
    "\n",
    "plt.figure(figsize=(14, 5))\n",
    "\n",
    "# Histograma\n",
    "plt.subplot(1, 2, 1)\n",
    "sns.histplot(df_merged[\"bleu_m2m100\"], bins=30, color=\"blue\", kde=True, label=\"m2m100\", alpha=0.7)\n",
    "sns.histplot(df_merged[\"bleu_mbart50\"], bins=30, color=\"orange\", kde=True, label=\"mbart50\", alpha=0.7)\n",
    "sns.histplot(df_merged[\"bleu_unicamp\"], bins=30, color=\"red\", kde=True, label=\"unicamp\", alpha=0.7)\n",
    "sns.histplot(df_merged[\"bleu_facebook\"], bins=30, color=\"purple\", kde=True, label=\"facebook\", alpha=0.7)\n",
    "sns.histplot(df_merged[\"bleu_helsink\"], bins=30, color=\"green\", kde=True, label=\"helsink\", alpha=0.7)\n",
    "plt.title(\"BLEU Score Distribution\")\n",
    "plt.xlabel(\"BLEU Score\")\n",
    "plt.ylabel(\"Frequency\")\n",
    "plt.legend()\n",
    "\n",
    "# Boxplot comparativo\n",
    "plt.subplot(1, 2, 2)\n",
    "sns.boxplot(\n",
    "    data=df_merged[[\n",
    "        \"bleu_m2m100\", \"bleu_mbart50\", \"bleu_unicamp\", \"bleu_facebook\", \"bleu_helsink\"\n",
    "    ]],\n",
    "    palette=[\"blue\", \"orange\", \"red\", \"purple\", \"green\"]\n",
    ")\n",
    "plt.title(\"Boxplot of BLEU Scores\")\n",
    "plt.ylabel(\"BLEU Score\")\n",
    "plt.xlabel(\"Model\")\n",
    "\n",
    "plt.tight_layout()\n",
    "plt.show()"
   ]
  }
 ],
 "metadata": {
  "kernelspec": {
   "display_name": "venv",
   "language": "python",
   "name": "python3"
  },
  "language_info": {
   "codemirror_mode": {
    "name": "ipython",
    "version": 3
   },
   "file_extension": ".py",
   "mimetype": "text/x-python",
   "name": "python",
   "nbconvert_exporter": "python",
   "pygments_lexer": "ipython3",
   "version": "3.12.4"
  }
 },
 "nbformat": 4,
 "nbformat_minor": 5
}
