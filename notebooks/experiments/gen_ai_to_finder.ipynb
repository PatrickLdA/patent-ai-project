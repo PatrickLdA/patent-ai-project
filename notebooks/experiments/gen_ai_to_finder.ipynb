{
 "cells": [
  {
   "cell_type": "markdown",
   "id": "2f1ce934",
   "metadata": {},
   "source": [
    "# A brief introduction to the patent system\n",
    "The patent is a register, tipically a document, that to document a exclusive discovery, invention or method and aims to give to the patent holder exclusive rights over the discovery/invention.\n",
    "\n",
    "<--TODO: Explain the T,O method of organizing patents -->\n",
    "\n",
    "To organize the patents and find a suitable way to structure its information, a commonly used method defines a patent with 2 characteristics:\n",
    "1. **Task:** the method used in the described patent. In can be compress something or agilize a effect, for example.\n",
    "2. **Object:** the \"target\" of the task. It can be a food, a construction material or any other object that, combined with the task, defines the patent.\n",
    "\n",
    "This method is defined by the Hallbach matrix, that defines a list of Task and Objects that can be extracted from the Title or the Resume of the patent.\n",
    "\n",
    "# T,O Finder\n",
    "The T,O Finder is the method that identifies the Task and the Object from a given patent and in this notebook we will construct a method to do such thing."
   ]
  },
  {
   "cell_type": "code",
   "execution_count": 1,
   "id": "a7c0f70c",
   "metadata": {},
   "outputs": [
    {
     "data": {
      "text/plain": [
       "True"
      ]
     },
     "execution_count": 1,
     "metadata": {},
     "output_type": "execute_result"
    }
   ],
   "source": [
    "import pandas as pd\n",
    "import os\n",
    "from dotenv import load_dotenv\n",
    "from tqdm import tqdm\n",
    "import json\n",
    "\n",
    "from langchain.vectorstores import Chroma\n",
    "from langchain_openai import ChatOpenAI\n",
    "from langchain.schema import Document\n",
    "from langchain.embeddings import OpenAIEmbeddings\n",
    "from langchain.prompts import PromptTemplate\n",
    "from langchain.chains import RetrievalQA, ConversationalRetrievalChain, create_qa_with_structure_chain, create_retrieval_chain\n",
    "from langchain.chains.openai_functions import create_structured_output_chain\n",
    "from langchain.chains.combine_documents import create_stuff_documents_chain\n",
    "from langchain_core.prompts.base import BasePromptTemplate\n",
    "from langchain_core.prompts import PromptTemplate\n",
    "from langchain_core.output_parsers import PydanticOutputParser\n",
    "\n",
    "load_dotenv()"
   ]
  },
  {
   "cell_type": "code",
   "execution_count": 2,
   "id": "0d56d661",
   "metadata": {},
   "outputs": [
    {
     "data": {
      "text/html": [
       "<div>\n",
       "<style scoped>\n",
       "    .dataframe tbody tr th:only-of-type {\n",
       "        vertical-align: middle;\n",
       "    }\n",
       "\n",
       "    .dataframe tbody tr th {\n",
       "        vertical-align: top;\n",
       "    }\n",
       "\n",
       "    .dataframe thead th {\n",
       "        text-align: right;\n",
       "    }\n",
       "</style>\n",
       "<table border=\"1\" class=\"dataframe\">\n",
       "  <thead>\n",
       "    <tr style=\"text-align: right;\">\n",
       "      <th></th>\n",
       "      <th>TIPO DE EFEITO</th>\n",
       "      <th>TAREFA</th>\n",
       "      <th>OBJETO</th>\n",
       "      <th>EFEITO FÍSICO</th>\n",
       "      <th>SINONIMO 1 EFEITO FISICO</th>\n",
       "      <th>SINONIMO 2 EFEITO FISICO</th>\n",
       "      <th>PT Link</th>\n",
       "      <th>PT Description</th>\n",
       "      <th>Link Wiki (English)</th>\n",
       "      <th>TAREFA_lemmatized</th>\n",
       "    </tr>\n",
       "  </thead>\n",
       "  <tbody>\n",
       "    <tr>\n",
       "      <th>0</th>\n",
       "      <td>Aplicação</td>\n",
       "      <td>Apertar</td>\n",
       "      <td>Sólido</td>\n",
       "      <td>Matriz de Halbach</td>\n",
       "      <td>NaN</td>\n",
       "      <td>NaN</td>\n",
       "      <td>NaN</td>\n",
       "      <td>NaN</td>\n",
       "      <td>http://en.wikipedia.org/wiki/Halbach_array</td>\n",
       "      <td>apertar</td>\n",
       "    </tr>\n",
       "    <tr>\n",
       "      <th>1</th>\n",
       "      <td>Aplicação</td>\n",
       "      <td>Apertar</td>\n",
       "      <td>Sólido dividido</td>\n",
       "      <td>Matriz de Halbach</td>\n",
       "      <td>NaN</td>\n",
       "      <td>NaN</td>\n",
       "      <td>NaN</td>\n",
       "      <td>NaN</td>\n",
       "      <td>http://en.wikipedia.org/wiki/Halbach_array</td>\n",
       "      <td>apertar</td>\n",
       "    </tr>\n",
       "    <tr>\n",
       "      <th>2</th>\n",
       "      <td>Aplicação</td>\n",
       "      <td>Concentrar</td>\n",
       "      <td>Campo</td>\n",
       "      <td>Matriz de Halbach</td>\n",
       "      <td>NaN</td>\n",
       "      <td>NaN</td>\n",
       "      <td>NaN</td>\n",
       "      <td>NaN</td>\n",
       "      <td>http://en.wikipedia.org/wiki/Halbach_array</td>\n",
       "      <td>concentrar</td>\n",
       "    </tr>\n",
       "    <tr>\n",
       "      <th>3</th>\n",
       "      <td>Aplicação</td>\n",
       "      <td>Concentrar</td>\n",
       "      <td>Sólido dividido</td>\n",
       "      <td>Matriz de Halbach</td>\n",
       "      <td>NaN</td>\n",
       "      <td>NaN</td>\n",
       "      <td>NaN</td>\n",
       "      <td>NaN</td>\n",
       "      <td>http://en.wikipedia.org/wiki/Halbach_array</td>\n",
       "      <td>concentrar</td>\n",
       "    </tr>\n",
       "    <tr>\n",
       "      <th>4</th>\n",
       "      <td>Aplicação</td>\n",
       "      <td>Depositar</td>\n",
       "      <td>Sólido dividido</td>\n",
       "      <td>Matriz de Halbach</td>\n",
       "      <td>NaN</td>\n",
       "      <td>NaN</td>\n",
       "      <td>NaN</td>\n",
       "      <td>NaN</td>\n",
       "      <td>http://en.wikipedia.org/wiki/Halbach_array</td>\n",
       "      <td>depositar</td>\n",
       "    </tr>\n",
       "  </tbody>\n",
       "</table>\n",
       "</div>"
      ],
      "text/plain": [
       "  TIPO DE EFEITO      TAREFA           OBJETO       EFEITO FÍSICO  \\\n",
       "0      Aplicação     Apertar           Sólido   Matriz de Halbach   \n",
       "1      Aplicação     Apertar  Sólido dividido   Matriz de Halbach   \n",
       "2      Aplicação  Concentrar            Campo   Matriz de Halbach   \n",
       "3      Aplicação  Concentrar  Sólido dividido   Matriz de Halbach   \n",
       "4      Aplicação   Depositar  Sólido dividido   Matriz de Halbach   \n",
       "\n",
       "  SINONIMO 1 EFEITO FISICO SINONIMO 2 EFEITO FISICO PT Link PT Description  \\\n",
       "0                      NaN                      NaN     NaN            NaN   \n",
       "1                      NaN                      NaN     NaN            NaN   \n",
       "2                      NaN                      NaN     NaN            NaN   \n",
       "3                      NaN                      NaN     NaN            NaN   \n",
       "4                      NaN                      NaN     NaN            NaN   \n",
       "\n",
       "                          Link Wiki (English) TAREFA_lemmatized  \n",
       "0  http://en.wikipedia.org/wiki/Halbach_array           apertar  \n",
       "1  http://en.wikipedia.org/wiki/Halbach_array           apertar  \n",
       "2  http://en.wikipedia.org/wiki/Halbach_array        concentrar  \n",
       "3  http://en.wikipedia.org/wiki/Halbach_array        concentrar  \n",
       "4  http://en.wikipedia.org/wiki/Halbach_array         depositar  "
      ]
     },
     "execution_count": 2,
     "metadata": {},
     "output_type": "execute_result"
    }
   ],
   "source": [
    "df_triz = pd.read_csv(\"../../data/processed/base_efeitos_físicos_publicada_lemmatized.csv\")\n",
    "df_triz.head()"
   ]
  },
  {
   "cell_type": "markdown",
   "id": "48068142",
   "metadata": {},
   "source": [
    "## TRIZ Vector Store Data Preparation\n",
    "\n",
    "We are preparing text-metadata pairs for a vector store that will be used to match patents with TRIZ (Theory of Inventive Problem Solving) principles. Here's how the data is structured:\n",
    "\n",
    "### Text Format\n",
    "The text is formatted as a natural language sentence following this pattern:\n",
    "\n",
    "`O \"{TAREFA}\" é um {TIPO DE EFEITO}, que no {OBJETO} causa {EFEITO FÍSICO}.`\n",
    "\n",
    "\n",
    "For example:\n",
    "> \"O 'Aquecimento' é um Térmico, que na Água causa Aumento de temperatura.\"\n",
    "\n",
    "## Metadata Structure\n",
    "Each text entry has associated metadata containing four key components from TRIZ:\n",
    "- **tipo_de_efeito**: The type of effect (e.g., Mechanical, Thermal)\n",
    "- **tarefa**: The task or action being performed\n",
    "- **objeto**: The object being affected\n",
    "- **efeito_fisico**: The resulting physical effect\n",
    "\n",
    "This structure allows for:\n",
    "1. Semantic search through the text descriptions\n",
    "2. Precise filtering using the metadata fields\n",
    "3. Mapping between patents and existing TRIZ principles\n",
    "4. Identification of new derived TRIZ relationships\n",
    "\n",
    "The entries are created using the `build_entry()` function and then converted into Langchain Document objects for storage in the Chroma vector store.\n"
   ]
  },
  {
   "cell_type": "code",
   "execution_count": 3,
   "id": "c2c01c88",
   "metadata": {},
   "outputs": [
    {
     "data": {
      "text/plain": [
       "[{'text': 'O \"Apertar\" é um Aplicação, que no Sólido causa \\xa0Matriz de Halbach.',\n",
       "  'metadata': {'tipo_de_efeito': 'Aplicação',\n",
       "   'tarefa': 'Apertar',\n",
       "   'objeto': 'Sólido',\n",
       "   'efeito_fisico': '\\xa0Matriz de Halbach'}},\n",
       " {'text': 'O \"Apertar\" é um Aplicação, que no Sólido dividido causa \\xa0Matriz de Halbach.',\n",
       "  'metadata': {'tipo_de_efeito': 'Aplicação',\n",
       "   'tarefa': 'Apertar',\n",
       "   'objeto': 'Sólido dividido',\n",
       "   'efeito_fisico': '\\xa0Matriz de Halbach'}}]"
      ]
     },
     "execution_count": 3,
     "metadata": {},
     "output_type": "execute_result"
    }
   ],
   "source": [
    "# Creating the pairs of iniputs\n",
    "def build_entry(row):\n",
    "    text = f'O \"{row[\"TAREFA\"]}\" é um {row[\"TIPO DE EFEITO\"]}, que no {row[\"OBJETO\"]} causa {row[\"EFEITO FÍSICO\"]}.'\n",
    "    metadata = {\n",
    "        \"tipo_de_efeito\": row[\"TIPO DE EFEITO\"],\n",
    "        \"tarefa\": row[\"TAREFA\"],\n",
    "        \"objeto\": row[\"OBJETO\"],\n",
    "        \"efeito_fisico\": row[\"EFEITO FÍSICO\"]\n",
    "    }\n",
    "    return {\"text\": text, \"metadata\": metadata}\n",
    "\n",
    "documents = [build_entry(row) for _, row in df_triz.iterrows()]\n",
    "documents[:2]"
   ]
  },
  {
   "cell_type": "markdown",
   "id": "204afca8",
   "metadata": {},
   "source": [
    "Now we are going to create a Vectorstore"
   ]
  },
  {
   "cell_type": "code",
   "execution_count": 4,
   "id": "a243809b",
   "metadata": {},
   "outputs": [
    {
     "name": "stderr",
     "output_type": "stream",
     "text": [
      "/tmp/ipykernel_45961/3293397668.py:6: LangChainDeprecationWarning: The class `OpenAIEmbeddings` was deprecated in LangChain 0.0.9 and will be removed in 1.0. An updated version of the class exists in the :class:`~langchain-openai package and should be used instead. To use it run `pip install -U :class:`~langchain-openai` and import as `from :class:`~langchain_openai import OpenAIEmbeddings``.\n",
      "  embedding_model = OpenAIEmbeddings()\n",
      "/tmp/ipykernel_45961/3293397668.py:19: LangChainDeprecationWarning: The class `Chroma` was deprecated in LangChain 0.2.9 and will be removed in 1.0. An updated version of the class exists in the :class:`~langchain-chroma package and should be used instead. To use it run `pip install -U :class:`~langchain-chroma` and import as `from :class:`~langchain_chroma import Chroma``.\n",
      "  vectorstore = Chroma(\n"
     ]
    },
    {
     "data": {
      "text/plain": [
       "'chroma_rag_tabular'"
      ]
     },
     "execution_count": 4,
     "metadata": {},
     "output_type": "execute_result"
    }
   ],
   "source": [
    "docs = [\n",
    "    Document(page_content=item[\"text\"], metadata=item[\"metadata\"])\n",
    "    for item in documents\n",
    "]\n",
    "\n",
    "embedding_model = OpenAIEmbeddings()\n",
    "\n",
    "persist_directory = \"chroma_rag_tabular\"\n",
    "\n",
    "\n",
    "if not os.path.exists(persist_directory):\n",
    "    vectorstore = Chroma.from_documents(\n",
    "        documents=docs,\n",
    "        embedding=embedding_model,\n",
    "        persist_directory=persist_directory,\n",
    "    )\n",
    "    vectorstore.persist()\n",
    "else:\n",
    "    vectorstore = Chroma(\n",
    "        persist_directory=persist_directory,\n",
    "        embedding_function=embedding_model,\n",
    "    )\n",
    "\n",
    "persist_directory"
   ]
  },
  {
   "cell_type": "code",
   "execution_count": 5,
   "id": "be88bc53",
   "metadata": {},
   "outputs": [
    {
     "name": "stdout",
     "output_type": "stream",
     "text": [
      "O \"Corroer\" é um Efeito, que no Sólido causa Hipertermia.\n",
      "Metadados: {'tarefa': 'Corroer', 'efeito_fisico': 'Hipertermia', 'objeto': 'Sólido', 'tipo_de_efeito': 'Efeito'}\n",
      "O \"Aquecer\" é um Efeito, que no Líquido causa Dilatação térmica.\n",
      "Metadados: {'tarefa': 'Aquecer', 'objeto': 'Líquido', 'tipo_de_efeito': 'Efeito', 'efeito_fisico': 'Dilatação térmica'}\n"
     ]
    }
   ],
   "source": [
    "from langchain.vectorstores import Chroma\n",
    "\n",
    "# Reabre o banco vetorial\n",
    "vectorstore = Chroma(\n",
    "    persist_directory=\"chroma_rag_tabular\",\n",
    "    embedding_function=embedding_model\n",
    ")\n",
    "\n",
    "# Busca por similaridade\n",
    "query = \"Qual tarefa pode causar aumento da temperatura?\"\n",
    "results = vectorstore.similarity_search(query, k=2)\n",
    "\n",
    "for doc in results:\n",
    "    print(doc.page_content)\n",
    "    print(\"Metadados:\", doc.metadata)\n"
   ]
  },
  {
   "cell_type": "markdown",
   "id": "b6c3fc53",
   "metadata": {},
   "source": [
    "### TRIZ Schema Data Model\n",
    "\n",
    "The TRIZ schema implements a hierarchical data model using Pydantic for structured outputs from the LLM. Here's how it's organized:\n",
    "\n",
    "#### Base Model\n",
    "- **TrizBaseModel**: Base class that implements the `derived_from` field, which tracks relationships with existing TRIZ elements\n",
    "\n",
    "#### Component Models\n",
    "All inherit from `TrizBaseModel` and add their specific fields:\n",
    "\n",
    "- **TrizEffect**: Represents the type of effect (e.g., \"Mechanical\", \"Thermal\")\n",
    "- **TrizTask**: Captures the action being performed (e.g., \"Compress\", \"Heat\")\n",
    "- **TrizObject**: Describes the target object (e.g., \"Water\", \"Metal\")\n",
    "- **TrizPhysicalEffect**: Records the resulting physical effect (e.g., \"Temperature increase\")\n",
    "\n",
    "#### Main Schema\n",
    "- **TrizSchema**: Combines all components into a complete TRIZ representation:\n",
    "  - `kind_effect`: Type classification\n",
    "  - `task`: Action performed\n",
    "  - `object`: Target of the action\n",
    "  - `physical_effect`: Resulting change\n",
    "\n",
    "Each component can either:\n",
    "- Match an existing TRIZ element (`derived_from = None`)\n",
    "- Be derived from an existing element (`derived_from = \"parent_element\"`)\n",
    "\n",
    "This structure enables tracking both standard TRIZ elements and new derived relationships while maintaining data validation through Pydantic."
   ]
  },
  {
   "cell_type": "code",
   "execution_count": 6,
   "id": "1b1dbd72",
   "metadata": {},
   "outputs": [],
   "source": [
    "from pydantic import BaseModel\n",
    "\n",
    "class TrizBaseModel(BaseModel):\n",
    "    derived_from: str | None = None\n",
    "\n",
    "class TrizEffect(TrizBaseModel):\n",
    "    effect: str\n",
    "\n",
    "class TrizTask(TrizBaseModel):\n",
    "    task: str\n",
    "\n",
    "class TrizObject(TrizBaseModel):\n",
    "    object: str\n",
    "\n",
    "class TrizPhysicalEffect(TrizBaseModel):\n",
    "    physical_effect: str\n",
    "\n",
    "class TrizSchema(BaseModel):\n",
    "    kind_effect: TrizEffect\n",
    "    task: TrizTask\n",
    "    object: TrizObject\n",
    "    physical_effect: TrizPhysicalEffect"
   ]
  },
  {
   "cell_type": "code",
   "execution_count": 7,
   "id": "c87d298a",
   "metadata": {},
   "outputs": [],
   "source": [
    "# 💬 Modelo LLM\n",
    "# Ref.: https://python.langchain.com/docs/integrations/chat/openai/#structured-output-and-tool-calls\n",
    "llm = ChatOpenAI(model_name=\"gpt-4o\", temperature=0)\n",
    "\n",
    "structured_llm = llm.with_structured_output(TrizSchema)"
   ]
  },
  {
   "cell_type": "markdown",
   "id": "bdd419b9",
   "metadata": {},
   "source": [
    "## Explanation of the Prompt Construction and QA Chain\n",
    "\n",
    "This section of the code builds the prompt and configures the retrieval-augmented generation (RAG) chain for extracting structured TRIZ information from patent texts using a language model.\n",
    "\n",
    "### Prompt Construction\n",
    "\n",
    "- The `template` variable defines detailed instructions for the LLM in Portuguese. It explains:\n",
    "  - The context: the model will receive a patent title and abstract.\n",
    "  - The goal: connect the patent to a TRIZ relationship using the TRIZ base (object, task, effect type, and physical effect).\n",
    "  - The model can create new TRIZ relationships if none fit, but must indicate the closest existing element in the `derived_from` field.\n",
    "  - Rules for when to use or derive elements, and how to fill the output fields.\n",
    "  - The required output format: a JSON object with four main fields (`kind_effect`, `task`, `object`, `physical_effect`), each with a value and an optional `derived_from`.\n",
    "  - An example JSON output is provided, with all curly braces escaped to avoid template variable conflicts.\n",
    "\n",
    "### PromptTemplate and Chain Setup\n",
    "\n",
    "- The `PromptTemplate` is created with the template and the expected input variables (`context` and `question`).\n",
    "- The `PydanticOutputParser` ensures the LLM output matches the `TrizSchema` structure.\n",
    "- The `combine_docs_chain` is created to combine retrieved documents and the prompt for the LLM.\n",
    "- The `qa_chain` is a retrieval chain that:\n",
    "  - Uses the vectorstore retriever to fetch relevant TRIZ context.\n",
    "  - Passes the context and the patent input to the LLM using the prompt.\n",
    "  - Parses the output into the structured schema.\n",
    "\n",
    "### Summary\n",
    "\n",
    "This setup enables the LLM to:\n",
    "- Receive a patent description.\n",
    "- Retrieve relevant TRIZ principles from the vectorstore.\n",
    "- Output a structured JSON mapping the patent to TRIZ elements, including any new derived elements, following strict formatting and validation rules."
   ]
  },
  {
   "cell_type": "code",
   "execution_count": 8,
   "id": "1eb7bb68",
   "metadata": {},
   "outputs": [],
   "source": [
    "# Build prompt\n",
    "template = \"\"\"A seguir, você receberá o título e o resumo de uma patente em português.\n",
    "Use o contexto oriundo da base TRIZ de objeto, tarefa, tipo de efeito e efeito físico a \n",
    "seguir para conectar a patente a uma relação na TRIZ.\n",
    "\n",
    "Você também tem a liberdade de criar novas relações baseadas na TRIZ caso identifique \n",
    "que o efeito, tarefa, objeto e efeito físico não estejam presentes na base. Nesse caso, \n",
    "o objeto de retorno deve assinalar o campo `derived_from` com o nome do elemento mais \n",
    "próximo já existente na TRIZ.\n",
    "\n",
    "É importante que vc deve tentar criar novos elementos somente se não tiver um \n",
    "objeto, tarefa, tipo de efeito e efeito físico que se encaixem na base TRIZ. É importante\n",
    "tentar priorizar um elemento que já exista na TRIZ. Só traga um novo elemento se \n",
    "realmente nenhum elemento se aproximar do contexto.\n",
    "\n",
    "Se você não conseguir fazer uma resposta com o \n",
    "contexto, apenas diga que não sabe, não tente inventar uma resposta.\n",
    "\n",
    "# Regras\n",
    "- Se o elemento já existir na TRIZ, você deve retornar o campo\n",
    "  `derived_from` como `None`.\n",
    "- Se o elemento for derivado, você deve retornar `derived_from` \n",
    "  com o nome do elemento mais próximo já existente na TRIZ.\n",
    "- Sempre que um componente for derivado, na sua saída o campo \n",
    "  `derived_from` deve contar o nome do elemento mais próximo \n",
    "  já existente na TRIZ.\n",
    "\n",
    "# Formato de saída\n",
    "O formato de saída deve ser um JSON com os seguintes campos:\n",
    "- `effect`: `effect`, tipo de efeito (ex: \"Aumento da temperatura\"), além do campo\n",
    "  `derived_from` que é o nome do efeito mais próximo já existente na TRIZ.\n",
    "- `task`: `task` Tarefa (ex: \"Aumentar a temperatura\"), além do campo \n",
    "  `derived_from` que é o nome do efeito mais próximo já existente na TRIZ.\n",
    "- `object`: `object` Objeto (ex: \"Água\"), além do campo `derived_from`\n",
    "que é o nome do efeito mais próximo já existente na TRIZ.\n",
    "- `physical_effect`: `physical_effect` Efeito físico (ex: \"Aumento da temperatura\"), \n",
    "  além do campo `derived_from` que é o nome do efeito mais próximo já existente na TRIZ.\n",
    "\n",
    "Exemplo:\n",
    "```json\n",
    "{{\n",
    "  \"kind_effect\": {{\n",
    "    \"effect\": \"string\",        // Tipo do efeito (ex: \"Mecânico\", \"Térmico\")\n",
    "    \"derived_from\": \"string?\"  // Opcional: efeito origem se derivado de um existente\n",
    "  }},\n",
    "  \"task\": {{\n",
    "    \"task\": \"string\",         // Ação/tarefa (ex: \"Comprimir\", \"Aquecer\") \n",
    "    \"derived_from\": \"string?\" // Opcional: tarefa origem se derivada de uma existente\n",
    "  }},\n",
    "  \"object\": {{\n",
    "    \"object\": \"string\",       // Objeto alvo (ex: \"Água\", \"Metal\")\n",
    "    \"derived_from\": \"string?\" // Opcional: objeto origem se derivado de um existente\n",
    "  }},\n",
    "  \"physical_effect\": {{\n",
    "    \"physical_effect\": \"string\", // Efeito físico (ex: \"Aumento de temperatura\")\n",
    "    \"derived_from\": \"string?\"    // Opcional: efeito origem se derivado de um existente\n",
    "  }}\n",
    "}}\n",
    "```\n",
    "\n",
    "Regras:\n",
    "1. Todos os campos de texto são obrigatórios\n",
    "2. O campo `derived_from` deve ser:\n",
    "  - `null` se o elemento já existe na base TRIZ\n",
    "  - Uma string com o nome do elemento mais próximo existente se for derivado\n",
    "3. Mantenha a terminologia consistente com os elementos TRIZ existentes\n",
    "4. Use descrições claras e específicas para cada campo\n",
    "\n",
    "Contexto: {context}\n",
    "{input}\n",
    "Resposta:\"\"\"\n",
    "\n",
    "retriever = vectorstore.as_retriever(search_kwargs={\"k\": 3})\n",
    "\n",
    "parser = PydanticOutputParser(pydantic_object=TrizSchema)\n",
    "template_with_instructions = PromptTemplate(\n",
    "    template=template + \"\\n\\n{format_instructions}\",\n",
    "    input_variables=[\"context\", \"question\"],\n",
    "    partial_variables={\"format_instructions\": parser.get_format_instructions()},\n",
    ")\n",
    "\n",
    "combine_docs_chain = create_stuff_documents_chain(llm, template_with_instructions)\n",
    "\n",
    "qa_chain = create_retrieval_chain(retriever, combine_docs_chain)\n"
   ]
  },
  {
   "cell_type": "code",
   "execution_count": 9,
   "id": "73b048bb",
   "metadata": {},
   "outputs": [
    {
     "data": {
      "text/html": [
       "<div>\n",
       "<style scoped>\n",
       "    .dataframe tbody tr th:only-of-type {\n",
       "        vertical-align: middle;\n",
       "    }\n",
       "\n",
       "    .dataframe tbody tr th {\n",
       "        vertical-align: top;\n",
       "    }\n",
       "\n",
       "    .dataframe thead th {\n",
       "        text-align: right;\n",
       "    }\n",
       "</style>\n",
       "<table border=\"1\" class=\"dataframe\">\n",
       "  <thead>\n",
       "    <tr style=\"text-align: right;\">\n",
       "      <th></th>\n",
       "      <th>id_pedido</th>\n",
       "      <th>data_deposito</th>\n",
       "      <th>titulo</th>\n",
       "      <th>ipc</th>\n",
       "      <th>url</th>\n",
       "      <th>resumo</th>\n",
       "      <th>classifica_ipc</th>\n",
       "      <th>titulo_english</th>\n",
       "      <th>match_top_10_title</th>\n",
       "    </tr>\n",
       "  </thead>\n",
       "  <tbody>\n",
       "    <tr>\n",
       "      <th>0</th>\n",
       "      <td>BR 11 2021 018393 0</td>\n",
       "      <td>02/03/2020</td>\n",
       "      <td>TRATAMENTO DE COLISÕES EM UPLINK</td>\n",
       "      <td>H04L 1/18</td>\n",
       "      <td>https://busca.inpi.gov.br/pePI/servlet/Patente...</td>\n",
       "      <td>A presente invenção se refere a métodos, sis...</td>\n",
       "      <td>H04L 1/18</td>\n",
       "      <td>Treatment of collisions in Uplink</td>\n",
       "      <td>{'Move', 'Break Down', 'Change Phase', 'Separa...</td>\n",
       "    </tr>\n",
       "    <tr>\n",
       "      <th>1</th>\n",
       "      <td>BR 11 2021 018071 0</td>\n",
       "      <td>02/03/2020</td>\n",
       "      <td>ALOJAMENTO DE VELA DE IGNIÇÃO COM PROTEÇÃO ANT...</td>\n",
       "      <td>H01T 13/14</td>\n",
       "      <td>https://busca.inpi.gov.br/pePI/servlet/Patente...</td>\n",
       "      <td>ALOJAMENTO DE VELA DE IGNIÇÃO COM PROTEÇÃO A...</td>\n",
       "      <td>H01T 13/14 ;  H01T 13/20 ;  H01T 13/32 ;  H0...</td>\n",
       "      <td>In this case, it is necessary to ensure that y...</td>\n",
       "      <td>{'Move', 'Break Down'}</td>\n",
       "    </tr>\n",
       "    <tr>\n",
       "      <th>2</th>\n",
       "      <td>BR 11 2021 016947 4</td>\n",
       "      <td>02/03/2020</td>\n",
       "      <td>ANTICORPOS QUE RECONHECEM TAU</td>\n",
       "      <td>C07K 16/18</td>\n",
       "      <td>https://busca.inpi.gov.br/pePI/servlet/Patente...</td>\n",
       "      <td>ANTICORPOS QUE RECONHECEM TAU. A invenção fo...</td>\n",
       "      <td>C07K 16/18 ;  G01N 33/68</td>\n",
       "      <td>Antibodies that recognize you</td>\n",
       "      <td>{'Move', 'Break Down', 'Change Phase', 'Cool',...</td>\n",
       "    </tr>\n",
       "    <tr>\n",
       "      <th>3</th>\n",
       "      <td>BR 10 2020 004169 0</td>\n",
       "      <td>02/03/2020</td>\n",
       "      <td>AQUECEDOR DE AR A LENHA COM DUPLA EXAUSTÃO PAR...</td>\n",
       "      <td>F24H 3/00</td>\n",
       "      <td>https://busca.inpi.gov.br/pePI/servlet/Patente...</td>\n",
       "      <td>AQUECEDOR DE AR A LENHA COM DUPLA EXAUSTAO P...</td>\n",
       "      <td>F24H 3/008 ;  F24H 4/06</td>\n",
       "      <td>Air heater with double exhaust to be used in a...</td>\n",
       "      <td>{'Move', 'Break Down', 'Expand', 'Separate', '...</td>\n",
       "    </tr>\n",
       "    <tr>\n",
       "      <th>4</th>\n",
       "      <td>BR 11 2021 006234 3</td>\n",
       "      <td>02/03/2020</td>\n",
       "      <td>BIBLIOTECAS DE CÉLULAS ÚNICAS E NÚCLEOS ÚNICOS...</td>\n",
       "      <td>C12N 15/10</td>\n",
       "      <td>https://busca.inpi.gov.br/pePI/servlet/Patente...</td>\n",
       "      <td>BIBLIOTECAS DE CÉLULAS ÚNICAS E NÚCLEOS ÚNIC...</td>\n",
       "      <td>C12N 15/10</td>\n",
       "      <td>Unique cell libraries and unique high-end nucl...</td>\n",
       "      <td>{'Remove', 'Break Down', 'Move', 'Concentrate'...</td>\n",
       "    </tr>\n",
       "  </tbody>\n",
       "</table>\n",
       "</div>"
      ],
      "text/plain": [
       "             id_pedido data_deposito  \\\n",
       "0  BR 11 2021 018393 0    02/03/2020   \n",
       "1  BR 11 2021 018071 0    02/03/2020   \n",
       "2  BR 11 2021 016947 4    02/03/2020   \n",
       "3  BR 10 2020 004169 0    02/03/2020   \n",
       "4  BR 11 2021 006234 3    02/03/2020   \n",
       "\n",
       "                                              titulo         ipc  \\\n",
       "0                   TRATAMENTO DE COLISÕES EM UPLINK   H04L 1/18   \n",
       "1  ALOJAMENTO DE VELA DE IGNIÇÃO COM PROTEÇÃO ANT...  H01T 13/14   \n",
       "2                      ANTICORPOS QUE RECONHECEM TAU  C07K 16/18   \n",
       "3  AQUECEDOR DE AR A LENHA COM DUPLA EXAUSTÃO PAR...   F24H 3/00   \n",
       "4  BIBLIOTECAS DE CÉLULAS ÚNICAS E NÚCLEOS ÚNICOS...  C12N 15/10   \n",
       "\n",
       "                                                 url  \\\n",
       "0  https://busca.inpi.gov.br/pePI/servlet/Patente...   \n",
       "1  https://busca.inpi.gov.br/pePI/servlet/Patente...   \n",
       "2  https://busca.inpi.gov.br/pePI/servlet/Patente...   \n",
       "3  https://busca.inpi.gov.br/pePI/servlet/Patente...   \n",
       "4  https://busca.inpi.gov.br/pePI/servlet/Patente...   \n",
       "\n",
       "                                              resumo  \\\n",
       "0    A presente invenção se refere a métodos, sis...   \n",
       "1    ALOJAMENTO DE VELA DE IGNIÇÃO COM PROTEÇÃO A...   \n",
       "2    ANTICORPOS QUE RECONHECEM TAU. A invenção fo...   \n",
       "3    AQUECEDOR DE AR A LENHA COM DUPLA EXAUSTAO P...   \n",
       "4    BIBLIOTECAS DE CÉLULAS ÚNICAS E NÚCLEOS ÚNIC...   \n",
       "\n",
       "                                      classifica_ipc  \\\n",
       "0                                          H04L 1/18   \n",
       "1    H01T 13/14 ;  H01T 13/20 ;  H01T 13/32 ;  H0...   \n",
       "2                           C07K 16/18 ;  G01N 33/68   \n",
       "3                            F24H 3/008 ;  F24H 4/06   \n",
       "4                                         C12N 15/10   \n",
       "\n",
       "                                      titulo_english  \\\n",
       "0                  Treatment of collisions in Uplink   \n",
       "1  In this case, it is necessary to ensure that y...   \n",
       "2                      Antibodies that recognize you   \n",
       "3  Air heater with double exhaust to be used in a...   \n",
       "4  Unique cell libraries and unique high-end nucl...   \n",
       "\n",
       "                                  match_top_10_title  \n",
       "0  {'Move', 'Break Down', 'Change Phase', 'Separa...  \n",
       "1                             {'Move', 'Break Down'}  \n",
       "2  {'Move', 'Break Down', 'Change Phase', 'Cool',...  \n",
       "3  {'Move', 'Break Down', 'Expand', 'Separate', '...  \n",
       "4  {'Remove', 'Break Down', 'Move', 'Concentrate'...  "
      ]
     },
     "execution_count": 9,
     "metadata": {},
     "output_type": "execute_result"
    }
   ],
   "source": [
    "df_patents = pd.read_csv(\"../../data/processed/patentes_inpi_english_matched.csv\")\n",
    "df_patents.head()"
   ]
  },
  {
   "cell_type": "code",
   "execution_count": 10,
   "id": "c34aaffb",
   "metadata": {},
   "outputs": [
    {
     "name": "stdout",
     "output_type": "stream",
     "text": [
      "Título: CONJUNTO DE ESPAÇOS DE PESQUISA PARA SINAL DE ATIVAÇÃO\n",
      "Abstract:   CONJUNTO DE ESPAÇOS DE PESQUISA PARA SINAL DE ATIVAÇÃO. Vários aspectos da presente revelação geralmente se referem à comunicação não cabeada. Em alguns aspectos, um equipamento do usuário (UE) pode monitorar um conjunto de espaços de pesquisa de sinal de ativação (WUS-SS) para um sinal de ativação (WUS) de canal físico compartilhado de downlink (PDCCH). O UE pode detectar o PDCCH WUS no conjunto WUS-SS baseado pelo menos em parte em monitorar o conjunto WUS-SS. Vários outros aspectos são proporcionados.\n",
      "```json\n",
      "{\n",
      "  \"kind_effect\": {\n",
      "    \"effect\": \"Detectar\",\n",
      "    \"derived_from\": null\n",
      "  },\n",
      "  \"task\": {\n",
      "    \"task\": \"Monitorar sinal de ativação\",\n",
      "    \"derived_from\": \"Detectar\"\n",
      "  },\n",
      "  \"object\": {\n",
      "    \"object\": \"Equipamento do Usuário (UE)\",\n",
      "    \"derived_from\": null\n",
      "  },\n",
      "  \"physical_effect\": {\n",
      "    \"physical_effect\": \"Comunicação não cabeada\",\n",
      "    \"derived_from\": null\n",
      "  }\n",
      "}\n",
      "```\n",
      "kind_effect=TrizEffect(derived_from=None, effect='Detectar') task=TrizTask(derived_from='Detectar', task='Monitorar sinal de ativação') object=TrizObject(derived_from=None, object='Equipamento do Usuário (UE)') physical_effect=TrizPhysicalEffect(derived_from=None, physical_effect='Comunicação não cabeada')\n",
      "\n",
      "\n"
     ]
    }
   ],
   "source": [
    "i = 10\n",
    "title = df_patents.iloc[i][\"titulo\"]\n",
    "abstract = df_patents.iloc[i][\"resumo\"]\n",
    "\n",
    "query = f\"\"\"Título: {title}\n",
    "Abstract: {abstract}\"\"\"\n",
    "\n",
    "\n",
    "raw_output = qa_chain.invoke({\"input\": query})\n",
    "# raw_output is a dict with key 'result' or similar containing string output\n",
    "text_output = raw_output[\"answer\"]  # or adjust key as per your chain\n",
    "# parse string output into Pydantic model\n",
    "structured_output = parser.parse(text_output)\n",
    "\n",
    "print(query)\n",
    "print(text_output)\n",
    "print(structured_output)\n",
    "print('\\n')"
   ]
  },
  {
   "cell_type": "markdown",
   "id": "982811a4",
   "metadata": {},
   "source": [
    "### Explanation: `insert_derived_elements` Function\n",
    "\n",
    "The `insert_derived_elements` function is responsible for identifying and storing new (derived) TRIZ elements generated by the LLM that are not present in the original TRIZ base. Here’s how it works:\n",
    "\n",
    "1. **Purpose**  \n",
    "   - To check the structured output from the LLM for any fields (`kind_effect`, `task`, `object`, `physical_effect`) that are marked as \"derived\" (i.e., their `derived_from` attribute is not `None`).\n",
    "   - To add these new derived elements to the vectorstore for future retrieval and semantic search.\n",
    "\n",
    "2. **How it Works**  \n",
    "   - The function iterates over each of the four main TRIZ fields in the structured output.\n",
    "   - For each field, it checks if the `derived_from` attribute is filled (not `None`). If so, it collects information about the derived element (field name, value, and what it was derived from).\n",
    "   - If any derived elements are found, it creates a new row (dictionary) with the values for `TAREFA`, `TIPO DE EFEITO`, `OBJETO`, and `EFEITO FÍSICO` from the structured output.\n",
    "   - It then uses the `build_entry` function to create a new document (with text and metadata) and adds this document to the vectorstore.\n",
    "   - Finally, it prints information about each derived element added and the text that was inserted into the vectorstore.\n",
    "\n",
    "3. **Why is this Useful?**  \n",
    "   - This approach allows the system to dynamically expand the TRIZ knowledge base with new, LLM-suggested relationships, while keeping track of their origin.\n",
    "   - It ensures that the vectorstore remains up-to-date and can support richer, more flexible semantic search and reasoning in future queries.\n",
    "\n",
    "**In summary:**  \n",
    "Whenever the LLM proposes a new TRIZ element (not found in the base), this function logs and stores it, making the knowledge base grow automatically as new patents are processed."
   ]
  },
  {
   "cell_type": "code",
   "execution_count": 11,
   "id": "45ac3128",
   "metadata": {},
   "outputs": [],
   "source": [
    "def insert_derived_elements(structured_output, vectorstore):\n",
    "    \"\"\"\n",
    "    Insere elementos derivados no vectorstore e printa informações sobre os elementos adicionados.\n",
    "    \n",
    "    Args:\n",
    "        structured_output: Output estruturado do modelo LLM\n",
    "        vectorstore: Instância do Chroma para armazenar vetores\n",
    "    \"\"\"\n",
    "    derived_elements = []\n",
    "\n",
    "    # Para cada campo do schema, verifica se é derivado\n",
    "    dict_values = {\n",
    "        \"kind_effect\":\"effect\" ,\n",
    "        \"task\":\"task\" ,\n",
    "        \"object\":\"object\" ,\n",
    "        \"physical_effect\":\"physical_effect\"\n",
    "    }\n",
    "\n",
    "    for field_name in dict_values.keys():\n",
    "        field = getattr(structured_output, field_name, None)\n",
    "        \n",
    "        # Verifica se o campo tem derived_from preenchido (não None)\n",
    "        if field and field.derived_from:\n",
    "            derived_elements.append({\n",
    "                \"field\": field_name,\n",
    "                \"value\": getattr(field, dict_values[field_name]),  # get 'effect', 'task', etc\n",
    "                \"derived_from\": field.derived_from\n",
    "            })\n",
    "    \n",
    "    # Se encontrou elementos derivados, cria nova entrada\n",
    "    if derived_elements:\n",
    "        new_row = {\n",
    "            \"TAREFA\": getattr(structured_output.task, \"task\", \"\"),\n",
    "            \"TIPO DE EFEITO\": getattr(structured_output.kind_effect, \"effect\", \"\"),\n",
    "            \"OBJETO\": getattr(structured_output.object, \"object\", \"\"),\n",
    "            \"EFEITO FÍSICO\": getattr(structured_output.physical_effect, \"physical_effect\", \"\")\n",
    "        }\n",
    "        \n",
    "        # Cria e adiciona documento\n",
    "        entry = build_entry(new_row)\n",
    "        doc = Document(page_content=entry[\"text\"], metadata=entry[\"metadata\"])\n",
    "        vectorstore.add_documents([doc])\n",
    "        \n",
    "        # Printa informações sobre elementos derivados\n",
    "        print(\"\\nElementos derivados adicionados ao vectorstore:\")\n",
    "        for elem in derived_elements:\n",
    "            print(f\"- {elem['field']}: '{elem['value']}' (derivado de '{elem['derived_from']}')\")\n",
    "        print(f\"Texto adicionado: {entry['text']}\")"
   ]
  },
  {
   "cell_type": "code",
   "execution_count": 12,
   "id": "633c1b65",
   "metadata": {},
   "outputs": [
    {
     "name": "stderr",
     "output_type": "stream",
     "text": [
      "  1%|          | 2/329 [00:04<12:41,  2.33s/it]"
     ]
    },
    {
     "name": "stdout",
     "output_type": "stream",
     "text": [
      "\n",
      "Elementos derivados adicionados ao vectorstore:\n",
      "- object: 'Pesticidas' (derivado de 'Líquido')\n",
      "Texto adicionado: O \"Misturar\" é um Substância aglutinante, que no Pesticidas causa Substância aglutinante.\n"
     ]
    },
    {
     "name": "stderr",
     "output_type": "stream",
     "text": [
      "  1%|          | 3/329 [00:07<13:52,  2.55s/it]"
     ]
    },
    {
     "name": "stdout",
     "output_type": "stream",
     "text": [
      "\n",
      "Elementos derivados adicionados ao vectorstore:\n",
      "- task: 'Orientar grãos' (derivado de 'Orientar')\n",
      "- object: 'Chapa de aço' (derivado de 'Sólido')\n",
      "Texto adicionado: O \"Orientar grãos\" é um Efeitos magnetoelásticos, que no Chapa de aço causa Deposição eletroforética.\n"
     ]
    },
    {
     "name": "stderr",
     "output_type": "stream",
     "text": [
      "  2%|▏         | 5/329 [00:11<11:48,  2.19s/it]"
     ]
    },
    {
     "name": "stdout",
     "output_type": "stream",
     "text": [
      "\n",
      "Elementos derivados adicionados ao vectorstore:\n",
      "- object: 'Células-tronco' (derivado de 'Sólido')\n",
      "- physical_effect: 'Preservação de células' (derivado de 'Criopreservação')\n",
      "Texto adicionado: O \"Proteger\" é um Criopreservação, que no Células-tronco causa Preservação de células.\n"
     ]
    },
    {
     "name": "stderr",
     "output_type": "stream",
     "text": [
      "  2%|▏         | 6/329 [00:12<11:03,  2.05s/it]"
     ]
    },
    {
     "name": "stdout",
     "output_type": "stream",
     "text": [
      "\n",
      "Elementos derivados adicionados ao vectorstore:\n",
      "- kind_effect: 'Retroalimentação' (derivado de 'Retroalimentação')\n",
      "- task: 'Detectar' (derivado de 'Detectar')\n",
      "- object: 'Aplicação' (derivado de 'Aplicação')\n",
      "- physical_effect: 'Retroalimentação' (derivado de 'Retroalimentação')\n",
      "Texto adicionado: O \"Detectar\" é um Retroalimentação, que no Aplicação causa Retroalimentação.\n"
     ]
    },
    {
     "name": "stderr",
     "output_type": "stream",
     "text": [
      "  2%|▏         | 7/329 [00:14<11:10,  2.08s/it]"
     ]
    },
    {
     "name": "stdout",
     "output_type": "stream",
     "text": [
      "\n",
      "Elementos derivados adicionados ao vectorstore:\n",
      "- object: 'Gás Liquefeito de Petróleo' (derivado de 'Gás')\n",
      "Texto adicionado: O \"Produzir\" é um Liquefação, que no Gás Liquefeito de Petróleo causa Conversão de álcoois para propano e/ou butano.\n"
     ]
    },
    {
     "name": "stderr",
     "output_type": "stream",
     "text": [
      "  3%|▎         | 9/329 [00:19<12:13,  2.29s/it]"
     ]
    },
    {
     "name": "stdout",
     "output_type": "stream",
     "text": [
      "\n",
      "Elementos derivados adicionados ao vectorstore:\n",
      "- task: 'Isolar' (derivado de 'Separar')\n",
      "- physical_effect: 'Controle de fluxo' (derivado de 'Válvula (tubulação)')\n",
      "Texto adicionado: O \"Isolar\" é um Separar, que no Válvula (tubulação) causa Controle de fluxo.\n"
     ]
    },
    {
     "name": "stderr",
     "output_type": "stream",
     "text": [
      "  5%|▌         | 18/329 [00:36<10:17,  1.99s/it]"
     ]
    },
    {
     "name": "stdout",
     "output_type": "stream",
     "text": [
      "\n",
      "Elementos derivados adicionados ao vectorstore:\n",
      "- task: 'Modificar estrutura' (derivado de 'Desmembrar')\n",
      "- object: 'Veículo' (derivado de 'Sólido')\n",
      "Texto adicionado: O \"Modificar estrutura\" é um Mecânico, que no Veículo causa Eixo.\n"
     ]
    },
    {
     "name": "stderr",
     "output_type": "stream",
     "text": [
      "  6%|▌         | 19/329 [00:38<11:02,  2.14s/it]"
     ]
    },
    {
     "name": "stdout",
     "output_type": "stream",
     "text": [
      "\n",
      "Elementos derivados adicionados ao vectorstore:\n",
      "- task: 'Produzir partículas de carbono nanoestruturado' (derivado de 'Produzir')\n",
      "- object: 'Partículas de carbono nanoestruturado' (derivado de 'Nanotubo de carbono')\n",
      "- physical_effect: 'Reações no estado sólido' (derivado de 'Plasma Enhanced Chemical Vapour Deposition')\n",
      "Texto adicionado: O \"Produzir partículas de carbono nanoestruturado\" é um Produzir, que no Partículas de carbono nanoestruturado causa Reações no estado sólido.\n"
     ]
    },
    {
     "name": "stderr",
     "output_type": "stream",
     "text": [
      "  7%|▋         | 23/329 [00:46<11:04,  2.17s/it]"
     ]
    },
    {
     "name": "stdout",
     "output_type": "stream",
     "text": [
      "\n",
      "Elementos derivados adicionados ao vectorstore:\n",
      "- kind_effect: 'Medição de Sinal' (derivado de 'Homodyne Detection')\n",
      "- physical_effect: 'Determinação de potências recebidas' (derivado de 'Electrical Impedance Tomography')\n",
      "Texto adicionado: O \"Medir ângulo de partida de enlace descendente\" é um Medição de Sinal, que no Sinais de referência causa Determinação de potências recebidas.\n"
     ]
    },
    {
     "name": "stderr",
     "output_type": "stream",
     "text": [
      "  7%|▋         | 24/329 [00:48<10:09,  2.00s/it]"
     ]
    },
    {
     "name": "stdout",
     "output_type": "stream",
     "text": [
      "\n",
      "Elementos derivados adicionados ao vectorstore:\n",
      "- object: 'Equipamento agrícola' (derivado de 'Líquido')\n",
      "Texto adicionado: O \"Mover\" é um Mecânico, que no Equipamento agrícola causa Carneiro hidráulico.\n"
     ]
    },
    {
     "name": "stderr",
     "output_type": "stream",
     "text": [
      "  8%|▊         | 25/329 [00:50<10:36,  2.09s/it]"
     ]
    },
    {
     "name": "stdout",
     "output_type": "stream",
     "text": [
      "\n",
      "Elementos derivados adicionados ao vectorstore:\n",
      "- object: 'Tinta de segurança' (derivado de 'Sólido dividido')\n",
      "- physical_effect: 'Cura por radiação UV-Vis' (derivado de 'Cianoacrilato')\n",
      "Texto adicionado: O \"Segurar\" é um Fotoluminescência, que no Tinta de segurança causa Cura por radiação UV-Vis.\n"
     ]
    },
    {
     "name": "stderr",
     "output_type": "stream",
     "text": [
      "  9%|▉         | 30/329 [01:07<12:41,  2.55s/it]"
     ]
    },
    {
     "name": "stdout",
     "output_type": "stream",
     "text": [
      "\n",
      "Elementos derivados adicionados ao vectorstore:\n",
      "- task: 'Adicionar extrato hidrossolúvel' (derivado de 'Extrair')\n",
      "Texto adicionado: O \"Adicionar extrato hidrossolúvel\" é um Extrair, que no Iogurte causa Enriquecimento nutricional.\n"
     ]
    },
    {
     "name": "stderr",
     "output_type": "stream",
     "text": [
      "  9%|▉         | 31/329 [01:09<12:27,  2.51s/it]"
     ]
    },
    {
     "name": "stdout",
     "output_type": "stream",
     "text": [
      "\n",
      "Elementos derivados adicionados ao vectorstore:\n",
      "- kind_effect: 'Extração com fluido supercrítico' (derivado de 'Extração com fluido supercrítico')\n",
      "- object: 'Plantas' (derivado de 'Líquido')\n",
      "- physical_effect: 'Extração de DNA' (derivado de 'Extração com fluido supercrítico')\n",
      "Texto adicionado: O \"Extrair\" é um Extração com fluido supercrítico, que no Plantas causa Extração de DNA.\n"
     ]
    },
    {
     "name": "stderr",
     "output_type": "stream",
     "text": [
      " 10%|█         | 33/329 [01:12<10:07,  2.05s/it]"
     ]
    },
    {
     "name": "stdout",
     "output_type": "stream",
     "text": [
      "\n",
      "Elementos derivados adicionados ao vectorstore:\n",
      "- kind_effect: 'Sonoquímica' (derivado de 'Desmembrar')\n",
      "Texto adicionado: O \"Melhorar o sono\" é um Sonoquímica, que no Paciente com distúrbio do sono causa Melhora dos parâmetros do sono.\n"
     ]
    },
    {
     "name": "stderr",
     "output_type": "stream",
     "text": [
      " 10%|█         | 34/329 [01:15<10:19,  2.10s/it]"
     ]
    },
    {
     "name": "stdout",
     "output_type": "stream",
     "text": [
      "\n",
      "Elementos derivados adicionados ao vectorstore:\n",
      "- task: 'Produção fermentativa de carboidratos' (derivado de 'Produzir')\n",
      "Texto adicionado: O \"Produção fermentativa de carboidratos\" é um Produzir, que no Célula microbiana geneticamente modificada causa Fermentação.\n"
     ]
    },
    {
     "name": "stderr",
     "output_type": "stream",
     "text": [
      " 11%|█         | 35/329 [01:17<10:36,  2.17s/it]"
     ]
    },
    {
     "name": "stdout",
     "output_type": "stream",
     "text": [
      "\n",
      "Elementos derivados adicionados ao vectorstore:\n",
      "- kind_effect: 'Produção de compostos oxigenados' (derivado de 'Produção fermentativa de carboidratos')\n",
      "- task: 'Produzir compostos oxigenados a partir de hexoses' (derivado de 'Produzir')\n",
      "- object: 'Micro-organismos recombinantes' (derivado de 'Célula microbiana geneticamente modificada')\n",
      "- physical_effect: 'Biossíntese de compostos oxigenados' (derivado de 'Fermentação')\n",
      "Texto adicionado: O \"Produzir compostos oxigenados a partir de hexoses\" é um Produção de compostos oxigenados, que no Micro-organismos recombinantes causa Biossíntese de compostos oxigenados.\n"
     ]
    },
    {
     "name": "stderr",
     "output_type": "stream",
     "text": [
      " 11%|█         | 37/329 [01:29<22:04,  4.54s/it]"
     ]
    },
    {
     "name": "stdout",
     "output_type": "stream",
     "text": [
      "\n",
      "Elementos derivados adicionados ao vectorstore:\n",
      "- task: 'Detectar micro-organismos' (derivado de 'Detectar')\n",
      "- object: 'Listeria spp.' (derivado de 'Líquido')\n",
      "Texto adicionado: O \"Detectar micro-organismos\" é um Detecção, que no Listeria spp. causa Amplificação de sinal.\n"
     ]
    },
    {
     "name": "stderr",
     "output_type": "stream",
     "text": [
      " 12%|█▏        | 38/329 [01:31<18:12,  3.76s/it]"
     ]
    },
    {
     "name": "stdout",
     "output_type": "stream",
     "text": [
      "\n",
      "Elementos derivados adicionados ao vectorstore:\n",
      "- task: 'Medir ângulo de partida de enlace descendente' (derivado de 'Medição de Sinal')\n",
      "Texto adicionado: O \"Medir ângulo de partida de enlace descendente\" é um Medição de Sinal, que no Dispositivo Terminal causa Determinação de potências recebidas.\n"
     ]
    },
    {
     "name": "stderr",
     "output_type": "stream",
     "text": [
      " 12%|█▏        | 40/329 [01:35<13:39,  2.83s/it]"
     ]
    },
    {
     "name": "stdout",
     "output_type": "stream",
     "text": [
      "\n",
      "Elementos derivados adicionados ao vectorstore:\n",
      "- object: 'Poliéster líquido-cristalino' (derivado de 'Líquido')\n",
      "Texto adicionado: O \"Comprimir\" é um Mecânico, que no Poliéster líquido-cristalino causa Aumento da resistência à fadiga por flexão.\n"
     ]
    },
    {
     "name": "stderr",
     "output_type": "stream",
     "text": [
      " 13%|█▎        | 44/329 [01:43<09:44,  2.05s/it]"
     ]
    },
    {
     "name": "stdout",
     "output_type": "stream",
     "text": [
      "\n",
      "Elementos derivados adicionados ao vectorstore:\n",
      "- task: 'Fixar' (derivado de 'Segurar')\n",
      "Texto adicionado: O \"Fixar\" é um Mechanical Fastener, que no Plataforma de estação de equipamentos causa Eixo (mecânica).\n"
     ]
    },
    {
     "name": "stderr",
     "output_type": "stream",
     "text": [
      " 14%|█▎        | 45/329 [01:46<10:01,  2.12s/it]"
     ]
    },
    {
     "name": "stdout",
     "output_type": "stream",
     "text": [
      "\n",
      "Elementos derivados adicionados ao vectorstore:\n",
      "- task: 'Aumentar o sabor doce' (derivado de 'Secar')\n",
      "- object: 'Pó de planta seca' (derivado de 'Sólido')\n",
      "Texto adicionado: O \"Aumentar o sabor doce\" é um Secar, que no Pó de planta seca causa Ultrasonic Drying.\n"
     ]
    },
    {
     "name": "stderr",
     "output_type": "stream",
     "text": [
      " 16%|█▌        | 52/329 [02:02<12:03,  2.61s/it]"
     ]
    },
    {
     "name": "stdout",
     "output_type": "stream",
     "text": [
      "\n",
      "Elementos derivados adicionados ao vectorstore:\n",
      "- kind_effect: 'Segurança de dados' (derivado de 'Processamento digital de imagem')\n",
      "- task: 'Proteger dados' (derivado de 'Segurar')\n",
      "- object: 'Dados do usuário' (derivado de 'Sólido dividido')\n",
      "- physical_effect: 'Autenticação segura' (derivado de 'Suspensão cardã')\n",
      "Texto adicionado: O \"Proteger dados\" é um Segurança de dados, que no Dados do usuário causa Autenticação segura.\n"
     ]
    },
    {
     "name": "stderr",
     "output_type": "stream",
     "text": [
      " 16%|█▌        | 53/329 [02:06<13:47,  3.00s/it]"
     ]
    },
    {
     "name": "stdout",
     "output_type": "stream",
     "text": [
      "\n",
      "Elementos derivados adicionados ao vectorstore:\n",
      "- physical_effect: 'Processamento de comunicação' (derivado de 'Processamento digital de imagem')\n",
      "Texto adicionado: O \"Determinação de potências recebidas\" é um Medição de Sinal, que no Dispositivo Terminal causa Processamento de comunicação.\n"
     ]
    },
    {
     "name": "stderr",
     "output_type": "stream",
     "text": [
      " 16%|█▋        | 54/329 [02:18<25:34,  5.58s/it]"
     ]
    },
    {
     "name": "stdout",
     "output_type": "stream",
     "text": [
      "\n",
      "Elementos derivados adicionados ao vectorstore:\n",
      "- kind_effect: 'Contenção' (derivado de 'Recipiente')\n",
      "- task: 'Conter' (derivado de 'Segurar')\n",
      "- object: 'Concentrado Viscoso' (derivado de 'Líquido')\n",
      "- physical_effect: 'Vedação' (derivado de 'Recipiente')\n",
      "Texto adicionado: O \"Conter\" é um Contenção, que no Concentrado Viscoso causa Vedação.\n"
     ]
    },
    {
     "name": "stderr",
     "output_type": "stream",
     "text": [
      " 18%|█▊        | 60/329 [02:34<16:38,  3.71s/it]"
     ]
    },
    {
     "name": "stdout",
     "output_type": "stream",
     "text": [
      "\n",
      "Elementos derivados adicionados ao vectorstore:\n",
      "- task: 'Transmitir trajetórias quadridimensionais' (derivado de 'Determinação de potências recebidas')\n",
      "- object: 'Aeronave' (derivado de 'Dispositivo Terminal')\n",
      "Texto adicionado: O \"Transmitir trajetórias quadridimensionais\" é um Medição de Sinal, que no Aeronave causa Processamento de comunicação.\n"
     ]
    },
    {
     "name": "stderr",
     "output_type": "stream",
     "text": [
      " 19%|█▉        | 62/329 [02:41<15:41,  3.53s/it]"
     ]
    },
    {
     "name": "stdout",
     "output_type": "stream",
     "text": [
      "\n",
      "Elementos derivados adicionados ao vectorstore:\n",
      "- task: 'Usinar' (derivado de 'Mover')\n",
      "Texto adicionado: O \"Usinar\" é um Mecânico, que no Costura de solda causa Automação de usinagem.\n"
     ]
    },
    {
     "name": "stderr",
     "output_type": "stream",
     "text": [
      " 19%|█▉        | 63/329 [02:45<15:59,  3.61s/it]"
     ]
    },
    {
     "name": "stdout",
     "output_type": "stream",
     "text": [
      "\n",
      "Elementos derivados adicionados ao vectorstore:\n",
      "- task: 'Alinhar' (derivado de 'Orientar')\n",
      "- object: 'Dispositivo de conexão' (derivado de 'Válvula (tubulação)')\n",
      "Texto adicionado: O \"Alinhar\" é um Mecânico, que no Dispositivo de conexão causa Movimento relativo.\n"
     ]
    },
    {
     "name": "stderr",
     "output_type": "stream",
     "text": [
      " 19%|█▉        | 64/329 [02:48<15:40,  3.55s/it]"
     ]
    },
    {
     "name": "stdout",
     "output_type": "stream",
     "text": [
      "\n",
      "Elementos derivados adicionados ao vectorstore:\n",
      "- object: 'Dispositivo de Rede' (derivado de 'Dispositivo Terminal')\n",
      "Texto adicionado: O \"Determinação de potências recebidas\" é um Medição de Sinal, que no Dispositivo de Rede causa Processamento de comunicação.\n"
     ]
    },
    {
     "name": "stderr",
     "output_type": "stream",
     "text": [
      " 20%|█▉        | 65/329 [02:51<14:45,  3.35s/it]"
     ]
    },
    {
     "name": "stdout",
     "output_type": "stream",
     "text": [
      "\n",
      "Elementos derivados adicionados ao vectorstore:\n",
      "- task: 'Gerar bolha ultrafina' (derivado de 'Evaporar')\n",
      "- physical_effect: 'Ebulição de filme' (derivado de 'Evaporar')\n",
      "Texto adicionado: O \"Gerar bolha ultrafina\" é um Evaporar, que no Líquido causa Ebulição de filme.\n"
     ]
    },
    {
     "name": "stderr",
     "output_type": "stream",
     "text": [
      " 20%|██        | 66/329 [02:55<15:24,  3.51s/it]"
     ]
    },
    {
     "name": "stdout",
     "output_type": "stream",
     "text": [
      "\n",
      "Elementos derivados adicionados ao vectorstore:\n",
      "- task: 'Gerar e processar sinal de imagem' (derivado de 'Detectar')\n",
      "- object: 'Imagem' (derivado de 'Sólido')\n",
      "- physical_effect: 'Divisão e estruturação de imagem em metadados' (derivado de 'Processamento digital de imagem')\n",
      "Texto adicionado: O \"Gerar e processar sinal de imagem\" é um Processamento digital de imagem, que no Imagem causa Divisão e estruturação de imagem em metadados.\n"
     ]
    },
    {
     "name": "stderr",
     "output_type": "stream",
     "text": [
      " 22%|██▏       | 71/329 [03:12<15:43,  3.66s/it]"
     ]
    },
    {
     "name": "stdout",
     "output_type": "stream",
     "text": [
      "\n",
      "Elementos derivados adicionados ao vectorstore:\n",
      "- kind_effect: 'Desestabilização de óleos' (derivado de 'Estrutura metalorgânica')\n",
      "- task: 'Remover resíduos oleosos' (derivado de 'Remover')\n",
      "- object: 'Detergente biodegradável' (derivado de 'Líquido')\n",
      "- physical_effect: 'Desestabilização de óleos pesados' (derivado de 'Digestão aeróbica')\n",
      "Texto adicionado: O \"Remover resíduos oleosos\" é um Desestabilização de óleos, que no Detergente biodegradável causa Desestabilização de óleos pesados.\n"
     ]
    },
    {
     "name": "stderr",
     "output_type": "stream",
     "text": [
      " 22%|██▏       | 72/329 [03:16<15:30,  3.62s/it]"
     ]
    },
    {
     "name": "stdout",
     "output_type": "stream",
     "text": [
      "\n",
      "Elementos derivados adicionados ao vectorstore:\n",
      "- kind_effect: 'Reforço estrutural' (derivado de 'Reações no estado sólido')\n",
      "- task: 'Produzir filme nanocelulósico' (derivado de 'Produzir')\n",
      "- object: 'Filme nanocelulósico' (derivado de 'Partículas de carbono nanoestruturado')\n",
      "- physical_effect: 'Aumento da resistência à tração' (derivado de 'Nanotubo de carbono')\n",
      "Texto adicionado: O \"Produzir filme nanocelulósico\" é um Reforço estrutural, que no Filme nanocelulósico causa Aumento da resistência à tração.\n"
     ]
    },
    {
     "name": "stderr",
     "output_type": "stream",
     "text": [
      " 22%|██▏       | 73/329 [03:19<14:21,  3.37s/it]"
     ]
    },
    {
     "name": "stdout",
     "output_type": "stream",
     "text": [
      "\n",
      "Elementos derivados adicionados ao vectorstore:\n",
      "- object: 'Pré-polímeros' (derivado de 'Líquido')\n",
      "- physical_effect: 'Aumento da resistência a tração' (derivado de 'Aumento da resistência à fadiga por flexão')\n",
      "Texto adicionado: O \"Comprimir\" é um Mecânico, que no Pré-polímeros causa Aumento da resistência a tração.\n"
     ]
    },
    {
     "name": "stderr",
     "output_type": "stream",
     "text": [
      " 23%|██▎       | 75/329 [03:26<14:33,  3.44s/it]"
     ]
    },
    {
     "name": "stdout",
     "output_type": "stream",
     "text": [
      "\n",
      "Elementos derivados adicionados ao vectorstore:\n",
      "- task: 'Preparar pão integral sem glúten' (derivado de 'Produzir')\n",
      "- object: 'Composição de pão integral sem glúten' (derivado de 'Sólido')\n",
      "- physical_effect: 'Processo de panificação' (derivado de 'Hot Isostatic Pressing')\n",
      "Texto adicionado: O \"Preparar pão integral sem glúten\" é um Produzir, que no Composição de pão integral sem glúten causa Processo de panificação.\n"
     ]
    },
    {
     "name": "stderr",
     "output_type": "stream",
     "text": [
      " 25%|██▍       | 81/329 [03:47<14:29,  3.51s/it]"
     ]
    },
    {
     "name": "stdout",
     "output_type": "stream",
     "text": [
      "\n",
      "Elementos derivados adicionados ao vectorstore:\n",
      "- kind_effect: 'Biodegradação' (derivado de 'Decompor')\n",
      "- physical_effect: 'Biodegradação de materiais compostos' (derivado de 'Biodestruição')\n",
      "Texto adicionado: O \"Criar material biodegradável\" é um Biodegradação, que no Recipiente biodegradável causa Biodegradação de materiais compostos.\n"
     ]
    },
    {
     "name": "stderr",
     "output_type": "stream",
     "text": [
      " 25%|██▍       | 82/329 [03:50<14:07,  3.43s/it]"
     ]
    },
    {
     "name": "stdout",
     "output_type": "stream",
     "text": [
      "\n",
      "Elementos derivados adicionados ao vectorstore:\n",
      "- physical_effect: 'Conversão de beta-pineno para limoneno' (derivado de 'Conversão de álcoois para propano e/ou butano')\n",
      "Texto adicionado: O \"Produzir\" é um Catálise, que no Limoneno causa Conversão de beta-pineno para limoneno.\n"
     ]
    },
    {
     "name": "stderr",
     "output_type": "stream",
     "text": [
      " 25%|██▌       | 83/329 [03:54<14:06,  3.44s/it]"
     ]
    },
    {
     "name": "stdout",
     "output_type": "stream",
     "text": [
      "\n",
      "Elementos derivados adicionados ao vectorstore:\n",
      "- task: 'Monitorar condutividade' (derivado de 'Evaporar')\n",
      "Texto adicionado: O \"Monitorar condutividade\" é um Evaporar, que no Vinhaça causa Condução térmica.\n"
     ]
    },
    {
     "name": "stderr",
     "output_type": "stream",
     "text": [
      " 26%|██▋       | 87/329 [04:07<13:47,  3.42s/it]"
     ]
    },
    {
     "name": "stdout",
     "output_type": "stream",
     "text": [
      "\n",
      "Elementos derivados adicionados ao vectorstore:\n",
      "- task: 'Filtrar' (derivado de 'Detectar')\n",
      "Texto adicionado: O \"Filtrar\" é um Filtração, que no Líquido causa Filtração.\n"
     ]
    },
    {
     "name": "stderr",
     "output_type": "stream",
     "text": [
      " 28%|██▊       | 91/329 [04:21<14:25,  3.63s/it]"
     ]
    },
    {
     "name": "stdout",
     "output_type": "stream",
     "text": [
      "\n",
      "Elementos derivados adicionados ao vectorstore:\n",
      "- object: 'Filme biodegradável' (derivado de 'Recipiente biodegradável')\n",
      "Texto adicionado: O \"Criar material biodegradável\" é um Biodegradação, que no Filme biodegradável causa Biodegradação de materiais compostos.\n"
     ]
    },
    {
     "name": "stderr",
     "output_type": "stream",
     "text": [
      " 28%|██▊       | 92/329 [04:25<14:30,  3.67s/it]"
     ]
    },
    {
     "name": "stdout",
     "output_type": "stream",
     "text": [
      "\n",
      "Elementos derivados adicionados ao vectorstore:\n",
      "- kind_effect: 'Melhoria da lubricidade' (derivado de 'Lubrificação Acústica')\n",
      "- task: 'Melhorar a lubricidade' (derivado de 'Comprimir')\n",
      "- physical_effect: 'Aumento da lubricidade' (derivado de 'Lubrificação Acústica')\n",
      "Texto adicionado: O \"Melhorar a lubricidade\" é um Melhoria da lubricidade, que no Composição de combustível causa Aumento da lubricidade.\n"
     ]
    },
    {
     "name": "stderr",
     "output_type": "stream",
     "text": [
      " 28%|██▊       | 93/329 [04:28<14:00,  3.56s/it]"
     ]
    },
    {
     "name": "stdout",
     "output_type": "stream",
     "text": [
      "\n",
      "Elementos derivados adicionados ao vectorstore:\n",
      "- physical_effect: 'Adesivo estrutural' (derivado de 'Adesivo')\n",
      "Texto adicionado: O \"Juntar\" é um Adesivo, que no Sólido causa Adesivo estrutural.\n"
     ]
    },
    {
     "name": "stderr",
     "output_type": "stream",
     "text": [
      " 29%|██▉       | 95/329 [04:35<13:24,  3.44s/it]"
     ]
    },
    {
     "name": "stdout",
     "output_type": "stream",
     "text": [
      "\n",
      "Elementos derivados adicionados ao vectorstore:\n",
      "- task: 'Retomar conexão' (derivado de 'Determinação de potências recebidas')\n",
      "- object: 'Equipamento de Usuário (UE)' (derivado de 'Dispositivo Terminal')\n",
      "Texto adicionado: O \"Retomar conexão\" é um Medição de Sinal, que no Equipamento de Usuário (UE) causa Processamento de comunicação.\n"
     ]
    },
    {
     "name": "stderr",
     "output_type": "stream",
     "text": [
      " 29%|██▉       | 97/329 [04:42<13:30,  3.49s/it]"
     ]
    },
    {
     "name": "stdout",
     "output_type": "stream",
     "text": [
      "\n",
      "Elementos derivados adicionados ao vectorstore:\n",
      "- object: 'Bocal de plugues elétricos' (derivado de 'Plataforma de estação de equipamentos')\n",
      "Texto adicionado: O \"Fixar\" é um Mecânico, que no Bocal de plugues elétricos causa Eixo (mecânica).\n"
     ]
    },
    {
     "name": "stderr",
     "output_type": "stream",
     "text": [
      " 30%|███       | 99/329 [04:51<16:27,  4.29s/it]"
     ]
    },
    {
     "name": "stdout",
     "output_type": "stream",
     "text": [
      "\n",
      "Elementos derivados adicionados ao vectorstore:\n",
      "- task: 'Receber mensagens de alerta' (derivado de 'Medição de Sinal')\n",
      "Texto adicionado: O \"Receber mensagens de alerta\" é um Medição de Sinal, que no Equipamento de Usuário causa Processamento de comunicação.\n"
     ]
    },
    {
     "name": "stderr",
     "output_type": "stream",
     "text": [
      " 30%|███       | 100/329 [04:53<13:12,  3.46s/it]"
     ]
    },
    {
     "name": "stdout",
     "output_type": "stream",
     "text": [
      "\n",
      "Elementos derivados adicionados ao vectorstore:\n",
      "- task: 'Perfuração' (derivado de 'Apertar')\n",
      "- physical_effect: 'Criação de Orifício' (derivado de 'Orifício')\n",
      "Texto adicionado: O \"Perfuração\" é um Mecânico, que no Cápsula causa Criação de Orifício.\n"
     ]
    },
    {
     "name": "stderr",
     "output_type": "stream",
     "text": [
      " 31%|███       | 101/329 [04:57<14:04,  3.70s/it]"
     ]
    },
    {
     "name": "stdout",
     "output_type": "stream",
     "text": [
      "\n",
      "Elementos derivados adicionados ao vectorstore:\n",
      "- object: 'Dispositivo de corte de cabelos ou pelos' (derivado de 'Líquido')\n",
      "Texto adicionado: O \"Segurar\" é um Mecânico, que no Dispositivo de corte de cabelos ou pelos causa Pente.\n"
     ]
    },
    {
     "name": "stderr",
     "output_type": "stream",
     "text": [
      " 31%|███       | 102/329 [05:01<14:58,  3.96s/it]"
     ]
    },
    {
     "name": "stdout",
     "output_type": "stream",
     "text": [
      "\n",
      "Elementos derivados adicionados ao vectorstore:\n",
      "- task: 'Manipular configuração de grupo de células' (derivado de 'Processamento de comunicação')\n",
      "Texto adicionado: O \"Manipular configuração de grupo de células\" é um Medição de Sinal, que no Equipamento de Usuário causa Determinação de potências recebidas.\n"
     ]
    },
    {
     "name": "stderr",
     "output_type": "stream",
     "text": [
      " 32%|███▏      | 106/329 [05:16<14:19,  3.85s/it]"
     ]
    },
    {
     "name": "stdout",
     "output_type": "stream",
     "text": [
      "\n",
      "Elementos derivados adicionados ao vectorstore:\n",
      "- physical_effect: 'Reconhecimento de padrões espectrais' (derivado de 'Processamento digital de imagem')\n",
      "Texto adicionado: O \"Detectar\" é um Processamento digital de imagem, que no Objeto causa Reconhecimento de padrões espectrais.\n"
     ]
    },
    {
     "name": "stderr",
     "output_type": "stream",
     "text": [
      " 33%|███▎      | 108/329 [05:22<13:41,  3.72s/it]"
     ]
    },
    {
     "name": "stdout",
     "output_type": "stream",
     "text": [
      "\n",
      "Elementos derivados adicionados ao vectorstore:\n",
      "- task: 'Restaurar tecido' (derivado de 'Desmembrar')\n",
      "- object: 'Tecido' (derivado de 'Líquido')\n",
      "- physical_effect: 'Aplicação de fármaco' (derivado de 'Extração com fluido supercrítico')\n",
      "Texto adicionado: O \"Restaurar tecido\" é um Mecânico, que no Tecido causa Aplicação de fármaco.\n"
     ]
    },
    {
     "name": "stderr",
     "output_type": "stream",
     "text": [
      " 33%|███▎      | 109/329 [05:28<15:54,  4.34s/it]"
     ]
    },
    {
     "name": "stdout",
     "output_type": "stream",
     "text": [
      "\n",
      "Elementos derivados adicionados ao vectorstore:\n",
      "- task: 'Detectar condição de superfície' (derivado de 'Detectar')\n",
      "- object: 'Solo' (derivado de 'Sólido')\n",
      "Texto adicionado: O \"Detectar condição de superfície\" é um Detectar, que no Solo causa Onda acústica de superfície.\n"
     ]
    },
    {
     "name": "stderr",
     "output_type": "stream",
     "text": [
      " 34%|███▎      | 111/329 [05:34<13:26,  3.70s/it]"
     ]
    },
    {
     "name": "stdout",
     "output_type": "stream",
     "text": [
      "\n",
      "Elementos derivados adicionados ao vectorstore:\n",
      "- kind_effect: 'Erosão' (derivado de 'Jet Erosion')\n",
      "Texto adicionado: O \"Proteger contra desgaste\" é um Erosão, que no Tampas de desgaste causa Desgaste por abrasão.\n"
     ]
    },
    {
     "name": "stderr",
     "output_type": "stream",
     "text": [
      " 34%|███▍      | 112/329 [05:43<19:01,  5.26s/it]"
     ]
    },
    {
     "name": "stdout",
     "output_type": "stream",
     "text": [
      "\n",
      "Elementos derivados adicionados ao vectorstore:\n",
      "- task: 'Injetar' (derivado de 'Comprimir')\n",
      "- object: 'Fluido' (derivado de 'Líquido')\n",
      "Texto adicionado: O \"Injetar\" é um Prevenir, que no Fluido causa Válvula (tubulação).\n"
     ]
    },
    {
     "name": "stderr",
     "output_type": "stream",
     "text": [
      " 35%|███▍      | 114/329 [05:44<10:30,  2.93s/it]"
     ]
    },
    {
     "name": "stdout",
     "output_type": "stream",
     "text": [
      "\n",
      "Elementos derivados adicionados ao vectorstore:\n",
      "- task: 'Monitorar encostas' (derivado de 'Detectar')\n",
      "- object: 'Solo' (derivado de 'Sólido')\n",
      "Texto adicionado: O \"Monitorar encostas\" é um Medição de Sinal, que no Solo causa Emissão de ondas eletromagnéticas.\n"
     ]
    },
    {
     "name": "stderr",
     "output_type": "stream",
     "text": [
      " 35%|███▍      | 115/329 [05:47<11:00,  3.09s/it]"
     ]
    },
    {
     "name": "stdout",
     "output_type": "stream",
     "text": [
      "\n",
      "Elementos derivados adicionados ao vectorstore:\n",
      "- kind_effect: 'Segmentação' (derivado de 'Difração')\n",
      "- physical_effect: 'Segmentação' (derivado de 'Difração')\n",
      "Texto adicionado: O \"Desmembrar\" é um Segmentação, que no Stent causa Segmentação.\n"
     ]
    },
    {
     "name": "stderr",
     "output_type": "stream",
     "text": [
      " 36%|███▌      | 117/329 [05:54<11:52,  3.36s/it]"
     ]
    },
    {
     "name": "stdout",
     "output_type": "stream",
     "text": [
      "\n",
      "Elementos derivados adicionados ao vectorstore:\n",
      "- task: 'Descontaminar e eliminar materiais' (derivado de 'Desmembrar')\n",
      "- object: 'Materiais problemáticos, sintéticos, biogênicos e biológicos' (derivado de 'Sólido')\n",
      "Texto adicionado: O \"Descontaminar e eliminar materiais\" é um Mecânico, que no Materiais problemáticos, sintéticos, biogênicos e biológicos causa Processo mecanoquímico.\n"
     ]
    },
    {
     "name": "stderr",
     "output_type": "stream",
     "text": [
      " 37%|███▋      | 121/329 [06:15<12:55,  3.73s/it]"
     ]
    },
    {
     "name": "stdout",
     "output_type": "stream",
     "text": [
      "\n",
      "Elementos derivados adicionados ao vectorstore:\n",
      "- task: 'Detecção de moléculas' (derivado de 'Detectar')\n",
      "Texto adicionado: O \"Detecção de moléculas\" é um Detectar, que no Ácido nucleico causa Fluorescência aumentada.\n"
     ]
    },
    {
     "name": "stderr",
     "output_type": "stream",
     "text": [
      " 37%|███▋      | 122/329 [06:19<13:45,  3.99s/it]"
     ]
    },
    {
     "name": "stdout",
     "output_type": "stream",
     "text": [
      "\n",
      "Elementos derivados adicionados ao vectorstore:\n",
      "- kind_effect: 'Ligação molecular' (derivado de 'Fluorescência aumentada')\n",
      "- object: 'Proteína CALR mutante clivada' (derivado de 'Ácido nucleico')\n",
      "- physical_effect: 'Ligação de anticorpo' (derivado de 'Marcador radioativo')\n",
      "Texto adicionado: O \"Detectar\" é um Ligação molecular, que no Proteína CALR mutante clivada causa Ligação de anticorpo.\n"
     ]
    },
    {
     "name": "stderr",
     "output_type": "stream",
     "text": [
      " 38%|███▊      | 126/329 [06:32<11:37,  3.44s/it]"
     ]
    },
    {
     "name": "stdout",
     "output_type": "stream",
     "text": [
      "\n",
      "Elementos derivados adicionados ao vectorstore:\n",
      "- task: 'Congelar sobremesas' (derivado de 'Congelar')\n",
      "- object: 'Óleo e gordura para sobremesa congelada' (derivado de 'Líquido')\n",
      "- physical_effect: 'Coprecipitação' (derivado de 'Coprecipitação')\n",
      "Texto adicionado: O \"Congelar sobremesas\" é um Congelar, que no Óleo e gordura para sobremesa congelada causa Coprecipitação.\n"
     ]
    },
    {
     "name": "stderr",
     "output_type": "stream",
     "text": [
      " 39%|███▊      | 127/329 [06:34<10:53,  3.23s/it]"
     ]
    },
    {
     "name": "stdout",
     "output_type": "stream",
     "text": [
      "\n",
      "Elementos derivados adicionados ao vectorstore:\n",
      "- task: 'Misturar substâncias' (derivado de 'Misturar')\n",
      "- object: 'Fluidos' (derivado de 'Líquido')\n",
      "Texto adicionado: O \"Misturar substâncias\" é um Misturar, que no Fluidos causa Electromagnetic Stirring.\n"
     ]
    },
    {
     "name": "stderr",
     "output_type": "stream",
     "text": [
      " 39%|███▉      | 128/329 [06:37<10:42,  3.20s/it]"
     ]
    },
    {
     "name": "stdout",
     "output_type": "stream",
     "text": [
      "\n",
      "Elementos derivados adicionados ao vectorstore:\n",
      "- object: 'Vagão ferroviário' (derivado de 'Sólido')\n",
      "Texto adicionado: O \"Girar\" é um Mecânico, que no Vagão ferroviário causa Turbina hidráulica.\n"
     ]
    },
    {
     "name": "stderr",
     "output_type": "stream",
     "text": [
      " 40%|███▉      | 131/329 [06:45<09:13,  2.79s/it]"
     ]
    },
    {
     "name": "stdout",
     "output_type": "stream",
     "text": [
      "\n",
      "Elementos derivados adicionados ao vectorstore:\n",
      "- task: 'Fabricação de gelo' (derivado de 'Congelar')\n",
      "- object: 'Recipiente flexível' (derivado de 'Líquido')\n",
      "Texto adicionado: O \"Fabricação de gelo\" é um Congelar, que no Recipiente flexível causa Gel.\n"
     ]
    },
    {
     "name": "stderr",
     "output_type": "stream",
     "text": [
      " 40%|████      | 132/329 [06:48<09:03,  2.76s/it]"
     ]
    },
    {
     "name": "stdout",
     "output_type": "stream",
     "text": [
      "\n",
      "Elementos derivados adicionados ao vectorstore:\n",
      "- kind_effect: 'Detecção' (derivado de 'Detectar')\n",
      "- task: 'Diagnosticar' (derivado de 'Detectar')\n",
      "- object: 'Tecido Adiposo Marrom e/ou Bege' (derivado de 'Líquido')\n",
      "- physical_effect: 'Tomografia Computadorizada' (derivado de 'Tomografia')\n",
      "Texto adicionado: O \"Diagnosticar\" é um Detecção, que no Tecido Adiposo Marrom e/ou Bege causa Tomografia Computadorizada.\n"
     ]
    },
    {
     "name": "stderr",
     "output_type": "stream",
     "text": [
      " 41%|████      | 134/329 [06:58<14:05,  4.33s/it]"
     ]
    },
    {
     "name": "stdout",
     "output_type": "stream",
     "text": [
      "\n",
      "Elementos derivados adicionados ao vectorstore:\n",
      "- task: 'Conectar' (derivado de 'Produzir')\n",
      "Texto adicionado: O \"Conectar\" é um Mecânico, que no Coluna de ascensão causa Conexão mecânica.\n"
     ]
    },
    {
     "name": "stderr",
     "output_type": "stream",
     "text": [
      " 43%|████▎     | 142/329 [07:24<11:08,  3.58s/it]"
     ]
    },
    {
     "name": "stdout",
     "output_type": "stream",
     "text": [
      "\n",
      "Elementos derivados adicionados ao vectorstore:\n",
      "- kind_effect: 'Pulverização' (derivado de 'Bico de pulverização')\n",
      "- task: 'Pulverizar' (derivado de 'Evaporar')\n",
      "- object: 'Produto químico líquido' (derivado de 'Líquido')\n",
      "- physical_effect: 'Deposição de vapor assistida por pulverização' (derivado de 'Deposição de vapor assistida por pulverização eletrostática')\n",
      "Texto adicionado: O \"Pulverizar\" é um Pulverização, que no Produto químico líquido causa Deposição de vapor assistida por pulverização.\n"
     ]
    },
    {
     "name": "stderr",
     "output_type": "stream",
     "text": [
      " 43%|████▎     | 143/329 [07:28<11:16,  3.64s/it]"
     ]
    },
    {
     "name": "stdout",
     "output_type": "stream",
     "text": [
      "\n",
      "Elementos derivados adicionados ao vectorstore:\n",
      "- object: 'Anticorpos anti-FCMR' (derivado de 'Proteína CALR mutante clivada')\n",
      "Texto adicionado: O \"Detectar\" é um Ligações moleculares, que no Anticorpos anti-FCMR causa Ligações de anticorpos.\n"
     ]
    },
    {
     "name": "stderr",
     "output_type": "stream",
     "text": [
      " 45%|████▍     | 148/329 [07:44<11:23,  3.78s/it]"
     ]
    },
    {
     "name": "stdout",
     "output_type": "stream",
     "text": [
      "\n",
      "Elementos derivados adicionados ao vectorstore:\n",
      "- kind_effect: 'Produção de biológicos' (derivado de 'Produção de compostos oxigenados')\n",
      "- task: 'Produzir biológicos' (derivado de 'Produzir')\n",
      "- object: 'Substância de fármaco' (derivado de 'Micro-organismos recombinantes')\n",
      "- physical_effect: 'Integração de processos' (derivado de 'Biossíntese de compostos oxigenados')\n",
      "Texto adicionado: O \"Produzir biológicos\" é um Produção de biológicos, que no Substância de fármaco causa Integração de processos.\n"
     ]
    },
    {
     "name": "stderr",
     "output_type": "stream",
     "text": [
      " 45%|████▌     | 149/329 [07:54<16:10,  5.39s/it]"
     ]
    },
    {
     "name": "stdout",
     "output_type": "stream",
     "text": [
      "\n",
      "Elementos derivados adicionados ao vectorstore:\n",
      "- task: 'Absorver radiação solar' (derivado de 'Absorver')\n",
      "- object: 'Camada absorvente' (derivado de 'Materiais refratários')\n",
      "- physical_effect: 'Armazenamento de energia térmica' (derivado de 'Thermal Energy Storage')\n",
      "Texto adicionado: O \"Absorver radiação solar\" é um Térmico, que no Camada absorvente causa Armazenamento de energia térmica.\n"
     ]
    },
    {
     "name": "stderr",
     "output_type": "stream",
     "text": [
      " 47%|████▋     | 153/329 [08:01<09:31,  3.25s/it]"
     ]
    },
    {
     "name": "stdout",
     "output_type": "stream",
     "text": [
      "\n",
      "Elementos derivados adicionados ao vectorstore:\n",
      "- task: 'Separar fluidos' (derivado de 'Separar')\n",
      "- object: 'Fluido' (derivado de 'Líquido')\n",
      "Texto adicionado: O \"Separar fluidos\" é um Separar, que no Fluido causa Válvula.\n"
     ]
    },
    {
     "name": "stderr",
     "output_type": "stream",
     "text": [
      " 47%|████▋     | 154/329 [08:03<08:25,  2.89s/it]"
     ]
    },
    {
     "name": "stdout",
     "output_type": "stream",
     "text": [
      "Erro no índice 3183: Invalid json output: I'm sorry, but I cannot determine the connection to the TRIZ framework based on the provided title and abstract. The information given is insufficient to identify a specific effect, task, object, or physical effect related to the TRIZ methodology.\n",
      "For troubleshooting, visit: https://python.langchain.com/docs/troubleshooting/errors/OUTPUT_PARSING_FAILURE \n",
      "Ret: kind_effect=TrizEffect(derived_from=None, effect='Separar') task=TrizTask(derived_from='Separar', task='Separar fluidos') object=TrizObject(derived_from='Líquido', object='Fluido') physical_effect=TrizPhysicalEffect(derived_from=None, physical_effect='Válvula')\n"
     ]
    },
    {
     "name": "stderr",
     "output_type": "stream",
     "text": [
      " 47%|████▋     | 156/329 [08:12<10:15,  3.56s/it]"
     ]
    },
    {
     "name": "stdout",
     "output_type": "stream",
     "text": [
      "\n",
      "Elementos derivados adicionados ao vectorstore:\n",
      "- task: 'Formar imagem por ressonância magnética' (derivado de 'Detectar')\n",
      "Texto adicionado: O \"Formar imagem por ressonância magnética\" é um Detectar, que no Sistema de formação de imagem por ressonância magnética causa Espectroscopia de ressonância paramagnética electrónica.\n"
     ]
    },
    {
     "name": "stderr",
     "output_type": "stream",
     "text": [
      " 48%|████▊     | 157/329 [08:17<11:33,  4.03s/it]"
     ]
    },
    {
     "name": "stdout",
     "output_type": "stream",
     "text": [
      "\n",
      "Elementos derivados adicionados ao vectorstore:\n",
      "- object: 'Combustível' (derivado de 'Líquido')\n",
      "Texto adicionado: O \"Absorver\" é um Filtração, que no Combustível causa Célula de combustível.\n"
     ]
    },
    {
     "name": "stderr",
     "output_type": "stream",
     "text": [
      " 48%|████▊     | 159/329 [08:23<10:02,  3.54s/it]"
     ]
    },
    {
     "name": "stdout",
     "output_type": "stream",
     "text": [
      "\n",
      "Elementos derivados adicionados ao vectorstore:\n",
      "- kind_effect: 'Produção de compostos biológicos' (derivado de 'Produção de compostos oxigenados')\n",
      "- task: 'Cultivar células' (derivado de 'Desmembrar')\n",
      "- object: 'Células primárias' (derivado de 'Micro-organismos recombinantes')\n",
      "- physical_effect: 'Amplificação de vírus' (derivado de 'Biossíntese de compostos oxigenados')\n",
      "Texto adicionado: O \"Cultivar células\" é um Produção de compostos biológicos, que no Células primárias causa Amplificação de vírus.\n"
     ]
    },
    {
     "name": "stderr",
     "output_type": "stream",
     "text": [
      " 49%|████▉     | 162/329 [08:32<09:54,  3.56s/it]"
     ]
    },
    {
     "name": "stdout",
     "output_type": "stream",
     "text": [
      "\n",
      "Elementos derivados adicionados ao vectorstore:\n",
      "- task: 'Renderizar imagens' (derivado de 'Detectar')\n",
      "- object: 'Imagem' (derivado de 'Imagem')\n",
      "Texto adicionado: O \"Renderizar imagens\" é um Processamento digital de imagem, que no Imagem causa Divisão e estruturação de imagem em metadados.\n"
     ]
    },
    {
     "name": "stderr",
     "output_type": "stream",
     "text": [
      " 50%|████▉     | 163/329 [08:35<09:22,  3.39s/it]"
     ]
    },
    {
     "name": "stdout",
     "output_type": "stream",
     "text": [
      "\n",
      "Elementos derivados adicionados ao vectorstore:\n",
      "- task: 'Expandir poliestireno' (derivado de 'Expandir')\n",
      "- physical_effect: 'Expansão de poliestireno' (derivado de 'Expandir')\n",
      "Texto adicionado: O \"Expandir poliestireno\" é um Expandir, que no Poliestireno causa Expansão de poliestireno.\n"
     ]
    },
    {
     "name": "stderr",
     "output_type": "stream",
     "text": [
      " 50%|█████     | 165/329 [08:43<09:48,  3.59s/it]"
     ]
    },
    {
     "name": "stdout",
     "output_type": "stream",
     "text": [
      "\n",
      "Elementos derivados adicionados ao vectorstore:\n",
      "- physical_effect: 'Processamento de comunicação' (derivado de 'Determinação de potências recebidas')\n",
      "Texto adicionado: O \"Determinação de potências recebidas\" é um Medição de Sinal, que no Equipamento de Usuário causa Processamento de comunicação.\n"
     ]
    },
    {
     "name": "stderr",
     "output_type": "stream",
     "text": [
      " 51%|█████     | 167/329 [08:50<09:42,  3.60s/it]"
     ]
    },
    {
     "name": "stdout",
     "output_type": "stream",
     "text": [
      "\n",
      "Elementos derivados adicionados ao vectorstore:\n",
      "- object: 'Anticorpos anti-TIGIT' (derivado de 'Anticorpos anti-FCMR')\n",
      "Texto adicionado: O \"Detectar\" é um Ligações moleculares, que no Anticorpos anti-TIGIT causa Ligações de anticorpos.\n"
     ]
    },
    {
     "name": "stderr",
     "output_type": "stream",
     "text": [
      " 51%|█████     | 168/329 [08:53<09:14,  3.44s/it]"
     ]
    },
    {
     "name": "stdout",
     "output_type": "stream",
     "text": [
      "\n",
      "Elementos derivados adicionados ao vectorstore:\n",
      "- physical_effect: 'Deposição de ácido de zinco eletrolítico' (derivado de 'Deposition (Electro-chemical)')\n",
      "Texto adicionado: O \"Proteger\" é um Deposition (Electro-chemical), que no Sólido causa Deposição de ácido de zinco eletrolítico.\n"
     ]
    },
    {
     "name": "stderr",
     "output_type": "stream",
     "text": [
      " 52%|█████▏    | 172/329 [09:11<10:01,  3.83s/it]"
     ]
    },
    {
     "name": "stdout",
     "output_type": "stream",
     "text": [
      "\n",
      "Elementos derivados adicionados ao vectorstore:\n",
      "- kind_effect: 'Produção de compostos de sabor' (derivado de 'Produção de compostos oxigenados')\n",
      "- task: 'Produzir ingrediente de modificação de sabor' (derivado de 'Produzir')\n",
      "- physical_effect: 'Hidrólise enzimática e fermentação' (derivado de 'Fermentação')\n",
      "Texto adicionado: O \"Produzir ingrediente de modificação de sabor\" é um Produção de compostos de sabor, que no Fibra dietética causa Hidrólise enzimática e fermentação.\n"
     ]
    },
    {
     "name": "stderr",
     "output_type": "stream",
     "text": [
      " 53%|█████▎    | 175/329 [09:18<07:46,  3.03s/it]"
     ]
    },
    {
     "name": "stdout",
     "output_type": "stream",
     "text": [
      "\n",
      "Elementos derivados adicionados ao vectorstore:\n",
      "- task: 'Controlar a inclinação' (derivado de 'Orientar')\n",
      "Texto adicionado: O \"Controlar a inclinação\" é um Mecânico, que no Veículo causa Transferência de fluido.\n"
     ]
    },
    {
     "name": "stderr",
     "output_type": "stream",
     "text": [
      " 53%|█████▎    | 176/329 [09:22<08:00,  3.14s/it]"
     ]
    },
    {
     "name": "stdout",
     "output_type": "stream",
     "text": [
      "\n",
      "Elementos derivados adicionados ao vectorstore:\n",
      "- kind_effect: 'Detecção de moléculas' (derivado de 'Detectar')\n",
      "Texto adicionado: O \"Detectar\" é um Detecção de moléculas, que no Ácido nucleico causa Fluorescência aumentada.\n"
     ]
    },
    {
     "name": "stderr",
     "output_type": "stream",
     "text": [
      " 55%|█████▌    | 181/329 [09:38<08:33,  3.47s/it]"
     ]
    },
    {
     "name": "stdout",
     "output_type": "stream",
     "text": [
      "\n",
      "Elementos derivados adicionados ao vectorstore:\n",
      "- task: 'Configurar grupamento e relação espacial' (derivado de 'Determinação de potências recebidas')\n",
      "- physical_effect: 'Configuração de relação espacial' (derivado de 'Determinação de potências recebidas')\n",
      "Texto adicionado: O \"Configurar grupamento e relação espacial\" é um Medição de Sinal, que no Equipamento de Usuário causa Configuração de relação espacial.\n"
     ]
    },
    {
     "name": "stderr",
     "output_type": "stream",
     "text": [
      " 56%|█████▌    | 185/329 [09:52<08:12,  3.42s/it]"
     ]
    },
    {
     "name": "stdout",
     "output_type": "stream",
     "text": [
      "Erro no índice 1902: Invalid json output: I'm sorry, but I cannot determine a connection to the TRIZ framework based on the provided patent information. The context and elements described do not align with the existing TRIZ database or its principles.\n",
      "For troubleshooting, visit: https://python.langchain.com/docs/troubleshooting/errors/OUTPUT_PARSING_FAILURE \n",
      "Ret: kind_effect=TrizEffect(derived_from=None, effect='Mecânico') task=TrizTask(derived_from=None, task='Fixar') object=TrizObject(derived_from=None, object='Plataforma de estação de equipamentos') physical_effect=TrizPhysicalEffect(derived_from=None, physical_effect='Eixo (mecânica)')\n"
     ]
    },
    {
     "name": "stderr",
     "output_type": "stream",
     "text": [
      " 57%|█████▋    | 188/329 [10:02<07:31,  3.21s/it]"
     ]
    },
    {
     "name": "stdout",
     "output_type": "stream",
     "text": [
      "Erro no índice 3216: Invalid json output: Não tenho informações suficientes para conectar a patente \"NANOATIVO DE PRATA: INSUMO QUÍMICO PARA A INDÚSTRIA DE TRANSFORMAÇÃO\" a uma relação específica na base TRIZ, pois o resumo fornecido não contém detalhes suficientes sobre o efeito, tarefa, objeto ou efeito físico envolvidos.\n",
      "For troubleshooting, visit: https://python.langchain.com/docs/troubleshooting/errors/OUTPUT_PARSING_FAILURE \n",
      "Ret: kind_effect=TrizEffect(derived_from=None, effect='Processamento digital de imagem') task=TrizTask(derived_from=None, task='Detectar') object=TrizObject(derived_from=None, object='Sólido dividido') physical_effect=TrizPhysicalEffect(derived_from=None, physical_effect='Matriz de Halbach')\n"
     ]
    },
    {
     "name": "stderr",
     "output_type": "stream",
     "text": [
      " 58%|█████▊    | 190/329 [10:09<08:20,  3.60s/it]"
     ]
    },
    {
     "name": "stdout",
     "output_type": "stream",
     "text": [
      "\n",
      "Elementos derivados adicionados ao vectorstore:\n",
      "- task: 'Codificar vídeo' (derivado de 'Detectar')\n",
      "Texto adicionado: O \"Codificar vídeo\" é um Processamento digital de imagem, que no Imagem causa Divisão e estruturação de imagem em metadados.\n"
     ]
    },
    {
     "name": "stderr",
     "output_type": "stream",
     "text": [
      " 58%|█████▊    | 191/329 [10:13<08:24,  3.66s/it]"
     ]
    },
    {
     "name": "stdout",
     "output_type": "stream",
     "text": [
      "\n",
      "Elementos derivados adicionados ao vectorstore:\n",
      "- object: 'Interface de comunicação' (derivado de 'Campo')\n",
      "Texto adicionado: O \"Segurar\" é um Processamento digital de imagem, que no Interface de comunicação causa Parallel Junction.\n"
     ]
    },
    {
     "name": "stderr",
     "output_type": "stream",
     "text": [
      " 59%|█████▊    | 193/329 [10:20<08:15,  3.64s/it]"
     ]
    },
    {
     "name": "stdout",
     "output_type": "stream",
     "text": [
      "\n",
      "Elementos derivados adicionados ao vectorstore:\n",
      "- task: 'Gerenciar Mobilidade Intercelular' (derivado de 'Determinação de potências recebidas')\n",
      "Texto adicionado: O \"Gerenciar Mobilidade Intercelular\" é um Medição de Sinal, que no Equipamento de Usuário causa Processamento de comunicação.\n"
     ]
    },
    {
     "name": "stderr",
     "output_type": "stream",
     "text": [
      " 59%|█████▉    | 195/329 [10:25<06:57,  3.12s/it]"
     ]
    },
    {
     "name": "stdout",
     "output_type": "stream",
     "text": [
      "Erro no índice 3294: Invalid json output: Não sei como conectar a patente \"VACINA DE MRNA\" a uma relação na TRIZ com base nas informações fornecidas.\n",
      "For troubleshooting, visit: https://python.langchain.com/docs/troubleshooting/errors/OUTPUT_PARSING_FAILURE \n",
      "Ret: kind_effect=TrizEffect(derived_from=None, effect='Mecânico') task=TrizTask(derived_from=None, task='Bombear') object=TrizObject(derived_from=None, object='Sólido dividido') physical_effect=TrizPhysicalEffect(derived_from=None, physical_effect='Bomba hidráulica')\n"
     ]
    },
    {
     "name": "stderr",
     "output_type": "stream",
     "text": [
      " 60%|██████    | 199/329 [10:43<09:40,  4.47s/it]"
     ]
    },
    {
     "name": "stdout",
     "output_type": "stream",
     "text": [
      "\n",
      "Elementos derivados adicionados ao vectorstore:\n",
      "- kind_effect: 'Eletricidade Friccional' (derivado de 'Frictional Electricity')\n",
      "- physical_effect: 'Conversão de Energia Termiônica' (derivado de 'Thermionic Energy Conversion')\n",
      "Texto adicionado: O \"Produzir\" é um Eletricidade Friccional, que no Núcleo Ferroelétrico causa Conversão de Energia Termiônica.\n"
     ]
    },
    {
     "name": "stderr",
     "output_type": "stream",
     "text": [
      " 61%|██████    | 200/329 [10:46<08:26,  3.93s/it]"
     ]
    },
    {
     "name": "stdout",
     "output_type": "stream",
     "text": [
      "\n",
      "Elementos derivados adicionados ao vectorstore:\n",
      "- physical_effect: 'Variação em impedância como função da frequência' (derivado de 'Electrical Impedance Tomography')\n",
      "Texto adicionado: O \"Remover cimento ósseo\" é um Mecânico, que no Dispositivo ultrassônico causa Variação em impedância como função da frequência.\n"
     ]
    },
    {
     "name": "stderr",
     "output_type": "stream",
     "text": [
      " 61%|██████    | 201/329 [10:48<07:05,  3.32s/it]"
     ]
    },
    {
     "name": "stdout",
     "output_type": "stream",
     "text": [
      "Erro no índice 1003: Invalid json output: I'm sorry, but I cannot determine a connection to the TRIZ framework based on the provided information.\n",
      "For troubleshooting, visit: https://python.langchain.com/docs/troubleshooting/errors/OUTPUT_PARSING_FAILURE \n",
      "Ret: kind_effect=TrizEffect(derived_from=None, effect='Mecânico') task=TrizTask(derived_from=None, task='Remover cimento ósseo') object=TrizObject(derived_from=None, object='Dispositivo ultrassônico') physical_effect=TrizPhysicalEffect(derived_from='Electrical Impedance Tomography', physical_effect='Variação em impedância como função da frequência')\n"
     ]
    },
    {
     "name": "stderr",
     "output_type": "stream",
     "text": [
      " 63%|██████▎   | 206/329 [11:11<10:42,  5.23s/it]"
     ]
    },
    {
     "name": "stdout",
     "output_type": "stream",
     "text": [
      "\n",
      "Elementos derivados adicionados ao vectorstore:\n",
      "- task: 'Controlar a exposição à luz' (derivado de 'Produzir')\n",
      "Texto adicionado: O \"Controlar a exposição à luz\" é um Óptico, que no Organismo causa Modulação da luz.\n"
     ]
    },
    {
     "name": "stderr",
     "output_type": "stream",
     "text": [
      " 63%|██████▎   | 208/329 [11:18<09:03,  4.49s/it]"
     ]
    },
    {
     "name": "stdout",
     "output_type": "stream",
     "text": [
      "\n",
      "Elementos derivados adicionados ao vectorstore:\n",
      "- physical_effect: 'Formação de invólucro' (derivado de 'Embalagem à vácuo')\n",
      "Texto adicionado: O \"Embalagem à vácuo\" é um Proteger, que no Agulhas causa Formação de invólucro.\n"
     ]
    },
    {
     "name": "stderr",
     "output_type": "stream",
     "text": [
      " 64%|██████▎   | 209/329 [11:22<08:33,  4.28s/it]"
     ]
    },
    {
     "name": "stdout",
     "output_type": "stream",
     "text": [
      "\n",
      "Elementos derivados adicionados ao vectorstore:\n",
      "- task: 'Desenvolver composto de coordenação' (derivado de 'Concentrar')\n",
      "Texto adicionado: O \"Desenvolver composto de coordenação\" é um Químico, que no Rutênio(III) causa Atividade antitumoral.\n",
      "\n",
      "Elementos derivados adicionados ao vectorstore:\n",
      "- task: 'Envelopar' (derivado de 'Segurar')\n",
      "- object: 'Elemento multilaminado' (derivado de 'Sólido dividido')\n",
      "- physical_effect: 'Aumento da resistência à torção' (derivado de 'Aumento da resistência à tração')\n",
      "Texto adicionado: O \"Envelopar\" é um Reforço estrutural, que no Elemento multilaminado causa Aumento da resistência à torção.\n"
     ]
    },
    {
     "name": "stderr",
     "output_type": "stream",
     "text": [
      " 65%|██████▌   | 214/329 [11:39<08:27,  4.41s/it]"
     ]
    },
    {
     "name": "stdout",
     "output_type": "stream",
     "text": [
      "\n",
      "Elementos derivados adicionados ao vectorstore:\n",
      "- task: 'Agendar recurso' (derivado de 'Receber mensagens de alerta')\n",
      "- object: 'Meio de armazenamento legível por computador' (derivado de 'Equipamento de Usuário')\n",
      "Texto adicionado: O \"Agendar recurso\" é um Processamento de comunicação, que no Meio de armazenamento legível por computador causa Intercalação de canais.\n"
     ]
    },
    {
     "name": "stderr",
     "output_type": "stream",
     "text": [
      " 66%|██████▌   | 216/329 [11:41<05:44,  3.05s/it]"
     ]
    },
    {
     "name": "stdout",
     "output_type": "stream",
     "text": [
      "\n",
      "Elementos derivados adicionados ao vectorstore:\n",
      "- object: 'Corrente de esteira' (derivado de 'Vagão ferroviário')\n",
      "- physical_effect: 'Rotação de bucha' (derivado de 'Turbina hidráulica')\n",
      "Texto adicionado: O \"Girar\" é um Mecânico, que no Corrente de esteira causa Rotação de bucha.\n"
     ]
    },
    {
     "name": "stderr",
     "output_type": "stream",
     "text": [
      " 66%|██████▌   | 217/329 [11:44<05:54,  3.17s/it]"
     ]
    },
    {
     "name": "stdout",
     "output_type": "stream",
     "text": [
      "\n",
      "Elementos derivados adicionados ao vectorstore:\n",
      "- task: 'Metanizar efluentes líquidos' (derivado de 'Produzir compostos oxigenados a partir de hexoses')\n",
      "- object: 'Substrato de cultura' (derivado de 'Recipiente biodegradável')\n",
      "- physical_effect: 'Metanização' (derivado de 'Biossíntese de compostos oxigenados')\n",
      "Texto adicionado: O \"Metanizar efluentes líquidos\" é um Biodegradação, que no Substrato de cultura causa Metanização.\n"
     ]
    },
    {
     "name": "stderr",
     "output_type": "stream",
     "text": [
      " 67%|██████▋   | 219/329 [11:48<04:40,  2.55s/it]"
     ]
    },
    {
     "name": "stdout",
     "output_type": "stream",
     "text": [
      "Erro no índice 1064: Invalid json output: I'm sorry, but I cannot determine a suitable TRIZ relationship for the given patent based on the provided context.\n",
      "For troubleshooting, visit: https://python.langchain.com/docs/troubleshooting/errors/OUTPUT_PARSING_FAILURE \n",
      "Ret: kind_effect=TrizEffect(derived_from=None, effect='Químico') task=TrizTask(derived_from=None, task='Tratar') object=TrizObject(derived_from=None, object='Óleo essencial de Cymbopogon winterianus') physical_effect=TrizPhysicalEffect(derived_from=None, physical_effect='Redução da fibrose pulmonar')\n"
     ]
    },
    {
     "name": "stderr",
     "output_type": "stream",
     "text": [
      " 67%|██████▋   | 222/329 [12:03<07:22,  4.14s/it]"
     ]
    },
    {
     "name": "stdout",
     "output_type": "stream",
     "text": [
      "\n",
      "Elementos derivados adicionados ao vectorstore:\n",
      "- task: 'Produzir composto heterocíclico' (derivado de 'Produzir ingrediente de modificação de sabor')\n",
      "Texto adicionado: O \"Produzir composto heterocíclico\" é um Químico, que no Composto heterocíclico causa Prevenção ou tratamento de doença.\n"
     ]
    },
    {
     "name": "stderr",
     "output_type": "stream",
     "text": [
      " 68%|██████▊   | 224/329 [12:10<06:27,  3.69s/it]"
     ]
    },
    {
     "name": "stdout",
     "output_type": "stream",
     "text": [
      "\n",
      "Elementos derivados adicionados ao vectorstore:\n",
      "- kind_effect: 'Segurança de Informação' (derivado de 'Processamento digital de imagem')\n",
      "- task: 'Controlar Segurança' (derivado de 'Gerenciar Mobilidade Intercelular')\n",
      "- object: 'Página da Web' (derivado de 'Interface de comunicação')\n",
      "- physical_effect: 'Verificação de Segurança' (derivado de 'Processamento de comunicação')\n",
      "Texto adicionado: O \"Controlar Segurança\" é um Segurança de Informação, que no Página da Web causa Verificação de Segurança.\n"
     ]
    },
    {
     "name": "stderr",
     "output_type": "stream",
     "text": [
      " 68%|██████▊   | 225/329 [12:13<06:15,  3.62s/it]"
     ]
    },
    {
     "name": "stdout",
     "output_type": "stream",
     "text": [
      "\n",
      "Elementos derivados adicionados ao vectorstore:\n",
      "- object: 'Biodiesel' (derivado de 'Pesticidas')\n",
      "Texto adicionado: O \"Misturar\" é um Substância aglutinante, que no Biodiesel causa Substância aglutinante.\n"
     ]
    },
    {
     "name": "stderr",
     "output_type": "stream",
     "text": [
      " 69%|██████▊   | 226/329 [12:16<05:41,  3.32s/it]"
     ]
    },
    {
     "name": "stdout",
     "output_type": "stream",
     "text": [
      "\n",
      "Elementos derivados adicionados ao vectorstore:\n",
      "- object: 'Tanque de imersão' (derivado de 'Líquido')\n",
      "Texto adicionado: O \"Limpar\" é um Aplicação, que no Tanque de imersão causa Extração com fluido supercrítico.\n"
     ]
    },
    {
     "name": "stderr",
     "output_type": "stream",
     "text": [
      " 69%|██████▉   | 228/329 [12:22<05:29,  3.26s/it]"
     ]
    },
    {
     "name": "stdout",
     "output_type": "stream",
     "text": [
      "\n",
      "Elementos derivados adicionados ao vectorstore:\n",
      "- task: 'Ajustar condutividade térmica' (derivado de 'Produzir')\n",
      "- object: 'Disco de freio' (derivado de 'Sólido')\n",
      "- physical_effect: 'Gradiente de condutividade térmica' (derivado de 'Thermo-diffusion')\n",
      "Texto adicionado: O \"Ajustar condutividade térmica\" é um Térmico, que no Disco de freio causa Gradiente de condutividade térmica.\n"
     ]
    },
    {
     "name": "stderr",
     "output_type": "stream",
     "text": [
      " 70%|██████▉   | 229/329 [12:25<05:22,  3.22s/it]"
     ]
    },
    {
     "name": "stdout",
     "output_type": "stream",
     "text": [
      "\n",
      "Elementos derivados adicionados ao vectorstore:\n",
      "- task: 'Formar suspensão' (derivado de 'Suspensão (química)')\n",
      "- object: 'Composição farmacêutica' (derivado de 'Líquido')\n",
      "Texto adicionado: O \"Formar suspensão\" é um Misturar, que no Composição farmacêutica causa Suspensão (química).\n"
     ]
    },
    {
     "name": "stderr",
     "output_type": "stream",
     "text": [
      " 70%|██████▉   | 230/329 [12:28<05:20,  3.24s/it]"
     ]
    },
    {
     "name": "stdout",
     "output_type": "stream",
     "text": [
      "\n",
      "Elementos derivados adicionados ao vectorstore:\n",
      "- kind_effect: 'Óptico' (derivado de 'Lente')\n",
      "- task: 'Corrigir perspectiva' (derivado de 'Detectar')\n",
      "- object: 'Imagem' (derivado de 'Lente')\n",
      "- physical_effect: 'Remapeamento de imagem' (derivado de 'Processamento digital de imagem')\n",
      "Texto adicionado: O \"Corrigir perspectiva\" é um Óptico, que no Imagem causa Remapeamento de imagem.\n"
     ]
    },
    {
     "name": "stderr",
     "output_type": "stream",
     "text": [
      " 71%|███████   | 232/329 [12:36<05:35,  3.46s/it]"
     ]
    },
    {
     "name": "stdout",
     "output_type": "stream",
     "text": [
      "\n",
      "Elementos derivados adicionados ao vectorstore:\n",
      "- object: 'Ar' (derivado de 'Líquido')\n",
      "Texto adicionado: O \"Evaporar\" é um Térmico, que no Ar causa Trocador de energia térmica.\n"
     ]
    },
    {
     "name": "stderr",
     "output_type": "stream",
     "text": [
      " 71%|███████   | 234/329 [12:43<05:47,  3.66s/it]"
     ]
    },
    {
     "name": "stdout",
     "output_type": "stream",
     "text": [
      "\n",
      "Elementos derivados adicionados ao vectorstore:\n",
      "- task: 'Configuração de relação espacial' (derivado de 'Configurar grupamento e relação espacial')\n",
      "- physical_effect: 'Configuração de conjunto de recursos de controle' (derivado de 'Configuração de relação espacial')\n",
      "Texto adicionado: O \"Configuração de relação espacial\" é um Medição de Sinal, que no Equipamento de Usuário causa Configuração de conjunto de recursos de controle.\n"
     ]
    },
    {
     "name": "stderr",
     "output_type": "stream",
     "text": [
      " 71%|███████▏  | 235/329 [12:47<06:00,  3.84s/it]"
     ]
    },
    {
     "name": "stdout",
     "output_type": "stream",
     "text": [
      "\n",
      "Elementos derivados adicionados ao vectorstore:\n",
      "- task: 'Gerar quadro protegido de erro' (derivado de 'Codificar vídeo')\n",
      "- object: 'Áudio' (derivado de 'Imagem')\n",
      "- physical_effect: 'Divisão e estruturação de dados em metadados' (derivado de 'Divisão e estruturação de imagem em metadados')\n",
      "Texto adicionado: O \"Gerar quadro protegido de erro\" é um Processamento de comunicação, que no Áudio causa Divisão e estruturação de dados em metadados.\n"
     ]
    },
    {
     "name": "stderr",
     "output_type": "stream",
     "text": [
      " 73%|███████▎  | 239/329 [13:01<05:38,  3.76s/it]"
     ]
    },
    {
     "name": "stdout",
     "output_type": "stream",
     "text": [
      "\n",
      "Elementos derivados adicionados ao vectorstore:\n",
      "- task: 'Articular' (derivado de 'Mover')\n",
      "- physical_effect: 'Movimento de rotação' (derivado de 'Movimento relativo')\n",
      "Texto adicionado: O \"Articular\" é um Mecânico, que no Maçaneta de porta causa Movimento de rotação.\n"
     ]
    },
    {
     "name": "stderr",
     "output_type": "stream",
     "text": [
      " 73%|███████▎  | 241/329 [13:09<05:45,  3.93s/it]"
     ]
    },
    {
     "name": "stdout",
     "output_type": "stream",
     "text": [
      "\n",
      "Elementos derivados adicionados ao vectorstore:\n",
      "- physical_effect: 'Deposição ultrassônica' (derivado de 'Deposição de vapor assistida por pulverização eletrostática')\n",
      "Texto adicionado: O \"Depositar\" é um Filme fino, que no Sólido causa Deposição ultrassônica.\n"
     ]
    },
    {
     "name": "stderr",
     "output_type": "stream",
     "text": [
      " 74%|███████▎  | 242/329 [13:13<05:35,  3.86s/it]"
     ]
    },
    {
     "name": "stdout",
     "output_type": "stream",
     "text": [
      "\n",
      "Elementos derivados adicionados ao vectorstore:\n",
      "- task: 'Determinar parâmetro de recebimento espacial' (derivado de 'Determinação de potências recebidas')\n",
      "Texto adicionado: O \"Determinar parâmetro de recebimento espacial\" é um Medição de Sinal, que no Terminal causa Processamento de comunicação.\n"
     ]
    },
    {
     "name": "stderr",
     "output_type": "stream",
     "text": [
      " 74%|███████▍  | 244/329 [13:24<07:04,  4.99s/it]"
     ]
    },
    {
     "name": "stdout",
     "output_type": "stream",
     "text": [
      "\n",
      "Elementos derivados adicionados ao vectorstore:\n",
      "- kind_effect: 'Desestabilização de compostos' (derivado de 'Desestabilização de óleos')\n",
      "- task: 'Remover sulfeto de hidrogênio' (derivado de 'Remover resíduos oleosos')\n",
      "Texto adicionado: O \"Remover sulfeto de hidrogênio\" é um Desestabilização de compostos, que no Composições sequestrantes causa Sequestro de sulfeto de hidrogênio.\n",
      "\n",
      "Elementos derivados adicionados ao vectorstore:\n",
      "- task: 'Inibir' (derivado de 'Desmembrar')\n",
      "- object: 'Derivado de pirazina' (derivado de 'Sólido')\n",
      "Texto adicionado: O \"Inibir\" é um Químico, que no Derivado de pirazina causa Inibição de SHP2.\n"
     ]
    },
    {
     "name": "stderr",
     "output_type": "stream",
     "text": [
      " 75%|███████▌  | 247/329 [13:26<03:33,  2.60s/it]"
     ]
    },
    {
     "name": "stdout",
     "output_type": "stream",
     "text": [
      "Erro no índice 1553: Invalid json output: I'm sorry, but I cannot determine a suitable TRIZ relationship for the given patent based on the provided context.\n",
      "For troubleshooting, visit: https://python.langchain.com/docs/troubleshooting/errors/OUTPUT_PARSING_FAILURE \n",
      "Ret: kind_effect=TrizEffect(derived_from=None, effect='Químico') task=TrizTask(derived_from='Desmembrar', task='Inibir') object=TrizObject(derived_from='Sólido', object='Derivado de pirazina') physical_effect=TrizPhysicalEffect(derived_from=None, physical_effect='Inibição de SHP2')\n"
     ]
    },
    {
     "name": "stderr",
     "output_type": "stream",
     "text": [
      " 76%|███████▌  | 250/329 [13:38<04:19,  3.29s/it]"
     ]
    },
    {
     "name": "stdout",
     "output_type": "stream",
     "text": [
      "\n",
      "Elementos derivados adicionados ao vectorstore:\n",
      "- object: 'Junta aparafusada' (derivado de 'Plataforma de estação de equipamentos')\n",
      "Texto adicionado: O \"Fixar\" é um Mechanical Fastener, que no Junta aparafusada causa Eixo (mecânica).\n"
     ]
    },
    {
     "name": "stderr",
     "output_type": "stream",
     "text": [
      " 77%|███████▋  | 252/329 [13:44<04:11,  3.27s/it]"
     ]
    },
    {
     "name": "stdout",
     "output_type": "stream",
     "text": [
      "\n",
      "Elementos derivados adicionados ao vectorstore:\n",
      "- object: 'Dispositivo Eletrônico' (derivado de 'Campo')\n",
      "Texto adicionado: O \"Detectar\" é um Electromechanical Film, que no Dispositivo Eletrônico causa Electrical Impedance Tomography.\n"
     ]
    },
    {
     "name": "stderr",
     "output_type": "stream",
     "text": [
      " 78%|███████▊  | 256/329 [14:09<05:45,  4.74s/it]"
     ]
    },
    {
     "name": "stdout",
     "output_type": "stream",
     "text": [
      "\n",
      "Elementos derivados adicionados ao vectorstore:\n",
      "- task: 'Multiplicar fungos' (derivado de 'Produzir')\n",
      "- physical_effect: 'Multiplicação de fungos' (derivado de 'Produção fermentativa de carboidratos')\n",
      "Texto adicionado: O \"Multiplicar fungos\" é um Produzir, que no Fungos causa Multiplicação de fungos.\n"
     ]
    },
    {
     "name": "stderr",
     "output_type": "stream",
     "text": [
      " 78%|███████▊  | 258/329 [14:16<04:48,  4.06s/it]"
     ]
    },
    {
     "name": "stdout",
     "output_type": "stream",
     "text": [
      "\n",
      "Elementos derivados adicionados ao vectorstore:\n",
      "- object: 'Superfície de tratamento' (derivado de 'Líquido')\n",
      "Texto adicionado: O \"Aquecer\" é um Térmico, que no Superfície de tratamento causa Trocador de energia térmica.\n"
     ]
    },
    {
     "name": "stderr",
     "output_type": "stream",
     "text": [
      " 79%|███████▉  | 261/329 [14:24<03:48,  3.36s/it]"
     ]
    },
    {
     "name": "stdout",
     "output_type": "stream",
     "text": [
      "\n",
      "Elementos derivados adicionados ao vectorstore:\n",
      "- kind_effect: 'Resfriamento' (derivado de 'Resfriamento')\n",
      "- physical_effect: 'Refrigeração magnética' (derivado de 'Refrigeração magnética')\n",
      "Texto adicionado: O \"Produzir\" é um Resfriamento, que no Sólido causa Refrigeração magnética.\n"
     ]
    },
    {
     "name": "stderr",
     "output_type": "stream",
     "text": [
      " 81%|████████  | 265/329 [14:35<03:08,  2.94s/it]"
     ]
    },
    {
     "name": "stdout",
     "output_type": "stream",
     "text": [
      "\n",
      "Elementos derivados adicionados ao vectorstore:\n",
      "- task: 'Pressurizar' (derivado de 'Comprimir')\n",
      "Texto adicionado: O \"Pressurizar\" é um Comprimir, que no Líquido causa Pressurização.\n"
     ]
    },
    {
     "name": "stderr",
     "output_type": "stream",
     "text": [
      " 81%|████████  | 267/329 [14:41<03:07,  3.02s/it]"
     ]
    },
    {
     "name": "stdout",
     "output_type": "stream",
     "text": [
      "\n",
      "Elementos derivados adicionados ao vectorstore:\n",
      "- task: 'Tratar doença' (derivado de 'Prevenção ou tratamento de doença')\n",
      "Texto adicionado: O \"Tratar doença\" é um Químico, que no Células cancerosas causa Redução de mutações ou anormalidades citogenéticas.\n"
     ]
    },
    {
     "name": "stderr",
     "output_type": "stream",
     "text": [
      " 82%|████████▏ | 269/329 [14:46<02:35,  2.59s/it]"
     ]
    },
    {
     "name": "stdout",
     "output_type": "stream",
     "text": [
      "\n",
      "Elementos derivados adicionados ao vectorstore:\n",
      "- task: 'Homogeneizar' (derivado de 'Pulverizar')\n",
      "- object: 'Calda' (derivado de 'Produto químico líquido')\n",
      "Texto adicionado: O \"Homogeneizar\" é um Pulverização, que no Calda causa Deposição de vapor assistida por pulverização.\n"
     ]
    },
    {
     "name": "stderr",
     "output_type": "stream",
     "text": [
      " 82%|████████▏ | 270/329 [14:49<02:40,  2.72s/it]"
     ]
    },
    {
     "name": "stdout",
     "output_type": "stream",
     "text": [
      "\n",
      "Elementos derivados adicionados ao vectorstore:\n",
      "- kind_effect: 'Redução de açúcar' (derivado de 'Produção de compostos de sabor')\n",
      "- task: 'Reduzir lactose' (derivado de 'Produção de compostos oxigenados')\n",
      "- object: 'Substrato à base de leite' (derivado de 'Substrato de cultura')\n",
      "Texto adicionado: O \"Reduzir lactose\" é um Redução de açúcar, que no Substrato à base de leite causa Hidrólise enzimática.\n"
     ]
    },
    {
     "name": "stderr",
     "output_type": "stream",
     "text": [
      " 83%|████████▎ | 272/329 [14:57<03:15,  3.43s/it]"
     ]
    },
    {
     "name": "stdout",
     "output_type": "stream",
     "text": [
      "\n",
      "Elementos derivados adicionados ao vectorstore:\n",
      "- kind_effect: 'Produção de metabólitos secundários' (derivado de 'Produção de compostos de sabor')\n",
      "- task: 'Estimular a produção de metabólitos secundários' (derivado de 'Produzir ingrediente de modificação de sabor')\n",
      "- physical_effect: 'Estimulação de produção de metabólitos' (derivado de 'Hidrólise enzimática e fermentação')\n",
      "Texto adicionado: O \"Estimular a produção de metabólitos secundários\" é um Produção de metabólitos secundários, que no Meio de cultura de tecidos vegetais causa Estimulação de produção de metabólitos.\n"
     ]
    },
    {
     "name": "stderr",
     "output_type": "stream",
     "text": [
      " 83%|████████▎ | 273/329 [15:00<03:06,  3.33s/it]"
     ]
    },
    {
     "name": "stdout",
     "output_type": "stream",
     "text": [
      "\n",
      "Elementos derivados adicionados ao vectorstore:\n",
      "- object: 'Cosmético' (derivado de 'Iogurte')\n",
      "Texto adicionado: O \"Extrair\" é um Enriquecimento nutricional, que no Cosmético causa Enriquecimento nutricional.\n"
     ]
    },
    {
     "name": "stderr",
     "output_type": "stream",
     "text": [
      " 83%|████████▎ | 274/329 [15:03<03:05,  3.37s/it]"
     ]
    },
    {
     "name": "stdout",
     "output_type": "stream",
     "text": [
      "\n",
      "Elementos derivados adicionados ao vectorstore:\n",
      "- object: 'Dispositivo de comunicação' (derivado de 'Dispositivo de Rede')\n",
      "Texto adicionado: O \"Processamento de comunicação\" é um Medição de Sinal, que no Dispositivo de comunicação causa Processamento de comunicação.\n"
     ]
    },
    {
     "name": "stderr",
     "output_type": "stream",
     "text": [
      " 84%|████████▍ | 276/329 [15:09<02:51,  3.24s/it]"
     ]
    },
    {
     "name": "stdout",
     "output_type": "stream",
     "text": [
      "\n",
      "Elementos derivados adicionados ao vectorstore:\n",
      "- object: 'Lithraea brasiliensis' (derivado de 'Rutênio(III)')\n",
      "- physical_effect: 'Atividade ectoparasiticida' (derivado de 'Atividade antitumoral')\n",
      "Texto adicionado: O \"Desenvolver composto de coordenação\" é um Químico, que no Lithraea brasiliensis causa Atividade ectoparasiticida.\n"
     ]
    },
    {
     "name": "stderr",
     "output_type": "stream",
     "text": [
      " 84%|████████▍ | 278/329 [15:15<02:37,  3.09s/it]"
     ]
    },
    {
     "name": "stdout",
     "output_type": "stream",
     "text": [
      "Erro no índice 2807: Invalid json output: I'm sorry, I cannot provide a response based on the given context and information.\n",
      "For troubleshooting, visit: https://python.langchain.com/docs/troubleshooting/errors/OUTPUT_PARSING_FAILURE \n",
      "Ret: kind_effect=TrizEffect(derived_from=None, effect='Inibição de biofilme') task=TrizTask(derived_from=None, task='Inibir ou reduzir biofilme') object=TrizObject(derived_from=None, object='Superfície de produção de petróleo') physical_effect=TrizPhysicalEffect(derived_from=None, physical_effect='Redução de biofilme')\n"
     ]
    },
    {
     "name": "stderr",
     "output_type": "stream",
     "text": [
      " 85%|████████▍ | 279/329 [15:20<03:01,  3.63s/it]"
     ]
    },
    {
     "name": "stdout",
     "output_type": "stream",
     "text": [
      "\n",
      "Elementos derivados adicionados ao vectorstore:\n",
      "- task: 'Trilhar' (derivado de 'Produzir')\n",
      "Texto adicionado: O \"Trilhar\" é um Mecânico, que no Grãos causa Separação de componentes.\n"
     ]
    },
    {
     "name": "stderr",
     "output_type": "stream",
     "text": [
      " 85%|████████▌ | 281/329 [15:28<03:02,  3.79s/it]"
     ]
    },
    {
     "name": "stdout",
     "output_type": "stream",
     "text": [
      "\n",
      "Elementos derivados adicionados ao vectorstore:\n",
      "- object: 'Sistema de medição de temperatura' (derivado de 'Termografia')\n",
      "- physical_effect: 'Medição de temperatura' (derivado de 'Termografia')\n",
      "Texto adicionado: O \"Detectar\" é um Térmico, que no Sistema de medição de temperatura causa Medição de temperatura.\n"
     ]
    },
    {
     "name": "stderr",
     "output_type": "stream",
     "text": [
      " 86%|████████▌ | 282/329 [15:31<02:40,  3.41s/it]"
     ]
    },
    {
     "name": "stdout",
     "output_type": "stream",
     "text": [
      "\n",
      "Elementos derivados adicionados ao vectorstore:\n",
      "- task: 'Prender' (derivado de 'Segurar')\n",
      "Texto adicionado: O \"Prender\" é um Mecânico, que no Bolsa causa Velcro.\n"
     ]
    },
    {
     "name": "stderr",
     "output_type": "stream",
     "text": [
      " 86%|████████▌ | 283/329 [15:33<02:19,  3.03s/it]"
     ]
    },
    {
     "name": "stdout",
     "output_type": "stream",
     "text": [
      "Erro no índice 2372: Invalid json output: I'm sorry, but I cannot provide a response based on the given context and information.\n",
      "For troubleshooting, visit: https://python.langchain.com/docs/troubleshooting/errors/OUTPUT_PARSING_FAILURE \n",
      "Ret: kind_effect=TrizEffect(derived_from=None, effect='Mecânico') task=TrizTask(derived_from='Segurar', task='Prender') object=TrizObject(derived_from=None, object='Bolsa') physical_effect=TrizPhysicalEffect(derived_from=None, physical_effect='Velcro')\n"
     ]
    },
    {
     "name": "stderr",
     "output_type": "stream",
     "text": [
      " 86%|████████▋ | 284/329 [15:36<02:20,  3.13s/it]"
     ]
    },
    {
     "name": "stdout",
     "output_type": "stream",
     "text": [
      "Erro no índice 3288: Invalid json output: Não tenho informações suficientes para conectar a patente \"PROCESSO PARA FABRICAR UMA SUSPENSÃO DE CÉLULAS LISADAS\" a uma relação na TRIZ com base nos dados fornecidos. O resumo da patente não foi fornecido, o que impede a análise detalhada necessária para identificar os elementos TRIZ relevantes.\n",
      "For troubleshooting, visit: https://python.langchain.com/docs/troubleshooting/errors/OUTPUT_PARSING_FAILURE \n",
      "Ret: kind_effect=TrizEffect(derived_from=None, effect='Mecânico') task=TrizTask(derived_from='Segurar', task='Prender') object=TrizObject(derived_from=None, object='Bolsa') physical_effect=TrizPhysicalEffect(derived_from=None, physical_effect='Velcro')\n"
     ]
    },
    {
     "name": "stderr",
     "output_type": "stream",
     "text": [
      " 87%|████████▋ | 285/329 [15:40<02:23,  3.26s/it]"
     ]
    },
    {
     "name": "stdout",
     "output_type": "stream",
     "text": [
      "\n",
      "Elementos derivados adicionados ao vectorstore:\n",
      "- kind_effect: 'Iluminação' (derivado de 'Fotoluminescência')\n",
      "- object: 'Esteira' (derivado de 'Sólido')\n",
      "Texto adicionado: O \"Emitir luz\" é um Iluminação, que no Esteira causa Controle de iluminação.\n"
     ]
    },
    {
     "name": "stderr",
     "output_type": "stream",
     "text": [
      " 87%|████████▋ | 287/329 [15:47<02:26,  3.49s/it]"
     ]
    },
    {
     "name": "stdout",
     "output_type": "stream",
     "text": [
      "\n",
      "Elementos derivados adicionados ao vectorstore:\n",
      "- object: 'Anticorpos anti-PD-1' (derivado de 'Anticorpos anti-FCMR')\n",
      "Texto adicionado: O \"Detectar\" é um Ligações moleculares, que no Anticorpos anti-PD-1 causa Ligações de anticorpos.\n"
     ]
    },
    {
     "name": "stderr",
     "output_type": "stream",
     "text": [
      " 88%|████████▊ | 289/329 [15:59<03:23,  5.09s/it]"
     ]
    },
    {
     "name": "stdout",
     "output_type": "stream",
     "text": [
      "\n",
      "Elementos derivados adicionados ao vectorstore:\n",
      "- object: 'Composto pirimidina' (derivado de 'Composto heterocíclico')\n",
      "Texto adicionado: O \"Desenvolver composto de coordenação\" é um Atividade antitumoral, que no Composto pirimidina causa Inibição da atividade de HER2.\n"
     ]
    },
    {
     "name": "stderr",
     "output_type": "stream",
     "text": [
      " 88%|████████▊ | 291/329 [16:02<02:12,  3.48s/it]"
     ]
    },
    {
     "name": "stdout",
     "output_type": "stream",
     "text": [
      "\n",
      "Elementos derivados adicionados ao vectorstore:\n",
      "- object: 'Composto antifúngico triterpenóide' (derivado de 'Composto heterocíclico')\n",
      "- physical_effect: 'Inibição da síntese de (1,3)-ß-D-glucano' (derivado de 'Inibição da atividade de HER2')\n",
      "Texto adicionado: O \"Prevenção ou tratamento de doença\" é um Químico, que no Composto antifúngico triterpenóide causa Inibição da síntese de (1,3)-ß-D-glucano.\n"
     ]
    },
    {
     "name": "stderr",
     "output_type": "stream",
     "text": [
      " 90%|████████▉ | 295/329 [16:16<02:05,  3.70s/it]"
     ]
    },
    {
     "name": "stdout",
     "output_type": "stream",
     "text": [
      "\n",
      "Elementos derivados adicionados ao vectorstore:\n",
      "- object: 'Proteína' (derivado de 'Composto antifúngico triterpenóide')\n",
      "- physical_effect: 'Atividade tóxica contra insetos' (derivado de 'Inibição da síntese de (1,3)-ß-D-glucano')\n",
      "Texto adicionado: O \"Inibir\" é um Químico, que no Proteína causa Atividade tóxica contra insetos.\n"
     ]
    },
    {
     "name": "stderr",
     "output_type": "stream",
     "text": [
      " 90%|████████▉ | 296/329 [16:20<02:02,  3.70s/it]"
     ]
    },
    {
     "name": "stdout",
     "output_type": "stream",
     "text": [
      "\n",
      "Elementos derivados adicionados ao vectorstore:\n",
      "- object: 'Anticorpos anti-C5' (derivado de 'Anticorpos anti-FCMR')\n",
      "Texto adicionado: O \"Prevenção ou tratamento de doença\" é um Químico, que no Anticorpos anti-C5 causa Ligações de anticorpos.\n"
     ]
    },
    {
     "name": "stderr",
     "output_type": "stream",
     "text": [
      " 90%|█████████ | 297/329 [16:23<01:52,  3.51s/it]"
     ]
    },
    {
     "name": "stdout",
     "output_type": "stream",
     "text": [
      "\n",
      "Elementos derivados adicionados ao vectorstore:\n",
      "- task: 'Colher' (derivado de 'Produzir')\n",
      "Texto adicionado: O \"Colher\" é um Mecânico, que no Grãos causa Transmissão de movimento.\n"
     ]
    },
    {
     "name": "stderr",
     "output_type": "stream",
     "text": [
      " 91%|█████████ | 300/329 [16:33<01:44,  3.60s/it]"
     ]
    },
    {
     "name": "stdout",
     "output_type": "stream",
     "text": [
      "\n",
      "Elementos derivados adicionados ao vectorstore:\n",
      "- object: 'Ésteres (met)acrílicos' (derivado de 'Sólido dividido')\n",
      "- physical_effect: 'Separação com coluna de parede divisória' (derivado de 'Separador ciclônico')\n",
      "Texto adicionado: O \"Purificar\" é um Separação, que no Ésteres (met)acrílicos causa Separação com coluna de parede divisória.\n"
     ]
    },
    {
     "name": "stderr",
     "output_type": "stream",
     "text": [
      " 91%|█████████▏| 301/329 [16:37<01:39,  3.54s/it]"
     ]
    },
    {
     "name": "stdout",
     "output_type": "stream",
     "text": [
      "\n",
      "Elementos derivados adicionados ao vectorstore:\n",
      "- object: 'Grãos' (derivado de 'Sólido dividido')\n",
      "Texto adicionado: O \"Mover\" é um Mecânico, que no Grãos causa Transmissão de movimento.\n"
     ]
    },
    {
     "name": "stderr",
     "output_type": "stream",
     "text": [
      " 92%|█████████▏| 302/329 [16:48<02:39,  5.90s/it]"
     ]
    },
    {
     "name": "stdout",
     "output_type": "stream",
     "text": [
      "\n",
      "Elementos derivados adicionados ao vectorstore:\n",
      "- task: 'Atualizar sinais de referência' (derivado de 'Determinação de potências recebidas')\n",
      "Texto adicionado: O \"Atualizar sinais de referência\" é um Medição de Sinal, que no Sinais de referência causa Processamento de comunicação.\n"
     ]
    },
    {
     "name": "stderr",
     "output_type": "stream",
     "text": [
      " 93%|█████████▎| 305/329 [16:54<01:21,  3.39s/it]"
     ]
    },
    {
     "name": "stdout",
     "output_type": "stream",
     "text": [
      "\n",
      "Elementos derivados adicionados ao vectorstore:\n",
      "- task: 'Tratar câncer' (derivado de 'Prevenção ou tratamento de doença')\n",
      "- object: 'Vírus oncolítico sintético' (derivado de 'Células primárias')\n",
      "Texto adicionado: O \"Tratar câncer\" é um Químico, que no Vírus oncolítico sintético causa Atividade antitumoral.\n"
     ]
    },
    {
     "name": "stderr",
     "output_type": "stream",
     "text": [
      " 93%|█████████▎| 307/329 [17:08<02:02,  5.56s/it]"
     ]
    },
    {
     "name": "stdout",
     "output_type": "stream",
     "text": [
      "\n",
      "Elementos derivados adicionados ao vectorstore:\n",
      "- kind_effect: 'Iniciação de transcrição' (derivado de 'Estimulação de produção de metabólitos')\n",
      "- task: 'Iniciar transcrição de gene' (derivado de 'Estimular a produção de metabólitos secundários')\n",
      "- object: 'Promotor quimérico' (derivado de 'Produção de compostos oxigenados')\n",
      "- physical_effect: 'Ativação de transcrição gênica' (derivado de 'Biossíntese de compostos oxigenados')\n",
      "Texto adicionado: O \"Iniciar transcrição de gene\" é um Iniciação de transcrição, que no Promotor quimérico causa Ativação de transcrição gênica.\n"
     ]
    },
    {
     "name": "stderr",
     "output_type": "stream",
     "text": [
      " 94%|█████████▎| 308/329 [17:09<01:30,  4.32s/it]"
     ]
    },
    {
     "name": "stdout",
     "output_type": "stream",
     "text": [
      "Erro no índice 1764: Invalid json output: I'm sorry, but I can't determine the appropriate TRIZ elements for the given patent based on the provided context.\n",
      "For troubleshooting, visit: https://python.langchain.com/docs/troubleshooting/errors/OUTPUT_PARSING_FAILURE \n",
      "Ret: kind_effect=TrizEffect(derived_from='Estimulação de produção de metabólitos', effect='Iniciação de transcrição') task=TrizTask(derived_from='Estimular a produção de metabólitos secundários', task='Iniciar transcrição de gene') object=TrizObject(derived_from='Produção de compostos oxigenados', object='Promotor quimérico') physical_effect=TrizPhysicalEffect(derived_from='Biossíntese de compostos oxigenados', physical_effect='Ativação de transcrição gênica')\n"
     ]
    },
    {
     "name": "stderr",
     "output_type": "stream",
     "text": [
      " 94%|█████████▍| 309/329 [17:12<01:16,  3.80s/it]"
     ]
    },
    {
     "name": "stdout",
     "output_type": "stream",
     "text": [
      "\n",
      "Elementos derivados adicionados ao vectorstore:\n",
      "- task: 'Expandir o corpo de suspensor' (derivado de 'Expandir')\n",
      "Texto adicionado: O \"Expandir o corpo de suspensor\" é um Expandir, que no Corpo de suspensor expansível causa Deformação plástica do metal.\n"
     ]
    },
    {
     "name": "stderr",
     "output_type": "stream",
     "text": [
      " 95%|█████████▌| 313/329 [17:22<00:46,  2.91s/it]"
     ]
    },
    {
     "name": "stdout",
     "output_type": "stream",
     "text": [
      "\n",
      "Elementos derivados adicionados ao vectorstore:\n",
      "- object: 'Di-hidro-orotato desidrogenase' (derivado de 'Derivado de pirazina')\n",
      "- physical_effect: 'Inibição de DHODH' (derivado de 'Inibição de SHP2')\n",
      "Texto adicionado: O \"Inibir\" é um Químico, que no Di-hidro-orotato desidrogenase causa Inibição de DHODH.\n"
     ]
    },
    {
     "name": "stderr",
     "output_type": "stream",
     "text": [
      " 95%|█████████▌| 314/329 [17:25<00:41,  2.78s/it]"
     ]
    },
    {
     "name": "stdout",
     "output_type": "stream",
     "text": [
      "\n",
      "Elementos derivados adicionados ao vectorstore:\n",
      "- kind_effect: 'Proteção' (derivado de 'Proteger')\n",
      "- physical_effect: 'Proteção de cabos' (derivado de 'Thermal Energy Storage')\n",
      "Texto adicionado: O \"Proteger\" é um Proteção, que no Módulo Fotovoltaico causa Proteção de cabos.\n"
     ]
    },
    {
     "name": "stderr",
     "output_type": "stream",
     "text": [
      " 96%|█████████▌| 316/329 [17:29<00:34,  2.62s/it]"
     ]
    },
    {
     "name": "stdout",
     "output_type": "stream",
     "text": [
      "\n",
      "Elementos derivados adicionados ao vectorstore:\n",
      "- task: 'Carregar' (derivado de 'Segurar')\n",
      "Texto adicionado: O \"Carregar\" é um Eletromagnético, que no Veículo aéreo não tripulado causa Carregamento sem fio.\n"
     ]
    },
    {
     "name": "stderr",
     "output_type": "stream",
     "text": [
      " 96%|█████████▋| 317/329 [17:34<00:37,  3.15s/it]"
     ]
    },
    {
     "name": "stdout",
     "output_type": "stream",
     "text": [
      "\n",
      "Elementos derivados adicionados ao vectorstore:\n",
      "- task: 'Determinar medição de SSBs e RSs' (derivado de 'Medição de Sinal')\n",
      "- object: 'Unidade de Transmissão/Recepção Sem Fio' (derivado de 'Dispositivo de Rede')\n",
      "Texto adicionado: O \"Determinar medição de SSBs e RSs\" é um Medição de Sinal, que no Unidade de Transmissão/Recepção Sem Fio causa Processamento de comunicação.\n"
     ]
    },
    {
     "name": "stderr",
     "output_type": "stream",
     "text": [
      " 97%|█████████▋| 318/329 [17:37<00:36,  3.28s/it]"
     ]
    },
    {
     "name": "stdout",
     "output_type": "stream",
     "text": [
      "\n",
      "Elementos derivados adicionados ao vectorstore:\n",
      "- object: 'Ácido nucleico' (derivado de 'Líquido')\n",
      "Texto adicionado: O \"Purificar\" é um Filtração, que no Ácido nucleico causa Filtração.\n"
     ]
    },
    {
     "name": "stderr",
     "output_type": "stream",
     "text": [
      " 98%|█████████▊| 321/329 [17:47<00:28,  3.52s/it]"
     ]
    },
    {
     "name": "stdout",
     "output_type": "stream",
     "text": [
      "\n",
      "Elementos derivados adicionados ao vectorstore:\n",
      "- task: 'Gerar sinal de frequência modulada' (derivado de 'Medição de Sinal')\n",
      "Texto adicionado: O \"Gerar sinal de frequência modulada\" é um Medição de Sinal, que no Transmissor de furo abaixo causa Processamento de comunicação.\n"
     ]
    },
    {
     "name": "stderr",
     "output_type": "stream",
     "text": [
      " 98%|█████████▊| 322/329 [17:50<00:23,  3.36s/it]"
     ]
    },
    {
     "name": "stdout",
     "output_type": "stream",
     "text": [
      "\n",
      "Elementos derivados adicionados ao vectorstore:\n",
      "- kind_effect: 'Detecção de vazamento' (derivado de 'Detectar')\n",
      "- task: 'Detectar vazamento' (derivado de 'Detectar')\n",
      "- object: 'Fluido' (derivado de 'Líquido')\n",
      "Texto adicionado: O \"Detectar vazamento\" é um Detecção de vazamento, que no Fluido causa Membrana semipermeável.\n"
     ]
    },
    {
     "name": "stderr",
     "output_type": "stream",
     "text": [
      " 98%|█████████▊| 324/329 [17:57<00:16,  3.33s/it]"
     ]
    },
    {
     "name": "stdout",
     "output_type": "stream",
     "text": [
      "\n",
      "Elementos derivados adicionados ao vectorstore:\n",
      "- physical_effect: 'Movimento de indicador' (derivado de 'Movimento')\n",
      "Texto adicionado: O \"Detectar\" é um Mecânico, que no Válvula causa Movimento de indicador.\n"
     ]
    },
    {
     "name": "stderr",
     "output_type": "stream",
     "text": [
      " 99%|█████████▉| 325/329 [18:02<00:15,  3.81s/it]"
     ]
    },
    {
     "name": "stdout",
     "output_type": "stream",
     "text": [
      "\n",
      "Elementos derivados adicionados ao vectorstore:\n",
      "- task: 'Corrigir variável de fluxo' (derivado de 'Isolar')\n",
      "- object: 'Medidor de fluxo Coriolis' (derivado de 'Válvula (tubulação)')\n",
      "- physical_effect: 'Correção de fluxo com base na pressão' (derivado de 'Controle de fluxo')\n",
      "Texto adicionado: O \"Corrigir variável de fluxo\" é um Controle de fluxo, que no Medidor de fluxo Coriolis causa Correção de fluxo com base na pressão.\n"
     ]
    },
    {
     "name": "stderr",
     "output_type": "stream",
     "text": [
      " 99%|█████████▉| 326/329 [18:05<00:10,  3.46s/it]"
     ]
    },
    {
     "name": "stdout",
     "output_type": "stream",
     "text": [
      "\n",
      "Elementos derivados adicionados ao vectorstore:\n",
      "- kind_effect: 'Redução de Latência' (derivado de 'Medição de Sinal')\n",
      "- task: 'Ajustar Latência' (derivado de 'Medição de Sinal')\n",
      "- object: 'Dispositivo de Entrada de Usuário' (derivado de 'Dispositivo Terminal')\n",
      "- physical_effect: 'Redução de Tempo de Resposta' (derivado de 'Determinação de potências recebidas')\n",
      "Texto adicionado: O \"Ajustar Latência\" é um Redução de Latência, que no Dispositivo de Entrada de Usuário causa Redução de Tempo de Resposta.\n"
     ]
    },
    {
     "name": "stderr",
     "output_type": "stream",
     "text": [
      " 99%|█████████▉| 327/329 [18:08<00:06,  3.34s/it]"
     ]
    },
    {
     "name": "stdout",
     "output_type": "stream",
     "text": [
      "\n",
      "Elementos derivados adicionados ao vectorstore:\n",
      "- task: 'Produzir bebida láctea fria' (derivado de 'Produzir')\n",
      "Texto adicionado: O \"Produzir bebida láctea fria\" é um Produzir, que no Bebida láctea causa Resfriamento.\n"
     ]
    },
    {
     "name": "stderr",
     "output_type": "stream",
     "text": [
      "100%|█████████▉| 328/329 [18:10<00:03,  3.04s/it]"
     ]
    },
    {
     "name": "stdout",
     "output_type": "stream",
     "text": [
      "\n",
      "Elementos derivados adicionados ao vectorstore:\n",
      "- task: 'Tratar colisões em uplink' (derivado de 'Processamento de comunicação')\n",
      "Texto adicionado: O \"Tratar colisões em uplink\" é um Medição de Sinal, que no Dispositivo de comunicação causa Processamento de comunicação.\n"
     ]
    },
    {
     "name": "stderr",
     "output_type": "stream",
     "text": [
      "100%|██████████| 329/329 [18:16<00:00,  3.33s/it]"
     ]
    },
    {
     "name": "stdout",
     "output_type": "stream",
     "text": [
      "\n",
      "Elementos derivados adicionados ao vectorstore:\n",
      "- task: 'Tratar distúrbios do sistema nervoso central' (derivado de 'Prevenção ou tratamento de doença')\n",
      "- object: 'Composto de Fórmula I' (derivado de 'Composto heterocíclico')\n",
      "- physical_effect: 'Alívio da dor ou distúrbio do sistema nervoso central' (derivado de 'Prevenção ou tratamento de doença')\n",
      "Texto adicionado: O \"Tratar distúrbios do sistema nervoso central\" é um Químico, que no Composto de Fórmula I causa Alívio da dor ou distúrbio do sistema nervoso central.\n"
     ]
    },
    {
     "name": "stderr",
     "output_type": "stream",
     "text": [
      "\n"
     ]
    }
   ],
   "source": [
    "# Calcula 10% do tamanho total\n",
    "sample_size = int(len(df_patents) * 0.1)\n",
    "# sample_size=10\n",
    "\n",
    "# Seleciona aleatoriamente 10% das linhas\n",
    "df_patents_sample = df_patents.sample(n=sample_size, random_state=42)\n",
    "\n",
    "results = []\n",
    "\n",
    "for idx, row in tqdm(df_patents_sample.iterrows(), total=len(df_patents_sample)):\n",
    "    try:\n",
    "        title = row[\"titulo\"]\n",
    "        abstract = row[\"resumo\"]\n",
    "        # Chama o modelo\n",
    "        query = f\"\"\"Título: {title}\\nAbstract: {abstract}\"\"\"\n",
    "        raw_output = qa_chain.invoke({\"input\": query})\n",
    "        text_output = raw_output.get(\"answer\", \"\")\n",
    "        retrieved_docs = raw_output.get(\"context\", [])  # ou o campo correto do seu chain\n",
    "        structured_output = parser.parse(text_output)\n",
    "\n",
    "        insert_derived_elements(structured_output, vectorstore)\n",
    "\n",
    "        # Salva os campos no DataFrame original\n",
    "        df_patents_sample.at[idx, \"kind_effect\"] = getattr(structured_output.kind_effect, \"effect\", \"\")\n",
    "        df_patents_sample.at[idx, \"task\"] = getattr(structured_output.task, \"task\", \"\")\n",
    "        df_patents_sample.at[idx, \"object\"] = getattr(structured_output.object, \"object\", \"\")\n",
    "        df_patents_sample.at[idx, \"physical_effect\"] = getattr(structured_output.physical_effect, \"physical_effect\", \"\")\n",
    "\n",
    "        derived_from_list = [\n",
    "            structured_output.kind_effect.derived_from,\n",
    "            structured_output.task.derived_from,\n",
    "            structured_output.object.derived_from,\n",
    "            structured_output.physical_effect.derived_from\n",
    "        ]\n",
    "\n",
    "        # phrase_derived = f'O \"{structured_output.task.derived_from}\" é um {structured_output.physical_effect.derived_from}, que no {structured_output.object.derived_from} causa {structured_output.kind_effect.derived_from}.'\n",
    "        # df_patents_sample.at[idx, \"derived_from\"] = phrase_derived if any(derived_from_list) else \"\"\n",
    "    \n",
    "        phrase_derived = (\n",
    "            f'O \"{structured_output.task.derived_from or structured_output.task.task}\" '\n",
    "            f'é um {structured_output.physical_effect.derived_from or structured_output.physical_effect.physical_effect}, '\n",
    "            f'que no {structured_output.object.derived_from or structured_output.object.object} '\n",
    "            f'causa {structured_output.kind_effect.derived_from or structured_output.kind_effect.effect}.'\n",
    "        )\n",
    "        df_patents_sample.at[idx, \"derived_from\"] = phrase_derived if any(derived_from_list) else \"\"\n",
    "# ...existing\n",
    "\n",
    "        # Salva o resultado completo em uma lista\n",
    "        results.append(structured_output.model_dump())\n",
    "\n",
    "    except Exception as e:\n",
    "        print(f\"Erro no índice {idx}: {e}\")\n",
    "        print(f\"Ret: {structured_output}\")\n",
    "        df_patents_sample.at[idx, \"kind_effect\"] = \"Erro\"\n",
    "        df_patents_sample.at[idx, \"task\"] = \"Erro\"\n",
    "        df_patents_sample.at[idx, \"object\"] = \"Erro\"\n",
    "        df_patents_sample.at[idx, \"physical_effect\"] = \"Erro\"\n",
    "        df_patents_sample.at[idx, \"derived_from\"] = \"Erro\"\n",
    "        results.append({\"kind_effect\": \"Erro\", \"task\": \"Erro\", \"object\": \"Erro\", \"physical_effect\": \"Erro\"})\n",
    "\n",
    "# Salva os resultados\n",
    "df_patents_sample.to_csv(\"../../data/processed/patents_inpi_llm_matched_10percent.csv\", index=False)"
   ]
  },
  {
   "cell_type": "code",
   "execution_count": 13,
   "id": "d4f3e346",
   "metadata": {},
   "outputs": [
    {
     "name": "stdout",
     "output_type": "stream",
     "text": [
      "\n",
      "Campo: kind_effect\n",
      "Total de valores únicos: 131\n",
      "Valores que se repetem pelo menos 2 vezes: 40\n",
      "Top 5 mais frequentes:\n",
      "kind_effect\n",
      "Mecânico                           49\n",
      "Medição de Sinal                   27\n",
      "Químico                            19\n",
      "Erro                               11\n",
      "Processamento digital de imagem    11\n",
      "Name: count, dtype: int64\n",
      "\n",
      "Campo: task\n",
      "Total de valores únicos: 183\n",
      "Valores que se repetem pelo menos 2 vezes: 41\n",
      "Top 5 mais frequentes:\n",
      "task\n",
      "Detectar    21\n",
      "Segurar     17\n",
      "Proteger    15\n",
      "Erro        11\n",
      "Produzir     9\n",
      "Name: count, dtype: int64\n",
      "\n",
      "Campo: object\n",
      "Total de valores únicos: 207\n",
      "Valores que se repetem pelo menos 2 vezes: 36\n",
      "Top 5 mais frequentes:\n",
      "object\n",
      "Sólido             26\n",
      "Sólido dividido    13\n",
      "Erro               11\n",
      "Líquido            10\n",
      "Imagem              8\n",
      "Name: count, dtype: int64\n",
      "\n",
      "Campo: physical_effect\n",
      "Total de valores únicos: 229\n",
      "Valores que se repetem pelo menos 2 vezes: 42\n",
      "Top 5 mais frequentes:\n",
      "physical_effect\n",
      "Processamento de comunicação           18\n",
      "Erro                                   11\n",
      "Determinação de potências recebidas     8\n",
      "Eixo (mecânica)                         7\n",
      "Filtração                               7\n",
      "Name: count, dtype: int64\n"
     ]
    }
   ],
   "source": [
    "# Análise dos campos kind_effect, task, object e physical_effect em df_patents_sample\n",
    "\n",
    "# Função para contar repetições e mostrar os mais frequentes\n",
    "def analyze_repetitions(df, column):\n",
    "    counts = df[column].value_counts()\n",
    "    repeated = counts[counts >= 2]\n",
    "    print(f\"\\nCampo: {column}\")\n",
    "    print(f\"Total de valores únicos: {counts.shape[0]}\")\n",
    "    print(f\"Valores que se repetem pelo menos 2 vezes: {repeated.shape[0]}\")\n",
    "    print(\"Top 5 mais frequentes:\")\n",
    "    print(repeated.head(5))\n",
    "\n",
    "# Campos a analisar\n",
    "fields = [\"kind_effect\", \"task\", \"object\", \"physical_effect\"]\n",
    "\n",
    "for field in fields:\n",
    "    analyze_repetitions(df_patents_sample, field)"
   ]
  },
  {
   "cell_type": "code",
   "execution_count": null,
   "id": "03614163",
   "metadata": {},
   "outputs": [],
   "source": []
  }
 ],
 "metadata": {
  "kernelspec": {
   "display_name": "venv",
   "language": "python",
   "name": "python3"
  },
  "language_info": {
   "codemirror_mode": {
    "name": "ipython",
    "version": 3
   },
   "file_extension": ".py",
   "mimetype": "text/x-python",
   "name": "python",
   "nbconvert_exporter": "python",
   "pygments_lexer": "ipython3",
   "version": "3.12.4"
  }
 },
 "nbformat": 4,
 "nbformat_minor": 5
}
