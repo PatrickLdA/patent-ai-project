{
 "cells": [
  {
   "cell_type": "markdown",
   "id": "2f1ce934",
   "metadata": {},
   "source": [
    "# A brief introduction to the patent system\n",
    "The patent is a register, tipically a document, that to document a exclusive discovery, invention or method and aims to give to the patent holder exclusive rights over the discovery/invention.\n",
    "\n",
    "<--TODO: Explain the T,O method of organizing patents -->\n",
    "\n",
    "To organize the patents and find a suitable way to structure its information, a commonly used method defines a patent with 2 characteristics:\n",
    "1. **Task:** the method used in the described patent. In can be compress something or agilize a effect, for example.\n",
    "2. **Object:** the \"target\" of the task. It can be a food, a construction material or any other object that, combined with the task, defines the patent.\n",
    "\n",
    "This method is defined by the Hallbach matrix, that defines a list of Task and Objects that can be extracted from the Title or the Resume of the patent.\n",
    "\n",
    "# T,O Finder\n",
    "The T,O Finder is the method that identifies the Task and the Object from a given patent and in this notebook we will construct a method to do such thing."
   ]
  },
  {
   "cell_type": "code",
   "execution_count": 1,
   "id": "a7c0f70c",
   "metadata": {},
   "outputs": [
    {
     "data": {
      "text/plain": [
       "True"
      ]
     },
     "execution_count": 1,
     "metadata": {},
     "output_type": "execute_result"
    }
   ],
   "source": [
    "import pandas as pd\n",
    "import os\n",
    "from dotenv import load_dotenv\n",
    "from tqdm import tqdm\n",
    "import json\n",
    "\n",
    "from langchain.vectorstores import Chroma\n",
    "from langchain_openai import ChatOpenAI\n",
    "from langchain.schema import Document\n",
    "from langchain.embeddings import OpenAIEmbeddings\n",
    "from langchain.prompts import PromptTemplate\n",
    "from langchain.chains import RetrievalQA, ConversationalRetrievalChain, create_qa_with_structure_chain, create_retrieval_chain\n",
    "from langchain.chains.openai_functions import create_structured_output_chain\n",
    "from langchain.chains.combine_documents import create_stuff_documents_chain\n",
    "from langchain_core.prompts.base import BasePromptTemplate\n",
    "from langchain_core.prompts import PromptTemplate\n",
    "from langchain_core.output_parsers import PydanticOutputParser\n",
    "\n",
    "load_dotenv()"
   ]
  },
  {
   "cell_type": "code",
   "execution_count": 2,
   "id": "0d56d661",
   "metadata": {},
   "outputs": [
    {
     "data": {
      "text/html": [
       "<div>\n",
       "<style scoped>\n",
       "    .dataframe tbody tr th:only-of-type {\n",
       "        vertical-align: middle;\n",
       "    }\n",
       "\n",
       "    .dataframe tbody tr th {\n",
       "        vertical-align: top;\n",
       "    }\n",
       "\n",
       "    .dataframe thead th {\n",
       "        text-align: right;\n",
       "    }\n",
       "</style>\n",
       "<table border=\"1\" class=\"dataframe\">\n",
       "  <thead>\n",
       "    <tr style=\"text-align: right;\">\n",
       "      <th></th>\n",
       "      <th>TIPO DE EFEITO</th>\n",
       "      <th>TAREFA</th>\n",
       "      <th>OBJETO</th>\n",
       "      <th>EFEITO FÍSICO</th>\n",
       "      <th>SINONIMO 1 EFEITO FISICO</th>\n",
       "      <th>SINONIMO 2 EFEITO FISICO</th>\n",
       "      <th>PT Link</th>\n",
       "      <th>PT Description</th>\n",
       "      <th>Link Wiki (English)</th>\n",
       "      <th>TAREFA_lemmatized</th>\n",
       "    </tr>\n",
       "  </thead>\n",
       "  <tbody>\n",
       "    <tr>\n",
       "      <th>0</th>\n",
       "      <td>Aplicação</td>\n",
       "      <td>Apertar</td>\n",
       "      <td>Sólido</td>\n",
       "      <td>Matriz de Halbach</td>\n",
       "      <td>NaN</td>\n",
       "      <td>NaN</td>\n",
       "      <td>NaN</td>\n",
       "      <td>NaN</td>\n",
       "      <td>http://en.wikipedia.org/wiki/Halbach_array</td>\n",
       "      <td>apertar</td>\n",
       "    </tr>\n",
       "    <tr>\n",
       "      <th>1</th>\n",
       "      <td>Aplicação</td>\n",
       "      <td>Apertar</td>\n",
       "      <td>Sólido dividido</td>\n",
       "      <td>Matriz de Halbach</td>\n",
       "      <td>NaN</td>\n",
       "      <td>NaN</td>\n",
       "      <td>NaN</td>\n",
       "      <td>NaN</td>\n",
       "      <td>http://en.wikipedia.org/wiki/Halbach_array</td>\n",
       "      <td>apertar</td>\n",
       "    </tr>\n",
       "    <tr>\n",
       "      <th>2</th>\n",
       "      <td>Aplicação</td>\n",
       "      <td>Concentrar</td>\n",
       "      <td>Campo</td>\n",
       "      <td>Matriz de Halbach</td>\n",
       "      <td>NaN</td>\n",
       "      <td>NaN</td>\n",
       "      <td>NaN</td>\n",
       "      <td>NaN</td>\n",
       "      <td>http://en.wikipedia.org/wiki/Halbach_array</td>\n",
       "      <td>concentrar</td>\n",
       "    </tr>\n",
       "    <tr>\n",
       "      <th>3</th>\n",
       "      <td>Aplicação</td>\n",
       "      <td>Concentrar</td>\n",
       "      <td>Sólido dividido</td>\n",
       "      <td>Matriz de Halbach</td>\n",
       "      <td>NaN</td>\n",
       "      <td>NaN</td>\n",
       "      <td>NaN</td>\n",
       "      <td>NaN</td>\n",
       "      <td>http://en.wikipedia.org/wiki/Halbach_array</td>\n",
       "      <td>concentrar</td>\n",
       "    </tr>\n",
       "    <tr>\n",
       "      <th>4</th>\n",
       "      <td>Aplicação</td>\n",
       "      <td>Depositar</td>\n",
       "      <td>Sólido dividido</td>\n",
       "      <td>Matriz de Halbach</td>\n",
       "      <td>NaN</td>\n",
       "      <td>NaN</td>\n",
       "      <td>NaN</td>\n",
       "      <td>NaN</td>\n",
       "      <td>http://en.wikipedia.org/wiki/Halbach_array</td>\n",
       "      <td>depositar</td>\n",
       "    </tr>\n",
       "  </tbody>\n",
       "</table>\n",
       "</div>"
      ],
      "text/plain": [
       "  TIPO DE EFEITO      TAREFA           OBJETO       EFEITO FÍSICO  \\\n",
       "0      Aplicação     Apertar           Sólido   Matriz de Halbach   \n",
       "1      Aplicação     Apertar  Sólido dividido   Matriz de Halbach   \n",
       "2      Aplicação  Concentrar            Campo   Matriz de Halbach   \n",
       "3      Aplicação  Concentrar  Sólido dividido   Matriz de Halbach   \n",
       "4      Aplicação   Depositar  Sólido dividido   Matriz de Halbach   \n",
       "\n",
       "  SINONIMO 1 EFEITO FISICO SINONIMO 2 EFEITO FISICO PT Link PT Description  \\\n",
       "0                      NaN                      NaN     NaN            NaN   \n",
       "1                      NaN                      NaN     NaN            NaN   \n",
       "2                      NaN                      NaN     NaN            NaN   \n",
       "3                      NaN                      NaN     NaN            NaN   \n",
       "4                      NaN                      NaN     NaN            NaN   \n",
       "\n",
       "                          Link Wiki (English) TAREFA_lemmatized  \n",
       "0  http://en.wikipedia.org/wiki/Halbach_array           apertar  \n",
       "1  http://en.wikipedia.org/wiki/Halbach_array           apertar  \n",
       "2  http://en.wikipedia.org/wiki/Halbach_array        concentrar  \n",
       "3  http://en.wikipedia.org/wiki/Halbach_array        concentrar  \n",
       "4  http://en.wikipedia.org/wiki/Halbach_array         depositar  "
      ]
     },
     "execution_count": 2,
     "metadata": {},
     "output_type": "execute_result"
    }
   ],
   "source": [
    "df_triz = pd.read_csv(\"../../data/processed/base_efeitos_físicos_publicada_lemmatized.csv\")\n",
    "df_triz.head()"
   ]
  },
  {
   "cell_type": "markdown",
   "id": "48068142",
   "metadata": {},
   "source": [
    "## TRIZ Vector Store Data Preparation\n",
    "\n",
    "We are preparing text-metadata pairs for a vector store that will be used to match patents with TRIZ (Theory of Inventive Problem Solving) principles. Here's how the data is structured:\n",
    "\n",
    "### Text Format\n",
    "The text is formatted as a natural language sentence following this pattern:\n",
    "\n",
    "`O \"{TAREFA}\" é um {TIPO DE EFEITO}, que no {OBJETO} causa {EFEITO FÍSICO}.`\n",
    "\n",
    "\n",
    "For example:\n",
    "> \"O 'Aquecimento' é um Térmico, que na Água causa Aumento de temperatura.\"\n",
    "\n",
    "## Metadata Structure\n",
    "Each text entry has associated metadata containing four key components from TRIZ:\n",
    "- **tipo_de_efeito**: The type of effect (e.g., Mechanical, Thermal)\n",
    "- **tarefa**: The task or action being performed\n",
    "- **objeto**: The object being affected\n",
    "- **efeito_fisico**: The resulting physical effect\n",
    "\n",
    "This structure allows for:\n",
    "1. Semantic search through the text descriptions\n",
    "2. Precise filtering using the metadata fields\n",
    "3. Mapping between patents and existing TRIZ principles\n",
    "4. Identification of new derived TRIZ relationships\n",
    "\n",
    "The entries are created using the `build_entry()` function and then converted into Langchain Document objects for storage in the Chroma vector store.\n"
   ]
  },
  {
   "cell_type": "code",
   "execution_count": null,
   "id": "c2c01c88",
   "metadata": {},
   "outputs": [
    {
     "data": {
      "text/plain": [
       "[{'text': 'O \"Apertar\" é um Aplicação, que no Sólido causa \\xa0Matriz de Halbach.',\n",
       "  'metadata': {'tipo_de_efeito': 'Aplicação',\n",
       "   'tarefa': 'Apertar',\n",
       "   'objeto': 'Sólido',\n",
       "   'efeito_fisico': '\\xa0Matriz de Halbach'}},\n",
       " {'text': 'O \"Apertar\" é um Aplicação, que no Sólido dividido causa \\xa0Matriz de Halbach.',\n",
       "  'metadata': {'tipo_de_efeito': 'Aplicação',\n",
       "   'tarefa': 'Apertar',\n",
       "   'objeto': 'Sólido dividido',\n",
       "   'efeito_fisico': '\\xa0Matriz de Halbach'}}]"
      ]
     },
     "execution_count": 3,
     "metadata": {},
     "output_type": "execute_result"
    }
   ],
   "source": [
    "# Creating the pairs of iniputs\n",
    "def build_entry(row):\n",
    "    text = f'O \"{row[\"TAREFA\"]}\" é um {row[\"TIPO DE EFEITO\"]}, que no {row[\"OBJETO\"]} causa {row[\"EFEITO FÍSICO\"]}.'\n",
    "    metadata = {\n",
    "        \"tipo_de_efeito\": row[\"TIPO DE EFEITO\"],\n",
    "        \"tarefa\": row[\"TAREFA\"],\n",
    "        \"objeto\": row[\"OBJETO\"],\n",
    "        \"efeito_fisico\": row[\"EFEITO FÍSICO\"]\n",
    "    }\n",
    "    return {\"text\": text, \"metadata\": metadata}\n",
    "\n",
    "documents = [build_entry(row) for _, row in df_triz.iterrows()]\n",
    "documents[:2]"
   ]
  },
  {
   "cell_type": "markdown",
   "id": "204afca8",
   "metadata": {},
   "source": [
    "Now we are going to create a Vectorstore"
   ]
  },
  {
   "cell_type": "code",
   "execution_count": null,
   "id": "a243809b",
   "metadata": {},
   "outputs": [
    {
     "name": "stderr",
     "output_type": "stream",
     "text": [
      "/tmp/ipykernel_9385/3616164546.py:8: LangChainDeprecationWarning: The class `OpenAIEmbeddings` was deprecated in LangChain 0.0.9 and will be removed in 1.0. An updated version of the class exists in the :class:`~langchain-openai package and should be used instead. To use it run `pip install -U :class:`~langchain-openai` and import as `from :class:`~langchain_openai import OpenAIEmbeddings``.\n",
      "  embedding_model = OpenAIEmbeddings()\n",
      "/tmp/ipykernel_9385/3616164546.py:24: LangChainDeprecationWarning: The class `Chroma` was deprecated in LangChain 0.2.9 and will be removed in 1.0. An updated version of the class exists in the :class:`~langchain-chroma package and should be used instead. To use it run `pip install -U :class:`~langchain-chroma` and import as `from :class:`~langchain_chroma import Chroma``.\n",
      "  vectorstore = Chroma(\n"
     ]
    },
    {
     "data": {
      "text/plain": [
       "'chroma_rag_tabular'"
      ]
     },
     "execution_count": 4,
     "metadata": {},
     "output_type": "execute_result"
    }
   ],
   "source": [
    "docs = [\n",
    "    Document(page_content=item[\"text\"], metadata=item[\"metadata\"])\n",
    "    for item in documents\n",
    "]\n",
    "\n",
    "embedding_model = OpenAIEmbeddings()\n",
    "\n",
    "persist_directory = \"chroma_rag_tabular\"\n",
    "\n",
    "\n",
    "if not os.path.exists(persist_directory):\n",
    "    vectorstore = Chroma.from_documents(\n",
    "        documents=docs,\n",
    "        embedding=embedding_model,\n",
    "        persist_directory=persist_directory,\n",
    "    )\n",
    "    vectorstore.persist()\n",
    "else:\n",
    "    vectorstore = Chroma(\n",
    "        persist_directory=persist_directory,\n",
    "        embedding_function=embedding_model,\n",
    "    )\n",
    "\n",
    "persist_directory"
   ]
  },
  {
   "cell_type": "code",
   "execution_count": 5,
   "id": "be88bc53",
   "metadata": {},
   "outputs": [
    {
     "name": "stdout",
     "output_type": "stream",
     "text": [
      "O \"Corroer\" é um Efeito, que no Sólido causa Hipertermia.\n",
      "Metadados: {'efeito_fisico': 'Hipertermia', 'tarefa': 'Corroer', 'tipo_de_efeito': 'Efeito', 'objeto': 'Sólido'}\n",
      "O \"Aquecer\" é um Efeito, que no Líquido causa Dilatação térmica.\n",
      "Metadados: {'tarefa': 'Aquecer', 'tipo_de_efeito': 'Efeito', 'efeito_fisico': 'Dilatação térmica', 'objeto': 'Líquido'}\n"
     ]
    }
   ],
   "source": [
    "from langchain.vectorstores import Chroma\n",
    "\n",
    "# Reabre o banco vetorial\n",
    "vectorstore = Chroma(\n",
    "    persist_directory=\"chroma_rag_tabular\",\n",
    "    embedding_function=embedding_model\n",
    ")\n",
    "\n",
    "# Busca por similaridade\n",
    "query = \"Qual tarefa pode causar aumento da temperatura?\"\n",
    "results = vectorstore.similarity_search(query, k=2)\n",
    "\n",
    "for doc in results:\n",
    "    print(doc.page_content)\n",
    "    print(\"Metadados:\", doc.metadata)\n"
   ]
  },
  {
   "cell_type": "markdown",
   "id": "b6c3fc53",
   "metadata": {},
   "source": [
    "### TRIZ Schema Data Model\n",
    "\n",
    "The TRIZ schema implements a hierarchical data model using Pydantic for structured outputs from the LLM. Here's how it's organized:\n",
    "\n",
    "#### Base Model\n",
    "- **TrizBaseModel**: Base class that implements the `derived_from` field, which tracks relationships with existing TRIZ elements\n",
    "\n",
    "#### Component Models\n",
    "All inherit from `TrizBaseModel` and add their specific fields:\n",
    "\n",
    "- **TrizEffect**: Represents the type of effect (e.g., \"Mechanical\", \"Thermal\")\n",
    "- **TrizTask**: Captures the action being performed (e.g., \"Compress\", \"Heat\")\n",
    "- **TrizObject**: Describes the target object (e.g., \"Water\", \"Metal\")\n",
    "- **TrizPhysicalEffect**: Records the resulting physical effect (e.g., \"Temperature increase\")\n",
    "\n",
    "#### Main Schema\n",
    "- **TrizSchema**: Combines all components into a complete TRIZ representation:\n",
    "  - `kind_effect`: Type classification\n",
    "  - `task`: Action performed\n",
    "  - `object`: Target of the action\n",
    "  - `physical_effect`: Resulting change\n",
    "\n",
    "Each component can either:\n",
    "- Match an existing TRIZ element (`derived_from = None`)\n",
    "- Be derived from an existing element (`derived_from = \"parent_element\"`)\n",
    "\n",
    "This structure enables tracking both standard TRIZ elements and new derived relationships while maintaining data validation through Pydantic."
   ]
  },
  {
   "cell_type": "code",
   "execution_count": null,
   "id": "1b1dbd72",
   "metadata": {},
   "outputs": [],
   "source": [
    "from pydantic import BaseModel\n",
    "\n",
    "class TrizBaseModel(BaseModel):\n",
    "    derived_from: str | None = None\n",
    "\n",
    "class TrizEffect(TrizBaseModel):\n",
    "    effect: str\n",
    "\n",
    "class TrizTask(TrizBaseModel):\n",
    "    task: str\n",
    "\n",
    "class TrizObject(TrizBaseModel):\n",
    "    object: str\n",
    "\n",
    "class TrizPhysicalEffect(TrizBaseModel):\n",
    "    physical_effect: str\n",
    "\n",
    "class TrizSchema(BaseModel):\n",
    "    kind_effect: TrizEffect\n",
    "    task: TrizTask\n",
    "    object: TrizObject\n",
    "    physical_effect: TrizPhysicalEffect"
   ]
  },
  {
   "cell_type": "code",
   "execution_count": null,
   "id": "c87d298a",
   "metadata": {},
   "outputs": [],
   "source": [
    "# 💬 Modelo LLM\n",
    "# Ref.: https://python.langchain.com/docs/integrations/chat/openai/#structured-output-and-tool-calls\n",
    "llm = ChatOpenAI(model_name=\"gpt-4o\", temperature=0)\n",
    "\n",
    "structured_llm = llm.with_structured_output(TrizSchema)"
   ]
  },
  {
   "cell_type": "markdown",
   "id": "bdd419b9",
   "metadata": {},
   "source": [
    "## Explanation of the Prompt Construction and QA Chain\n",
    "\n",
    "This section of the code builds the prompt and configures the retrieval-augmented generation (RAG) chain for extracting structured TRIZ information from patent texts using a language model.\n",
    "\n",
    "### Prompt Construction\n",
    "\n",
    "- The `template` variable defines detailed instructions for the LLM in Portuguese. It explains:\n",
    "  - The context: the model will receive a patent title and abstract.\n",
    "  - The goal: connect the patent to a TRIZ relationship using the TRIZ base (object, task, effect type, and physical effect).\n",
    "  - The model can create new TRIZ relationships if none fit, but must indicate the closest existing element in the `derived_from` field.\n",
    "  - Rules for when to use or derive elements, and how to fill the output fields.\n",
    "  - The required output format: a JSON object with four main fields (`kind_effect`, `task`, `object`, `physical_effect`), each with a value and an optional `derived_from`.\n",
    "  - An example JSON output is provided, with all curly braces escaped to avoid template variable conflicts.\n",
    "\n",
    "### PromptTemplate and Chain Setup\n",
    "\n",
    "- The `PromptTemplate` is created with the template and the expected input variables (`context` and `question`).\n",
    "- The `PydanticOutputParser` ensures the LLM output matches the `TrizSchema` structure.\n",
    "- The `combine_docs_chain` is created to combine retrieved documents and the prompt for the LLM.\n",
    "- The `qa_chain` is a retrieval chain that:\n",
    "  - Uses the vectorstore retriever to fetch relevant TRIZ context.\n",
    "  - Passes the context and the patent input to the LLM using the prompt.\n",
    "  - Parses the output into the structured schema.\n",
    "\n",
    "### Summary\n",
    "\n",
    "This setup enables the LLM to:\n",
    "- Receive a patent description.\n",
    "- Retrieve relevant TRIZ principles from the vectorstore.\n",
    "- Output a structured JSON mapping the patent to TRIZ elements, including any new derived elements, following strict formatting and validation rules."
   ]
  },
  {
   "cell_type": "code",
   "execution_count": 24,
   "id": "1eb7bb68",
   "metadata": {},
   "outputs": [],
   "source": [
    "# Build prompt\n",
    "template = \"\"\"A seguir, você receberá o título e o resumo de uma patente em português.\n",
    "Use o contexto oriundo da base TRIZ de objeto, tarefa, tipo de efeito e efeito físico a \n",
    "seguir para conectar a patente a uma relação na TRIZ.\n",
    "\n",
    "Você também tem a liberdade de criar novas relações baseadas na TRIZ caso identifique \n",
    "que o efeito, tarefa, objeto e efeito físico não estejam presentes na base. Nesse caso, \n",
    "o objeto de retorno deve assinalar o campo `derived_from` com o nome do elemento mais \n",
    "próximo já existente na TRIZ.\n",
    "\n",
    "É importante que vc deve tentar criar novos elementos somente se não tiver um \n",
    "objeto, tarefa, tipo de efeito e efeito físico que se encaixem na base TRIZ. É importante\n",
    "tentar priorizar um elemento que já exista na TRIZ. Só traga um novo elemento se \n",
    "realmente nenhum elemento se aproximar do contexto.\n",
    "\n",
    "Se você não conseguir fazer uma resposta com o \n",
    "contexto, apenas diga que não sabe, não tente inventar uma resposta.\n",
    "\n",
    "# Regras\n",
    "- Se o elemento já existir na TRIZ, você deve retornar o campo\n",
    "  `derived_from` como `None`.\n",
    "- Se o elemento for derivado, você deve retornar `derived_from` \n",
    "  com o nome do elemento mais próximo já existente na TRIZ.\n",
    "- Sempre que um componente for derivado, na sua saída o campo \n",
    "  `derived_from` deve contar o nome do elemento mais próximo \n",
    "  já existente na TRIZ.\n",
    "\n",
    "# Formato de saída\n",
    "O formato de saída deve ser um JSON com os seguintes campos:\n",
    "- `effect`: `effect`, tipo de efeito (ex: \"Aumento da temperatura\"), além do campo\n",
    "  `derived_from` que é o nome do efeito mais próximo já existente na TRIZ.\n",
    "- `task`: `task` Tarefa (ex: \"Aumentar a temperatura\"), além do campo \n",
    "  `derived_from` que é o nome do efeito mais próximo já existente na TRIZ.\n",
    "- `object`: `object` Objeto (ex: \"Água\"), além do campo `derived_from`\n",
    "que é o nome do efeito mais próximo já existente na TRIZ.\n",
    "- `physical_effect`: `physical_effect` Efeito físico (ex: \"Aumento da temperatura\"), \n",
    "  além do campo `derived_from` que é o nome do efeito mais próximo já existente na TRIZ.\n",
    "\n",
    "Exemplo:\n",
    "```json\n",
    "{{\n",
    "  \"kind_effect\": {{\n",
    "    \"effect\": \"string\",        // Tipo do efeito (ex: \"Mecânico\", \"Térmico\")\n",
    "    \"derived_from\": \"string?\"  // Opcional: efeito origem se derivado de um existente\n",
    "  }},\n",
    "  \"task\": {{\n",
    "    \"task\": \"string\",         // Ação/tarefa (ex: \"Comprimir\", \"Aquecer\") \n",
    "    \"derived_from\": \"string?\" // Opcional: tarefa origem se derivada de uma existente\n",
    "  }},\n",
    "  \"object\": {{\n",
    "    \"object\": \"string\",       // Objeto alvo (ex: \"Água\", \"Metal\")\n",
    "    \"derived_from\": \"string?\" // Opcional: objeto origem se derivado de um existente\n",
    "  }},\n",
    "  \"physical_effect\": {{\n",
    "    \"physical_effect\": \"string\", // Efeito físico (ex: \"Aumento de temperatura\")\n",
    "    \"derived_from\": \"string?\"    // Opcional: efeito origem se derivado de um existente\n",
    "  }}\n",
    "}}\n",
    "```\n",
    "\n",
    "Regras:\n",
    "1. Todos os campos de texto são obrigatórios\n",
    "2. O campo `derived_from` deve ser:\n",
    "  - `null` se o elemento já existe na base TRIZ\n",
    "  - Uma string com o nome do elemento mais próximo existente se for derivado\n",
    "3. Mantenha a terminologia consistente com os elementos TRIZ existentes\n",
    "4. Use descrições claras e específicas para cada campo\n",
    "\n",
    "Contexto: {context}\n",
    "{input}\n",
    "Resposta:\"\"\"\n",
    "\n",
    "retriever = vectorstore.as_retriever(search_kwargs={\"k\": 3})\n",
    "\n",
    "parser = PydanticOutputParser(pydantic_object=TrizSchema)\n",
    "template_with_instructions = PromptTemplate(\n",
    "    template=template + \"\\n\\n{format_instructions}\",\n",
    "    input_variables=[\"context\", \"question\"],\n",
    "    partial_variables={\"format_instructions\": parser.get_format_instructions()},\n",
    ")\n",
    "\n",
    "combine_docs_chain = create_stuff_documents_chain(llm, template_with_instructions)\n",
    "\n",
    "qa_chain = create_retrieval_chain(retriever, combine_docs_chain)\n"
   ]
  },
  {
   "cell_type": "code",
   "execution_count": 25,
   "id": "73b048bb",
   "metadata": {},
   "outputs": [
    {
     "data": {
      "text/html": [
       "<div>\n",
       "<style scoped>\n",
       "    .dataframe tbody tr th:only-of-type {\n",
       "        vertical-align: middle;\n",
       "    }\n",
       "\n",
       "    .dataframe tbody tr th {\n",
       "        vertical-align: top;\n",
       "    }\n",
       "\n",
       "    .dataframe thead th {\n",
       "        text-align: right;\n",
       "    }\n",
       "</style>\n",
       "<table border=\"1\" class=\"dataframe\">\n",
       "  <thead>\n",
       "    <tr style=\"text-align: right;\">\n",
       "      <th></th>\n",
       "      <th>id_pedido</th>\n",
       "      <th>data_deposito</th>\n",
       "      <th>titulo</th>\n",
       "      <th>ipc</th>\n",
       "      <th>url</th>\n",
       "      <th>resumo</th>\n",
       "      <th>classifica_ipc</th>\n",
       "      <th>titulo_english</th>\n",
       "      <th>match_top_10_title</th>\n",
       "    </tr>\n",
       "  </thead>\n",
       "  <tbody>\n",
       "    <tr>\n",
       "      <th>0</th>\n",
       "      <td>BR 11 2021 018393 0</td>\n",
       "      <td>02/03/2020</td>\n",
       "      <td>TRATAMENTO DE COLISÕES EM UPLINK</td>\n",
       "      <td>H04L 1/18</td>\n",
       "      <td>https://busca.inpi.gov.br/pePI/servlet/Patente...</td>\n",
       "      <td>A presente invenção se refere a métodos, sis...</td>\n",
       "      <td>H04L 1/18</td>\n",
       "      <td>Treatment of collisions in Uplink</td>\n",
       "      <td>{'Move', 'Break Down', 'Change Phase', 'Separa...</td>\n",
       "    </tr>\n",
       "    <tr>\n",
       "      <th>1</th>\n",
       "      <td>BR 11 2021 018071 0</td>\n",
       "      <td>02/03/2020</td>\n",
       "      <td>ALOJAMENTO DE VELA DE IGNIÇÃO COM PROTEÇÃO ANT...</td>\n",
       "      <td>H01T 13/14</td>\n",
       "      <td>https://busca.inpi.gov.br/pePI/servlet/Patente...</td>\n",
       "      <td>ALOJAMENTO DE VELA DE IGNIÇÃO COM PROTEÇÃO A...</td>\n",
       "      <td>H01T 13/14 ;  H01T 13/20 ;  H01T 13/32 ;  H0...</td>\n",
       "      <td>In this case, it is necessary to ensure that y...</td>\n",
       "      <td>{'Move', 'Break Down'}</td>\n",
       "    </tr>\n",
       "    <tr>\n",
       "      <th>2</th>\n",
       "      <td>BR 11 2021 016947 4</td>\n",
       "      <td>02/03/2020</td>\n",
       "      <td>ANTICORPOS QUE RECONHECEM TAU</td>\n",
       "      <td>C07K 16/18</td>\n",
       "      <td>https://busca.inpi.gov.br/pePI/servlet/Patente...</td>\n",
       "      <td>ANTICORPOS QUE RECONHECEM TAU. A invenção fo...</td>\n",
       "      <td>C07K 16/18 ;  G01N 33/68</td>\n",
       "      <td>Antibodies that recognize you</td>\n",
       "      <td>{'Move', 'Break Down', 'Change Phase', 'Cool',...</td>\n",
       "    </tr>\n",
       "    <tr>\n",
       "      <th>3</th>\n",
       "      <td>BR 10 2020 004169 0</td>\n",
       "      <td>02/03/2020</td>\n",
       "      <td>AQUECEDOR DE AR A LENHA COM DUPLA EXAUSTÃO PAR...</td>\n",
       "      <td>F24H 3/00</td>\n",
       "      <td>https://busca.inpi.gov.br/pePI/servlet/Patente...</td>\n",
       "      <td>AQUECEDOR DE AR A LENHA COM DUPLA EXAUSTAO P...</td>\n",
       "      <td>F24H 3/008 ;  F24H 4/06</td>\n",
       "      <td>Air heater with double exhaust to be used in a...</td>\n",
       "      <td>{'Move', 'Break Down', 'Expand', 'Separate', '...</td>\n",
       "    </tr>\n",
       "    <tr>\n",
       "      <th>4</th>\n",
       "      <td>BR 11 2021 006234 3</td>\n",
       "      <td>02/03/2020</td>\n",
       "      <td>BIBLIOTECAS DE CÉLULAS ÚNICAS E NÚCLEOS ÚNICOS...</td>\n",
       "      <td>C12N 15/10</td>\n",
       "      <td>https://busca.inpi.gov.br/pePI/servlet/Patente...</td>\n",
       "      <td>BIBLIOTECAS DE CÉLULAS ÚNICAS E NÚCLEOS ÚNIC...</td>\n",
       "      <td>C12N 15/10</td>\n",
       "      <td>Unique cell libraries and unique high-end nucl...</td>\n",
       "      <td>{'Remove', 'Break Down', 'Move', 'Concentrate'...</td>\n",
       "    </tr>\n",
       "  </tbody>\n",
       "</table>\n",
       "</div>"
      ],
      "text/plain": [
       "             id_pedido data_deposito  \\\n",
       "0  BR 11 2021 018393 0    02/03/2020   \n",
       "1  BR 11 2021 018071 0    02/03/2020   \n",
       "2  BR 11 2021 016947 4    02/03/2020   \n",
       "3  BR 10 2020 004169 0    02/03/2020   \n",
       "4  BR 11 2021 006234 3    02/03/2020   \n",
       "\n",
       "                                              titulo         ipc  \\\n",
       "0                   TRATAMENTO DE COLISÕES EM UPLINK   H04L 1/18   \n",
       "1  ALOJAMENTO DE VELA DE IGNIÇÃO COM PROTEÇÃO ANT...  H01T 13/14   \n",
       "2                      ANTICORPOS QUE RECONHECEM TAU  C07K 16/18   \n",
       "3  AQUECEDOR DE AR A LENHA COM DUPLA EXAUSTÃO PAR...   F24H 3/00   \n",
       "4  BIBLIOTECAS DE CÉLULAS ÚNICAS E NÚCLEOS ÚNICOS...  C12N 15/10   \n",
       "\n",
       "                                                 url  \\\n",
       "0  https://busca.inpi.gov.br/pePI/servlet/Patente...   \n",
       "1  https://busca.inpi.gov.br/pePI/servlet/Patente...   \n",
       "2  https://busca.inpi.gov.br/pePI/servlet/Patente...   \n",
       "3  https://busca.inpi.gov.br/pePI/servlet/Patente...   \n",
       "4  https://busca.inpi.gov.br/pePI/servlet/Patente...   \n",
       "\n",
       "                                              resumo  \\\n",
       "0    A presente invenção se refere a métodos, sis...   \n",
       "1    ALOJAMENTO DE VELA DE IGNIÇÃO COM PROTEÇÃO A...   \n",
       "2    ANTICORPOS QUE RECONHECEM TAU. A invenção fo...   \n",
       "3    AQUECEDOR DE AR A LENHA COM DUPLA EXAUSTAO P...   \n",
       "4    BIBLIOTECAS DE CÉLULAS ÚNICAS E NÚCLEOS ÚNIC...   \n",
       "\n",
       "                                      classifica_ipc  \\\n",
       "0                                          H04L 1/18   \n",
       "1    H01T 13/14 ;  H01T 13/20 ;  H01T 13/32 ;  H0...   \n",
       "2                           C07K 16/18 ;  G01N 33/68   \n",
       "3                            F24H 3/008 ;  F24H 4/06   \n",
       "4                                         C12N 15/10   \n",
       "\n",
       "                                      titulo_english  \\\n",
       "0                  Treatment of collisions in Uplink   \n",
       "1  In this case, it is necessary to ensure that y...   \n",
       "2                      Antibodies that recognize you   \n",
       "3  Air heater with double exhaust to be used in a...   \n",
       "4  Unique cell libraries and unique high-end nucl...   \n",
       "\n",
       "                                  match_top_10_title  \n",
       "0  {'Move', 'Break Down', 'Change Phase', 'Separa...  \n",
       "1                             {'Move', 'Break Down'}  \n",
       "2  {'Move', 'Break Down', 'Change Phase', 'Cool',...  \n",
       "3  {'Move', 'Break Down', 'Expand', 'Separate', '...  \n",
       "4  {'Remove', 'Break Down', 'Move', 'Concentrate'...  "
      ]
     },
     "execution_count": 25,
     "metadata": {},
     "output_type": "execute_result"
    }
   ],
   "source": [
    "df_patents = pd.read_csv(\"../../data/processed/patentes_inpi_english_matched.csv\")\n",
    "df_patents.head()"
   ]
  },
  {
   "cell_type": "code",
   "execution_count": 26,
   "id": "c34aaffb",
   "metadata": {},
   "outputs": [
    {
     "name": "stdout",
     "output_type": "stream",
     "text": [
      "Título: CONJUNTO DE ESPAÇOS DE PESQUISA PARA SINAL DE ATIVAÇÃO\n",
      "Abstract:   CONJUNTO DE ESPAÇOS DE PESQUISA PARA SINAL DE ATIVAÇÃO. Vários aspectos da presente revelação geralmente se referem à comunicação não cabeada. Em alguns aspectos, um equipamento do usuário (UE) pode monitorar um conjunto de espaços de pesquisa de sinal de ativação (WUS-SS) para um sinal de ativação (WUS) de canal físico compartilhado de downlink (PDCCH). O UE pode detectar o PDCCH WUS no conjunto WUS-SS baseado pelo menos em parte em monitorar o conjunto WUS-SS. Vários outros aspectos são proporcionados.\n",
      "```json\n",
      "{\n",
      "  \"kind_effect\": {\n",
      "    \"effect\": \"Detectar\",\n",
      "    \"derived_from\": null\n",
      "  },\n",
      "  \"task\": {\n",
      "    \"task\": \"Monitorar\",\n",
      "    \"derived_from\": \"Detectar\"\n",
      "  },\n",
      "  \"object\": {\n",
      "    \"object\": \"Sinal de Ativação\",\n",
      "    \"derived_from\": null\n",
      "  },\n",
      "  \"physical_effect\": {\n",
      "    \"physical_effect\": \"Comunicação Não Cabeada\",\n",
      "    \"derived_from\": null\n",
      "  }\n",
      "}\n",
      "```\n",
      "kind_effect=TrizEffect(derived_from=None, effect='Detectar') task=TrizTask(derived_from='Detectar', task='Monitorar') object=TrizObject(derived_from=None, object='Sinal de Ativação') physical_effect=TrizPhysicalEffect(derived_from=None, physical_effect='Comunicação Não Cabeada')\n",
      "\n",
      "\n"
     ]
    }
   ],
   "source": [
    "i = 10\n",
    "title = df_patents.iloc[i][\"titulo\"]\n",
    "abstract = df_patents.iloc[i][\"resumo\"]\n",
    "\n",
    "query = f\"\"\"Título: {title}\n",
    "Abstract: {abstract}\"\"\"\n",
    "\n",
    "\n",
    "raw_output = qa_chain.invoke({\"input\": query})\n",
    "# raw_output is a dict with key 'result' or similar containing string output\n",
    "text_output = raw_output[\"answer\"]  # or adjust key as per your chain\n",
    "# parse string output into Pydantic model\n",
    "structured_output = parser.parse(text_output)\n",
    "\n",
    "print(query)\n",
    "print(text_output)\n",
    "print(structured_output)\n",
    "print('\\n')"
   ]
  },
  {
   "cell_type": "markdown",
   "id": "982811a4",
   "metadata": {},
   "source": [
    "### Explanation: `insert_derived_elements` Function\n",
    "\n",
    "The `insert_derived_elements` function is responsible for identifying and storing new (derived) TRIZ elements generated by the LLM that are not present in the original TRIZ base. Here’s how it works:\n",
    "\n",
    "1. **Purpose**  \n",
    "   - To check the structured output from the LLM for any fields (`kind_effect`, `task`, `object`, `physical_effect`) that are marked as \"derived\" (i.e., their `derived_from` attribute is not `None`).\n",
    "   - To add these new derived elements to the vectorstore for future retrieval and semantic search.\n",
    "\n",
    "2. **How it Works**  \n",
    "   - The function iterates over each of the four main TRIZ fields in the structured output.\n",
    "   - For each field, it checks if the `derived_from` attribute is filled (not `None`). If so, it collects information about the derived element (field name, value, and what it was derived from).\n",
    "   - If any derived elements are found, it creates a new row (dictionary) with the values for `TAREFA`, `TIPO DE EFEITO`, `OBJETO`, and `EFEITO FÍSICO` from the structured output.\n",
    "   - It then uses the `build_entry` function to create a new document (with text and metadata) and adds this document to the vectorstore.\n",
    "   - Finally, it prints information about each derived element added and the text that was inserted into the vectorstore.\n",
    "\n",
    "3. **Why is this Useful?**  \n",
    "   - This approach allows the system to dynamically expand the TRIZ knowledge base with new, LLM-suggested relationships, while keeping track of their origin.\n",
    "   - It ensures that the vectorstore remains up-to-date and can support richer, more flexible semantic search and reasoning in future queries.\n",
    "\n",
    "**In summary:**  \n",
    "Whenever the LLM proposes a new TRIZ element (not found in the base), this function logs and stores it, making the knowledge base grow automatically as new patents are processed."
   ]
  },
  {
   "cell_type": "code",
   "execution_count": 27,
   "id": "45ac3128",
   "metadata": {},
   "outputs": [],
   "source": [
    "def insert_derived_elements(structured_output, vectorstore):\n",
    "    \"\"\"\n",
    "    Insere elementos derivados no vectorstore e printa informações sobre os elementos adicionados.\n",
    "    \n",
    "    Args:\n",
    "        structured_output: Output estruturado do modelo LLM\n",
    "        vectorstore: Instância do Chroma para armazenar vetores\n",
    "    \"\"\"\n",
    "    derived_elements = []\n",
    "    \n",
    "    # Para cada campo do schema, verifica se é derivado\n",
    "    for field_name in [\"kind_effect\", \"task\", \"object\", \"physical_effect\"]:\n",
    "        field = getattr(structured_output, field_name, None)\n",
    "        \n",
    "        # Verifica se o campo tem derived_from preenchido (não None)\n",
    "        if field and field.derived_from:\n",
    "            derived_elements.append({\n",
    "                \"field\": field_name,\n",
    "                \"value\": getattr(field, field_name.split('_')[-1]),  # get 'effect', 'task', etc\n",
    "                \"derived_from\": field.derived_from\n",
    "            })\n",
    "    \n",
    "    # Se encontrou elementos derivados, cria nova entrada\n",
    "    if derived_elements:\n",
    "        new_row = {\n",
    "            \"TAREFA\": getattr(structured_output.task, \"task\", \"\"),\n",
    "            \"TIPO DE EFEITO\": getattr(structured_output.kind_effect, \"effect\", \"\"),\n",
    "            \"OBJETO\": getattr(structured_output.object, \"object\", \"\"),\n",
    "            \"EFEITO FÍSICO\": getattr(structured_output.physical_effect, \"physical_effect\", \"\")\n",
    "        }\n",
    "        \n",
    "        # Cria e adiciona documento\n",
    "        entry = build_entry(new_row)\n",
    "        doc = Document(page_content=entry[\"text\"], metadata=entry[\"metadata\"])\n",
    "        vectorstore.add_documents([doc])\n",
    "        \n",
    "        # Printa informações sobre elementos derivados\n",
    "        print(\"\\nElementos derivados adicionados ao vectorstore:\")\n",
    "        for elem in derived_elements:\n",
    "            print(f\"- {elem['field']}: '{elem['value']}' (derivado de '{elem['derived_from']}')\")\n",
    "        print(f\"Texto adicionado: {entry['text']}\")"
   ]
  },
  {
   "cell_type": "code",
   "execution_count": 28,
   "id": "633c1b65",
   "metadata": {},
   "outputs": [
    {
     "name": "stderr",
     "output_type": "stream",
     "text": [
      "  2%|▏         | 5/329 [00:16<17:19,  3.21s/it]"
     ]
    },
    {
     "name": "stdout",
     "output_type": "stream",
     "text": [
      "Erro no índice 2179: 'TrizPhysicalEffect' object has no attribute 'effect'\n"
     ]
    },
    {
     "name": "stderr",
     "output_type": "stream",
     "text": [
      "  2%|▏         | 7/329 [00:23<17:50,  3.33s/it]"
     ]
    },
    {
     "name": "stdout",
     "output_type": "stream",
     "text": [
      "\n",
      "Elementos derivados adicionados ao vectorstore:\n",
      "- kind_effect: 'Produção de gás' (derivado de 'Produzir')\n",
      "- task: 'Produzir gás liquefeito de petróleo' (derivado de 'Produzir')\n",
      "- object: 'Gás liquefeito de petróleo' (derivado de 'Gás')\n",
      "Texto adicionado: O \"Produzir gás liquefeito de petróleo\" é um Produção de gás, que no Gás liquefeito de petróleo causa Conversão de álcoois para propano e/ou butano.\n"
     ]
    },
    {
     "name": "stderr",
     "output_type": "stream",
     "text": [
      "  3%|▎         | 9/329 [00:28<15:00,  2.81s/it]"
     ]
    },
    {
     "name": "stdout",
     "output_type": "stream",
     "text": [
      "Erro no índice 203: 'TrizPhysicalEffect' object has no attribute 'effect'\n"
     ]
    },
    {
     "name": "stderr",
     "output_type": "stream",
     "text": [
      "  3%|▎         | 10/329 [00:50<47:13,  8.88s/it]"
     ]
    },
    {
     "name": "stdout",
     "output_type": "stream",
     "text": [
      "\n",
      "Elementos derivados adicionados ao vectorstore:\n",
      "- object: 'Agente de proteção de culturas' (derivado de 'Pesticidas')\n",
      "Texto adicionado: O \"Aplicação\" é um Substância aglutinante, que no Agente de proteção de culturas causa Substância aglutinante.\n",
      "\n",
      "Elementos derivados adicionados ao vectorstore:\n",
      "- task: 'Prevenir separação' (derivado de 'Segurar')\n",
      "Texto adicionado: O \"Prevenir separação\" é um Separação, que no Tubo de aço preenchido com concreto causa Integração estrutural.\n"
     ]
    },
    {
     "name": "stderr",
     "output_type": "stream",
     "text": [
      "  5%|▌         | 18/329 [00:57<13:50,  2.67s/it]"
     ]
    },
    {
     "name": "stdout",
     "output_type": "stream",
     "text": [
      "\n",
      "Elementos derivados adicionados ao vectorstore:\n",
      "- task: 'Modificar estrutura' (derivado de 'Desmembrar')\n",
      "- object: 'Veículo' (derivado de 'Sólido')\n",
      "Texto adicionado: O \"Modificar estrutura\" é um Mecânico, que no Veículo causa Eixo.\n"
     ]
    },
    {
     "name": "stderr",
     "output_type": "stream",
     "text": [
      "  6%|▌         | 19/329 [01:00<13:48,  2.67s/it]"
     ]
    },
    {
     "name": "stdout",
     "output_type": "stream",
     "text": [
      "\n",
      "Elementos derivados adicionados ao vectorstore:\n",
      "- task: 'Produzir partículas de carbono nanoestruturado' (derivado de 'Produzir')\n",
      "Texto adicionado: O \"Produzir partículas de carbono nanoestruturado\" é um Produzir, que no Nanotubo de carbono causa Reações no estado sólido.\n"
     ]
    },
    {
     "name": "stderr",
     "output_type": "stream",
     "text": [
      "  7%|▋         | 22/329 [01:06<12:28,  2.44s/it]"
     ]
    },
    {
     "name": "stdout",
     "output_type": "stream",
     "text": [
      "\n",
      "Elementos derivados adicionados ao vectorstore:\n",
      "- object: 'Cinto de segurança' (derivado de 'Sólido')\n",
      "Texto adicionado: O \"Segurar\" é um Mecânico, que no Cinto de segurança causa Mechanical Fastener(thread, twist, etc).\n"
     ]
    },
    {
     "name": "stderr",
     "output_type": "stream",
     "text": [
      "  7%|▋         | 23/329 [01:08<11:37,  2.28s/it]"
     ]
    },
    {
     "name": "stdout",
     "output_type": "stream",
     "text": [
      "Erro no índice 1231: Invalid json output: I'm sorry, but I cannot determine a suitable TRIZ relationship for the provided patent information based on the given context.\n",
      "For troubleshooting, visit: https://python.langchain.com/docs/troubleshooting/errors/OUTPUT_PARSING_FAILURE \n"
     ]
    },
    {
     "name": "stderr",
     "output_type": "stream",
     "text": [
      "  7%|▋         | 24/329 [01:11<12:41,  2.50s/it]"
     ]
    },
    {
     "name": "stdout",
     "output_type": "stream",
     "text": [
      "Erro no índice 1789: 'TrizPhysicalEffect' object has no attribute 'effect'\n"
     ]
    },
    {
     "name": "stderr",
     "output_type": "stream",
     "text": [
      "  8%|▊         | 25/329 [01:13<12:35,  2.48s/it]"
     ]
    },
    {
     "name": "stdout",
     "output_type": "stream",
     "text": [
      "Erro no índice 1791: 'TrizPhysicalEffect' object has no attribute 'effect'\n"
     ]
    },
    {
     "name": "stderr",
     "output_type": "stream",
     "text": [
      "  9%|▉         | 30/329 [01:27<13:02,  2.62s/it]"
     ]
    },
    {
     "name": "stdout",
     "output_type": "stream",
     "text": [
      "\n",
      "Elementos derivados adicionados ao vectorstore:\n",
      "- task: 'Adicionar extrato hidrossolúvel' (derivado de 'Extrair')\n",
      "Texto adicionado: O \"Adicionar extrato hidrossolúvel\" é um Extrair, que no Iogurte causa Enriquecimento nutricional.\n"
     ]
    },
    {
     "name": "stderr",
     "output_type": "stream",
     "text": [
      " 10%|█         | 33/329 [01:34<12:22,  2.51s/it]"
     ]
    },
    {
     "name": "stdout",
     "output_type": "stream",
     "text": [
      "Erro no índice 1128: 'TrizPhysicalEffect' object has no attribute 'effect'\n"
     ]
    },
    {
     "name": "stderr",
     "output_type": "stream",
     "text": [
      " 10%|█         | 34/329 [01:36<12:39,  2.57s/it]"
     ]
    },
    {
     "name": "stdout",
     "output_type": "stream",
     "text": [
      "\n",
      "Elementos derivados adicionados ao vectorstore:\n",
      "- task: 'Produção fermentativa de carboidratos' (derivado de 'Fermentação')\n",
      "- object: 'Célula microbiana geneticamente modificada' (derivado de 'Célula de combustível microbiana')\n",
      "Texto adicionado: O \"Produção fermentativa de carboidratos\" é um Produzir, que no Célula microbiana geneticamente modificada causa Fermentação.\n"
     ]
    },
    {
     "name": "stderr",
     "output_type": "stream",
     "text": [
      " 11%|█         | 37/329 [01:45<13:15,  2.72s/it]"
     ]
    },
    {
     "name": "stdout",
     "output_type": "stream",
     "text": [
      "\n",
      "Elementos derivados adicionados ao vectorstore:\n",
      "- task: 'Detectar micro-organismos' (derivado de 'Detectar')\n",
      "- object: 'Listeria spp.' (derivado de 'Líquido')\n",
      "Texto adicionado: O \"Detectar micro-organismos\" é um Detecção, que no Listeria spp. causa Amplificação de sinal.\n"
     ]
    },
    {
     "name": "stderr",
     "output_type": "stream",
     "text": [
      " 12%|█▏        | 40/329 [01:52<12:27,  2.59s/it]"
     ]
    },
    {
     "name": "stdout",
     "output_type": "stream",
     "text": [
      "\n",
      "Elementos derivados adicionados ao vectorstore:\n",
      "- object: 'Poliéster líquido-cristalino' (derivado de 'Líquido')\n",
      "Texto adicionado: O \"Comprimir\" é um Mecânico, que no Poliéster líquido-cristalino causa Aumento da resistência à fadiga por flexão.\n"
     ]
    },
    {
     "name": "stderr",
     "output_type": "stream",
     "text": [
      " 12%|█▏        | 41/329 [01:55<13:13,  2.76s/it]"
     ]
    },
    {
     "name": "stdout",
     "output_type": "stream",
     "text": [
      "Erro no índice 298: 'TrizPhysicalEffect' object has no attribute 'effect'\n"
     ]
    },
    {
     "name": "stderr",
     "output_type": "stream",
     "text": [
      " 13%|█▎        | 42/329 [01:58<12:53,  2.70s/it]"
     ]
    },
    {
     "name": "stdout",
     "output_type": "stream",
     "text": [
      "\n",
      "Elementos derivados adicionados ao vectorstore:\n",
      "- object: 'Célula imune' (derivado de 'Listeria spp.')\n",
      "Texto adicionado: O \"Detectar\" é um Detecção, que no Célula imune causa Amplificação de sinal.\n"
     ]
    },
    {
     "name": "stderr",
     "output_type": "stream",
     "text": [
      " 13%|█▎        | 43/329 [02:00<12:56,  2.71s/it]"
     ]
    },
    {
     "name": "stdout",
     "output_type": "stream",
     "text": [
      "\n",
      "Elementos derivados adicionados ao vectorstore:\n",
      "- task: 'Aplicar' (derivado de 'Aplicação')\n",
      "- object: 'Inseticida' (derivado de 'Agente de proteção de culturas')\n",
      "Texto adicionado: O \"Aplicar\" é um Substância aglutinante, que no Inseticida causa Geração de espécies reativas a oxigênio.\n"
     ]
    },
    {
     "name": "stderr",
     "output_type": "stream",
     "text": [
      " 13%|█▎        | 44/329 [02:04<13:22,  2.82s/it]"
     ]
    },
    {
     "name": "stdout",
     "output_type": "stream",
     "text": [
      "\n",
      "Elementos derivados adicionados ao vectorstore:\n",
      "- task: 'Fixar' (derivado de 'Segurar')\n",
      "Texto adicionado: O \"Fixar\" é um Mecânico, que no Plataforma de estação de equipamentos causa Mechanical Fastener(thread, twist, etc).\n"
     ]
    },
    {
     "name": "stderr",
     "output_type": "stream",
     "text": [
      " 14%|█▎        | 45/329 [02:07<13:40,  2.89s/it]"
     ]
    },
    {
     "name": "stdout",
     "output_type": "stream",
     "text": [
      "\n",
      "Elementos derivados adicionados ao vectorstore:\n",
      "- task: 'Aumentar o sabor doce' (derivado de 'Secar')\n",
      "- object: 'Pó de planta seca' (derivado de 'Sólido')\n",
      "Texto adicionado: O \"Aumentar o sabor doce\" é um Secar, que no Pó de planta seca causa Ultrasonic Drying.\n"
     ]
    },
    {
     "name": "stderr",
     "output_type": "stream",
     "text": [
      " 15%|█▍        | 48/329 [02:14<12:26,  2.66s/it]"
     ]
    },
    {
     "name": "stdout",
     "output_type": "stream",
     "text": [
      "Erro no índice 30: 'TrizPhysicalEffect' object has no attribute 'effect'\n"
     ]
    },
    {
     "name": "stderr",
     "output_type": "stream",
     "text": [
      " 16%|█▌        | 52/329 [02:24<11:12,  2.43s/it]"
     ]
    },
    {
     "name": "stdout",
     "output_type": "stream",
     "text": [
      "Erro no índice 1001: 'TrizPhysicalEffect' object has no attribute 'effect'\n"
     ]
    },
    {
     "name": "stderr",
     "output_type": "stream",
     "text": [
      " 17%|█▋        | 56/329 [02:36<13:40,  3.01s/it]"
     ]
    },
    {
     "name": "stdout",
     "output_type": "stream",
     "text": [
      "Erro no índice 864: 'TrizPhysicalEffect' object has no attribute 'effect'\n"
     ]
    },
    {
     "name": "stderr",
     "output_type": "stream",
     "text": [
      " 18%|█▊        | 58/329 [02:39<10:31,  2.33s/it]"
     ]
    },
    {
     "name": "stdout",
     "output_type": "stream",
     "text": [
      "Erro no índice 1242: Invalid json output: I'm sorry, but I can't determine the TRIZ elements based on the provided information.\n",
      "For troubleshooting, visit: https://python.langchain.com/docs/troubleshooting/errors/OUTPUT_PARSING_FAILURE \n"
     ]
    },
    {
     "name": "stderr",
     "output_type": "stream",
     "text": [
      " 19%|█▊        | 61/329 [02:48<12:23,  2.77s/it]"
     ]
    },
    {
     "name": "stdout",
     "output_type": "stream",
     "text": [
      "\n",
      "Elementos derivados adicionados ao vectorstore:\n",
      "- kind_effect: 'Construção subaquática' (derivado de 'Bomba hidráulica')\n",
      "- task: 'Construir estrutura subaquática' (derivado de 'Concentrar')\n",
      "- object: 'Bloco de concreto' (derivado de 'Sólido dividido')\n",
      "Texto adicionado: O \"Construir estrutura subaquática\" é um Construção subaquática, que no Bloco de concreto causa Aumento da estabilidade estrutural.\n"
     ]
    },
    {
     "name": "stderr",
     "output_type": "stream",
     "text": [
      " 19%|█▉        | 63/329 [02:54<12:26,  2.81s/it]"
     ]
    },
    {
     "name": "stdout",
     "output_type": "stream",
     "text": [
      "\n",
      "Elementos derivados adicionados ao vectorstore:\n",
      "- task: 'Alinhar' (derivado de 'Orientar')\n",
      "- object: 'Dispositivo de conexão' (derivado de 'Válvula (tubulação)')\n",
      "Texto adicionado: O \"Alinhar\" é um Mecânico, que no Dispositivo de conexão causa Movimento relativo.\n"
     ]
    },
    {
     "name": "stderr",
     "output_type": "stream",
     "text": [
      " 20%|█▉        | 65/329 [02:59<12:01,  2.73s/it]"
     ]
    },
    {
     "name": "stdout",
     "output_type": "stream",
     "text": [
      "Erro no índice 256: 'TrizPhysicalEffect' object has no attribute 'effect'\n"
     ]
    },
    {
     "name": "stderr",
     "output_type": "stream",
     "text": [
      " 22%|██▏       | 71/329 [03:12<10:15,  2.39s/it]"
     ]
    },
    {
     "name": "stdout",
     "output_type": "stream",
     "text": [
      "\n",
      "Elementos derivados adicionados ao vectorstore:\n",
      "- kind_effect: 'Remoção de resíduos oleosos' (derivado de 'Remover')\n",
      "- task: 'Remover resíduos oleosos' (derivado de 'Remover')\n",
      "Texto adicionado: O \"Remover resíduos oleosos\" é um Remoção de resíduos oleosos, que no Detergente biodegradável causa Desestabilização de óleos pesados.\n"
     ]
    },
    {
     "name": "stderr",
     "output_type": "stream",
     "text": [
      " 22%|██▏       | 72/329 [03:15<11:05,  2.59s/it]"
     ]
    },
    {
     "name": "stdout",
     "output_type": "stream",
     "text": [
      "\n",
      "Elementos derivados adicionados ao vectorstore:\n",
      "- object: 'Filme nanocelulósico' (derivado de 'Nanotubo de carbono')\n",
      "Texto adicionado: O \"Produzir\" é um Reações no estado sólido, que no Filme nanocelulósico causa Aumento da resistência à tração.\n"
     ]
    },
    {
     "name": "stderr",
     "output_type": "stream",
     "text": [
      " 22%|██▏       | 73/329 [03:19<12:46,  2.99s/it]"
     ]
    },
    {
     "name": "stdout",
     "output_type": "stream",
     "text": [
      "Erro no índice 1395: 'TrizPhysicalEffect' object has no attribute 'effect'\n"
     ]
    },
    {
     "name": "stderr",
     "output_type": "stream",
     "text": [
      " 23%|██▎       | 76/329 [03:30<14:27,  3.43s/it]"
     ]
    },
    {
     "name": "stdout",
     "output_type": "stream",
     "text": [
      "\n",
      "Elementos derivados adicionados ao vectorstore:\n",
      "- task: 'Formar um feixe de fibra' (derivado de 'Produzir')\n",
      "- object: 'Feixe de fibra' (derivado de 'Filme nanocelulósico')\n",
      "Texto adicionado: O \"Formar um feixe de fibra\" é um Produzir, que no Feixe de fibra causa Aumento da resistência à tração.\n"
     ]
    },
    {
     "name": "stderr",
     "output_type": "stream",
     "text": [
      " 23%|██▎       | 77/329 [03:34<15:05,  3.59s/it]"
     ]
    },
    {
     "name": "stdout",
     "output_type": "stream",
     "text": [
      "Erro no índice 2631: 'TrizPhysicalEffect' object has no attribute 'effect'\n"
     ]
    },
    {
     "name": "stderr",
     "output_type": "stream",
     "text": [
      " 24%|██▎       | 78/329 [03:36<13:27,  3.22s/it]"
     ]
    },
    {
     "name": "stdout",
     "output_type": "stream",
     "text": [
      "Erro no índice 1667: 'TrizPhysicalEffect' object has no attribute 'effect'\n"
     ]
    },
    {
     "name": "stderr",
     "output_type": "stream",
     "text": [
      " 25%|██▍       | 82/329 [03:50<14:23,  3.49s/it]"
     ]
    },
    {
     "name": "stdout",
     "output_type": "stream",
     "text": [
      "\n",
      "Elementos derivados adicionados ao vectorstore:\n",
      "- kind_effect: 'Conversão química' (derivado de 'Conversão de álcoois para propano e/ou butano')\n",
      "- task: 'Produzir' (derivado de 'Aplicação')\n",
      "Texto adicionado: O \"Produzir\" é um Conversão química, que no Limoneno causa Catálise.\n"
     ]
    },
    {
     "name": "stderr",
     "output_type": "stream",
     "text": [
      " 25%|██▌       | 83/329 [03:52<12:39,  3.09s/it]"
     ]
    },
    {
     "name": "stdout",
     "output_type": "stream",
     "text": [
      "Erro no índice 1373: Invalid json output: I'm sorry, I cannot provide a response based on the given context and rules.\n",
      "For troubleshooting, visit: https://python.langchain.com/docs/troubleshooting/errors/OUTPUT_PARSING_FAILURE \n"
     ]
    },
    {
     "name": "stderr",
     "output_type": "stream",
     "text": [
      " 26%|██▌       | 86/329 [04:03<13:03,  3.22s/it]"
     ]
    },
    {
     "name": "stdout",
     "output_type": "stream",
     "text": [
      "Erro no índice 3235: Invalid json output: I'm sorry, but I cannot determine the TRIZ relationship for the given patent title and abstract without more specific information about the effects, tasks, objects, and physical effects involved. The abstract provided is not detailed enough to make a connection to the TRIZ framework.\n",
      "For troubleshooting, visit: https://python.langchain.com/docs/troubleshooting/errors/OUTPUT_PARSING_FAILURE \n"
     ]
    },
    {
     "name": "stderr",
     "output_type": "stream",
     "text": [
      " 26%|██▋       | 87/329 [04:06<13:44,  3.41s/it]"
     ]
    },
    {
     "name": "stdout",
     "output_type": "stream",
     "text": [
      "\n",
      "Elementos derivados adicionados ao vectorstore:\n",
      "- task: 'Filtrar' (derivado de 'Detectar')\n",
      "Texto adicionado: O \"Filtrar\" é um Filtração, que no Líquido causa Filtração.\n"
     ]
    },
    {
     "name": "stderr",
     "output_type": "stream",
     "text": [
      " 27%|██▋       | 90/329 [04:36<36:11,  9.09s/it]"
     ]
    },
    {
     "name": "stdout",
     "output_type": "stream",
     "text": [
      "Erro no índice 289: Invalid json output: I'm sorry, but I can't assist with that request.\n",
      "For troubleshooting, visit: https://python.langchain.com/docs/troubleshooting/errors/OUTPUT_PARSING_FAILURE \n",
      "\n",
      "Elementos derivados adicionados ao vectorstore:\n",
      "- kind_effect: 'Aumento da adesão' (derivado de 'Aumento da resistência à tração')\n",
      "- object: 'Filme biodegradável' (derivado de 'Filme nanocelulósico')\n",
      "Texto adicionado: O \"Produzir\" é um Aumento da adesão, que no Filme biodegradável causa Biocompatibilidade.\n",
      "Erro no índice 1641: 'TrizPhysicalEffect' object has no attribute 'effect'\n",
      "Erro no índice 325: 'TrizPhysicalEffect' object has no attribute 'effect'\n",
      "Erro no índice 1127: 'TrizPhysicalEffect' object has no attribute 'effect'\n"
     ]
    },
    {
     "name": "stderr",
     "output_type": "stream",
     "text": [
      " 29%|██▉       | 96/329 [04:38<10:58,  2.82s/it]"
     ]
    },
    {
     "name": "stdout",
     "output_type": "stream",
     "text": [
      "Erro no índice 605: Invalid json output: I'm sorry, but I cannot determine a connection to the TRIZ framework based on the provided patent information. The context of the patent, which involves medical treatment for hypercortisolemia and related conditions, does not clearly align with the TRIZ elements of object, task, type of effect, and physical effect as described.\n",
      "For troubleshooting, visit: https://python.langchain.com/docs/troubleshooting/errors/OUTPUT_PARSING_FAILURE \n"
     ]
    },
    {
     "name": "stderr",
     "output_type": "stream",
     "text": [
      " 32%|███▏      | 106/329 [05:13<12:51,  3.46s/it]"
     ]
    },
    {
     "name": "stdout",
     "output_type": "stream",
     "text": [
      "Erro no índice 581: 'TrizPhysicalEffect' object has no attribute 'effect'\n"
     ]
    },
    {
     "name": "stderr",
     "output_type": "stream",
     "text": [
      " 33%|███▎      | 108/329 [05:21<13:05,  3.56s/it]"
     ]
    },
    {
     "name": "stdout",
     "output_type": "stream",
     "text": [
      "Erro no índice 183: 'TrizPhysicalEffect' object has no attribute 'effect'\n"
     ]
    },
    {
     "name": "stderr",
     "output_type": "stream",
     "text": [
      " 33%|███▎      | 109/329 [05:25<13:48,  3.77s/it]"
     ]
    },
    {
     "name": "stdout",
     "output_type": "stream",
     "text": [
      "\n",
      "Elementos derivados adicionados ao vectorstore:\n",
      "- task: 'Detectar condição de superfície' (derivado de 'Detectar')\n",
      "- object: 'Solo' (derivado de 'Sólido')\n",
      "Texto adicionado: O \"Detectar condição de superfície\" é um Detectar, que no Solo causa Onda acústica de superfície.\n"
     ]
    },
    {
     "name": "stderr",
     "output_type": "stream",
     "text": [
      " 33%|███▎      | 110/329 [05:28<13:24,  3.68s/it]"
     ]
    },
    {
     "name": "stdout",
     "output_type": "stream",
     "text": [
      "\n",
      "Elementos derivados adicionados ao vectorstore:\n",
      "- task: 'Preparar bebida' (derivado de 'Separar')\n",
      "- object: 'Chá' (derivado de 'Líquido')\n",
      "Texto adicionado: O \"Preparar bebida\" é um Separar, que no Chá causa Paradoxo das folhas de chá.\n"
     ]
    },
    {
     "name": "stderr",
     "output_type": "stream",
     "text": [
      " 34%|███▎      | 111/329 [05:31<12:37,  3.48s/it]"
     ]
    },
    {
     "name": "stdout",
     "output_type": "stream",
     "text": [
      "Erro no índice 1533: 'TrizPhysicalEffect' object has no attribute 'effect'\n"
     ]
    },
    {
     "name": "stderr",
     "output_type": "stream",
     "text": [
      " 34%|███▍      | 112/329 [05:35<13:08,  3.63s/it]"
     ]
    },
    {
     "name": "stdout",
     "output_type": "stream",
     "text": [
      "\n",
      "Elementos derivados adicionados ao vectorstore:\n",
      "- task: 'Injetar' (derivado de 'Comprimir')\n",
      "- object: 'Fluido' (derivado de 'Líquido')\n",
      "Texto adicionado: O \"Injetar\" é um Prevenir, que no Fluido causa Válvula (tubulação).\n"
     ]
    },
    {
     "name": "stderr",
     "output_type": "stream",
     "text": [
      " 35%|███▍      | 115/329 [05:49<16:01,  4.49s/it]"
     ]
    },
    {
     "name": "stdout",
     "output_type": "stream",
     "text": [
      "Erro no índice 102: 'TrizPhysicalEffect' object has no attribute 'effect'\n"
     ]
    },
    {
     "name": "stderr",
     "output_type": "stream",
     "text": [
      " 35%|███▌      | 116/329 [06:11<34:40,  9.77s/it]"
     ]
    },
    {
     "name": "stdout",
     "output_type": "stream",
     "text": [
      "Erro no índice 1465: 'TrizPhysicalEffect' object has no attribute 'effect'\n"
     ]
    },
    {
     "name": "stderr",
     "output_type": "stream",
     "text": [
      " 36%|███▌      | 118/329 [06:16<22:36,  6.43s/it]"
     ]
    },
    {
     "name": "stdout",
     "output_type": "stream",
     "text": [
      "\n",
      "Elementos derivados adicionados ao vectorstore:\n",
      "- task: 'Detecção de moléculas' (derivado de 'Detectar')\n",
      "Texto adicionado: O \"Detecção de moléculas\" é um Detectar, que no Ácido nucleico causa Fluorescência aumentada.\n",
      "\n",
      "Elementos derivados adicionados ao vectorstore:\n",
      "- kind_effect: 'Amplificação de sinal' (derivado de 'Detecção')\n",
      "- object: 'Proteína CALR mutante clivada' (derivado de 'Ácido nucleico')\n",
      "Texto adicionado: O \"Detectar\" é um Amplificação de sinal, que no Proteína CALR mutante clivada causa Fluorescência aumentada.\n"
     ]
    },
    {
     "name": "stderr",
     "output_type": "stream",
     "text": [
      " 37%|███▋      | 123/329 [06:16<08:37,  2.51s/it]"
     ]
    },
    {
     "name": "stdout",
     "output_type": "stream",
     "text": [
      "\n",
      "Elementos derivados adicionados ao vectorstore:\n",
      "- task: 'Tratar distúrbios cerebrais' (derivado de 'Aplicar')\n",
      "Texto adicionado: O \"Tratar distúrbios cerebrais\" é um Químico, que no Azepino-indóis e heterociclos causa Interação com neurotransmissores.\n"
     ]
    },
    {
     "name": "stderr",
     "output_type": "stream",
     "text": [
      " 38%|███▊      | 125/329 [06:41<20:14,  5.95s/it]"
     ]
    },
    {
     "name": "stdout",
     "output_type": "stream",
     "text": [
      "\n",
      "Elementos derivados adicionados ao vectorstore:\n",
      "- object: 'Óleo e Gordura' (derivado de 'Líquido')\n",
      "Texto adicionado: O \"Congelar\" é um Congelar, que no Óleo e Gordura causa Coprecipitação.\n",
      "\n",
      "Elementos derivados adicionados ao vectorstore:\n",
      "- task: 'Misturar substâncias' (derivado de 'Misturar')\n",
      "- object: 'Fluidos' (derivado de 'Líquido')\n",
      "Texto adicionado: O \"Misturar substâncias\" é um Misturar, que no Fluidos causa Electromagnetic Stirring.\n"
     ]
    },
    {
     "name": "stderr",
     "output_type": "stream",
     "text": [
      " 40%|███▉      | 131/329 [06:42<08:04,  2.45s/it]"
     ]
    },
    {
     "name": "stdout",
     "output_type": "stream",
     "text": [
      "\n",
      "Elementos derivados adicionados ao vectorstore:\n",
      "- task: 'Fabricação de gelo' (derivado de 'Congelar')\n",
      "- object: 'Recipiente flexível' (derivado de 'Líquido')\n",
      "Texto adicionado: O \"Fabricação de gelo\" é um Congelar, que no Recipiente flexível causa Gel.\n"
     ]
    },
    {
     "name": "stderr",
     "output_type": "stream",
     "text": [
      " 40%|████      | 132/329 [06:45<08:22,  2.55s/it]"
     ]
    },
    {
     "name": "stdout",
     "output_type": "stream",
     "text": [
      "Erro no índice 1187: 'TrizPhysicalEffect' object has no attribute 'effect'\n"
     ]
    },
    {
     "name": "stderr",
     "output_type": "stream",
     "text": [
      " 41%|████      | 135/329 [06:56<09:55,  3.07s/it]"
     ]
    },
    {
     "name": "stdout",
     "output_type": "stream",
     "text": [
      "\n",
      "Elementos derivados adicionados ao vectorstore:\n",
      "- task: 'Conectar' (derivado de 'Produzir')\n",
      "Texto adicionado: O \"Conectar\" é um Mecânico, que no Coluna de ascensão causa Conexão mecânica.\n"
     ]
    },
    {
     "name": "stderr",
     "output_type": "stream",
     "text": [
      " 41%|████▏     | 136/329 [06:58<09:22,  2.91s/it]"
     ]
    },
    {
     "name": "stdout",
     "output_type": "stream",
     "text": [
      "Erro no índice 2208: Invalid json output: I'm sorry, but I cannot determine a suitable TRIZ relationship for the provided patent information based on the given context.\n",
      "For troubleshooting, visit: https://python.langchain.com/docs/troubleshooting/errors/OUTPUT_PARSING_FAILURE \n"
     ]
    },
    {
     "name": "stderr",
     "output_type": "stream",
     "text": [
      " 42%|████▏     | 139/329 [07:09<10:32,  3.33s/it]"
     ]
    },
    {
     "name": "stdout",
     "output_type": "stream",
     "text": [
      "Erro no índice 2787: 'TrizPhysicalEffect' object has no attribute 'effect'\n"
     ]
    },
    {
     "name": "stderr",
     "output_type": "stream",
     "text": [
      " 43%|████▎     | 141/329 [07:36<27:46,  8.86s/it]"
     ]
    },
    {
     "name": "stdout",
     "output_type": "stream",
     "text": [
      "Erro no índice 2757: 'TrizPhysicalEffect' object has no attribute 'effect'\n",
      "\n",
      "Elementos derivados adicionados ao vectorstore:\n",
      "- kind_effect: 'Ligação' (derivado de 'Juntar')\n",
      "Texto adicionado: O \"Ligar moléculas\" é um Ligação, que no Anticorpos causa Formação de complexos moleculares.\n",
      "\n",
      "Elementos derivados adicionados ao vectorstore:\n",
      "- object: 'Frasco' (derivado de 'Sólido')\n",
      "Texto adicionado: O \"Segurar\" é um Mecânico, que no Frasco causa Mechanical Fastener(thread, twist, etc).\n"
     ]
    },
    {
     "name": "stderr",
     "output_type": "stream",
     "text": [
      " 45%|████▍     | 147/329 [07:38<08:44,  2.88s/it]"
     ]
    },
    {
     "name": "stdout",
     "output_type": "stream",
     "text": [
      "\n",
      "Elementos derivados adicionados ao vectorstore:\n",
      "- object: 'Diafragma de filtro' (derivado de 'Sólido dividido')\n",
      "Texto adicionado: O \"Filtrar\" é um Filtração, que no Diafragma de filtro causa Filtração.\n"
     ]
    },
    {
     "name": "stderr",
     "output_type": "stream",
     "text": [
      " 45%|████▍     | 148/329 [07:42<09:03,  3.00s/it]"
     ]
    },
    {
     "name": "stdout",
     "output_type": "stream",
     "text": [
      "Erro no índice 2044: 'TrizPhysicalEffect' object has no attribute 'effect'\n"
     ]
    },
    {
     "name": "stderr",
     "output_type": "stream",
     "text": [
      " 45%|████▌     | 149/329 [07:45<08:53,  2.97s/it]"
     ]
    },
    {
     "name": "stdout",
     "output_type": "stream",
     "text": [
      "Erro no índice 1835: 'TrizPhysicalEffect' object has no attribute 'effect'\n"
     ]
    },
    {
     "name": "stderr",
     "output_type": "stream",
     "text": [
      " 46%|████▌     | 150/329 [07:49<09:18,  3.12s/it]"
     ]
    },
    {
     "name": "stdout",
     "output_type": "stream",
     "text": [
      "\n",
      "Elementos derivados adicionados ao vectorstore:\n",
      "- object: '5-Metóxi-N,N-dimetiltriptamina (5-MeO-DMT)' (derivado de 'Azepino-indóis e heterociclos')\n",
      "Texto adicionado: O \"Tratar distúrbios cerebrais\" é um Químico, que no 5-Metóxi-N,N-dimetiltriptamina (5-MeO-DMT) causa Interação com neurotransmissores.\n"
     ]
    },
    {
     "name": "stderr",
     "output_type": "stream",
     "text": [
      " 47%|████▋     | 153/329 [07:59<09:57,  3.40s/it]"
     ]
    },
    {
     "name": "stdout",
     "output_type": "stream",
     "text": [
      "\n",
      "Elementos derivados adicionados ao vectorstore:\n",
      "- task: 'Separar fluidos' (derivado de 'Separar')\n",
      "- object: 'Fluido' (derivado de 'Líquido')\n",
      "Texto adicionado: O \"Separar fluidos\" é um Separar, que no Fluido causa Válvula.\n"
     ]
    },
    {
     "name": "stderr",
     "output_type": "stream",
     "text": [
      " 47%|████▋     | 154/329 [08:01<08:44,  3.00s/it]"
     ]
    },
    {
     "name": "stdout",
     "output_type": "stream",
     "text": [
      "Erro no índice 3183: Invalid json output: I'm sorry, but I cannot determine the TRIZ relationship based on the provided patent title and abstract. The information given is insufficient to connect it to a specific TRIZ object, task, type of effect, or physical effect.\n",
      "For troubleshooting, visit: https://python.langchain.com/docs/troubleshooting/errors/OUTPUT_PARSING_FAILURE \n"
     ]
    },
    {
     "name": "stderr",
     "output_type": "stream",
     "text": [
      " 47%|████▋     | 155/329 [08:06<10:08,  3.49s/it]"
     ]
    },
    {
     "name": "stdout",
     "output_type": "stream",
     "text": [
      "\n",
      "Elementos derivados adicionados ao vectorstore:\n",
      "- task: 'Ajustar a velocidade de rotação' (derivado de 'Girar')\n",
      "- object: 'Rolo' (derivado de 'Sólido')\n",
      "Texto adicionado: O \"Ajustar a velocidade de rotação\" é um Mecânico, que no Rolo causa Rolamento.\n"
     ]
    },
    {
     "name": "stderr",
     "output_type": "stream",
     "text": [
      " 47%|████▋     | 156/329 [08:10<10:13,  3.54s/it]"
     ]
    },
    {
     "name": "stdout",
     "output_type": "stream",
     "text": [
      "\n",
      "Elementos derivados adicionados ao vectorstore:\n",
      "- task: 'Formar imagem por ressonância magnética' (derivado de 'Detectar')\n",
      "Texto adicionado: O \"Formar imagem por ressonância magnética\" é um Detectar, que no Sistema de formação de imagem por ressonância magnética causa Espectroscopia de ressonância paramagnética electrónica.\n"
     ]
    },
    {
     "name": "stderr",
     "output_type": "stream",
     "text": [
      " 48%|████▊     | 157/329 [08:14<10:41,  3.73s/it]"
     ]
    },
    {
     "name": "stdout",
     "output_type": "stream",
     "text": [
      "\n",
      "Elementos derivados adicionados ao vectorstore:\n",
      "- task: 'Filtrar combustível' (derivado de 'Filtração')\n",
      "Texto adicionado: O \"Filtrar combustível\" é um Filtração, que no Combustível causa Filtração.\n"
     ]
    },
    {
     "name": "stderr",
     "output_type": "stream",
     "text": [
      " 50%|████▉     | 163/329 [08:34<09:57,  3.60s/it]"
     ]
    },
    {
     "name": "stdout",
     "output_type": "stream",
     "text": [
      "Erro no índice 1580: 'TrizPhysicalEffect' object has no attribute 'effect'\n"
     ]
    },
    {
     "name": "stderr",
     "output_type": "stream",
     "text": [
      " 50%|████▉     | 164/329 [08:56<25:11,  9.16s/it]"
     ]
    },
    {
     "name": "stdout",
     "output_type": "stream",
     "text": [
      "Erro no índice 2463: 'TrizPhysicalEffect' object has no attribute 'effect'\n",
      "\n",
      "Elementos derivados adicionados ao vectorstore:\n",
      "- task: 'Formar complexos moleculares' (derivado de 'Ligar moléculas')\n",
      "Texto adicionado: O \"Formar complexos moleculares\" é um Ligar moléculas, que no Anticorpos causa Formação de complexos moleculares.\n",
      "Erro no índice 291: 'TrizPhysicalEffect' object has no attribute 'effect'\n"
     ]
    },
    {
     "name": "stderr",
     "output_type": "stream",
     "text": [
      " 52%|█████▏    | 170/329 [08:58<07:25,  2.80s/it]"
     ]
    },
    {
     "name": "stdout",
     "output_type": "stream",
     "text": [
      "\n",
      "Elementos derivados adicionados ao vectorstore:\n",
      "- object: 'Defensivo Agrícola' (derivado de 'Agente de proteção de culturas')\n",
      "Texto adicionado: O \"Aplicar\" é um Substância aglutinante, que no Defensivo Agrícola causa Substância aglutinante.\n"
     ]
    },
    {
     "name": "stderr",
     "output_type": "stream",
     "text": [
      " 52%|█████▏    | 172/329 [09:05<07:52,  3.01s/it]"
     ]
    },
    {
     "name": "stdout",
     "output_type": "stream",
     "text": [
      "\n",
      "Elementos derivados adicionados ao vectorstore:\n",
      "- task: 'Modificar sabor' (derivado de 'Produzir')\n",
      "Texto adicionado: O \"Modificar sabor\" é um Químico, que no Fibra dietética causa Hidrólise enzimática.\n"
     ]
    },
    {
     "name": "stderr",
     "output_type": "stream",
     "text": [
      " 53%|█████▎    | 173/329 [09:08<07:49,  3.01s/it]"
     ]
    },
    {
     "name": "stdout",
     "output_type": "stream",
     "text": [
      "\n",
      "Elementos derivados adicionados ao vectorstore:\n",
      "- object: 'Células-tronco' (derivado de 'Líquido')\n",
      "Texto adicionado: O \"Acumular\" é um Criopreservação, que no Células-tronco causa Criopreservação.\n"
     ]
    },
    {
     "name": "stderr",
     "output_type": "stream",
     "text": [
      " 53%|█████▎    | 175/329 [09:16<08:48,  3.43s/it]"
     ]
    },
    {
     "name": "stdout",
     "output_type": "stream",
     "text": [
      "\n",
      "Elementos derivados adicionados ao vectorstore:\n",
      "- task: 'Controlar a inclinação' (derivado de 'Orientar')\n",
      "- object: 'Sistema hidropneumático' (derivado de 'Acumulador hidráulico')\n",
      "Texto adicionado: O \"Controlar a inclinação\" é um Mecânico, que no Sistema hidropneumático causa Transferência de fluido.\n"
     ]
    },
    {
     "name": "stderr",
     "output_type": "stream",
     "text": [
      " 55%|█████▌    | 182/329 [09:37<06:54,  2.82s/it]"
     ]
    },
    {
     "name": "stdout",
     "output_type": "stream",
     "text": [
      "Erro no índice 3025: Invalid json output: Não sei.\n",
      "For troubleshooting, visit: https://python.langchain.com/docs/troubleshooting/errors/OUTPUT_PARSING_FAILURE \n"
     ]
    },
    {
     "name": "stderr",
     "output_type": "stream",
     "text": [
      " 56%|█████▌    | 183/329 [09:43<08:37,  3.54s/it]"
     ]
    },
    {
     "name": "stdout",
     "output_type": "stream",
     "text": [
      "Erro no índice 1554: 'TrizPhysicalEffect' object has no attribute 'effect'\n"
     ]
    },
    {
     "name": "stderr",
     "output_type": "stream",
     "text": [
      " 56%|█████▌    | 184/329 [09:47<08:57,  3.71s/it]"
     ]
    },
    {
     "name": "stdout",
     "output_type": "stream",
     "text": [
      "\n",
      "Elementos derivados adicionados ao vectorstore:\n",
      "- object: 'Cinta de lixa' (derivado de 'Cinto de segurança')\n",
      "Texto adicionado: O \"Segurar\" é um Mecânico, que no Cinta de lixa causa Mechanical Fastener(thread, twist, etc).\n"
     ]
    },
    {
     "name": "stderr",
     "output_type": "stream",
     "text": [
      " 56%|█████▌    | 185/329 [09:50<08:58,  3.74s/it]"
     ]
    },
    {
     "name": "stdout",
     "output_type": "stream",
     "text": [
      "Erro no índice 1902: 'TrizPhysicalEffect' object has no attribute 'effect'\n"
     ]
    },
    {
     "name": "stderr",
     "output_type": "stream",
     "text": [
      " 57%|█████▋    | 186/329 [09:55<09:33,  4.01s/it]"
     ]
    },
    {
     "name": "stdout",
     "output_type": "stream",
     "text": [
      "\n",
      "Elementos derivados adicionados ao vectorstore:\n",
      "- kind_effect: 'Processamento digital de imagem' (derivado de 'Detectar')\n",
      "- task: 'Codificar' (derivado de 'Comprimir')\n",
      "Texto adicionado: O \"Codificar\" é um Processamento digital de imagem, que no Bloco de codificação causa Transformada de direção horizontal.\n"
     ]
    },
    {
     "name": "stderr",
     "output_type": "stream",
     "text": [
      " 57%|█████▋    | 187/329 [09:58<08:22,  3.54s/it]"
     ]
    },
    {
     "name": "stdout",
     "output_type": "stream",
     "text": [
      "\n",
      "Elementos derivados adicionados ao vectorstore:\n",
      "- task: 'Predição inter baseada em afim' (derivado de 'Aplicação')\n",
      "Texto adicionado: O \"Predição inter baseada em afim\" é um Processamento digital de imagem, que no Sub-blocos de croma causa Derivação de vetor de movimento.\n"
     ]
    },
    {
     "name": "stderr",
     "output_type": "stream",
     "text": [
      " 57%|█████▋    | 188/329 [10:00<07:46,  3.31s/it]"
     ]
    },
    {
     "name": "stdout",
     "output_type": "stream",
     "text": [
      "\n",
      "Elementos derivados adicionados ao vectorstore:\n",
      "- object: 'Nanopartícula de prata' (derivado de 'Nanotubo de carbono')\n",
      "Texto adicionado: O \"Produzir\" é um Químico, que no Nanopartícula de prata causa Reações no estado sólido.\n"
     ]
    },
    {
     "name": "stderr",
     "output_type": "stream",
     "text": [
      " 59%|█████▉    | 195/329 [10:23<06:38,  2.97s/it]"
     ]
    },
    {
     "name": "stdout",
     "output_type": "stream",
     "text": [
      "Erro no índice 3294: Invalid json output: Não sei.\n",
      "For troubleshooting, visit: https://python.langchain.com/docs/troubleshooting/errors/OUTPUT_PARSING_FAILURE \n"
     ]
    },
    {
     "name": "stderr",
     "output_type": "stream",
     "text": [
      " 60%|█████▉    | 196/329 [10:27<07:34,  3.42s/it]"
     ]
    },
    {
     "name": "stdout",
     "output_type": "stream",
     "text": [
      "\n",
      "Elementos derivados adicionados ao vectorstore:\n",
      "- kind_effect: 'Processamento digital' (derivado de 'Processamento digital de imagem')\n",
      "Texto adicionado: O \"Aumentar a polifonia\" é um Processamento digital, que no Órgão digital causa Ativação de memória RAM.\n"
     ]
    },
    {
     "name": "stderr",
     "output_type": "stream",
     "text": [
      " 60%|██████    | 198/329 [10:34<07:38,  3.50s/it]"
     ]
    },
    {
     "name": "stdout",
     "output_type": "stream",
     "text": [
      "\n",
      "Elementos derivados adicionados ao vectorstore:\n",
      "- object: 'Tecido' (derivado de 'Sólido dividido')\n",
      "Texto adicionado: O \"Esfriar\" é um Refrigeração, que no Tecido causa Refrigeração por absorção.\n"
     ]
    },
    {
     "name": "stderr",
     "output_type": "stream",
     "text": [
      " 61%|██████    | 200/329 [10:41<07:38,  3.55s/it]"
     ]
    },
    {
     "name": "stdout",
     "output_type": "stream",
     "text": [
      "Erro no índice 889: 'TrizPhysicalEffect' object has no attribute 'effect'\n"
     ]
    },
    {
     "name": "stderr",
     "output_type": "stream",
     "text": [
      " 61%|██████    | 201/329 [10:45<07:32,  3.53s/it]"
     ]
    },
    {
     "name": "stdout",
     "output_type": "stream",
     "text": [
      "\n",
      "Elementos derivados adicionados ao vectorstore:\n",
      "- kind_effect: 'Inibição' (derivado de 'Purificar')\n",
      "Texto adicionado: O \"Inibir EGFR\" é um Inibição, que no Composto 7H-Pirrolo[2,3-d]pirimidina-4-amina causa Inibição de Receptor.\n"
     ]
    },
    {
     "name": "stderr",
     "output_type": "stream",
     "text": [
      " 62%|██████▏   | 204/329 [10:55<07:17,  3.50s/it]"
     ]
    },
    {
     "name": "stdout",
     "output_type": "stream",
     "text": [
      "Erro no índice 238: 'TrizPhysicalEffect' object has no attribute 'effect'\n"
     ]
    },
    {
     "name": "stderr",
     "output_type": "stream",
     "text": [
      " 62%|██████▏   | 205/329 [10:59<07:35,  3.67s/it]"
     ]
    },
    {
     "name": "stdout",
     "output_type": "stream",
     "text": [
      "\n",
      "Elementos derivados adicionados ao vectorstore:\n",
      "- task: 'Comunicar' (derivado de 'Juntar')\n",
      "Texto adicionado: O \"Comunicar\" é um Juntar, que no Enlace de difusão seletiva causa Parallel Junction.\n"
     ]
    },
    {
     "name": "stderr",
     "output_type": "stream",
     "text": [
      " 63%|██████▎   | 206/329 [11:21<18:51,  9.20s/it]"
     ]
    },
    {
     "name": "stdout",
     "output_type": "stream",
     "text": [
      "\n",
      "Elementos derivados adicionados ao vectorstore:\n",
      "- task: 'Controlar a exposição à luz' (derivado de 'Produzir')\n",
      "Texto adicionado: O \"Controlar a exposição à luz\" é um Óptico, que no Organismo causa Modulação da luz.\n",
      "\n",
      "Elementos derivados adicionados ao vectorstore:\n",
      "- task: 'Desenvolver composto de coordenação' (derivado de 'Concentrar')\n",
      "Texto adicionado: O \"Desenvolver composto de coordenação\" é um Químico, que no Rutênio(III) causa Atividade antitumoral.\n"
     ]
    },
    {
     "name": "stderr",
     "output_type": "stream",
     "text": [
      " 64%|██████▍   | 212/329 [11:24<05:36,  2.87s/it]"
     ]
    },
    {
     "name": "stdout",
     "output_type": "stream",
     "text": [
      "Erro no índice 295: 'TrizPhysicalEffect' object has no attribute 'effect'\n"
     ]
    },
    {
     "name": "stderr",
     "output_type": "stream",
     "text": [
      " 65%|██████▍   | 213/329 [11:27<05:43,  2.96s/it]"
     ]
    },
    {
     "name": "stdout",
     "output_type": "stream",
     "text": [
      "Erro no índice 871: 'TrizPhysicalEffect' object has no attribute 'effect'\n"
     ]
    },
    {
     "name": "stderr",
     "output_type": "stream",
     "text": [
      " 65%|██████▌   | 214/329 [11:30<05:32,  2.89s/it]"
     ]
    },
    {
     "name": "stdout",
     "output_type": "stream",
     "text": [
      "Erro no índice 14: Invalid json output: I'm sorry, but I can't determine the TRIZ elements for this patent based on the provided information.\n",
      "For troubleshooting, visit: https://python.langchain.com/docs/troubleshooting/errors/OUTPUT_PARSING_FAILURE \n"
     ]
    },
    {
     "name": "stderr",
     "output_type": "stream",
     "text": [
      " 65%|██████▌   | 215/329 [11:43<09:14,  4.86s/it]"
     ]
    },
    {
     "name": "stdout",
     "output_type": "stream",
     "text": [
      "\n",
      "Elementos derivados adicionados ao vectorstore:\n",
      "- task: 'Agendar' (derivado de 'Detectar')\n",
      "Texto adicionado: O \"Agendar\" é um Processamento digital de imagem, que no Recurso causa Intercalação de canais.\n"
     ]
    },
    {
     "name": "stderr",
     "output_type": "stream",
     "text": [
      " 66%|██████▌   | 216/329 [11:46<08:29,  4.51s/it]"
     ]
    },
    {
     "name": "stdout",
     "output_type": "stream",
     "text": [
      "Erro no índice 173: 'TrizPhysicalEffect' object has no attribute 'effect'\n"
     ]
    },
    {
     "name": "stderr",
     "output_type": "stream",
     "text": [
      " 67%|██████▋   | 219/329 [11:54<06:23,  3.49s/it]"
     ]
    },
    {
     "name": "stdout",
     "output_type": "stream",
     "text": [
      "\n",
      "Elementos derivados adicionados ao vectorstore:\n",
      "- task: 'Ajustar' (derivado de 'Alinhar')\n",
      "- object: 'Dispositivo de display enrolável' (derivado de 'Sólido')\n",
      "Texto adicionado: O \"Ajustar\" é um Mecânico, que no Dispositivo de display enrolável causa Movimento relativo.\n"
     ]
    },
    {
     "name": "stderr",
     "output_type": "stream",
     "text": [
      " 67%|██████▋   | 222/329 [12:21<15:17,  8.57s/it]"
     ]
    },
    {
     "name": "stdout",
     "output_type": "stream",
     "text": [
      "\n",
      "Elementos derivados adicionados ao vectorstore:\n",
      "- object: 'Composto heterocíclico' (derivado de 'Rutênio(III)')\n",
      "Texto adicionado: O \"Desenvolver composto de coordenação\" é um Químico, que no Composto heterocíclico causa Atividade antitumoral.\n"
     ]
    },
    {
     "name": "stderr",
     "output_type": "stream",
     "text": [
      " 68%|██████▊   | 224/329 [12:26<10:11,  5.82s/it]"
     ]
    },
    {
     "name": "stdout",
     "output_type": "stream",
     "text": [
      "\n",
      "Elementos derivados adicionados ao vectorstore:\n",
      "- object: 'Biodiesel' (derivado de 'Líquido')\n",
      "Texto adicionado: O \"Misturar\" é um Substância aglutinante, que no Biodiesel causa Substância aglutinante.\n",
      "\n",
      "Elementos derivados adicionados ao vectorstore:\n",
      "- object: 'Tanque de imersão' (derivado de 'Sólido')\n",
      "Texto adicionado: O \"Limpar\" é um Extração com fluido supercrítico, que no Tanque de imersão causa Aumento da temperatura e umidade.\n",
      "\n",
      "Elementos derivados adicionados ao vectorstore:\n",
      "- object: 'Cabeça' (derivado de 'Sólido')\n",
      "Texto adicionado: O \"Segurar\" é um Mecânico, que no Cabeça causa Ângulo de repouso.\n",
      "Erro no índice 416: 'TrizPhysicalEffect' object has no attribute 'effect'\n",
      "\n",
      "Elementos derivados adicionados ao vectorstore:\n",
      "- task: 'Formar pó farmacêutico homogêneo' (derivado de 'Misturar')\n",
      "Texto adicionado: O \"Formar pó farmacêutico homogêneo\" é um Misturar, que no Composição farmacêutica causa Suspensão (química).\n",
      "Erro no índice 1847: 'TrizPhysicalEffect' object has no attribute 'effect'\n"
     ]
    },
    {
     "name": "stderr",
     "output_type": "stream",
     "text": [
      " 71%|███████   | 232/329 [12:36<04:09,  2.57s/it]"
     ]
    },
    {
     "name": "stdout",
     "output_type": "stream",
     "text": [
      "\n",
      "Elementos derivados adicionados ao vectorstore:\n",
      "- object: 'Ar' (derivado de 'Líquido')\n",
      "Texto adicionado: O \"Evaporar\" é um Térmico, que no Ar causa Trocador de energia térmica.\n"
     ]
    },
    {
     "name": "stderr",
     "output_type": "stream",
     "text": [
      " 71%|███████   | 234/329 [12:42<04:17,  2.71s/it]"
     ]
    },
    {
     "name": "stdout",
     "output_type": "stream",
     "text": [
      "Erro no índice 798: 'TrizPhysicalEffect' object has no attribute 'effect'\n"
     ]
    },
    {
     "name": "stderr",
     "output_type": "stream",
     "text": [
      " 72%|███████▏  | 237/329 [12:55<04:58,  3.25s/it]"
     ]
    },
    {
     "name": "stdout",
     "output_type": "stream",
     "text": [
      "Erro no índice 194: Invalid json output: I'm sorry, but I can't determine the TRIZ elements based on the provided information.\n",
      "For troubleshooting, visit: https://python.langchain.com/docs/troubleshooting/errors/OUTPUT_PARSING_FAILURE \n"
     ]
    },
    {
     "name": "stderr",
     "output_type": "stream",
     "text": [
      " 73%|███████▎  | 239/329 [13:01<04:30,  3.00s/it]"
     ]
    },
    {
     "name": "stdout",
     "output_type": "stream",
     "text": [
      "Erro no índice 2522: 'TrizPhysicalEffect' object has no attribute 'effect'\n"
     ]
    },
    {
     "name": "stderr",
     "output_type": "stream",
     "text": [
      " 74%|███████▎  | 242/329 [13:08<03:49,  2.64s/it]"
     ]
    },
    {
     "name": "stdout",
     "output_type": "stream",
     "text": [
      "\n",
      "Elementos derivados adicionados ao vectorstore:\n",
      "- object: 'Terminal de comunicação' (derivado de 'Aplicação')\n",
      "Texto adicionado: O \"Comunicar\" é um Enlace de difusão seletiva, que no Terminal de comunicação causa Parallel Junction.\n"
     ]
    },
    {
     "name": "stderr",
     "output_type": "stream",
     "text": [
      " 74%|███████▍  | 244/329 [13:15<04:25,  3.13s/it]"
     ]
    },
    {
     "name": "stdout",
     "output_type": "stream",
     "text": [
      "Erro no índice 2405: 'TrizPhysicalEffect' object has no attribute 'effect'\n"
     ]
    },
    {
     "name": "stderr",
     "output_type": "stream",
     "text": [
      " 74%|███████▍  | 245/329 [13:17<04:06,  2.93s/it]"
     ]
    },
    {
     "name": "stdout",
     "output_type": "stream",
     "text": [
      "Erro no índice 430: 'TrizPhysicalEffect' object has no attribute 'effect'\n"
     ]
    },
    {
     "name": "stderr",
     "output_type": "stream",
     "text": [
      " 75%|███████▍  | 246/329 [13:21<04:24,  3.18s/it]"
     ]
    },
    {
     "name": "stdout",
     "output_type": "stream",
     "text": [
      "Erro no índice 63: 'TrizPhysicalEffect' object has no attribute 'effect'\n"
     ]
    },
    {
     "name": "stderr",
     "output_type": "stream",
     "text": [
      " 76%|███████▌  | 249/329 [13:33<04:28,  3.35s/it]"
     ]
    },
    {
     "name": "stdout",
     "output_type": "stream",
     "text": [
      "Erro no índice 2241: 'TrizPhysicalEffect' object has no attribute 'effect'\n"
     ]
    },
    {
     "name": "stderr",
     "output_type": "stream",
     "text": [
      " 76%|███████▌  | 250/329 [13:36<04:23,  3.34s/it]"
     ]
    },
    {
     "name": "stdout",
     "output_type": "stream",
     "text": [
      "Erro no índice 3091: 'TrizPhysicalEffect' object has no attribute 'effect'\n"
     ]
    },
    {
     "name": "stderr",
     "output_type": "stream",
     "text": [
      " 77%|███████▋  | 252/329 [14:01<11:38,  9.08s/it]"
     ]
    },
    {
     "name": "stdout",
     "output_type": "stream",
     "text": [
      "\n",
      "Elementos derivados adicionados ao vectorstore:\n",
      "- object: 'Dispositivo eletrônico' (derivado de 'Campo')\n",
      "Texto adicionado: O \"Detectar\" é um Aplicação, que no Dispositivo eletrônico causa Electromechanical Film.\n",
      "\n",
      "Elementos derivados adicionados ao vectorstore:\n",
      "- task: 'Multiplicar fungos' (derivado de 'Produzir')\n",
      "Texto adicionado: O \"Multiplicar fungos\" é um Acumular, que no Fungos causa Fermentação.\n"
     ]
    },
    {
     "name": "stderr",
     "output_type": "stream",
     "text": [
      " 78%|███████▊  | 258/329 [14:03<03:13,  2.73s/it]"
     ]
    },
    {
     "name": "stdout",
     "output_type": "stream",
     "text": [
      "\n",
      "Elementos derivados adicionados ao vectorstore:\n",
      "- object: 'Superfície de tratamento' (derivado de 'Líquido')\n",
      "Texto adicionado: O \"Aquecer\" é um Térmico, que no Superfície de tratamento causa Trocador de energia térmica.\n"
     ]
    },
    {
     "name": "stderr",
     "output_type": "stream",
     "text": [
      " 79%|███████▊  | 259/329 [14:05<03:03,  2.62s/it]"
     ]
    },
    {
     "name": "stdout",
     "output_type": "stream",
     "text": [
      "Erro no índice 1537: Invalid json output: I'm sorry, but I can't determine the TRIZ relationship for the given patent based on the provided context.\n",
      "For troubleshooting, visit: https://python.langchain.com/docs/troubleshooting/errors/OUTPUT_PARSING_FAILURE \n"
     ]
    },
    {
     "name": "stderr",
     "output_type": "stream",
     "text": [
      " 79%|███████▉  | 260/329 [14:11<03:44,  3.25s/it]"
     ]
    },
    {
     "name": "stdout",
     "output_type": "stream",
     "text": [
      "\n",
      "Elementos derivados adicionados ao vectorstore:\n",
      "- kind_effect: 'Diagnóstico' (derivado de 'Detectar')\n",
      "- task: 'Diagnosticar eventos adversos pós-cirúrgicos' (derivado de 'Detectar')\n",
      "Texto adicionado: O \"Diagnosticar eventos adversos pós-cirúrgicos\" é um Diagnóstico, que no Biomarcadores causa Correlação de biomarcadores com eventos adversos.\n"
     ]
    },
    {
     "name": "stderr",
     "output_type": "stream",
     "text": [
      " 79%|███████▉  | 261/329 [14:14<03:31,  3.12s/it]"
     ]
    },
    {
     "name": "stdout",
     "output_type": "stream",
     "text": [
      "Erro no índice 1174: 'TrizPhysicalEffect' object has no attribute 'effect'\n"
     ]
    },
    {
     "name": "stderr",
     "output_type": "stream",
     "text": [
      " 80%|███████▉  | 262/329 [14:36<08:17,  7.42s/it]"
     ]
    },
    {
     "name": "stdout",
     "output_type": "stream",
     "text": [
      "\n",
      "Elementos derivados adicionados ao vectorstore:\n",
      "- task: 'Pressurizar' (derivado de 'Comprimir')\n",
      "Texto adicionado: O \"Pressurizar\" é um Comprimir, que no Líquido causa Pressurização.\n",
      "\n",
      "Elementos derivados adicionados ao vectorstore:\n",
      "- task: 'Tratar câncer' (derivado de 'Tratar distúrbios cerebrais')\n",
      "- object: 'Quelante de metal' (derivado de 'Composto de coordenação')\n",
      "Texto adicionado: O \"Tratar câncer\" é um Químico, que no Quelante de metal causa Atividade antitumoral.\n"
     ]
    },
    {
     "name": "stderr",
     "output_type": "stream",
     "text": [
      " 82%|████████▏ | 270/329 [14:45<02:53,  2.94s/it]"
     ]
    },
    {
     "name": "stdout",
     "output_type": "stream",
     "text": [
      "Erro no índice 299: 'TrizPhysicalEffect' object has no attribute 'effect'\n"
     ]
    },
    {
     "name": "stderr",
     "output_type": "stream",
     "text": [
      " 83%|████████▎ | 272/329 [15:11<06:53,  7.26s/it]"
     ]
    },
    {
     "name": "stdout",
     "output_type": "stream",
     "text": [
      "\n",
      "Elementos derivados adicionados ao vectorstore:\n",
      "- task: 'Dissolver' (derivado de 'Desmembrar')\n",
      "Texto adicionado: O \"Dissolver\" é um Desmembrar, que no Amido causa Dissolução.\n",
      "Erro no índice 120: 'TrizPhysicalEffect' object has no attribute 'effect'\n"
     ]
    },
    {
     "name": "stderr",
     "output_type": "stream",
     "text": [
      " 84%|████████▍ | 278/329 [15:14<02:27,  2.89s/it]"
     ]
    },
    {
     "name": "stdout",
     "output_type": "stream",
     "text": [
      "\n",
      "Elementos derivados adicionados ao vectorstore:\n",
      "- kind_effect: 'Detecção de pressão' (derivado de 'Detectar')\n",
      "- task: 'Medir pressão' (derivado de 'Detectar')\n",
      "Texto adicionado: O \"Medir pressão\" é um Detecção de pressão, que no Amostra de planta causa Camada de acoplamento de pressão elástica.\n"
     ]
    },
    {
     "name": "stderr",
     "output_type": "stream",
     "text": [
      " 85%|████████▍ | 279/329 [15:37<04:33,  5.46s/it]"
     ]
    },
    {
     "name": "stdout",
     "output_type": "stream",
     "text": [
      "\n",
      "Elementos derivados adicionados ao vectorstore:\n",
      "- task: 'Trilhar' (derivado de 'Produzir')\n",
      "Texto adicionado: O \"Trilhar\" é um Mecânico, que no Grãos causa Separação de componentes.\n",
      "\n",
      "Elementos derivados adicionados ao vectorstore:\n",
      "- task: 'Prender' (derivado de 'Segurar')\n",
      "Texto adicionado: O \"Prender\" é um Mecânico, que no Bolsa causa Velcro.\n"
     ]
    },
    {
     "name": "stderr",
     "output_type": "stream",
     "text": [
      " 87%|████████▋ | 287/329 [15:48<02:13,  3.19s/it]"
     ]
    },
    {
     "name": "stdout",
     "output_type": "stream",
     "text": [
      "\n",
      "Elementos derivados adicionados ao vectorstore:\n",
      "- kind_effect: 'Formação de complexos moleculares' (derivado de 'Formar complexos moleculares')\n",
      "- task: 'Gerar anticorpos' (derivado de 'Formar complexos moleculares')\n",
      "- object: 'Anticorpos' (derivado de 'Anticorpos')\n",
      "Texto adicionado: O \"Gerar anticorpos\" é um Formação de complexos moleculares, que no Anticorpos causa Aumento da resposta imune.\n"
     ]
    },
    {
     "name": "stderr",
     "output_type": "stream",
     "text": [
      " 88%|████████▊ | 288/329 [15:51<02:08,  3.13s/it]"
     ]
    },
    {
     "name": "stdout",
     "output_type": "stream",
     "text": [
      "\n",
      "Elementos derivados adicionados ao vectorstore:\n",
      "- kind_effect: 'Análise de qualidade' (derivado de 'Detectar')\n",
      "- task: 'Analisar combustível' (derivado de 'Detectar')\n",
      "Texto adicionado: O \"Analisar combustível\" é um Análise de qualidade, que no Combustível causa Transmissão de dados via Bluetooth.\n"
     ]
    },
    {
     "name": "stderr",
     "output_type": "stream",
     "text": [
      " 88%|████████▊ | 290/329 [15:56<01:53,  2.91s/it]"
     ]
    },
    {
     "name": "stdout",
     "output_type": "stream",
     "text": [
      "\n",
      "Elementos derivados adicionados ao vectorstore:\n",
      "- object: 'HER2' (derivado de 'Receptor')\n",
      "Texto adicionado: O \"Inibir\" é um Inibição, que no HER2 causa Inibição de Receptor.\n"
     ]
    },
    {
     "name": "stderr",
     "output_type": "stream",
     "text": [
      " 89%|████████▉ | 292/329 [16:22<04:37,  7.49s/it]"
     ]
    },
    {
     "name": "stdout",
     "output_type": "stream",
     "text": [
      "\n",
      "Elementos derivados adicionados ao vectorstore:\n",
      "- kind_effect: 'Orientação de grãos' (derivado de 'Orientar')\n",
      "- task: 'Orientar grãos em chapa de aço' (derivado de 'Orientar')\n",
      "- object: 'Chapa de aço elétrico de grão orientado' (derivado de 'Sólido')\n",
      "Texto adicionado: O \"Orientar grãos em chapa de aço\" é um Orientação de grãos, que no Chapa de aço elétrico de grão orientado causa Deposição eletroforética.\n",
      "\n",
      "Elementos derivados adicionados ao vectorstore:\n",
      "- kind_effect: 'Atividade tóxica' (derivado de 'Atividade antitumoral')\n",
      "- object: 'Proteínas pesticidas' (derivado de 'Substância aglutinante')\n",
      "Texto adicionado: O \"Inibir insetos\" é um Atividade tóxica, que no Proteínas pesticidas causa Controle de pragas.\n",
      "Erro no índice 2234: Invalid json output: I'm sorry, but I can't determine the TRIZ elements for this patent based on the provided information.\n",
      "For troubleshooting, visit: https://python.langchain.com/docs/troubleshooting/errors/OUTPUT_PARSING_FAILURE \n"
     ]
    },
    {
     "name": "stderr",
     "output_type": "stream",
     "text": [
      " 91%|█████████ | 300/329 [16:30<01:26,  2.97s/it]"
     ]
    },
    {
     "name": "stdout",
     "output_type": "stream",
     "text": [
      "\n",
      "Elementos derivados adicionados ao vectorstore:\n",
      "- object: 'Ésteres (met)acrílicos' (derivado de 'Sólido dividido')\n",
      "Texto adicionado: O \"Purificar\" é um Separação, que no Ésteres (met)acrílicos causa Separador ciclônico.\n"
     ]
    },
    {
     "name": "stderr",
     "output_type": "stream",
     "text": [
      " 91%|█████████▏| 301/329 [16:34<01:29,  3.18s/it]"
     ]
    },
    {
     "name": "stdout",
     "output_type": "stream",
     "text": [
      "\n",
      "Elementos derivados adicionados ao vectorstore:\n",
      "- task: 'Colher' (derivado de 'Mover')\n",
      "Texto adicionado: O \"Colher\" é um Mecânico, que no Cana de Açúcar causa Separação de impurezas.\n"
     ]
    },
    {
     "name": "stderr",
     "output_type": "stream",
     "text": [
      " 92%|█████████▏| 303/329 [16:41<01:24,  3.26s/it]"
     ]
    },
    {
     "name": "stdout",
     "output_type": "stream",
     "text": [
      "Erro no índice 2664: 'TrizPhysicalEffect' object has no attribute 'effect'\n"
     ]
    },
    {
     "name": "stderr",
     "output_type": "stream",
     "text": [
      " 93%|█████████▎| 305/329 [16:47<01:19,  3.31s/it]"
     ]
    },
    {
     "name": "stdout",
     "output_type": "stream",
     "text": [
      "\n",
      "Elementos derivados adicionados ao vectorstore:\n",
      "- object: 'Vírus oncolítico sintético' (derivado de 'Composto de coordenação')\n",
      "Texto adicionado: O \"Tratar câncer\" é um Atividade antitumoral, que no Vírus oncolítico sintético causa Imunomodulação.\n"
     ]
    },
    {
     "name": "stderr",
     "output_type": "stream",
     "text": [
      " 94%|█████████▎| 308/329 [16:58<01:10,  3.38s/it]"
     ]
    },
    {
     "name": "stdout",
     "output_type": "stream",
     "text": [
      "Erro no índice 1764: 'TrizPhysicalEffect' object has no attribute 'effect'\n"
     ]
    },
    {
     "name": "stderr",
     "output_type": "stream",
     "text": [
      " 94%|█████████▍| 309/329 [17:02<01:09,  3.48s/it]"
     ]
    },
    {
     "name": "stdout",
     "output_type": "stream",
     "text": [
      "Erro no índice 2183: 'TrizPhysicalEffect' object has no attribute 'effect'\n"
     ]
    },
    {
     "name": "stderr",
     "output_type": "stream",
     "text": [
      " 94%|█████████▍| 310/329 [17:04<01:02,  3.28s/it]"
     ]
    },
    {
     "name": "stdout",
     "output_type": "stream",
     "text": [
      "Erro no índice 3144: 'TrizPhysicalEffect' object has no attribute 'effect'\n"
     ]
    },
    {
     "name": "stderr",
     "output_type": "stream",
     "text": [
      " 95%|█████████▍| 311/329 [17:09<01:05,  3.65s/it]"
     ]
    },
    {
     "name": "stdout",
     "output_type": "stream",
     "text": [
      "\n",
      "Elementos derivados adicionados ao vectorstore:\n",
      "- task: 'Inscrever-se em promoções' (derivado de 'Agendar')\n",
      "Texto adicionado: O \"Inscrever-se em promoções\" é um Processamento digital de imagem, que no Plataforma de tokenização causa Intercalação de canais.\n"
     ]
    },
    {
     "name": "stderr",
     "output_type": "stream",
     "text": [
      " 95%|█████████▌| 313/329 [17:15<00:56,  3.54s/it]"
     ]
    },
    {
     "name": "stdout",
     "output_type": "stream",
     "text": [
      "Erro no índice 1612: 'TrizPhysicalEffect' object has no attribute 'effect'\n"
     ]
    },
    {
     "name": "stderr",
     "output_type": "stream",
     "text": [
      " 95%|█████████▌| 314/329 [17:18<00:47,  3.19s/it]"
     ]
    },
    {
     "name": "stdout",
     "output_type": "stream",
     "text": [
      "Erro no índice 2304: 'TrizPhysicalEffect' object has no attribute 'effect'\n"
     ]
    },
    {
     "name": "stderr",
     "output_type": "stream",
     "text": [
      " 96%|█████████▋| 317/329 [17:29<00:43,  3.59s/it]"
     ]
    },
    {
     "name": "stdout",
     "output_type": "stream",
     "text": [
      "Erro no índice 1323: 'TrizPhysicalEffect' object has no attribute 'effect'\n"
     ]
    },
    {
     "name": "stderr",
     "output_type": "stream",
     "text": [
      " 97%|█████████▋| 318/329 [17:33<00:39,  3.60s/it]"
     ]
    },
    {
     "name": "stdout",
     "output_type": "stream",
     "text": [
      "\n",
      "Elementos derivados adicionados ao vectorstore:\n",
      "- object: 'Ácido nucleico' (derivado de 'Líquido')\n",
      "Texto adicionado: O \"Purificar\" é um Filtração, que no Ácido nucleico causa Filtração.\n"
     ]
    },
    {
     "name": "stderr",
     "output_type": "stream",
     "text": [
      " 98%|█████████▊| 321/329 [17:43<00:28,  3.57s/it]"
     ]
    },
    {
     "name": "stdout",
     "output_type": "stream",
     "text": [
      "Erro no índice 501: 'TrizPhysicalEffect' object has no attribute 'effect'\n"
     ]
    },
    {
     "name": "stderr",
     "output_type": "stream",
     "text": [
      " 98%|█████████▊| 322/329 [17:47<00:25,  3.66s/it]"
     ]
    },
    {
     "name": "stdout",
     "output_type": "stream",
     "text": [
      "\n",
      "Elementos derivados adicionados ao vectorstore:\n",
      "- kind_effect: 'Detecção de vazamento' (derivado de 'Detectar')\n",
      "- task: 'Detectar vazamento' (derivado de 'Detectar')\n",
      "- object: 'Fluido' (derivado de 'Líquido')\n",
      "Texto adicionado: O \"Detectar vazamento\" é um Detecção de vazamento, que no Fluido causa Membrana semipermeável.\n"
     ]
    },
    {
     "name": "stderr",
     "output_type": "stream",
     "text": [
      " 98%|█████████▊| 323/329 [17:51<00:21,  3.61s/it]"
     ]
    },
    {
     "name": "stdout",
     "output_type": "stream",
     "text": [
      "\n",
      "Elementos derivados adicionados ao vectorstore:\n",
      "- task: 'Moldar' (derivado de 'Concentrar')\n",
      "Texto adicionado: O \"Moldar\" é um Mecânico, que no Sólido causa Carga moldada.\n"
     ]
    },
    {
     "name": "stderr",
     "output_type": "stream",
     "text": [
      " 99%|█████████▉| 325/329 [17:59<00:16,  4.20s/it]"
     ]
    },
    {
     "name": "stdout",
     "output_type": "stream",
     "text": [
      "Erro no índice 1739: 'TrizPhysicalEffect' object has no attribute 'effect'\n"
     ]
    },
    {
     "name": "stderr",
     "output_type": "stream",
     "text": [
      " 99%|█████████▉| 326/329 [18:01<00:09,  3.33s/it]"
     ]
    },
    {
     "name": "stdout",
     "output_type": "stream",
     "text": [
      "Erro no índice 486: Invalid json output: I'm sorry, but I cannot determine a suitable TRIZ relationship for the given patent information based on the provided context.\n",
      "For troubleshooting, visit: https://python.langchain.com/docs/troubleshooting/errors/OUTPUT_PARSING_FAILURE \n"
     ]
    },
    {
     "name": "stderr",
     "output_type": "stream",
     "text": [
      "100%|██████████| 329/329 [18:12<00:00,  3.32s/it]"
     ]
    },
    {
     "name": "stdout",
     "output_type": "stream",
     "text": [
      "\n",
      "Elementos derivados adicionados ao vectorstore:\n",
      "- task: 'Tratar distúrbios do sistema nervoso central' (derivado de 'Tratar distúrbios cerebrais')\n",
      "- object: 'Composto de Fórmula I' (derivado de 'Composto heterocíclico')\n",
      "Texto adicionado: O \"Tratar distúrbios do sistema nervoso central\" é um Químico, que no Composto de Fórmula I causa Interação com neurotransmissores.\n"
     ]
    },
    {
     "name": "stderr",
     "output_type": "stream",
     "text": [
      "\n"
     ]
    }
   ],
   "source": [
    "# Calcula 10% do tamanho total\n",
    "sample_size = int(len(df_patents) * 0.1)\n",
    "\n",
    "# Seleciona aleatoriamente 10% das linhas\n",
    "df_patents_sample = df_patents.sample(n=sample_size, random_state=42)\n",
    "\n",
    "results = []\n",
    "\n",
    "for idx, row in tqdm(df_patents_sample.iterrows(), total=len(df_patents_sample)):\n",
    "    try:\n",
    "        title = row[\"titulo\"]\n",
    "        abstract = row[\"resumo\"]\n",
    "        # Chama o modelo\n",
    "        query = f\"\"\"Título: {title}\\nAbstract: {abstract}\"\"\"\n",
    "        raw_output = qa_chain.invoke({\"input\": query})\n",
    "        text_output = raw_output.get(\"answer\", \"\")\n",
    "        structured_output = parser.parse(text_output)\n",
    "\n",
    "        insert_derived_elements(structured_output, vectorstore)\n",
    "\n",
    "        # Salva os campos no DataFrame original\n",
    "        df_patents_sample.at[idx, \"kind_effect\"] = getattr(structured_output.kind_effect, \"effect\", \"\")\n",
    "        df_patents_sample.at[idx, \"task\"] = getattr(structured_output.task, \"task\", \"\")\n",
    "        df_patents_sample.at[idx, \"object\"] = getattr(structured_output.object, \"object\", \"\")\n",
    "        df_patents_sample.at[idx, \"physical_effect\"] = getattr(structured_output.physical_effect, \"physical_effect\", \"\")\n",
    "\n",
    "        # Salva o resultado completo em uma lista\n",
    "        results.append(structured_output.model_dump())\n",
    "\n",
    "    except Exception as e:\n",
    "        print(f\"Erro no índice {idx}: {e}\")\n",
    "        df_patents_sample.at[idx, \"kind_effect\"] = \"Erro\"\n",
    "        df_patents_sample.at[idx, \"task\"] = \"Erro\"\n",
    "        df_patents_sample.at[idx, \"object\"] = \"Erro\"\n",
    "        df_patents_sample.at[idx, \"physical_effect\"] = \"Erro\"\n",
    "        results.append({\"kind_effect\": \"Erro\", \"task\": \"Erro\", \"object\": \"Erro\", \"physical_effect\": \"Erro\"})\n",
    "\n",
    "# Salva os resultados\n",
    "df_patents_sample.to_csv(\"../../data/processed/patents_inpi_llm_matched_10percent.csv\", index=False)"
   ]
  },
  {
   "cell_type": "code",
   "execution_count": 29,
   "id": "d4f3e346",
   "metadata": {},
   "outputs": [
    {
     "name": "stdout",
     "output_type": "stream",
     "text": [
      "\n",
      "Campo: kind_effect\n",
      "Total de valores únicos: 103\n",
      "Valores que se repetem pelo menos 2 vezes: 33\n",
      "Top 5 mais frequentes:\n",
      "kind_effect\n",
      "Erro                               72\n",
      "Mecânico                           52\n",
      "Químico                            20\n",
      "Comunicação                        10\n",
      "Processamento digital de imagem    10\n",
      "Name: count, dtype: int64\n",
      "\n",
      "Campo: task\n",
      "Total de valores únicos: 146\n",
      "Valores que se repetem pelo menos 2 vezes: 32\n",
      "Top 5 mais frequentes:\n",
      "task\n",
      "Erro        72\n",
      "Segurar     19\n",
      "Detectar    16\n",
      "Produzir    13\n",
      "Proteger    12\n",
      "Name: count, dtype: int64\n",
      "\n",
      "Campo: object\n",
      "Total de valores únicos: 174\n",
      "Valores que se repetem pelo menos 2 vezes: 25\n",
      "Top 5 mais frequentes:\n",
      "object\n",
      "Erro               72\n",
      "Sólido             21\n",
      "Líquido            15\n",
      "Sólido dividido    14\n",
      "Anticorpos          6\n",
      "Name: count, dtype: int64\n",
      "\n",
      "Campo: physical_effect\n",
      "Total de valores únicos: 181\n",
      "Valores que se repetem pelo menos 2 vezes: 40\n",
      "Top 5 mais frequentes:\n",
      "physical_effect\n",
      "Erro                                       72\n",
      "Mechanical Fastener(thread, twist, etc)    10\n",
      "Substância aglutinante                      8\n",
      "Filtração                                   7\n",
      "Fermentação                                 6\n",
      "Name: count, dtype: int64\n"
     ]
    }
   ],
   "source": [
    "# Análise dos campos kind_effect, task, object e physical_effect em df_patents_sample\n",
    "\n",
    "# Função para contar repetições e mostrar os mais frequentes\n",
    "def analyze_repetitions(df, column):\n",
    "    counts = df[column].value_counts()\n",
    "    repeated = counts[counts >= 2]\n",
    "    print(f\"\\nCampo: {column}\")\n",
    "    print(f\"Total de valores únicos: {counts.shape[0]}\")\n",
    "    print(f\"Valores que se repetem pelo menos 2 vezes: {repeated.shape[0]}\")\n",
    "    print(\"Top 5 mais frequentes:\")\n",
    "    print(repeated.head(5))\n",
    "\n",
    "# Campos a analisar\n",
    "fields = [\"kind_effect\", \"task\", \"object\", \"physical_effect\"]\n",
    "\n",
    "for field in fields:\n",
    "    analyze_repetitions(df_patents_sample, field)"
   ]
  },
  {
   "cell_type": "code",
   "execution_count": null,
   "id": "03614163",
   "metadata": {},
   "outputs": [],
   "source": []
  }
 ],
 "metadata": {
  "kernelspec": {
   "display_name": "venv",
   "language": "python",
   "name": "python3"
  },
  "language_info": {
   "codemirror_mode": {
    "name": "ipython",
    "version": 3
   },
   "file_extension": ".py",
   "mimetype": "text/x-python",
   "name": "python",
   "nbconvert_exporter": "python",
   "pygments_lexer": "ipython3",
   "version": "3.12.4"
  }
 },
 "nbformat": 4,
 "nbformat_minor": 5
}
