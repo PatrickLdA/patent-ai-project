{
 "cells": [
  {
   "cell_type": "code",
   "execution_count": 6,
   "id": "d1490abf",
   "metadata": {},
   "outputs": [
    {
     "data": {
      "application/vnd.jupyter.widget-view+json": {
       "model_id": "6a072a8f45e943249962ed3f5ea9808f",
       "version_major": 2,
       "version_minor": 0
      },
      "text/plain": [
       "VBox(children=(HTML(value='<center> <img\\nsrc=https://huggingface.co/front/assets/huggingface_logo-noborder.sv…"
      ]
     },
     "metadata": {},
     "output_type": "display_data"
    }
   ],
   "source": [
    "from tqdm import tqdm   \n",
    "\n",
    "import numpy as np\n",
    "import pandas as pd\n",
    "from datasets import load_dataset\n",
    "\n",
    "import dl_translate as dlt\n",
    "\n",
    "from transformers import AutoTokenizer, AutoModelForSeq2SeqLM, AutoModelForCausalLM, pipeline\n",
    "\n",
    "import huggingface_hub\n",
    "huggingface_hub.login() # now you will be prompted to enter your token; enter it."
   ]
  },
  {
   "cell_type": "code",
   "execution_count": 7,
   "id": "7709315c",
   "metadata": {},
   "outputs": [
    {
     "name": "stdout",
     "output_type": "stream",
     "text": [
      "Defaulting to user installation because normal site-packages is not writeable\n",
      "Collecting en-core-web-lg==3.8.0\n",
      "  Downloading https://github.com/explosion/spacy-models/releases/download/en_core_web_lg-3.8.0/en_core_web_lg-3.8.0-py3-none-any.whl (400.7 MB)\n",
      "     ---------------------------------------- 0.0/400.7 MB ? eta -:--:--\n",
      "      -------------------------------------- 7.6/400.7 MB 47.1 MB/s eta 0:00:09\n",
      "     - ------------------------------------ 17.3/400.7 MB 45.4 MB/s eta 0:00:09\n",
      "     -- ----------------------------------- 30.4/400.7 MB 50.8 MB/s eta 0:00:08\n",
      "     ---- --------------------------------- 44.3/400.7 MB 53.2 MB/s eta 0:00:07\n",
      "     ----- -------------------------------- 56.1/400.7 MB 54.2 MB/s eta 0:00:07\n",
      "     ------ ------------------------------- 69.5/400.7 MB 55.4 MB/s eta 0:00:06\n",
      "     -------- ----------------------------- 85.5/400.7 MB 57.4 MB/s eta 0:00:06\n",
      "     --------- ---------------------------- 99.6/400.7 MB 58.9 MB/s eta 0:00:06\n",
      "     ---------- -------------------------- 113.2/400.7 MB 59.7 MB/s eta 0:00:05\n",
      "     ----------- ------------------------- 126.6/400.7 MB 60.8 MB/s eta 0:00:05\n",
      "     ------------- ----------------------- 141.3/400.7 MB 61.0 MB/s eta 0:00:05\n",
      "     -------------- ---------------------- 154.4/400.7 MB 61.3 MB/s eta 0:00:05\n",
      "     --------------- --------------------- 169.1/400.7 MB 61.7 MB/s eta 0:00:04\n",
      "     ---------------- -------------------- 181.9/400.7 MB 61.8 MB/s eta 0:00:04\n",
      "     ----------------- ------------------- 192.4/400.7 MB 60.9 MB/s eta 0:00:04\n",
      "     ------------------- ----------------- 207.1/400.7 MB 61.3 MB/s eta 0:00:04\n",
      "     -------------------- ---------------- 220.7/400.7 MB 61.6 MB/s eta 0:00:03\n",
      "     --------------------- --------------- 234.6/400.7 MB 61.5 MB/s eta 0:00:03\n",
      "     ---------------------- -------------- 247.2/400.7 MB 61.5 MB/s eta 0:00:03\n",
      "     ----------------------- ------------- 259.8/400.7 MB 61.3 MB/s eta 0:00:03\n",
      "     ------------------------- ----------- 273.4/400.7 MB 62.3 MB/s eta 0:00:03\n",
      "     -------------------------- ---------- 286.0/400.7 MB 62.8 MB/s eta 0:00:02\n",
      "     --------------------------- --------- 298.6/400.7 MB 62.8 MB/s eta 0:00:02\n",
      "     ---------------------------- -------- 311.7/400.7 MB 62.8 MB/s eta 0:00:02\n",
      "     ----------------------------- ------- 323.7/400.7 MB 62.8 MB/s eta 0:00:02\n",
      "     ------------------------------- ----- 336.1/400.7 MB 62.5 MB/s eta 0:00:02\n",
      "     -------------------------------- ---- 350.0/400.7 MB 62.3 MB/s eta 0:00:01\n",
      "     --------------------------------- --- 363.1/400.7 MB 61.8 MB/s eta 0:00:01\n",
      "     ---------------------------------- -- 376.7/400.7 MB 61.6 MB/s eta 0:00:01\n",
      "     ----------------------------------- - 388.5/400.7 MB 61.2 MB/s eta 0:00:01\n",
      "     ------------------------------------  400.6/400.7 MB 60.9 MB/s eta 0:00:01\n",
      "     ------------------------------------  400.6/400.7 MB 60.9 MB/s eta 0:00:01\n",
      "     ------------------------------------  400.6/400.7 MB 60.9 MB/s eta 0:00:01\n",
      "     ------------------------------------  400.6/400.7 MB 60.9 MB/s eta 0:00:01\n",
      "     ------------------------------------  400.6/400.7 MB 60.9 MB/s eta 0:00:01\n",
      "     ------------------------------------  400.6/400.7 MB 60.9 MB/s eta 0:00:01\n",
      "     ------------------------------------  400.6/400.7 MB 60.9 MB/s eta 0:00:01\n",
      "     ------------------------------------  400.6/400.7 MB 60.9 MB/s eta 0:00:01\n",
      "     ------------------------------------  400.6/400.7 MB 60.9 MB/s eta 0:00:01\n",
      "     ------------------------------------  400.6/400.7 MB 60.9 MB/s eta 0:00:01\n",
      "     ------------------------------------- 400.7/400.7 MB 41.9 MB/s eta 0:00:00\n",
      "\u001b[38;5;2m✔ Download and installation successful\u001b[0m\n",
      "You can now load the package via spacy.load('en_core_web_lg')\n"
     ]
    },
    {
     "name": "stderr",
     "output_type": "stream",
     "text": [
      "\n",
      "[notice] A new release of pip is available: 25.0.1 -> 25.1.1\n",
      "[notice] To update, run: C:\\Users\\Marcos Antenor\\AppData\\Local\\Microsoft\\WindowsApps\\PythonSoftwareFoundation.Python.3.12_qbz5n2kfra8p0\\python.exe -m pip install --upgrade pip\n"
     ]
    }
   ],
   "source": [
    "!python -m spacy download en_core_web_lg\n",
    "import spacy\n",
    "import spacy_transformers\n",
    "import torch"
   ]
  },
  {
   "cell_type": "markdown",
   "id": "0619ebdc",
   "metadata": {},
   "source": [
    "# English processing use cases\n",
    "This notebook aims to test the Task and Object identification in patents in english.\n",
    "\n",
    "1. **Task:** the method used in the described patent. In can be compress something or agilize a effect, for example.\n",
    "2. **Object:** the \"target\" of the task. It can be a food, a construction material or any other object that, combined with the task, defines the patent.\n",
    "\n",
    "It is supposed that NLP techniques are more refined to english data as the models are well-developed and to validate this theory, all the patents will be translated to english to them be processed.\n",
    "\n",
    "[DL-Translate](https://pypi.org/project/dl-translate/), a Python library that implements a low verbosity use of many open source models to translation tasks.\n",
    "\n",
    "Three models can be used to translate from portuguese to english:\n",
    "- [mBART-50 Large](https://huggingface.co/transformers/master/model_doc/mbart.html): Allows translations across 50 languages.\n",
    "- [m2m100](https://huggingface.co/docs/transformers/model_doc/m2m_100): Allows translations across 100 languages.\n",
    "- [nllb-200](https://huggingface.co/docs/transformers/model_doc/nllb): Allows translations across 200 languages, and is faster than m2m100 (On RTX A6000, we can see speed up of 3x)."
   ]
  },
  {
   "cell_type": "markdown",
   "id": "aab5155c",
   "metadata": {},
   "source": [
    "# Model translation evaluation\n",
    "\n",
    "To test the models we will evaluate using [FLORES+](https://huggingface.co/datasets/openlanguagedata/flores_plus) from Meta and evaluate the BLEU score for each model. This will serve as a benchmark to choose the best translating model to portuguese.\n",
    "\n",
    "To do so, we have to download the portuguese and english bases and combine then by the ID."
   ]
  },
  {
   "cell_type": "code",
   "execution_count": 8,
   "id": "7d0d345e",
   "metadata": {},
   "outputs": [
    {
     "data": {
      "application/vnd.jupyter.widget-view+json": {
       "model_id": "d6e092002b344dd682de1c3eb88b856e",
       "version_major": 2,
       "version_minor": 0
      },
      "text/plain": [
       "Resolving data files:   0%|          | 0/220 [00:00<?, ?it/s]"
      ]
     },
     "metadata": {},
     "output_type": "display_data"
    },
    {
     "data": {
      "application/vnd.jupyter.widget-view+json": {
       "model_id": "7875234f880d48689b1df436441a65aa",
       "version_major": 2,
       "version_minor": 0
      },
      "text/plain": [
       "Resolving data files:   0%|          | 0/214 [00:00<?, ?it/s]"
      ]
     },
     "metadata": {},
     "output_type": "display_data"
    },
    {
     "data": {
      "text/html": [
       "<div>\n",
       "<style scoped>\n",
       "    .dataframe tbody tr th:only-of-type {\n",
       "        vertical-align: middle;\n",
       "    }\n",
       "\n",
       "    .dataframe tbody tr th {\n",
       "        vertical-align: top;\n",
       "    }\n",
       "\n",
       "    .dataframe thead th {\n",
       "        text-align: right;\n",
       "    }\n",
       "</style>\n",
       "<table border=\"1\" class=\"dataframe\">\n",
       "  <thead>\n",
       "    <tr style=\"text-align: right;\">\n",
       "      <th></th>\n",
       "      <th>id</th>\n",
       "      <th>iso_639_3</th>\n",
       "      <th>iso_15924</th>\n",
       "      <th>glottocode</th>\n",
       "      <th>text</th>\n",
       "      <th>url</th>\n",
       "      <th>domain</th>\n",
       "      <th>topic</th>\n",
       "      <th>has_image</th>\n",
       "      <th>has_hyperlink</th>\n",
       "      <th>last_updated</th>\n",
       "    </tr>\n",
       "  </thead>\n",
       "  <tbody>\n",
       "    <tr>\n",
       "      <th>0</th>\n",
       "      <td>0</td>\n",
       "      <td>por</td>\n",
       "      <td>Latn</td>\n",
       "      <td>braz1246</td>\n",
       "      <td>Na segunda-feira, cientistas da Escola de Medi...</td>\n",
       "      <td>https://en.wikinews.org/wiki/Scientists_say_ne...</td>\n",
       "      <td>wikinews</td>\n",
       "      <td>health</td>\n",
       "      <td>yes</td>\n",
       "      <td>yes</td>\n",
       "      <td>1.0</td>\n",
       "    </tr>\n",
       "    <tr>\n",
       "      <th>1</th>\n",
       "      <td>1</td>\n",
       "      <td>por</td>\n",
       "      <td>Latn</td>\n",
       "      <td>braz1246</td>\n",
       "      <td>Os principais pesquisadores dizem que isso pod...</td>\n",
       "      <td>https://en.wikinews.org/wiki/Scientists_say_ne...</td>\n",
       "      <td>wikinews</td>\n",
       "      <td>health</td>\n",
       "      <td>yes</td>\n",
       "      <td>yes</td>\n",
       "      <td>1.0</td>\n",
       "    </tr>\n",
       "    <tr>\n",
       "      <th>2</th>\n",
       "      <td>2</td>\n",
       "      <td>por</td>\n",
       "      <td>Latn</td>\n",
       "      <td>braz1246</td>\n",
       "      <td>O JAS 39 Gripen se chocou com a pista por volt...</td>\n",
       "      <td>https://en.wikinews.org/wiki/Fighter_jet_crash...</td>\n",
       "      <td>wikinews</td>\n",
       "      <td>accident</td>\n",
       "      <td>yes</td>\n",
       "      <td>yes</td>\n",
       "      <td>1.0</td>\n",
       "    </tr>\n",
       "    <tr>\n",
       "      <th>3</th>\n",
       "      <td>3</td>\n",
       "      <td>por</td>\n",
       "      <td>Latn</td>\n",
       "      <td>braz1246</td>\n",
       "      <td>O piloto foi identificado como o Líder de Esqu...</td>\n",
       "      <td>https://en.wikinews.org/wiki/Fighter_jet_crash...</td>\n",
       "      <td>wikinews</td>\n",
       "      <td>accident</td>\n",
       "      <td>yes</td>\n",
       "      <td>yes</td>\n",
       "      <td>1.0</td>\n",
       "    </tr>\n",
       "    <tr>\n",
       "      <th>4</th>\n",
       "      <td>4</td>\n",
       "      <td>por</td>\n",
       "      <td>Latn</td>\n",
       "      <td>braz1246</td>\n",
       "      <td>A mídia local informa o capotamento de um veíc...</td>\n",
       "      <td>https://en.wikinews.org/wiki/Fighter_jet_crash...</td>\n",
       "      <td>wikinews</td>\n",
       "      <td>accident</td>\n",
       "      <td>yes</td>\n",
       "      <td>yes</td>\n",
       "      <td>1.0</td>\n",
       "    </tr>\n",
       "  </tbody>\n",
       "</table>\n",
       "</div>"
      ],
      "text/plain": [
       "   id iso_639_3 iso_15924 glottocode  \\\n",
       "0   0       por      Latn   braz1246   \n",
       "1   1       por      Latn   braz1246   \n",
       "2   2       por      Latn   braz1246   \n",
       "3   3       por      Latn   braz1246   \n",
       "4   4       por      Latn   braz1246   \n",
       "\n",
       "                                                text  \\\n",
       "0  Na segunda-feira, cientistas da Escola de Medi...   \n",
       "1  Os principais pesquisadores dizem que isso pod...   \n",
       "2  O JAS 39 Gripen se chocou com a pista por volt...   \n",
       "3  O piloto foi identificado como o Líder de Esqu...   \n",
       "4  A mídia local informa o capotamento de um veíc...   \n",
       "\n",
       "                                                 url    domain     topic  \\\n",
       "0  https://en.wikinews.org/wiki/Scientists_say_ne...  wikinews    health   \n",
       "1  https://en.wikinews.org/wiki/Scientists_say_ne...  wikinews    health   \n",
       "2  https://en.wikinews.org/wiki/Fighter_jet_crash...  wikinews  accident   \n",
       "3  https://en.wikinews.org/wiki/Fighter_jet_crash...  wikinews  accident   \n",
       "4  https://en.wikinews.org/wiki/Fighter_jet_crash...  wikinews  accident   \n",
       "\n",
       "  has_image has_hyperlink last_updated  \n",
       "0       yes           yes          1.0  \n",
       "1       yes           yes          1.0  \n",
       "2       yes           yes          1.0  \n",
       "3       yes           yes          1.0  \n",
       "4       yes           yes          1.0  "
      ]
     },
     "execution_count": 8,
     "metadata": {},
     "output_type": "execute_result"
    }
   ],
   "source": [
    "ds_por = load_dataset(\"openlanguagedata/flores_plus\", \"por_Latn\")\n",
    "ds_por_df = ds_por['dev'].to_pandas()\n",
    "ds_por_df.head()"
   ]
  },
  {
   "cell_type": "code",
   "execution_count": 9,
   "id": "7c513cae",
   "metadata": {},
   "outputs": [
    {
     "data": {
      "application/vnd.jupyter.widget-view+json": {
       "model_id": "6188f1f90c1e4203934ad4f17d85e091",
       "version_major": 2,
       "version_minor": 0
      },
      "text/plain": [
       "Resolving data files:   0%|          | 0/220 [00:00<?, ?it/s]"
      ]
     },
     "metadata": {},
     "output_type": "display_data"
    },
    {
     "data": {
      "application/vnd.jupyter.widget-view+json": {
       "model_id": "f342566ae7ba42eca3cf28d4b3d4d43c",
       "version_major": 2,
       "version_minor": 0
      },
      "text/plain": [
       "Resolving data files:   0%|          | 0/214 [00:00<?, ?it/s]"
      ]
     },
     "metadata": {},
     "output_type": "display_data"
    },
    {
     "data": {
      "text/html": [
       "<div>\n",
       "<style scoped>\n",
       "    .dataframe tbody tr th:only-of-type {\n",
       "        vertical-align: middle;\n",
       "    }\n",
       "\n",
       "    .dataframe tbody tr th {\n",
       "        vertical-align: top;\n",
       "    }\n",
       "\n",
       "    .dataframe thead th {\n",
       "        text-align: right;\n",
       "    }\n",
       "</style>\n",
       "<table border=\"1\" class=\"dataframe\">\n",
       "  <thead>\n",
       "    <tr style=\"text-align: right;\">\n",
       "      <th></th>\n",
       "      <th>id</th>\n",
       "      <th>iso_639_3</th>\n",
       "      <th>iso_15924</th>\n",
       "      <th>glottocode</th>\n",
       "      <th>text</th>\n",
       "      <th>url</th>\n",
       "      <th>domain</th>\n",
       "      <th>topic</th>\n",
       "      <th>has_image</th>\n",
       "      <th>has_hyperlink</th>\n",
       "      <th>last_updated</th>\n",
       "    </tr>\n",
       "  </thead>\n",
       "  <tbody>\n",
       "    <tr>\n",
       "      <th>0</th>\n",
       "      <td>0</td>\n",
       "      <td>eng</td>\n",
       "      <td>Latn</td>\n",
       "      <td>stan1293</td>\n",
       "      <td>On Monday, scientists from the Stanford Univer...</td>\n",
       "      <td>https://en.wikinews.org/wiki/Scientists_say_ne...</td>\n",
       "      <td>wikinews</td>\n",
       "      <td>health</td>\n",
       "      <td>yes</td>\n",
       "      <td>yes</td>\n",
       "      <td>1.0</td>\n",
       "    </tr>\n",
       "    <tr>\n",
       "      <th>1</th>\n",
       "      <td>1</td>\n",
       "      <td>eng</td>\n",
       "      <td>Latn</td>\n",
       "      <td>stan1293</td>\n",
       "      <td>Lead researchers say this may bring early dete...</td>\n",
       "      <td>https://en.wikinews.org/wiki/Scientists_say_ne...</td>\n",
       "      <td>wikinews</td>\n",
       "      <td>health</td>\n",
       "      <td>yes</td>\n",
       "      <td>yes</td>\n",
       "      <td>1.0</td>\n",
       "    </tr>\n",
       "    <tr>\n",
       "      <th>2</th>\n",
       "      <td>2</td>\n",
       "      <td>eng</td>\n",
       "      <td>Latn</td>\n",
       "      <td>stan1293</td>\n",
       "      <td>The JAS 39C Gripen crashed onto a runway at ar...</td>\n",
       "      <td>https://en.wikinews.org/wiki/Fighter_jet_crash...</td>\n",
       "      <td>wikinews</td>\n",
       "      <td>accident</td>\n",
       "      <td>yes</td>\n",
       "      <td>yes</td>\n",
       "      <td>1.0</td>\n",
       "    </tr>\n",
       "    <tr>\n",
       "      <th>3</th>\n",
       "      <td>3</td>\n",
       "      <td>eng</td>\n",
       "      <td>Latn</td>\n",
       "      <td>stan1293</td>\n",
       "      <td>The pilot was identified as Squadron Leader Di...</td>\n",
       "      <td>https://en.wikinews.org/wiki/Fighter_jet_crash...</td>\n",
       "      <td>wikinews</td>\n",
       "      <td>accident</td>\n",
       "      <td>yes</td>\n",
       "      <td>yes</td>\n",
       "      <td>1.0</td>\n",
       "    </tr>\n",
       "    <tr>\n",
       "      <th>4</th>\n",
       "      <td>4</td>\n",
       "      <td>eng</td>\n",
       "      <td>Latn</td>\n",
       "      <td>stan1293</td>\n",
       "      <td>Local media reports an airport fire vehicle ro...</td>\n",
       "      <td>https://en.wikinews.org/wiki/Fighter_jet_crash...</td>\n",
       "      <td>wikinews</td>\n",
       "      <td>accident</td>\n",
       "      <td>yes</td>\n",
       "      <td>yes</td>\n",
       "      <td>1.0</td>\n",
       "    </tr>\n",
       "  </tbody>\n",
       "</table>\n",
       "</div>"
      ],
      "text/plain": [
       "   id iso_639_3 iso_15924 glottocode  \\\n",
       "0   0       eng      Latn   stan1293   \n",
       "1   1       eng      Latn   stan1293   \n",
       "2   2       eng      Latn   stan1293   \n",
       "3   3       eng      Latn   stan1293   \n",
       "4   4       eng      Latn   stan1293   \n",
       "\n",
       "                                                text  \\\n",
       "0  On Monday, scientists from the Stanford Univer...   \n",
       "1  Lead researchers say this may bring early dete...   \n",
       "2  The JAS 39C Gripen crashed onto a runway at ar...   \n",
       "3  The pilot was identified as Squadron Leader Di...   \n",
       "4  Local media reports an airport fire vehicle ro...   \n",
       "\n",
       "                                                 url    domain     topic  \\\n",
       "0  https://en.wikinews.org/wiki/Scientists_say_ne...  wikinews    health   \n",
       "1  https://en.wikinews.org/wiki/Scientists_say_ne...  wikinews    health   \n",
       "2  https://en.wikinews.org/wiki/Fighter_jet_crash...  wikinews  accident   \n",
       "3  https://en.wikinews.org/wiki/Fighter_jet_crash...  wikinews  accident   \n",
       "4  https://en.wikinews.org/wiki/Fighter_jet_crash...  wikinews  accident   \n",
       "\n",
       "  has_image has_hyperlink last_updated  \n",
       "0       yes           yes          1.0  \n",
       "1       yes           yes          1.0  \n",
       "2       yes           yes          1.0  \n",
       "3       yes           yes          1.0  \n",
       "4       yes           yes          1.0  "
      ]
     },
     "execution_count": 9,
     "metadata": {},
     "output_type": "execute_result"
    }
   ],
   "source": [
    "ds_en = load_dataset(\"openlanguagedata/flores_plus\", \"eng_Latn\")\n",
    "ds_en_df = ds_en['dev'].to_pandas()\n",
    "ds_en_df.head()"
   ]
  },
  {
   "cell_type": "code",
   "execution_count": 10,
   "id": "90ac2519",
   "metadata": {},
   "outputs": [
    {
     "name": "stdout",
     "output_type": "stream",
     "text": [
      "English: On Monday, scientists from the Stanford University School of Medicine announced the invention of a new diagnostic tool that can sort cells by type: a tiny printable chip that can be manufactured using standard inkjet printers for possibly about one U.S. cent each.\n",
      "Portuguese: Na segunda-feira, cientistas da Escola de Medicina da Universidade de Stanford anunciaram a invenção de uma nova ferramenta de diagnóstico que pode classificar células por tipo: um minúsculo chip imprimível que pode ser fabricado usando impressoras jato de tinta padrão por possivelmente cerca de um centavo de dólar cada.\n"
     ]
    }
   ],
   "source": [
    "id = 0\n",
    "print(f\"English: {ds_en_df.loc[ds_en_df['id'] == id]['text'].values[0]}\")\n",
    "print(f\"Portuguese: {ds_por_df.loc[ds_por_df['id'] == id]['text'].values[0]}\")"
   ]
  },
  {
   "cell_type": "code",
   "execution_count": 11,
   "id": "dbdf09f8",
   "metadata": {},
   "outputs": [
    {
     "data": {
      "text/html": [
       "<div>\n",
       "<style scoped>\n",
       "    .dataframe tbody tr th:only-of-type {\n",
       "        vertical-align: middle;\n",
       "    }\n",
       "\n",
       "    .dataframe tbody tr th {\n",
       "        vertical-align: top;\n",
       "    }\n",
       "\n",
       "    .dataframe thead th {\n",
       "        text-align: right;\n",
       "    }\n",
       "</style>\n",
       "<table border=\"1\" class=\"dataframe\">\n",
       "  <thead>\n",
       "    <tr style=\"text-align: right;\">\n",
       "      <th></th>\n",
       "      <th>id</th>\n",
       "      <th>text_pt</th>\n",
       "      <th>text_en</th>\n",
       "    </tr>\n",
       "  </thead>\n",
       "  <tbody>\n",
       "    <tr>\n",
       "      <th>0</th>\n",
       "      <td>0</td>\n",
       "      <td>Na segunda-feira, cientistas da Escola de Medi...</td>\n",
       "      <td>On Monday, scientists from the Stanford Univer...</td>\n",
       "    </tr>\n",
       "    <tr>\n",
       "      <th>1</th>\n",
       "      <td>1</td>\n",
       "      <td>Os principais pesquisadores dizem que isso pod...</td>\n",
       "      <td>Lead researchers say this may bring early dete...</td>\n",
       "    </tr>\n",
       "    <tr>\n",
       "      <th>2</th>\n",
       "      <td>2</td>\n",
       "      <td>O JAS 39 Gripen se chocou com a pista por volt...</td>\n",
       "      <td>The JAS 39C Gripen crashed onto a runway at ar...</td>\n",
       "    </tr>\n",
       "    <tr>\n",
       "      <th>3</th>\n",
       "      <td>3</td>\n",
       "      <td>O piloto foi identificado como o Líder de Esqu...</td>\n",
       "      <td>The pilot was identified as Squadron Leader Di...</td>\n",
       "    </tr>\n",
       "    <tr>\n",
       "      <th>4</th>\n",
       "      <td>4</td>\n",
       "      <td>A mídia local informa o capotamento de um veíc...</td>\n",
       "      <td>Local media reports an airport fire vehicle ro...</td>\n",
       "    </tr>\n",
       "  </tbody>\n",
       "</table>\n",
       "</div>"
      ],
      "text/plain": [
       "   id                                            text_pt  \\\n",
       "0   0  Na segunda-feira, cientistas da Escola de Medi...   \n",
       "1   1  Os principais pesquisadores dizem que isso pod...   \n",
       "2   2  O JAS 39 Gripen se chocou com a pista por volt...   \n",
       "3   3  O piloto foi identificado como o Líder de Esqu...   \n",
       "4   4  A mídia local informa o capotamento de um veíc...   \n",
       "\n",
       "                                             text_en  \n",
       "0  On Monday, scientists from the Stanford Univer...  \n",
       "1  Lead researchers say this may bring early dete...  \n",
       "2  The JAS 39C Gripen crashed onto a runway at ar...  \n",
       "3  The pilot was identified as Squadron Leader Di...  \n",
       "4  Local media reports an airport fire vehicle ro...  "
      ]
     },
     "execution_count": 11,
     "metadata": {},
     "output_type": "execute_result"
    }
   ],
   "source": [
    "df_merged = ds_por_df[['id', 'text']].merge(\n",
    "    ds_en_df[['id', 'text']],\n",
    "    on='id',\n",
    "    suffixes=('_pt', '_en')\n",
    ")\n",
    "\n",
    "df_merged.head()"
   ]
  },
  {
   "cell_type": "code",
   "execution_count": 12,
   "id": "b0d9d8ad",
   "metadata": {},
   "outputs": [],
   "source": [
    "df_merged = df_merged.head(5)"
   ]
  },
  {
   "cell_type": "code",
   "execution_count": 13,
   "id": "c20a6b76",
   "metadata": {},
   "outputs": [
    {
     "name": "stdout",
     "output_type": "stream",
     "text": [
      "Size of the evaluation dataset: 5\n"
     ]
    }
   ],
   "source": [
    "print(f\"Size of the evaluation dataset: {len(df_merged)}\")"
   ]
  },
  {
   "cell_type": "markdown",
   "id": "9f166c88",
   "metadata": {},
   "source": [
    "First, we will process the data with m2m model"
   ]
  },
  {
   "cell_type": "code",
   "execution_count": 14,
   "id": "7d29495d",
   "metadata": {},
   "outputs": [
    {
     "name": "stderr",
     "output_type": "stream",
     "text": [
      "100%|██████████| 5/5 [01:01<00:00, 12.34s/it]\n"
     ]
    },
    {
     "data": {
      "text/html": [
       "<div>\n",
       "<style scoped>\n",
       "    .dataframe tbody tr th:only-of-type {\n",
       "        vertical-align: middle;\n",
       "    }\n",
       "\n",
       "    .dataframe tbody tr th {\n",
       "        vertical-align: top;\n",
       "    }\n",
       "\n",
       "    .dataframe thead th {\n",
       "        text-align: right;\n",
       "    }\n",
       "</style>\n",
       "<table border=\"1\" class=\"dataframe\">\n",
       "  <thead>\n",
       "    <tr style=\"text-align: right;\">\n",
       "      <th></th>\n",
       "      <th>id</th>\n",
       "      <th>text_pt</th>\n",
       "      <th>text_en</th>\n",
       "      <th>m2m100_translation</th>\n",
       "    </tr>\n",
       "  </thead>\n",
       "  <tbody>\n",
       "    <tr>\n",
       "      <th>0</th>\n",
       "      <td>0</td>\n",
       "      <td>Na segunda-feira, cientistas da Escola de Medi...</td>\n",
       "      <td>On Monday, scientists from the Stanford Univer...</td>\n",
       "      <td>On Monday, scientists from the University of S...</td>\n",
       "    </tr>\n",
       "    <tr>\n",
       "      <th>1</th>\n",
       "      <td>1</td>\n",
       "      <td>Os principais pesquisadores dizem que isso pod...</td>\n",
       "      <td>Lead researchers say this may bring early dete...</td>\n",
       "      <td>Lead researchers say that this can lead to ear...</td>\n",
       "    </tr>\n",
       "    <tr>\n",
       "      <th>2</th>\n",
       "      <td>2</td>\n",
       "      <td>O JAS 39 Gripen se chocou com a pista por volt...</td>\n",
       "      <td>The JAS 39C Gripen crashed onto a runway at ar...</td>\n",
       "      <td>The JAS 39 Gripen shocked with the track aroun...</td>\n",
       "    </tr>\n",
       "    <tr>\n",
       "      <th>3</th>\n",
       "      <td>3</td>\n",
       "      <td>O piloto foi identificado como o Líder de Esqu...</td>\n",
       "      <td>The pilot was identified as Squadron Leader Di...</td>\n",
       "      <td>The pilot was identified as the Squad Leader D...</td>\n",
       "    </tr>\n",
       "    <tr>\n",
       "      <th>4</th>\n",
       "      <td>4</td>\n",
       "      <td>A mídia local informa o capotamento de um veíc...</td>\n",
       "      <td>Local media reports an airport fire vehicle ro...</td>\n",
       "      <td>The local media the capture of a fire vehicle ...</td>\n",
       "    </tr>\n",
       "  </tbody>\n",
       "</table>\n",
       "</div>"
      ],
      "text/plain": [
       "   id                                            text_pt  \\\n",
       "0   0  Na segunda-feira, cientistas da Escola de Medi...   \n",
       "1   1  Os principais pesquisadores dizem que isso pod...   \n",
       "2   2  O JAS 39 Gripen se chocou com a pista por volt...   \n",
       "3   3  O piloto foi identificado como o Líder de Esqu...   \n",
       "4   4  A mídia local informa o capotamento de um veíc...   \n",
       "\n",
       "                                             text_en  \\\n",
       "0  On Monday, scientists from the Stanford Univer...   \n",
       "1  Lead researchers say this may bring early dete...   \n",
       "2  The JAS 39C Gripen crashed onto a runway at ar...   \n",
       "3  The pilot was identified as Squadron Leader Di...   \n",
       "4  Local media reports an airport fire vehicle ro...   \n",
       "\n",
       "                                  m2m100_translation  \n",
       "0  On Monday, scientists from the University of S...  \n",
       "1  Lead researchers say that this can lead to ear...  \n",
       "2  The JAS 39 Gripen shocked with the track aroun...  \n",
       "3  The pilot was identified as the Squad Leader D...  \n",
       "4  The local media the capture of a fire vehicle ...  "
      ]
     },
     "execution_count": 14,
     "metadata": {},
     "output_type": "execute_result"
    }
   ],
   "source": [
    "tqdm.pandas()\n",
    "\n",
    "mt = dlt.TranslationModel(model_or_path=\"m2m100\", device=\"cpu\")\n",
    "\n",
    "\n",
    "df_merged[\"m2m100_translation\"] = df_merged[\"text_pt\"].progress_apply(\n",
    "    lambda x: mt.translate(x, source=dlt.lang.PORTUGUESE, target=dlt.lang.ENGLISH)\n",
    ")\n",
    "\n",
    "df_merged.to_csv(\"../../data/processed/translation_benchmark_flores_plus_pt_en.csv\", index=False)\n",
    "\n",
    "df_merged.head()"
   ]
  },
  {
   "cell_type": "markdown",
   "id": "f49915ec",
   "metadata": {},
   "source": [
    "Now mbart-50"
   ]
  },
  {
   "cell_type": "code",
   "execution_count": 15,
   "id": "6c14215b",
   "metadata": {},
   "outputs": [
    {
     "name": "stderr",
     "output_type": "stream",
     "text": [
      "100%|██████████| 5/5 [00:55<00:00, 11.06s/it]\n"
     ]
    }
   ],
   "source": [
    "# Traduzindo os textos em português para inglês usando o modelo mbart50\n",
    "mt_mbart50 = dlt.TranslationModel(model_or_path=\"mbart50\", device=\"cpu\")\n",
    "df_merged[\"mbart50_translation\"] = df_merged[\"text_pt\"].progress_apply(\n",
    "    lambda x: mt_mbart50.translate(x, source=dlt.lang.PORTUGUESE, target=dlt.lang.ENGLISH)\n",
    ")\n",
    "\n",
    "df_merged.to_csv(\"../../data/processed/translation_benchmark_flores_plus_pt_en.csv\", index=False)"
   ]
  },
  {
   "cell_type": "markdown",
   "id": "f90a07cf",
   "metadata": {},
   "source": [
    "Now unicamp-dl/translation-pt-en-t5"
   ]
  },
  {
   "cell_type": "code",
   "execution_count": 16,
   "id": "72abf9c8",
   "metadata": {},
   "outputs": [
    {
     "name": "stderr",
     "output_type": "stream",
     "text": [
      "Device set to use cpu\n",
      "100%|██████████| 5/5 [00:57<00:00, 11.57s/it]\n"
     ]
    }
   ],
   "source": [
    "tokenizer = AutoTokenizer.from_pretrained(\"unicamp-dl/translation-pt-en-t5\")\n",
    "model = AutoModelForSeq2SeqLM.from_pretrained(\"unicamp-dl/translation-pt-en-t5\")\n",
    "\n",
    "pt_en_pipeline = pipeline(\"text2text-generation\", model=model, tokenizer=tokenizer)\n",
    "\n",
    "df_merged[\"unicamp_pt_en_t5\"] = df_merged[\"text_pt\"].progress_apply(\n",
    "    lambda x: pt_en_pipeline(f\"translate Portuguese to English: {x}\")[0]['generated_text']\n",
    ")\n",
    "\n",
    "df_merged.to_csv(\"../../data/processed/translation_benchmark_flores_plus_pt_en.csv\", index=False)"
   ]
  },
  {
   "cell_type": "markdown",
   "id": "e51cb0ff",
   "metadata": {},
   "source": [
    "Now facebook/nllb-200-distilled-600M"
   ]
  },
  {
   "cell_type": "code",
   "execution_count": 17,
   "id": "1dbf5083",
   "metadata": {},
   "outputs": [
    {
     "name": "stderr",
     "output_type": "stream",
     "text": [
      "Device set to use cpu\n",
      "100%|██████████| 5/5 [00:39<00:00,  7.98s/it]\n"
     ]
    }
   ],
   "source": [
    "tokenizer = AutoTokenizer.from_pretrained(\"facebook/nllb-200-distilled-600M\")\n",
    "model = AutoModelForSeq2SeqLM.from_pretrained(\"facebook/nllb-200-distilled-600M\")\n",
    "\n",
    "translator = pipeline(\"translation\", model=model, tokenizer=tokenizer, src_lang=\"por_Latn\", tgt_lang=\"eng_Latn\")\n",
    "\n",
    "df_merged[\"facebook_nlb_200\"] = df_merged[\"text_pt\"].progress_apply(\n",
    "    lambda x: translator(x)[0][\"translation_text\"]\n",
    ")\n",
    "\n",
    "df_merged.to_csv(\"../../data/processed/translation_benchmark_flores_plus_pt_en.csv\", index=False)"
   ]
  },
  {
   "cell_type": "markdown",
   "id": "c60f0a42",
   "metadata": {},
   "source": [
    "Now Helsinki-NLP/opus-mt-mul-en"
   ]
  },
  {
   "cell_type": "code",
   "execution_count": 18,
   "id": "e1265651",
   "metadata": {},
   "outputs": [
    {
     "name": "stderr",
     "output_type": "stream",
     "text": [
      "C:\\Users\\Marcos Antenor\\AppData\\Local\\Packages\\PythonSoftwareFoundation.Python.3.12_qbz5n2kfra8p0\\LocalCache\\local-packages\\Python312\\site-packages\\transformers\\models\\marian\\tokenization_marian.py:175: UserWarning: Recommended: pip install sacremoses.\n",
      "  warnings.warn(\"Recommended: pip install sacremoses.\")\n",
      "Device set to use cpu\n",
      "100%|██████████| 5/5 [00:05<00:00,  1.04s/it]\n"
     ]
    }
   ],
   "source": [
    "tokenizer = AutoTokenizer.from_pretrained(\"Helsinki-NLP/opus-mt-mul-en\")\n",
    "model = AutoModelForSeq2SeqLM.from_pretrained(\"Helsinki-NLP/opus-mt-mul-en\")\n",
    "\n",
    "translator = pipeline(\"translation\", model=model, tokenizer=tokenizer)\n",
    "\n",
    "df_merged[\"helsink_opus_mult\"] = df_merged[\"text_pt\"].progress_apply(\n",
    "    lambda x: translator(x)[0][\"translation_text\"]\n",
    ")\n",
    "\n",
    "df_merged.to_csv(\"../../data/processed/translation_benchmark_flores_plus_pt_en.csv\", index=False)"
   ]
  },
  {
   "cell_type": "markdown",
   "id": "96794572",
   "metadata": {},
   "source": [
    "Now google/madlad400-3b-mt"
   ]
  },
  {
   "cell_type": "code",
   "execution_count": null,
   "id": "a342eac5",
   "metadata": {},
   "outputs": [
    {
     "data": {
      "application/vnd.jupyter.widget-view+json": {
       "model_id": "bffcd37b2a8845b9955f5a4e04848395",
       "version_major": 2,
       "version_minor": 0
      },
      "text/plain": [
       "spiece.model:   0%|          | 0.00/4.43M [00:00<?, ?B/s]"
      ]
     },
     "metadata": {},
     "output_type": "display_data"
    }
   ],
   "source": [
    "tokenizer = AutoTokenizer.from_pretrained(\"google/madlad400-3b-mt\")\n",
    "model = AutoModelForSeq2SeqLM.from_pretrained(\"google/madlad400-3b-mt\")\n",
    "\n",
    "translator = pipeline(\"text2text-generation\", model=model, tokenizer=tokenizer)\n",
    "\n",
    "df_merged[\"google_madlad_3b\"] = df_merged[\"text_pt\"].progress_apply(\n",
    "    lambda x: translator(f\">>en<< {x}\")[0][\"generated_text\"]\n",
    ")\n",
    "\n",
    "df_merged.to_csv(\"../../data/processed/translation_benchmark_flores_plus_pt_en.csv\", index=False)"
   ]
  },
  {
   "cell_type": "markdown",
   "id": "69c65396",
   "metadata": {},
   "source": [
    "Now ByteDance"
   ]
  },
  {
   "cell_type": "code",
   "execution_count": null,
   "id": "87f1cafd",
   "metadata": {},
   "outputs": [],
   "source": [
    "model_name = \"ByteDance/Seed-X-PPO-7B\"\n",
    "\n",
    "tokenizer = AutoTokenizer.from_pretrained(model_name)\n",
    "model = AutoModelForCausalLM.from_pretrained(\n",
    "    model_name,\n",
    "    torch_dtype=torch.float16 if torch.cuda.is_available() else torch.float32,\n",
    "    device_map=\"auto\"\n",
    ")\n",
    "\n",
    "translator = pipeline(\n",
    "    \"text-generation\",\n",
    "    model=model,\n",
    "    tokenizer=tokenizer,\n",
    "    device=0 if torch.cuda.is_available() else -1,\n",
    ")\n",
    "\n",
    "def translate_bytedance(text_pt):\n",
    "    prompt = f\"Translate the following Portuguese sentence into English:\\n{text_pt} <en>\"\n",
    "    output = translator(prompt, max_new_tokens=128, do_sample=False, temperature=0.0)[0][\"generated_text\"]\n",
    "    translation = output.replace(prompt, \"\").strip()\n",
    "    return translation\n",
    "\n",
    "df_merged[\"bytedance_seedx\"] = df_merged[\"text_pt\"].progress_apply(translate_bytedance)\n",
    "\n",
    "df_merged.to_csv(\"../../data/processed/translation_benchmark_seedx_pt_en.csv\", index=False)"
   ]
  },
  {
   "cell_type": "code",
   "execution_count": null,
   "id": "96bd762d",
   "metadata": {},
   "outputs": [
    {
     "data": {
      "text/html": [
       "<div>\n",
       "<style scoped>\n",
       "    .dataframe tbody tr th:only-of-type {\n",
       "        vertical-align: middle;\n",
       "    }\n",
       "\n",
       "    .dataframe tbody tr th {\n",
       "        vertical-align: top;\n",
       "    }\n",
       "\n",
       "    .dataframe thead th {\n",
       "        text-align: right;\n",
       "    }\n",
       "</style>\n",
       "<table border=\"1\" class=\"dataframe\">\n",
       "  <thead>\n",
       "    <tr style=\"text-align: right;\">\n",
       "      <th></th>\n",
       "      <th>id</th>\n",
       "      <th>text_pt</th>\n",
       "      <th>text_en</th>\n",
       "      <th>m2m100_translation</th>\n",
       "      <th>mbart50_translation</th>\n",
       "      <th>unicamp_pt_en_t5</th>\n",
       "      <th>nllb_translation</th>\n",
       "      <th>opus_mt_mul_en_translation</th>\n",
       "    </tr>\n",
       "  </thead>\n",
       "  <tbody>\n",
       "    <tr>\n",
       "      <th>0</th>\n",
       "      <td>0</td>\n",
       "      <td>Na segunda-feira, cientistas da Escola de Medi...</td>\n",
       "      <td>On Monday, scientists from the Stanford Univer...</td>\n",
       "      <td>On Monday, scientists from the University of S...</td>\n",
       "      <td>On Monday, scientists at Stanford Medical Scho...</td>\n",
       "      <td>On Monday, scientists from the Stanford Univer...</td>\n",
       "      <td>On Monday, scientists at Stanford University S...</td>\n",
       "      <td>On Tuesday, scientists at Stanford University ...</td>\n",
       "    </tr>\n",
       "    <tr>\n",
       "      <th>1</th>\n",
       "      <td>1</td>\n",
       "      <td>Os principais pesquisadores dizem que isso pod...</td>\n",
       "      <td>Lead researchers say this may bring early dete...</td>\n",
       "      <td>Lead researchers say that this can lead to ear...</td>\n",
       "      <td>Leading researchers say this can lead to early...</td>\n",
       "      <td>The main researchers say that this may lead to e</td>\n",
       "      <td>Leading researchers say this could lead to ear...</td>\n",
       "      <td>The main researchers say that this can lead to...</td>\n",
       "    </tr>\n",
       "    <tr>\n",
       "      <th>2</th>\n",
       "      <td>2</td>\n",
       "      <td>O JAS 39 Gripen se chocou com a pista por volt...</td>\n",
       "      <td>The JAS 39C Gripen crashed onto a runway at ar...</td>\n",
       "      <td>The JAS 39 Gripen shocked with the track aroun...</td>\n",
       "      <td>JAS 39 Gripen slammed into the runway at about...</td>\n",
       "      <td>The JAS 39 Gripen stinged around 9:30 at the l...</td>\n",
       "      <td>JAS 39 Gripen crashed into the runway around 9...</td>\n",
       "      <td>The JAS 39 Gripen hit the track around 9:30 at...</td>\n",
       "    </tr>\n",
       "    <tr>\n",
       "      <th>3</th>\n",
       "      <td>3</td>\n",
       "      <td>O piloto foi identificado como o Líder de Esqu...</td>\n",
       "      <td>The pilot was identified as Squadron Leader Di...</td>\n",
       "      <td>The pilot was identified as the Squad Leader D...</td>\n",
       "      <td>The pilot was identified as Commander-in-Chief...</td>\n",
       "      <td>The pilot was identified as the Squad Leader D...</td>\n",
       "      <td>The pilot has been identified as Squadron Lead...</td>\n",
       "      <td>The pilot was identified as the Dilokrit Patta...</td>\n",
       "    </tr>\n",
       "    <tr>\n",
       "      <th>4</th>\n",
       "      <td>4</td>\n",
       "      <td>A mídia local informa o capotamento de um veíc...</td>\n",
       "      <td>Local media reports an airport fire vehicle ro...</td>\n",
       "      <td>The local media the capture of a fire vehicle ...</td>\n",
       "      <td>The local media reports a helicopter capsize f...</td>\n",
       "      <td>The local media reports the capture of a fire ...</td>\n",
       "      <td>Local media reports a fire truck from the airp...</td>\n",
       "      <td>The local media will report the capture of an ...</td>\n",
       "    </tr>\n",
       "  </tbody>\n",
       "</table>\n",
       "</div>"
      ],
      "text/plain": [
       "   id                                            text_pt  \\\n",
       "0   0  Na segunda-feira, cientistas da Escola de Medi...   \n",
       "1   1  Os principais pesquisadores dizem que isso pod...   \n",
       "2   2  O JAS 39 Gripen se chocou com a pista por volt...   \n",
       "3   3  O piloto foi identificado como o Líder de Esqu...   \n",
       "4   4  A mídia local informa o capotamento de um veíc...   \n",
       "\n",
       "                                             text_en  \\\n",
       "0  On Monday, scientists from the Stanford Univer...   \n",
       "1  Lead researchers say this may bring early dete...   \n",
       "2  The JAS 39C Gripen crashed onto a runway at ar...   \n",
       "3  The pilot was identified as Squadron Leader Di...   \n",
       "4  Local media reports an airport fire vehicle ro...   \n",
       "\n",
       "                                  m2m100_translation  \\\n",
       "0  On Monday, scientists from the University of S...   \n",
       "1  Lead researchers say that this can lead to ear...   \n",
       "2  The JAS 39 Gripen shocked with the track aroun...   \n",
       "3  The pilot was identified as the Squad Leader D...   \n",
       "4  The local media the capture of a fire vehicle ...   \n",
       "\n",
       "                                 mbart50_translation  \\\n",
       "0  On Monday, scientists at Stanford Medical Scho...   \n",
       "1  Leading researchers say this can lead to early...   \n",
       "2  JAS 39 Gripen slammed into the runway at about...   \n",
       "3  The pilot was identified as Commander-in-Chief...   \n",
       "4  The local media reports a helicopter capsize f...   \n",
       "\n",
       "                                    unicamp_pt_en_t5  \\\n",
       "0  On Monday, scientists from the Stanford Univer...   \n",
       "1   The main researchers say that this may lead to e   \n",
       "2  The JAS 39 Gripen stinged around 9:30 at the l...   \n",
       "3  The pilot was identified as the Squad Leader D...   \n",
       "4  The local media reports the capture of a fire ...   \n",
       "\n",
       "                                    nllb_translation  \\\n",
       "0  On Monday, scientists at Stanford University S...   \n",
       "1  Leading researchers say this could lead to ear...   \n",
       "2  JAS 39 Gripen crashed into the runway around 9...   \n",
       "3  The pilot has been identified as Squadron Lead...   \n",
       "4  Local media reports a fire truck from the airp...   \n",
       "\n",
       "                          opus_mt_mul_en_translation  \n",
       "0  On Tuesday, scientists at Stanford University ...  \n",
       "1  The main researchers say that this can lead to...  \n",
       "2  The JAS 39 Gripen hit the track around 9:30 at...  \n",
       "3  The pilot was identified as the Dilokrit Patta...  \n",
       "4  The local media will report the capture of an ...  "
      ]
     },
     "execution_count": 24,
     "metadata": {},
     "output_type": "execute_result"
    }
   ],
   "source": [
    "df_merged.head()"
   ]
  },
  {
   "cell_type": "markdown",
   "id": "ea428010",
   "metadata": {},
   "source": [
    "Calculo Bleu"
   ]
  },
  {
   "cell_type": "code",
   "execution_count": null,
   "id": "85515736",
   "metadata": {},
   "outputs": [
    {
     "data": {
      "text/html": [
       "<div>\n",
       "<style scoped>\n",
       "    .dataframe tbody tr th:only-of-type {\n",
       "        vertical-align: middle;\n",
       "    }\n",
       "\n",
       "    .dataframe tbody tr th {\n",
       "        vertical-align: top;\n",
       "    }\n",
       "\n",
       "    .dataframe thead th {\n",
       "        text-align: right;\n",
       "    }\n",
       "</style>\n",
       "<table border=\"1\" class=\"dataframe\">\n",
       "  <thead>\n",
       "    <tr style=\"text-align: right;\">\n",
       "      <th></th>\n",
       "      <th>text_en</th>\n",
       "      <th>m2m100_translation</th>\n",
       "      <th>mbart50_translation</th>\n",
       "      <th>bleu_m2m100</th>\n",
       "      <th>bleu_mbart50</th>\n",
       "    </tr>\n",
       "  </thead>\n",
       "  <tbody>\n",
       "    <tr>\n",
       "      <th>0</th>\n",
       "      <td>On Monday, scientists from the Stanford Univer...</td>\n",
       "      <td>On Monday, scientists from the University of S...</td>\n",
       "      <td>On Monday, scientists at Stanford Medical Scho...</td>\n",
       "      <td>0.608199</td>\n",
       "      <td>0.462046</td>\n",
       "    </tr>\n",
       "    <tr>\n",
       "      <th>1</th>\n",
       "      <td>Lead researchers say this may bring early dete...</td>\n",
       "      <td>Lead researchers say that this can lead to ear...</td>\n",
       "      <td>Leading researchers say this can lead to early...</td>\n",
       "      <td>0.285757</td>\n",
       "      <td>0.222648</td>\n",
       "    </tr>\n",
       "    <tr>\n",
       "      <th>2</th>\n",
       "      <td>The JAS 39C Gripen crashed onto a runway at ar...</td>\n",
       "      <td>The JAS 39 Gripen shocked with the track aroun...</td>\n",
       "      <td>JAS 39 Gripen slammed into the runway at about...</td>\n",
       "      <td>0.413621</td>\n",
       "      <td>0.059216</td>\n",
       "    </tr>\n",
       "    <tr>\n",
       "      <th>3</th>\n",
       "      <td>The pilot was identified as Squadron Leader Di...</td>\n",
       "      <td>The pilot was identified as the Squad Leader D...</td>\n",
       "      <td>The pilot was identified as Commander-in-Chief...</td>\n",
       "      <td>0.525382</td>\n",
       "      <td>0.524736</td>\n",
       "    </tr>\n",
       "    <tr>\n",
       "      <th>4</th>\n",
       "      <td>Local media reports an airport fire vehicle ro...</td>\n",
       "      <td>The local media the capture of a fire vehicle ...</td>\n",
       "      <td>The local media reports a helicopter capsize f...</td>\n",
       "      <td>0.045999</td>\n",
       "      <td>0.052841</td>\n",
       "    </tr>\n",
       "  </tbody>\n",
       "</table>\n",
       "</div>"
      ],
      "text/plain": [
       "                                             text_en  \\\n",
       "0  On Monday, scientists from the Stanford Univer...   \n",
       "1  Lead researchers say this may bring early dete...   \n",
       "2  The JAS 39C Gripen crashed onto a runway at ar...   \n",
       "3  The pilot was identified as Squadron Leader Di...   \n",
       "4  Local media reports an airport fire vehicle ro...   \n",
       "\n",
       "                                  m2m100_translation  \\\n",
       "0  On Monday, scientists from the University of S...   \n",
       "1  Lead researchers say that this can lead to ear...   \n",
       "2  The JAS 39 Gripen shocked with the track aroun...   \n",
       "3  The pilot was identified as the Squad Leader D...   \n",
       "4  The local media the capture of a fire vehicle ...   \n",
       "\n",
       "                                 mbart50_translation  bleu_m2m100  \\\n",
       "0  On Monday, scientists at Stanford Medical Scho...     0.608199   \n",
       "1  Leading researchers say this can lead to early...     0.285757   \n",
       "2  JAS 39 Gripen slammed into the runway at about...     0.413621   \n",
       "3  The pilot was identified as Commander-in-Chief...     0.525382   \n",
       "4  The local media reports a helicopter capsize f...     0.045999   \n",
       "\n",
       "   bleu_mbart50  \n",
       "0      0.462046  \n",
       "1      0.222648  \n",
       "2      0.059216  \n",
       "3      0.524736  \n",
       "4      0.052841  "
      ]
     },
     "execution_count": 23,
     "metadata": {},
     "output_type": "execute_result"
    }
   ],
   "source": [
    "from nltk.translate.bleu_score import sentence_bleu, SmoothingFunction\n",
    "\n",
    "def calc_bleu(reference, hypothesis):\n",
    "    smoothie = SmoothingFunction().method4\n",
    "    return sentence_bleu([reference.split()], hypothesis.split(), smoothing_function=smoothie)\n",
    "\n",
    "df_merged[\"bleu_m2m100\"] = df_merged.apply(\n",
    "    lambda row: calc_bleu(row[\"text_en\"], row[\"m2m100_translation\"]), axis=1\n",
    ")\n",
    "\n",
    "df_merged[\"bleu_mbart50\"] = df_merged.apply(\n",
    "    lambda row: calc_bleu(row[\"text_en\"], row[\"mbart50_translation\"]), axis=1\n",
    ")\n",
    "\n",
    "df_merged[\"bleu_unicamp\"] = df_merged.apply(\n",
    "    lambda row: calc_bleu(row[\"text_en\"], row[\"unicamp_pt_en_t5\"]), axis=1\n",
    ")\n",
    "\n",
    "df_merged[\"bleu_facebook\"] = df_merged.apply(\n",
    "    lambda row: calc_bleu(row[\"text_en\"], row[\"facebook_nlb_200\"]), axis=1\n",
    ")\n",
    "\n",
    "df_merged[\"bleu_helsink\"] = df_merged.apply(\n",
    "    lambda row: calc_bleu(row[\"text_en\"], row[\"helsink_opus_mult\"]), axis=1\n",
    ")\n",
    "\n",
    "df_merged[[\"text_en\", \"m2m100_translation\", \"mbart50_translation\", \n",
    "           \"unicamp_pt_en_t5\", \"facebook_nlb_200\", \"helsink_opus_mult\" \n",
    "           \"bleu_m2m100\", \"bleu_mbart50\", \"bleu_unicamp,\"\n",
    "           \"bleu_facebook\", \"bleu_helsink\"]].head()"
   ]
  },
  {
   "cell_type": "code",
   "execution_count": null,
   "id": "34c327f4",
   "metadata": {},
   "outputs": [],
   "source": [
    "df_merged.to_csv(\"../../data/processed/translation_benchmark_flores_plus_pt_en.csv\", index=False)"
   ]
  },
  {
   "cell_type": "code",
   "execution_count": null,
   "id": "8846bfd7",
   "metadata": {},
   "outputs": [
    {
     "name": "stderr",
     "output_type": "stream",
     "text": [
      "Matplotlib is building the font cache; this may take a moment.\n"
     ]
    },
    {
     "data": {
      "text/plain": [
       "([<matplotlib.axis.XTick at 0x1ed20bca9f0>,\n",
       "  <matplotlib.axis.XTick at 0x1ed208ae270>],\n",
       " [Text(0, 0, 'm2m100'), Text(1, 0, 'mbart50')])"
      ]
     },
     "execution_count": 25,
     "metadata": {},
     "output_type": "execute_result"
    },
    {
     "data": {
      "image/png": "[encoded data removed]",
      "text/plain": [
       "<Figure size 1200x500 with 2 Axes>"
      ]
     },
     "metadata": {},
     "output_type": "display_data"
    }
   ],
   "source": [
    "import matplotlib.pyplot as plt\n",
    "import seaborn as sns\n",
    "\n",
    "sns.set(style=\"whitegrid\")\n",
    "\n",
    "plt.figure(figsize=(14, 5))\n",
    "\n",
    "# Histograma\n",
    "plt.subplot(1, 2, 1)\n",
    "sns.histplot(df_merged[\"bleu_m2m100\"], bins=30, color=\"blue\", kde=True, label=\"m2m100\", alpha=0.7)\n",
    "sns.histplot(df_merged[\"bleu_mbart50\"], bins=30, color=\"orange\", kde=True, label=\"mbart50\", alpha=0.7)\n",
    "sns.histplot(df_merged[\"bleu_unicamp\"], bins=30, color=\"red\", kde=True, label=\"unicamp\", alpha=0.7)\n",
    "sns.histplot(df_merged[\"bleu_facebook\"], bins=30, color=\"purple\", kde=True, label=\"facebook\", alpha=0.7)\n",
    "sns.histplot(df_merged[\"bleu_helsink\"], bins=30, color=\"green\", kde=True, label=\"helsink\", alpha=0.7)\n",
    "plt.title(\"BLEU Score Distribution\")\n",
    "plt.xlabel(\"BLEU Score\")\n",
    "plt.ylabel(\"Frequency\")\n",
    "plt.legend()\n",
    "\n",
    "# Boxplot comparativo\n",
    "plt.subplot(1, 2, 2)\n",
    "sns.boxplot(\n",
    "    data=df_merged[[\n",
    "        \"bleu_m2m100\", \"bleu_mbart50\", \"bleu_unicamp\", \"bleu_facebook\", \"bleu_helsink\"\n",
    "    ]],\n",
    "    palette=[\"blue\", \"orange\", \"red\", \"purple\", \"green\"]\n",
    ")\n",
    "plt.title(\"Boxplot of BLEU Scores\")\n",
    "plt.ylabel(\"BLEU Score\")\n",
    "plt.xlabel(\"Model\")\n",
    "\n",
    "plt.tight_layout()\n",
    "plt.show()"
   ]
  },
  {
   "cell_type": "markdown",
   "id": "35191a72",
   "metadata": {},
   "source": [
    "As seen, m2m have a better overwll performance whem compared to mbart50. For now, we will use this model to translate the patents"
   ]
  },
  {
   "cell_type": "markdown",
   "id": "ed185687",
   "metadata": {},
   "source": [
    "# Best model application to translate"
   ]
  },
  {
   "cell_type": "code",
   "execution_count": null,
   "id": "cae332be",
   "metadata": {},
   "outputs": [],
   "source": [
    "df_patents = pd.read_csv(\"../../data/raw/patentes_inpi.csv\")\n",
    "df_patents.head()"
   ]
  },
  {
   "cell_type": "code",
   "execution_count": null,
   "id": "60b99cc9",
   "metadata": {},
   "outputs": [],
   "source": [
    "mt = dlt.TranslationModel(model_or_path=\"m2m100\", device=\"gpu\")\n",
    "\n",
    "\n",
    "df_patents[\"titulo_english\"] = df_patents[\"titulo\"].progress_apply(\n",
    "    lambda x: mt.translate(x, source=dlt.lang.PORTUGUESE, target=dlt.lang.ENGLISH, batch_size=64)\n",
    ")\n",
    "df_patents.head()"
   ]
  },
  {
   "cell_type": "code",
   "execution_count": null,
   "id": "5a573358",
   "metadata": {},
   "outputs": [],
   "source": [
    "df_patents.to_csv(\"../../data/processed/patents_inpi_translated.csv\", index=False)"
   ]
  },
  {
   "cell_type": "code",
   "execution_count": null,
   "id": "35966ebd",
   "metadata": {},
   "outputs": [],
   "source": [
    "# df_patents[\"resumo_english\"] = df_patents[\"resumo\"].progress_apply(\n",
    "#     lambda x: mt.translate(x, source=dlt.lang.PORTUGUESE, target=dlt.lang.ENGLISH, batch_size=32)\n",
    "# )\n",
    "# df_patents.head()\n",
    "\n",
    "# df_patents.to_csv(\"../../data/processed/patents_inpi_translated.csv\", index=False)"
   ]
  },
  {
   "cell_type": "code",
   "execution_count": null,
   "id": "00b500dc",
   "metadata": {},
   "outputs": [],
   "source": [
    "df_patents.head()"
   ]
  },
  {
   "cell_type": "markdown",
   "id": "9c1b7582",
   "metadata": {},
   "source": [
    "As the summaries are substantially longer texts, the processing time are much longer. For now, we will not use these texts"
   ]
  },
  {
   "cell_type": "markdown",
   "id": "f57aadfa",
   "metadata": {},
   "source": [
    "# Loading english TRIZ database and preparing the matcher"
   ]
  },
  {
   "cell_type": "code",
   "execution_count": null,
   "id": "f3128cfd",
   "metadata": {},
   "outputs": [],
   "source": [
    "triz_multilanguage = pd.read_excel(\"../../data/raw/Base efeitos físicos MULTILINGUE funçãoxlsx.xlsx\")\n",
    "\n",
    "en_columns = [\"Mode\", \"Type\", \"Task\", \"Target\", \"Name\", \"Description\", \"EN Link\"]\n",
    "triz_multilanguage[en_columns].head()"
   ]
  },
  {
   "cell_type": "markdown",
   "id": "78b7b8ef",
   "metadata": {},
   "source": [
    "We will use the pipeline of Transformers in spaCy for the english"
   ]
  },
  {
   "cell_type": "code",
   "execution_count": null,
   "id": "37e4a45d",
   "metadata": {},
   "outputs": [],
   "source": [
    "# ref.: https://spacy.io/models/en\n",
    "# nlp = spacy.load('en_core_web_trf')\n",
    "nlp = spacy.load('en_core_web_lg')\n"
   ]
  },
  {
   "cell_type": "code",
   "execution_count": null,
   "id": "1784ddee",
   "metadata": {},
   "outputs": [],
   "source": [
    "def find_matches(input_string, list_of_vectors, threshold=None, top_n=None):\n",
    "    \"\"\"\n",
    "    Vectorizes every word in the input string and compares its vectors to a list of precomputed vectors.\n",
    "    Returns matches based on a similarity threshold or the top_n most similar terms.\n",
    "\n",
    "    Args:\n",
    "        input_string (str): The input string to be vectorized.\n",
    "        list_of_vectors (list): Precomputed vectors of the list of strings.\n",
    "        threshold (float, optional): Similarity threshold for matches. Default is None.\n",
    "        top_n (int, optional): Number of top matches to return based on similarity. Default is None.\n",
    "\n",
    "    Returns:\n",
    "        list: Indices of matches in the list_of_vectors.\n",
    "    \"\"\"\n",
    "    if threshold is None and top_n is None:\n",
    "        raise ValueError(\"You must provide either a threshold or top_n.\")\n",
    "\n",
    "    words = input_string.split()\n",
    "    all_similarities = []\n",
    "\n",
    "    for word in words:\n",
    "        # ref.: https://stackoverflow.com/questions/68959472/no-vector-when-using-spacy-loaden-core-web-trf\n",
    "        # input_vector = nlp(word)._.trf_data.last_hidden_layer_state.data[0]\n",
    "        input_vector = nlp(word).vector\n",
    "\n",
    "        # Calculate similarity for each vector\n",
    "        for i, vector in enumerate(list_of_vectors):\n",
    "            similarity = np.dot(input_vector, vector) / (np.linalg.norm(input_vector) * np.linalg.norm(vector))\n",
    "            all_similarities.append((i, similarity))\n",
    "\n",
    "    # Filter by threshold if provided\n",
    "    matches = []\n",
    "    if threshold is not None:\n",
    "        matches.extend([i for i, sim in all_similarities if sim >= threshold])\n",
    "\n",
    "    # Get top_n matches across all words if provided\n",
    "    if top_n is not None:\n",
    "        top_matches = sorted(all_similarities, key=lambda x: x[1], reverse=True)[:top_n]\n",
    "        matches.extend([i for i, _ in top_matches])\n",
    "\n",
    "    # Remove duplicates and return\n",
    "    return list(matches)"
   ]
  },
  {
   "cell_type": "code",
   "execution_count": null,
   "id": "95f88ce7",
   "metadata": {},
   "outputs": [],
   "source": [
    "# Path to the saved vectors\n",
    "tarefas_vectors_path = \"../../data/processed/tarefas_vectors_english.npz\"\n",
    "\n",
    "try:\n",
    "    # Try to load the precomputed vectors\n",
    "    tarefas_vectors = np.load(tarefas_vectors_path)[\"vectors\"]\n",
    "    print(\"Loaded precomputed vectors successfully.\")\n",
    "except (FileNotFoundError, KeyError):\n",
    "    # If loading fails, recalculate the vectors\n",
    "    print(\"Precomputed vectors not found. Recalculating...\")\n",
    "    tarefas = triz_multilanguage[\"Task\"].astype(str).unique().tolist()\n",
    "\n",
    "    # ref.: https://stackoverflow.com/questions/68959472/no-vector-when-using-spacy-loaden-core-web-trf\n",
    "    # tarefas_vectors = np.array([nlp(tarefa)._.trf_data.last_hidden_layer_state.data[0] for tarefa in tarefas])\n",
    "    tarefas_vectors = np.array([nlp(tarefa).vector for tarefa in tarefas])\n",
    "    \n",
    "    # Save the recalculated vectors\n",
    "    np.savez(tarefas_vectors_path, vectors=tarefas_vectors)\n",
    "    print(\"Vectors recalculated and saved.\")"
   ]
  },
  {
   "cell_type": "code",
   "execution_count": null,
   "id": "557448e1",
   "metadata": {},
   "outputs": [],
   "source": [
    "# Apply the function to df.loc[25, \"titulo_lemmatized\"]\n",
    "k = 10\n",
    "matches = find_matches(df_patents.loc[k, \"titulo_english\"], tarefas_vectors, threshold=0.4 )\n",
    "\n",
    "# Print the matched indices and corresponding strings\n",
    "print(\"\\n\\n\")\n",
    "print(df_patents.loc[k, \"titulo_english\"])\n",
    "print(\"Matched indices:\", matches)\n",
    "print(\"Matched strings:\", set([tarefas[i] for i in matches]))"
   ]
  },
  {
   "cell_type": "code",
   "execution_count": null,
   "id": "6cd8d257",
   "metadata": {},
   "outputs": [],
   "source": [
    "from tqdm import tqdm\n",
    "\n",
    "result = []\n",
    "for index, row in tqdm(df_patents.iterrows(), total=df_patents.shape[0]):\n",
    "    res = find_matches(str(row[\"titulo_english\"]), tarefas_vectors, top_n=10)\n",
    "    result.append(res)"
   ]
  },
  {
   "cell_type": "code",
   "execution_count": null,
   "id": "bdcf78a6",
   "metadata": {},
   "outputs": [],
   "source": [
    "# Ensure each row in the DataFrame gets its corresponding set of matches\n",
    "df_patents[\"match_top_10_title\"] = [set([tarefas[i] for i in res]) for res in result]\n",
    "\n",
    "# Save the updated DataFrame to a CSV file\n",
    "df_patents.to_csv(\"../../data/processed/patentes_inpi_english_matched.csv\", index=False)"
   ]
  },
  {
   "cell_type": "code",
   "execution_count": null,
   "id": "8f3b38ab",
   "metadata": {},
   "outputs": [],
   "source": []
  }
 ],
 "metadata": {
  "kernelspec": {
   "display_name": "Python 3",
   "language": "python",
   "name": "python3"
  },
  "language_info": {
   "codemirror_mode": {
    "name": "ipython",
    "version": 3
   },
   "file_extension": ".py",
   "mimetype": "text/x-python",
   "name": "python",
   "nbconvert_exporter": "python",
   "pygments_lexer": "ipython3",
   "version": "3.12.10"
  }
 },
 "nbformat": 4,
 "nbformat_minor": 5
}
