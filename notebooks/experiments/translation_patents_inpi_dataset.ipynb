{
 "cells": [
  {
   "cell_type": "markdown",
   "id": "0619ebdc",
   "metadata": {},
   "source": [
    "Open source translation: https://pypi.org/project/dl-translate/\n",
    "\n",
    "Model candidates:\n",
    "- https://arxiv.org/pdf/2001.08210v2\n",
    "- https://arxiv.org/pdf/2207.04672\n",
    "- https://arxiv.org/pdf/2010.11125"
   ]
  },
  {
   "cell_type": "markdown",
   "id": "aab5155c",
   "metadata": {},
   "source": []
  }
 ],
 "metadata": {
  "language_info": {
   "name": "python"
  }
 },
 "nbformat": 4,
 "nbformat_minor": 5
}
