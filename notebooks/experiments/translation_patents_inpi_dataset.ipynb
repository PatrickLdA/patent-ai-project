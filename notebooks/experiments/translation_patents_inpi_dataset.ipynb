{
 "cells": [
  {
   "cell_type": "code",
   "execution_count": 1,
   "id": "d1490abf",
   "metadata": {},
   "outputs": [
    {
     "data": {
      "application/vnd.jupyter.widget-view+json": {
       "model_id": "83cc767ddd1e4a469ecb1630e7038470",
       "version_major": 2,
       "version_minor": 0
      },
      "text/plain": [
       "VBox(children=(HTML(value='<center> <img\\nsrc=https://huggingface.co/front/assets/huggingface_logo-noborder.sv…"
      ]
     },
     "metadata": {},
     "output_type": "display_data"
    }
   ],
   "source": [
    "from tqdm import tqdm   \n",
    "\n",
    "import numpy as np\n",
    "import pandas as pd\n",
    "from datasets import load_dataset\n",
    "\n",
    "import dl_translate as dlt\n",
    "\n",
    "import huggingface_hub\n",
    "huggingface_hub.login() # now you will be prompted to enter your token; enter it."
   ]
  },
  {
   "cell_type": "code",
   "execution_count": 2,
   "id": "7709315c",
   "metadata": {},
   "outputs": [
    {
     "name": "stdout",
     "output_type": "stream",
     "text": [
      "Defaulting to user installation because normal site-packages is not writeable\n",
      "Collecting en-core-web-lg==3.8.0\n",
      "  Using cached https://github.com/explosion/spacy-models/releases/download/en_core_web_lg-3.8.0/en_core_web_lg-3.8.0-py3-none-any.whl (400.7 MB)\n",
      "\u001b[38;5;2m✔ Download and installation successful\u001b[0m\n",
      "You can now load the package via spacy.load('en_core_web_lg')\n"
     ]
    },
    {
     "name": "stderr",
     "output_type": "stream",
     "text": [
      "\n",
      "[notice] A new release of pip is available: 25.0.1 -> 25.1.1\n",
      "[notice] To update, run: C:\\Users\\Marcos Antenor\\AppData\\Local\\Microsoft\\WindowsApps\\PythonSoftwareFoundation.Python.3.12_qbz5n2kfra8p0\\python.exe -m pip install --upgrade pip\n"
     ]
    }
   ],
   "source": [
    "!python -m spacy download en_core_web_lg\n",
    "import spacy\n",
    "import spacy_transformers"
   ]
  },
  {
   "cell_type": "markdown",
   "id": "0619ebdc",
   "metadata": {},
   "source": [
    "# English processing use cases\n",
    "This notebook aims to test the Task and Object identification in patents in english.\n",
    "\n",
    "1. **Task:** the method used in the described patent. In can be compress something or agilize a effect, for example.\n",
    "2. **Object:** the \"target\" of the task. It can be a food, a construction material or any other object that, combined with the task, defines the patent.\n",
    "\n",
    "It is supposed that NLP techniques are more refined to english data as the models are well-developed and to validate this theory, all the patents will be translated to english to them be processed.\n",
    "\n",
    "[DL-Translate](https://pypi.org/project/dl-translate/), a Python library that implements a low verbosity use of many open source models to translation tasks.\n",
    "\n",
    "Three models can be used to translate from portuguese to english:\n",
    "- [mBART-50 Large](https://huggingface.co/transformers/master/model_doc/mbart.html): Allows translations across 50 languages.\n",
    "- [m2m100](https://huggingface.co/docs/transformers/model_doc/m2m_100): Allows translations across 100 languages.\n",
    "- [nllb-200](https://huggingface.co/docs/transformers/model_doc/nllb): Allows translations across 200 languages, and is faster than m2m100 (On RTX A6000, we can see speed up of 3x)."
   ]
  },
  {
   "cell_type": "markdown",
   "id": "aab5155c",
   "metadata": {},
   "source": [
    "# Model translation evaluation\n",
    "\n",
    "To test the models we will evaluate using [FLORES+](https://huggingface.co/datasets/openlanguagedata/flores_plus) from Meta and evaluate the BLEU score for each model. This will serve as a benchmark to choose the best translating model to portuguese.\n",
    "\n",
    "To do so, we have to download the portuguese and english bases and combine then by the ID."
   ]
  },
  {
   "cell_type": "code",
   "execution_count": 6,
   "id": "7d0d345e",
   "metadata": {},
   "outputs": [
    {
     "data": {
      "application/vnd.jupyter.widget-view+json": {
       "model_id": "61f81f706e55434fbc216305a5c67be6",
       "version_major": 2,
       "version_minor": 0
      },
      "text/plain": [
       "Resolving data files:   0%|          | 0/220 [00:00<?, ?it/s]"
      ]
     },
     "metadata": {},
     "output_type": "display_data"
    },
    {
     "data": {
      "application/vnd.jupyter.widget-view+json": {
       "model_id": "0552bbb513d742798f9c7d5508748720",
       "version_major": 2,
       "version_minor": 0
      },
      "text/plain": [
       "Resolving data files:   0%|          | 0/214 [00:00<?, ?it/s]"
      ]
     },
     "metadata": {},
     "output_type": "display_data"
    },
    {
     "data": {
      "text/html": [
       "<div>\n",
       "<style scoped>\n",
       "    .dataframe tbody tr th:only-of-type {\n",
       "        vertical-align: middle;\n",
       "    }\n",
       "\n",
       "    .dataframe tbody tr th {\n",
       "        vertical-align: top;\n",
       "    }\n",
       "\n",
       "    .dataframe thead th {\n",
       "        text-align: right;\n",
       "    }\n",
       "</style>\n",
       "<table border=\"1\" class=\"dataframe\">\n",
       "  <thead>\n",
       "    <tr style=\"text-align: right;\">\n",
       "      <th></th>\n",
       "      <th>id</th>\n",
       "      <th>iso_639_3</th>\n",
       "      <th>iso_15924</th>\n",
       "      <th>glottocode</th>\n",
       "      <th>text</th>\n",
       "      <th>url</th>\n",
       "      <th>domain</th>\n",
       "      <th>topic</th>\n",
       "      <th>has_image</th>\n",
       "      <th>has_hyperlink</th>\n",
       "      <th>last_updated</th>\n",
       "    </tr>\n",
       "  </thead>\n",
       "  <tbody>\n",
       "    <tr>\n",
       "      <th>0</th>\n",
       "      <td>0</td>\n",
       "      <td>por</td>\n",
       "      <td>Latn</td>\n",
       "      <td>braz1246</td>\n",
       "      <td>Na segunda-feira, cientistas da Escola de Medi...</td>\n",
       "      <td>https://en.wikinews.org/wiki/Scientists_say_ne...</td>\n",
       "      <td>wikinews</td>\n",
       "      <td>health</td>\n",
       "      <td>yes</td>\n",
       "      <td>yes</td>\n",
       "      <td>1.0</td>\n",
       "    </tr>\n",
       "    <tr>\n",
       "      <th>1</th>\n",
       "      <td>1</td>\n",
       "      <td>por</td>\n",
       "      <td>Latn</td>\n",
       "      <td>braz1246</td>\n",
       "      <td>Os principais pesquisadores dizem que isso pod...</td>\n",
       "      <td>https://en.wikinews.org/wiki/Scientists_say_ne...</td>\n",
       "      <td>wikinews</td>\n",
       "      <td>health</td>\n",
       "      <td>yes</td>\n",
       "      <td>yes</td>\n",
       "      <td>1.0</td>\n",
       "    </tr>\n",
       "    <tr>\n",
       "      <th>2</th>\n",
       "      <td>2</td>\n",
       "      <td>por</td>\n",
       "      <td>Latn</td>\n",
       "      <td>braz1246</td>\n",
       "      <td>O JAS 39 Gripen se chocou com a pista por volt...</td>\n",
       "      <td>https://en.wikinews.org/wiki/Fighter_jet_crash...</td>\n",
       "      <td>wikinews</td>\n",
       "      <td>accident</td>\n",
       "      <td>yes</td>\n",
       "      <td>yes</td>\n",
       "      <td>1.0</td>\n",
       "    </tr>\n",
       "    <tr>\n",
       "      <th>3</th>\n",
       "      <td>3</td>\n",
       "      <td>por</td>\n",
       "      <td>Latn</td>\n",
       "      <td>braz1246</td>\n",
       "      <td>O piloto foi identificado como o Líder de Esqu...</td>\n",
       "      <td>https://en.wikinews.org/wiki/Fighter_jet_crash...</td>\n",
       "      <td>wikinews</td>\n",
       "      <td>accident</td>\n",
       "      <td>yes</td>\n",
       "      <td>yes</td>\n",
       "      <td>1.0</td>\n",
       "    </tr>\n",
       "    <tr>\n",
       "      <th>4</th>\n",
       "      <td>4</td>\n",
       "      <td>por</td>\n",
       "      <td>Latn</td>\n",
       "      <td>braz1246</td>\n",
       "      <td>A mídia local informa o capotamento de um veíc...</td>\n",
       "      <td>https://en.wikinews.org/wiki/Fighter_jet_crash...</td>\n",
       "      <td>wikinews</td>\n",
       "      <td>accident</td>\n",
       "      <td>yes</td>\n",
       "      <td>yes</td>\n",
       "      <td>1.0</td>\n",
       "    </tr>\n",
       "  </tbody>\n",
       "</table>\n",
       "</div>"
      ],
      "text/plain": [
       "   id iso_639_3 iso_15924 glottocode  \\\n",
       "0   0       por      Latn   braz1246   \n",
       "1   1       por      Latn   braz1246   \n",
       "2   2       por      Latn   braz1246   \n",
       "3   3       por      Latn   braz1246   \n",
       "4   4       por      Latn   braz1246   \n",
       "\n",
       "                                                text  \\\n",
       "0  Na segunda-feira, cientistas da Escola de Medi...   \n",
       "1  Os principais pesquisadores dizem que isso pod...   \n",
       "2  O JAS 39 Gripen se chocou com a pista por volt...   \n",
       "3  O piloto foi identificado como o Líder de Esqu...   \n",
       "4  A mídia local informa o capotamento de um veíc...   \n",
       "\n",
       "                                                 url    domain     topic  \\\n",
       "0  https://en.wikinews.org/wiki/Scientists_say_ne...  wikinews    health   \n",
       "1  https://en.wikinews.org/wiki/Scientists_say_ne...  wikinews    health   \n",
       "2  https://en.wikinews.org/wiki/Fighter_jet_crash...  wikinews  accident   \n",
       "3  https://en.wikinews.org/wiki/Fighter_jet_crash...  wikinews  accident   \n",
       "4  https://en.wikinews.org/wiki/Fighter_jet_crash...  wikinews  accident   \n",
       "\n",
       "  has_image has_hyperlink last_updated  \n",
       "0       yes           yes          1.0  \n",
       "1       yes           yes          1.0  \n",
       "2       yes           yes          1.0  \n",
       "3       yes           yes          1.0  \n",
       "4       yes           yes          1.0  "
      ]
     },
     "execution_count": 6,
     "metadata": {},
     "output_type": "execute_result"
    }
   ],
   "source": [
    "ds_por = load_dataset(\"openlanguagedata/flores_plus\", \"por_Latn\")\n",
    "ds_por_df = ds_por['dev'].to_pandas()\n",
    "ds_por_df.head()"
   ]
  },
  {
   "cell_type": "code",
   "execution_count": 7,
   "id": "7c513cae",
   "metadata": {},
   "outputs": [
    {
     "data": {
      "application/vnd.jupyter.widget-view+json": {
       "model_id": "5ef9e863cd7443f0b1eefb446555ee8d",
       "version_major": 2,
       "version_minor": 0
      },
      "text/plain": [
       "Resolving data files:   0%|          | 0/220 [00:00<?, ?it/s]"
      ]
     },
     "metadata": {},
     "output_type": "display_data"
    },
    {
     "data": {
      "application/vnd.jupyter.widget-view+json": {
       "model_id": "e6bd9eef5b2642de9aaef8aad064c8a5",
       "version_major": 2,
       "version_minor": 0
      },
      "text/plain": [
       "Resolving data files:   0%|          | 0/214 [00:00<?, ?it/s]"
      ]
     },
     "metadata": {},
     "output_type": "display_data"
    },
    {
     "data": {
      "application/vnd.jupyter.widget-view+json": {
       "model_id": "fe9b12735e364013b4ca040769031c32",
       "version_major": 2,
       "version_minor": 0
      },
      "text/plain": [
       "eng_Latn.parquet:   0%|          | 0.00/112k [00:00<?, ?B/s]"
      ]
     },
     "metadata": {},
     "output_type": "display_data"
    },
    {
     "data": {
      "application/vnd.jupyter.widget-view+json": {
       "model_id": "825804ee16694231b00871bd958b7e6f",
       "version_major": 2,
       "version_minor": 0
      },
      "text/plain": [
       "eng_Latn.parquet:   0%|          | 0.00/117k [00:00<?, ?B/s]"
      ]
     },
     "metadata": {},
     "output_type": "display_data"
    },
    {
     "data": {
      "application/vnd.jupyter.widget-view+json": {
       "model_id": "b695f07594e24910acea0265e1bf110f",
       "version_major": 2,
       "version_minor": 0
      },
      "text/plain": [
       "Generating dev split: 0 examples [00:00, ? examples/s]"
      ]
     },
     "metadata": {},
     "output_type": "display_data"
    },
    {
     "data": {
      "application/vnd.jupyter.widget-view+json": {
       "model_id": "1735f743639341ccbd7e2c10e3a85a4d",
       "version_major": 2,
       "version_minor": 0
      },
      "text/plain": [
       "Generating devtest split: 0 examples [00:00, ? examples/s]"
      ]
     },
     "metadata": {},
     "output_type": "display_data"
    },
    {
     "data": {
      "text/html": [
       "<div>\n",
       "<style scoped>\n",
       "    .dataframe tbody tr th:only-of-type {\n",
       "        vertical-align: middle;\n",
       "    }\n",
       "\n",
       "    .dataframe tbody tr th {\n",
       "        vertical-align: top;\n",
       "    }\n",
       "\n",
       "    .dataframe thead th {\n",
       "        text-align: right;\n",
       "    }\n",
       "</style>\n",
       "<table border=\"1\" class=\"dataframe\">\n",
       "  <thead>\n",
       "    <tr style=\"text-align: right;\">\n",
       "      <th></th>\n",
       "      <th>id</th>\n",
       "      <th>iso_639_3</th>\n",
       "      <th>iso_15924</th>\n",
       "      <th>glottocode</th>\n",
       "      <th>text</th>\n",
       "      <th>url</th>\n",
       "      <th>domain</th>\n",
       "      <th>topic</th>\n",
       "      <th>has_image</th>\n",
       "      <th>has_hyperlink</th>\n",
       "      <th>last_updated</th>\n",
       "    </tr>\n",
       "  </thead>\n",
       "  <tbody>\n",
       "    <tr>\n",
       "      <th>0</th>\n",
       "      <td>0</td>\n",
       "      <td>eng</td>\n",
       "      <td>Latn</td>\n",
       "      <td>stan1293</td>\n",
       "      <td>On Monday, scientists from the Stanford Univer...</td>\n",
       "      <td>https://en.wikinews.org/wiki/Scientists_say_ne...</td>\n",
       "      <td>wikinews</td>\n",
       "      <td>health</td>\n",
       "      <td>yes</td>\n",
       "      <td>yes</td>\n",
       "      <td>1.0</td>\n",
       "    </tr>\n",
       "    <tr>\n",
       "      <th>1</th>\n",
       "      <td>1</td>\n",
       "      <td>eng</td>\n",
       "      <td>Latn</td>\n",
       "      <td>stan1293</td>\n",
       "      <td>Lead researchers say this may bring early dete...</td>\n",
       "      <td>https://en.wikinews.org/wiki/Scientists_say_ne...</td>\n",
       "      <td>wikinews</td>\n",
       "      <td>health</td>\n",
       "      <td>yes</td>\n",
       "      <td>yes</td>\n",
       "      <td>1.0</td>\n",
       "    </tr>\n",
       "    <tr>\n",
       "      <th>2</th>\n",
       "      <td>2</td>\n",
       "      <td>eng</td>\n",
       "      <td>Latn</td>\n",
       "      <td>stan1293</td>\n",
       "      <td>The JAS 39C Gripen crashed onto a runway at ar...</td>\n",
       "      <td>https://en.wikinews.org/wiki/Fighter_jet_crash...</td>\n",
       "      <td>wikinews</td>\n",
       "      <td>accident</td>\n",
       "      <td>yes</td>\n",
       "      <td>yes</td>\n",
       "      <td>1.0</td>\n",
       "    </tr>\n",
       "    <tr>\n",
       "      <th>3</th>\n",
       "      <td>3</td>\n",
       "      <td>eng</td>\n",
       "      <td>Latn</td>\n",
       "      <td>stan1293</td>\n",
       "      <td>The pilot was identified as Squadron Leader Di...</td>\n",
       "      <td>https://en.wikinews.org/wiki/Fighter_jet_crash...</td>\n",
       "      <td>wikinews</td>\n",
       "      <td>accident</td>\n",
       "      <td>yes</td>\n",
       "      <td>yes</td>\n",
       "      <td>1.0</td>\n",
       "    </tr>\n",
       "    <tr>\n",
       "      <th>4</th>\n",
       "      <td>4</td>\n",
       "      <td>eng</td>\n",
       "      <td>Latn</td>\n",
       "      <td>stan1293</td>\n",
       "      <td>Local media reports an airport fire vehicle ro...</td>\n",
       "      <td>https://en.wikinews.org/wiki/Fighter_jet_crash...</td>\n",
       "      <td>wikinews</td>\n",
       "      <td>accident</td>\n",
       "      <td>yes</td>\n",
       "      <td>yes</td>\n",
       "      <td>1.0</td>\n",
       "    </tr>\n",
       "  </tbody>\n",
       "</table>\n",
       "</div>"
      ],
      "text/plain": [
       "   id iso_639_3 iso_15924 glottocode  \\\n",
       "0   0       eng      Latn   stan1293   \n",
       "1   1       eng      Latn   stan1293   \n",
       "2   2       eng      Latn   stan1293   \n",
       "3   3       eng      Latn   stan1293   \n",
       "4   4       eng      Latn   stan1293   \n",
       "\n",
       "                                                text  \\\n",
       "0  On Monday, scientists from the Stanford Univer...   \n",
       "1  Lead researchers say this may bring early dete...   \n",
       "2  The JAS 39C Gripen crashed onto a runway at ar...   \n",
       "3  The pilot was identified as Squadron Leader Di...   \n",
       "4  Local media reports an airport fire vehicle ro...   \n",
       "\n",
       "                                                 url    domain     topic  \\\n",
       "0  https://en.wikinews.org/wiki/Scientists_say_ne...  wikinews    health   \n",
       "1  https://en.wikinews.org/wiki/Scientists_say_ne...  wikinews    health   \n",
       "2  https://en.wikinews.org/wiki/Fighter_jet_crash...  wikinews  accident   \n",
       "3  https://en.wikinews.org/wiki/Fighter_jet_crash...  wikinews  accident   \n",
       "4  https://en.wikinews.org/wiki/Fighter_jet_crash...  wikinews  accident   \n",
       "\n",
       "  has_image has_hyperlink last_updated  \n",
       "0       yes           yes          1.0  \n",
       "1       yes           yes          1.0  \n",
       "2       yes           yes          1.0  \n",
       "3       yes           yes          1.0  \n",
       "4       yes           yes          1.0  "
      ]
     },
     "execution_count": 7,
     "metadata": {},
     "output_type": "execute_result"
    }
   ],
   "source": [
    "ds_en = load_dataset(\"openlanguagedata/flores_plus\", \"eng_Latn\")\n",
    "ds_en_df = ds_en['dev'].to_pandas()\n",
    "ds_en_df.head()"
   ]
  },
  {
   "cell_type": "code",
   "execution_count": 8,
   "id": "90ac2519",
   "metadata": {},
   "outputs": [
    {
     "name": "stdout",
     "output_type": "stream",
     "text": [
      "English: On Monday, scientists from the Stanford University School of Medicine announced the invention of a new diagnostic tool that can sort cells by type: a tiny printable chip that can be manufactured using standard inkjet printers for possibly about one U.S. cent each.\n",
      "Portuguese: Na segunda-feira, cientistas da Escola de Medicina da Universidade de Stanford anunciaram a invenção de uma nova ferramenta de diagnóstico que pode classificar células por tipo: um minúsculo chip imprimível que pode ser fabricado usando impressoras jato de tinta padrão por possivelmente cerca de um centavo de dólar cada.\n"
     ]
    }
   ],
   "source": [
    "id = 0\n",
    "print(f\"English: {ds_en_df.loc[ds_en_df['id'] == id]['text'].values[0]}\")\n",
    "print(f\"Portuguese: {ds_por_df.loc[ds_por_df['id'] == id]['text'].values[0]}\")"
   ]
  },
  {
   "cell_type": "code",
   "execution_count": 9,
   "id": "dbdf09f8",
   "metadata": {},
   "outputs": [
    {
     "data": {
      "text/html": [
       "<div>\n",
       "<style scoped>\n",
       "    .dataframe tbody tr th:only-of-type {\n",
       "        vertical-align: middle;\n",
       "    }\n",
       "\n",
       "    .dataframe tbody tr th {\n",
       "        vertical-align: top;\n",
       "    }\n",
       "\n",
       "    .dataframe thead th {\n",
       "        text-align: right;\n",
       "    }\n",
       "</style>\n",
       "<table border=\"1\" class=\"dataframe\">\n",
       "  <thead>\n",
       "    <tr style=\"text-align: right;\">\n",
       "      <th></th>\n",
       "      <th>id</th>\n",
       "      <th>text_pt</th>\n",
       "      <th>text_en</th>\n",
       "    </tr>\n",
       "  </thead>\n",
       "  <tbody>\n",
       "    <tr>\n",
       "      <th>0</th>\n",
       "      <td>0</td>\n",
       "      <td>Na segunda-feira, cientistas da Escola de Medi...</td>\n",
       "      <td>On Monday, scientists from the Stanford Univer...</td>\n",
       "    </tr>\n",
       "    <tr>\n",
       "      <th>1</th>\n",
       "      <td>1</td>\n",
       "      <td>Os principais pesquisadores dizem que isso pod...</td>\n",
       "      <td>Lead researchers say this may bring early dete...</td>\n",
       "    </tr>\n",
       "    <tr>\n",
       "      <th>2</th>\n",
       "      <td>2</td>\n",
       "      <td>O JAS 39 Gripen se chocou com a pista por volt...</td>\n",
       "      <td>The JAS 39C Gripen crashed onto a runway at ar...</td>\n",
       "    </tr>\n",
       "    <tr>\n",
       "      <th>3</th>\n",
       "      <td>3</td>\n",
       "      <td>O piloto foi identificado como o Líder de Esqu...</td>\n",
       "      <td>The pilot was identified as Squadron Leader Di...</td>\n",
       "    </tr>\n",
       "    <tr>\n",
       "      <th>4</th>\n",
       "      <td>4</td>\n",
       "      <td>A mídia local informa o capotamento de um veíc...</td>\n",
       "      <td>Local media reports an airport fire vehicle ro...</td>\n",
       "    </tr>\n",
       "  </tbody>\n",
       "</table>\n",
       "</div>"
      ],
      "text/plain": [
       "   id                                            text_pt  \\\n",
       "0   0  Na segunda-feira, cientistas da Escola de Medi...   \n",
       "1   1  Os principais pesquisadores dizem que isso pod...   \n",
       "2   2  O JAS 39 Gripen se chocou com a pista por volt...   \n",
       "3   3  O piloto foi identificado como o Líder de Esqu...   \n",
       "4   4  A mídia local informa o capotamento de um veíc...   \n",
       "\n",
       "                                             text_en  \n",
       "0  On Monday, scientists from the Stanford Univer...  \n",
       "1  Lead researchers say this may bring early dete...  \n",
       "2  The JAS 39C Gripen crashed onto a runway at ar...  \n",
       "3  The pilot was identified as Squadron Leader Di...  \n",
       "4  Local media reports an airport fire vehicle ro...  "
      ]
     },
     "execution_count": 9,
     "metadata": {},
     "output_type": "execute_result"
    }
   ],
   "source": [
    "df_merged = ds_por_df[['id', 'text']].merge(\n",
    "    ds_en_df[['id', 'text']],\n",
    "    on='id',\n",
    "    suffixes=('_pt', '_en')\n",
    ")\n",
    "\n",
    "df_merged.head()"
   ]
  },
  {
   "cell_type": "code",
   "execution_count": 10,
   "id": "b0d9d8ad",
   "metadata": {},
   "outputs": [],
   "source": [
    "df_merged = df_merged.head(5)"
   ]
  },
  {
   "cell_type": "code",
   "execution_count": 11,
   "id": "c20a6b76",
   "metadata": {},
   "outputs": [
    {
     "name": "stdout",
     "output_type": "stream",
     "text": [
      "Size of the evaluation dataset: 5\n"
     ]
    }
   ],
   "source": [
    "print(f\"Size of the evaluation dataset: {len(df_merged)}\")"
   ]
  },
  {
   "cell_type": "markdown",
   "id": "9f166c88",
   "metadata": {},
   "source": [
    "First, we will process the data with m2m model"
   ]
  },
  {
   "cell_type": "code",
   "execution_count": 12,
   "id": "7d29495d",
   "metadata": {},
   "outputs": [
    {
     "data": {
      "application/vnd.jupyter.widget-view+json": {
       "model_id": "aa42f98e63f2480ab7b2a9bde4473198",
       "version_major": 2,
       "version_minor": 0
      },
      "text/plain": [
       "tokenizer_config.json:   0%|          | 0.00/298 [00:00<?, ?B/s]"
      ]
     },
     "metadata": {},
     "output_type": "display_data"
    },
    {
     "data": {
      "application/vnd.jupyter.widget-view+json": {
       "model_id": "0344c11b363b49d0ba12b83cc8b2f823",
       "version_major": 2,
       "version_minor": 0
      },
      "text/plain": [
       "vocab.json: 0.00B [00:00, ?B/s]"
      ]
     },
     "metadata": {},
     "output_type": "display_data"
    },
    {
     "data": {
      "application/vnd.jupyter.widget-view+json": {
       "model_id": "11a61cb34d3241a3942c2d193dd45ece",
       "version_major": 2,
       "version_minor": 0
      },
      "text/plain": [
       "sentencepiece.bpe.model:   0%|          | 0.00/2.42M [00:00<?, ?B/s]"
      ]
     },
     "metadata": {},
     "output_type": "display_data"
    },
    {
     "data": {
      "application/vnd.jupyter.widget-view+json": {
       "model_id": "cdb3eaca01dd43819706deac9c8facb2",
       "version_major": 2,
       "version_minor": 0
      },
      "text/plain": [
       "special_tokens_map.json: 0.00B [00:00, ?B/s]"
      ]
     },
     "metadata": {},
     "output_type": "display_data"
    },
    {
     "data": {
      "application/vnd.jupyter.widget-view+json": {
       "model_id": "78a3015c666c4e44abf41291f0db3a1b",
       "version_major": 2,
       "version_minor": 0
      },
      "text/plain": [
       "config.json:   0%|          | 0.00/908 [00:00<?, ?B/s]"
      ]
     },
     "metadata": {},
     "output_type": "display_data"
    },
    {
     "data": {
      "application/vnd.jupyter.widget-view+json": {
       "model_id": "9f599197468a4da3991a2fbdc14b3371",
       "version_major": 2,
       "version_minor": 0
      },
      "text/plain": [
       "pytorch_model.bin:   0%|          | 0.00/1.94G [00:00<?, ?B/s]"
      ]
     },
     "metadata": {},
     "output_type": "display_data"
    },
    {
     "data": {
      "application/vnd.jupyter.widget-view+json": {
       "model_id": "280e25df1b5843c1a637952d09402d72",
       "version_major": 2,
       "version_minor": 0
      },
      "text/plain": [
       "generation_config.json:   0%|          | 0.00/233 [00:00<?, ?B/s]"
      ]
     },
     "metadata": {},
     "output_type": "display_data"
    },
    {
     "name": "stderr",
     "output_type": "stream",
     "text": [
      "  0%|          | 0/5 [00:00<?, ?it/s]"
     ]
    },
    {
     "data": {
      "application/vnd.jupyter.widget-view+json": {
       "model_id": "62137ce9ec7043d58b24bfc2b4239363",
       "version_major": 2,
       "version_minor": 0
      },
      "text/plain": [
       "model.safetensors:   0%|          | 0.00/1.94G [00:00<?, ?B/s]"
      ]
     },
     "metadata": {},
     "output_type": "display_data"
    },
    {
     "name": "stderr",
     "output_type": "stream",
     "text": [
      "100%|██████████| 5/5 [00:22<00:00,  4.52s/it]\n"
     ]
    },
    {
     "data": {
      "text/html": [
       "<div>\n",
       "<style scoped>\n",
       "    .dataframe tbody tr th:only-of-type {\n",
       "        vertical-align: middle;\n",
       "    }\n",
       "\n",
       "    .dataframe tbody tr th {\n",
       "        vertical-align: top;\n",
       "    }\n",
       "\n",
       "    .dataframe thead th {\n",
       "        text-align: right;\n",
       "    }\n",
       "</style>\n",
       "<table border=\"1\" class=\"dataframe\">\n",
       "  <thead>\n",
       "    <tr style=\"text-align: right;\">\n",
       "      <th></th>\n",
       "      <th>id</th>\n",
       "      <th>text_pt</th>\n",
       "      <th>text_en</th>\n",
       "      <th>m2m100_translation</th>\n",
       "    </tr>\n",
       "  </thead>\n",
       "  <tbody>\n",
       "    <tr>\n",
       "      <th>0</th>\n",
       "      <td>0</td>\n",
       "      <td>Na segunda-feira, cientistas da Escola de Medi...</td>\n",
       "      <td>On Monday, scientists from the Stanford Univer...</td>\n",
       "      <td>On Monday, scientists from the University of S...</td>\n",
       "    </tr>\n",
       "    <tr>\n",
       "      <th>1</th>\n",
       "      <td>1</td>\n",
       "      <td>Os principais pesquisadores dizem que isso pod...</td>\n",
       "      <td>Lead researchers say this may bring early dete...</td>\n",
       "      <td>Lead researchers say that this can lead to ear...</td>\n",
       "    </tr>\n",
       "    <tr>\n",
       "      <th>2</th>\n",
       "      <td>2</td>\n",
       "      <td>O JAS 39 Gripen se chocou com a pista por volt...</td>\n",
       "      <td>The JAS 39C Gripen crashed onto a runway at ar...</td>\n",
       "      <td>The JAS 39 Gripen shocked with the track aroun...</td>\n",
       "    </tr>\n",
       "    <tr>\n",
       "      <th>3</th>\n",
       "      <td>3</td>\n",
       "      <td>O piloto foi identificado como o Líder de Esqu...</td>\n",
       "      <td>The pilot was identified as Squadron Leader Di...</td>\n",
       "      <td>The pilot was identified as the Squad Leader D...</td>\n",
       "    </tr>\n",
       "    <tr>\n",
       "      <th>4</th>\n",
       "      <td>4</td>\n",
       "      <td>A mídia local informa o capotamento de um veíc...</td>\n",
       "      <td>Local media reports an airport fire vehicle ro...</td>\n",
       "      <td>The local media the capture of a fire vehicle ...</td>\n",
       "    </tr>\n",
       "  </tbody>\n",
       "</table>\n",
       "</div>"
      ],
      "text/plain": [
       "   id                                            text_pt  \\\n",
       "0   0  Na segunda-feira, cientistas da Escola de Medi...   \n",
       "1   1  Os principais pesquisadores dizem que isso pod...   \n",
       "2   2  O JAS 39 Gripen se chocou com a pista por volt...   \n",
       "3   3  O piloto foi identificado como o Líder de Esqu...   \n",
       "4   4  A mídia local informa o capotamento de um veíc...   \n",
       "\n",
       "                                             text_en  \\\n",
       "0  On Monday, scientists from the Stanford Univer...   \n",
       "1  Lead researchers say this may bring early dete...   \n",
       "2  The JAS 39C Gripen crashed onto a runway at ar...   \n",
       "3  The pilot was identified as Squadron Leader Di...   \n",
       "4  Local media reports an airport fire vehicle ro...   \n",
       "\n",
       "                                  m2m100_translation  \n",
       "0  On Monday, scientists from the University of S...  \n",
       "1  Lead researchers say that this can lead to ear...  \n",
       "2  The JAS 39 Gripen shocked with the track aroun...  \n",
       "3  The pilot was identified as the Squad Leader D...  \n",
       "4  The local media the capture of a fire vehicle ...  "
      ]
     },
     "execution_count": 12,
     "metadata": {},
     "output_type": "execute_result"
    }
   ],
   "source": [
    "tqdm.pandas()\n",
    "\n",
    "mt = dlt.TranslationModel(model_or_path=\"m2m100\", device=\"cpu\")\n",
    "\n",
    "\n",
    "df_merged[\"m2m100_translation\"] = df_merged[\"text_pt\"].progress_apply(\n",
    "    lambda x: mt.translate(x, source=dlt.lang.PORTUGUESE, target=dlt.lang.ENGLISH)\n",
    ")\n",
    "\n",
    "df_merged.to_csv(\"../../data/processed/translation_benchmark_flores_plus_pt_en.csv\", index=False)\n",
    "\n",
    "df_merged.head()"
   ]
  },
  {
   "cell_type": "markdown",
   "id": "f49915ec",
   "metadata": {},
   "source": [
    "Now mbart-50"
   ]
  },
  {
   "cell_type": "code",
   "execution_count": null,
   "id": "6c14215b",
   "metadata": {},
   "outputs": [],
   "source": [
    "# Traduzindo os textos em português para inglês usando o modelo mbart50\n",
    "mt_mbart50 = dlt.TranslationModel(model_or_path=\"mbart50\", device=\"gpu\")\n",
    "df_merged[\"mbart50_translation\"] = df_merged[\"text_pt\"].progress_apply(\n",
    "    lambda x: mt_mbart50.translate(x, source=dlt.lang.PORTUGUESE, target=dlt.lang.ENGLISH)\n",
    ")\n",
    "\n",
    "df_merged.to_csv(\"../../data/processed/translation_benchmark_flores_plus_pt_en.csv\", index=False)"
   ]
  },
  {
   "cell_type": "code",
   "execution_count": null,
   "id": "85515736",
   "metadata": {},
   "outputs": [],
   "source": [
    "from nltk.translate.bleu_score import sentence_bleu, SmoothingFunction\n",
    "\n",
    "def calc_bleu(reference, hypothesis):\n",
    "    smoothie = SmoothingFunction().method4\n",
    "    return sentence_bleu([reference.split()], hypothesis.split(), smoothing_function=smoothie)\n",
    "\n",
    "df_merged[\"bleu_m2m100\"] = df_merged.apply(\n",
    "    lambda row: calc_bleu(row[\"text_en\"], row[\"m2m100_translation\"]), axis=1\n",
    ")\n",
    "\n",
    "# Calculando BLEU para mbart50_translation\n",
    "df_merged[\"bleu_mbart50\"] = df_merged.apply(\n",
    "    lambda row: calc_bleu(row[\"text_en\"], row[\"mbart50_translation\"]), axis=1\n",
    ")\n",
    "\n",
    "df_merged[[\"text_en\", \"m2m100_translation\", \"mbart50_translation\", \"bleu_m2m100\", \"bleu_mbart50\"]].head()"
   ]
  },
  {
   "cell_type": "code",
   "execution_count": null,
   "id": "34c327f4",
   "metadata": {},
   "outputs": [],
   "source": [
    "df_merged.to_csv(\"../../data/processed/translation_benchmark_flores_plus_pt_en.csv\", index=False)"
   ]
  },
  {
   "cell_type": "code",
   "execution_count": null,
   "id": "8846bfd7",
   "metadata": {},
   "outputs": [],
   "source": [
    "import matplotlib.pyplot as plt\n",
    "import seaborn as sns\n",
    "\n",
    "sns.set(style=\"whitegrid\")\n",
    "\n",
    "plt.figure(figsize=(12, 5))\n",
    "plt.subplot(1, 2, 1)\n",
    "sns.histplot(df_merged[\"bleu_m2m100\"], bins=30, color=\"blue\", kde=True, label=\"m2m100\")\n",
    "sns.histplot(df_merged[\"bleu_mbart50\"], bins=30, color=\"orange\", kde=True, label=\"mbart50\", alpha=0.7)\n",
    "plt.title(\"BLEU score distribution\")\n",
    "plt.xlabel(\"BLEU score\")\n",
    "plt.ylabel(\"Frequency\")\n",
    "plt.legend()\n",
    "\n",
    "# Boxplot comparativo\n",
    "plt.subplot(1, 2, 2)\n",
    "sns.boxplot(data=df_merged[[\"bleu_m2m100\", \"bleu_mbart50\"]], palette=[\"blue\", \"orange\"])\n",
    "plt.title(\"Boxplot of BLEU scores\")\n",
    "plt.ylabel(\"BLEU score\")\n",
    "plt.xticks([0, 1], [\"m2m100\", \"mbart50\"])"
   ]
  },
  {
   "cell_type": "markdown",
   "id": "35191a72",
   "metadata": {},
   "source": [
    "As seen, m2m have a better overwll performance whem compared to mbart50. For now, we will use this model to translate the patents"
   ]
  },
  {
   "cell_type": "markdown",
   "id": "ed185687",
   "metadata": {},
   "source": [
    "# Best model application to translate"
   ]
  },
  {
   "cell_type": "code",
   "execution_count": null,
   "id": "cae332be",
   "metadata": {},
   "outputs": [],
   "source": [
    "df_patents = pd.read_csv(\"../../data/raw/patentes_inpi.csv\")\n",
    "df_patents.head()"
   ]
  },
  {
   "cell_type": "code",
   "execution_count": null,
   "id": "60b99cc9",
   "metadata": {},
   "outputs": [],
   "source": [
    "mt = dlt.TranslationModel(model_or_path=\"m2m100\", device=\"gpu\")\n",
    "\n",
    "\n",
    "df_patents[\"titulo_english\"] = df_patents[\"titulo\"].progress_apply(\n",
    "    lambda x: mt.translate(x, source=dlt.lang.PORTUGUESE, target=dlt.lang.ENGLISH, batch_size=64)\n",
    ")\n",
    "df_patents.head()"
   ]
  },
  {
   "cell_type": "code",
   "execution_count": null,
   "id": "5a573358",
   "metadata": {},
   "outputs": [],
   "source": [
    "df_patents.to_csv(\"../../data/processed/patents_inpi_translated.csv\", index=False)"
   ]
  },
  {
   "cell_type": "code",
   "execution_count": null,
   "id": "35966ebd",
   "metadata": {},
   "outputs": [],
   "source": [
    "# df_patents[\"resumo_english\"] = df_patents[\"resumo\"].progress_apply(\n",
    "#     lambda x: mt.translate(x, source=dlt.lang.PORTUGUESE, target=dlt.lang.ENGLISH, batch_size=32)\n",
    "# )\n",
    "# df_patents.head()\n",
    "\n",
    "# df_patents.to_csv(\"../../data/processed/patents_inpi_translated.csv\", index=False)"
   ]
  },
  {
   "cell_type": "code",
   "execution_count": null,
   "id": "00b500dc",
   "metadata": {},
   "outputs": [],
   "source": [
    "df_patents.head()"
   ]
  },
  {
   "cell_type": "markdown",
   "id": "9c1b7582",
   "metadata": {},
   "source": [
    "As the summaries are substantially longer texts, the processing time are much longer. For now, we will not use these texts"
   ]
  },
  {
   "cell_type": "markdown",
   "id": "f57aadfa",
   "metadata": {},
   "source": [
    "# Loading english TRIZ database and preparing the matcher"
   ]
  },
  {
   "cell_type": "code",
   "execution_count": null,
   "id": "f3128cfd",
   "metadata": {},
   "outputs": [],
   "source": [
    "triz_multilanguage = pd.read_excel(\"../../data/raw/Base efeitos físicos MULTILINGUE funçãoxlsx.xlsx\")\n",
    "\n",
    "en_columns = [\"Mode\", \"Type\", \"Task\", \"Target\", \"Name\", \"Description\", \"EN Link\"]\n",
    "triz_multilanguage[en_columns].head()"
   ]
  },
  {
   "cell_type": "markdown",
   "id": "78b7b8ef",
   "metadata": {},
   "source": [
    "We will use the pipeline of Transformers in spaCy for the english"
   ]
  },
  {
   "cell_type": "code",
   "execution_count": null,
   "id": "37e4a45d",
   "metadata": {},
   "outputs": [],
   "source": [
    "# ref.: https://spacy.io/models/en\n",
    "# nlp = spacy.load('en_core_web_trf')\n",
    "nlp = spacy.load('en_core_web_lg')\n"
   ]
  },
  {
   "cell_type": "code",
   "execution_count": null,
   "id": "1784ddee",
   "metadata": {},
   "outputs": [],
   "source": [
    "def find_matches(input_string, list_of_vectors, threshold=None, top_n=None):\n",
    "    \"\"\"\n",
    "    Vectorizes every word in the input string and compares its vectors to a list of precomputed vectors.\n",
    "    Returns matches based on a similarity threshold or the top_n most similar terms.\n",
    "\n",
    "    Args:\n",
    "        input_string (str): The input string to be vectorized.\n",
    "        list_of_vectors (list): Precomputed vectors of the list of strings.\n",
    "        threshold (float, optional): Similarity threshold for matches. Default is None.\n",
    "        top_n (int, optional): Number of top matches to return based on similarity. Default is None.\n",
    "\n",
    "    Returns:\n",
    "        list: Indices of matches in the list_of_vectors.\n",
    "    \"\"\"\n",
    "    if threshold is None and top_n is None:\n",
    "        raise ValueError(\"You must provide either a threshold or top_n.\")\n",
    "\n",
    "    words = input_string.split()\n",
    "    all_similarities = []\n",
    "\n",
    "    for word in words:\n",
    "        # ref.: https://stackoverflow.com/questions/68959472/no-vector-when-using-spacy-loaden-core-web-trf\n",
    "        # input_vector = nlp(word)._.trf_data.last_hidden_layer_state.data[0]\n",
    "        input_vector = nlp(word).vector\n",
    "\n",
    "        # Calculate similarity for each vector\n",
    "        for i, vector in enumerate(list_of_vectors):\n",
    "            similarity = np.dot(input_vector, vector) / (np.linalg.norm(input_vector) * np.linalg.norm(vector))\n",
    "            all_similarities.append((i, similarity))\n",
    "\n",
    "    # Filter by threshold if provided\n",
    "    matches = []\n",
    "    if threshold is not None:\n",
    "        matches.extend([i for i, sim in all_similarities if sim >= threshold])\n",
    "\n",
    "    # Get top_n matches across all words if provided\n",
    "    if top_n is not None:\n",
    "        top_matches = sorted(all_similarities, key=lambda x: x[1], reverse=True)[:top_n]\n",
    "        matches.extend([i for i, _ in top_matches])\n",
    "\n",
    "    # Remove duplicates and return\n",
    "    return list(matches)"
   ]
  },
  {
   "cell_type": "code",
   "execution_count": null,
   "id": "95f88ce7",
   "metadata": {},
   "outputs": [],
   "source": [
    "# Path to the saved vectors\n",
    "tarefas_vectors_path = \"../../data/processed/tarefas_vectors_english.npz\"\n",
    "\n",
    "try:\n",
    "    # Try to load the precomputed vectors\n",
    "    tarefas_vectors = np.load(tarefas_vectors_path)[\"vectors\"]\n",
    "    print(\"Loaded precomputed vectors successfully.\")\n",
    "except (FileNotFoundError, KeyError):\n",
    "    # If loading fails, recalculate the vectors\n",
    "    print(\"Precomputed vectors not found. Recalculating...\")\n",
    "    tarefas = triz_multilanguage[\"Task\"].astype(str).unique().tolist()\n",
    "\n",
    "    # ref.: https://stackoverflow.com/questions/68959472/no-vector-when-using-spacy-loaden-core-web-trf\n",
    "    # tarefas_vectors = np.array([nlp(tarefa)._.trf_data.last_hidden_layer_state.data[0] for tarefa in tarefas])\n",
    "    tarefas_vectors = np.array([nlp(tarefa).vector for tarefa in tarefas])\n",
    "    \n",
    "    # Save the recalculated vectors\n",
    "    np.savez(tarefas_vectors_path, vectors=tarefas_vectors)\n",
    "    print(\"Vectors recalculated and saved.\")"
   ]
  },
  {
   "cell_type": "code",
   "execution_count": null,
   "id": "557448e1",
   "metadata": {},
   "outputs": [],
   "source": [
    "# Apply the function to df.loc[25, \"titulo_lemmatized\"]\n",
    "k = 10\n",
    "matches = find_matches(df_patents.loc[k, \"titulo_english\"], tarefas_vectors, threshold=0.4 )\n",
    "\n",
    "# Print the matched indices and corresponding strings\n",
    "print(\"\\n\\n\")\n",
    "print(df_patents.loc[k, \"titulo_english\"])\n",
    "print(\"Matched indices:\", matches)\n",
    "print(\"Matched strings:\", set([tarefas[i] for i in matches]))"
   ]
  },
  {
   "cell_type": "code",
   "execution_count": null,
   "id": "6cd8d257",
   "metadata": {},
   "outputs": [],
   "source": [
    "from tqdm import tqdm\n",
    "\n",
    "result = []\n",
    "for index, row in tqdm(df_patents.iterrows(), total=df_patents.shape[0]):\n",
    "    res = find_matches(str(row[\"titulo_english\"]), tarefas_vectors, top_n=10)\n",
    "    result.append(res)"
   ]
  },
  {
   "cell_type": "code",
   "execution_count": null,
   "id": "bdcf78a6",
   "metadata": {},
   "outputs": [],
   "source": [
    "# Ensure each row in the DataFrame gets its corresponding set of matches\n",
    "df_patents[\"match_top_10_title\"] = [set([tarefas[i] for i in res]) for res in result]\n",
    "\n",
    "# Save the updated DataFrame to a CSV file\n",
    "df_patents.to_csv(\"../../data/processed/patentes_inpi_english_matched.csv\", index=False)"
   ]
  },
  {
   "cell_type": "code",
   "execution_count": null,
   "id": "8f3b38ab",
   "metadata": {},
   "outputs": [],
   "source": []
  }
 ],
 "metadata": {
  "kernelspec": {
   "display_name": "Python 3",
   "language": "python",
   "name": "python3"
  },
  "language_info": {
   "codemirror_mode": {
    "name": "ipython",
    "version": 3
   },
   "file_extension": ".py",
   "mimetype": "text/x-python",
   "name": "python",
   "nbconvert_exporter": "python",
   "pygments_lexer": "ipython3",
   "version": "3.12.10"
  }
 },
 "nbformat": 4,
 "nbformat_minor": 5
}
