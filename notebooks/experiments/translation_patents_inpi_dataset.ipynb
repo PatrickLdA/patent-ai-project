{
 "cells": [
  {
   "cell_type": "markdown",
   "id": "0619ebdc",
   "metadata": {},
   "source": [
    "# English processing use cases\n",
    "This notebook aims to test the Task and Object identification in patents in english.\n",
    "\n",
    "1. **Task:** the method used in the described patent. In can be compress something or agilize a effect, for example.\n",
    "2. **Object:** the \"target\" of the task. It can be a food, a construction material or any other object that, combined with the task, defines the patent.\n",
    "\n",
    "It is supposed that NLP techniques are more refined to english data as the models are well-developed and to validate this theory, all the patents will be translated to english to them be processed.\n",
    "\n",
    "[DL-Translate](https://pypi.org/project/dl-translate/), a Python library that implements a low verbosity use of many open source models to translation tasks.\n",
    "\n",
    "Three models can be used to translate from portuguese to english:\n",
    "- [mBART-50 Large](https://huggingface.co/transformers/master/model_doc/mbart.html): Allows translations across 50 languages.\n",
    "- [m2m100](https://huggingface.co/docs/transformers/model_doc/m2m_100): Allows translations across 100 languages.\n",
    "- [nllb-200](https://huggingface.co/docs/transformers/model_doc/nllb): Allows translations across 200 languages, and is faster than m2m100 (On RTX A6000, we can see speed up of 3x)."
   ]
  },
  {
   "cell_type": "markdown",
   "id": "aab5155c",
   "metadata": {},
   "source": [
    "## Testing the models\n",
    "\n",
    "To test the models we will evaluate using [FLORES+](https://huggingface.co/datasets/openlanguagedata/flores_plus) from Meta"
   ]
  },
  {
   "cell_type": "code",
   "execution_count": 1,
   "id": "3f79a72c",
   "metadata": {},
   "outputs": [],
   "source": [
    "import dl_translate as dlt"
   ]
  },
  {
   "cell_type": "code",
   "execution_count": 2,
   "id": "185ab00f",
   "metadata": {},
   "outputs": [
    {
     "data": {
      "text/plain": [
       "'The rabbit is a very intelligent animal.'"
      ]
     },
     "execution_count": 2,
     "metadata": {},
     "output_type": "execute_result"
    }
   ],
   "source": [
    "mt = dlt.TranslationModel(model_or_path=\"m2m100\", device=\"gpu\") \n",
    "text_pt = \"A raposa é um animal muito esperto.\"\n",
    "mt.translate(text_pt, source=dlt.lang.PORTUGUESE, target=dlt.lang.ENGLISH)"
   ]
  },
  {
   "cell_type": "code",
   "execution_count": 3,
   "id": "5887b6d9",
   "metadata": {},
   "outputs": [
    {
     "data": {
      "application/vnd.jupyter.widget-view+json": {
       "model_id": "0bb1db6ef30748f389486e2f46818bbb",
       "version_major": 2,
       "version_minor": 0
      },
      "text/plain": [
       "VBox(children=(HTML(value='<center> <img\\nsrc=https://huggingface.co/front/assets/huggingface_logo-noborder.sv…"
      ]
     },
     "metadata": {},
     "output_type": "display_data"
    }
   ],
   "source": [
    "import huggingface_hub\n",
    "huggingface_hub.login() # now you will be prompted to enter your token; enter it."
   ]
  },
  {
   "cell_type": "code",
   "execution_count": 18,
   "id": "fd71f992",
   "metadata": {},
   "outputs": [],
   "source": [
    "from datasets import load_dataset"
   ]
  },
  {
   "cell_type": "code",
   "execution_count": 19,
   "id": "7d0d345e",
   "metadata": {},
   "outputs": [
    {
     "data": {
      "application/vnd.jupyter.widget-view+json": {
       "model_id": "dc956a5360044bf180fa0c2d4be2dd1f",
       "version_major": 2,
       "version_minor": 0
      },
      "text/plain": [
       "Resolving data files:   0%|          | 0/219 [00:00<?, ?it/s]"
      ]
     },
     "metadata": {},
     "output_type": "display_data"
    },
    {
     "data": {
      "application/vnd.jupyter.widget-view+json": {
       "model_id": "77efbe303aa84630ac1680e3ee74d901",
       "version_major": 2,
       "version_minor": 0
      },
      "text/plain": [
       "Resolving data files:   0%|          | 0/213 [00:00<?, ?it/s]"
      ]
     },
     "metadata": {},
     "output_type": "display_data"
    },
    {
     "data": {
      "text/html": [
       "<div>\n",
       "<style scoped>\n",
       "    .dataframe tbody tr th:only-of-type {\n",
       "        vertical-align: middle;\n",
       "    }\n",
       "\n",
       "    .dataframe tbody tr th {\n",
       "        vertical-align: top;\n",
       "    }\n",
       "\n",
       "    .dataframe thead th {\n",
       "        text-align: right;\n",
       "    }\n",
       "</style>\n",
       "<table border=\"1\" class=\"dataframe\">\n",
       "  <thead>\n",
       "    <tr style=\"text-align: right;\">\n",
       "      <th></th>\n",
       "      <th>id</th>\n",
       "      <th>iso_639_3</th>\n",
       "      <th>iso_15924</th>\n",
       "      <th>glottocode</th>\n",
       "      <th>text</th>\n",
       "      <th>url</th>\n",
       "      <th>domain</th>\n",
       "      <th>topic</th>\n",
       "      <th>has_image</th>\n",
       "      <th>has_hyperlink</th>\n",
       "      <th>last_updated</th>\n",
       "    </tr>\n",
       "  </thead>\n",
       "  <tbody>\n",
       "    <tr>\n",
       "      <th>0</th>\n",
       "      <td>0</td>\n",
       "      <td>por</td>\n",
       "      <td>Latn</td>\n",
       "      <td>braz1246</td>\n",
       "      <td>Na segunda-feira, cientistas da Escola de Medi...</td>\n",
       "      <td>https://en.wikinews.org/wiki/Scientists_say_ne...</td>\n",
       "      <td>wikinews</td>\n",
       "      <td>health</td>\n",
       "      <td>yes</td>\n",
       "      <td>yes</td>\n",
       "      <td>1.0</td>\n",
       "    </tr>\n",
       "    <tr>\n",
       "      <th>1</th>\n",
       "      <td>1</td>\n",
       "      <td>por</td>\n",
       "      <td>Latn</td>\n",
       "      <td>braz1246</td>\n",
       "      <td>Os principais pesquisadores dizem que isso pod...</td>\n",
       "      <td>https://en.wikinews.org/wiki/Scientists_say_ne...</td>\n",
       "      <td>wikinews</td>\n",
       "      <td>health</td>\n",
       "      <td>yes</td>\n",
       "      <td>yes</td>\n",
       "      <td>1.0</td>\n",
       "    </tr>\n",
       "    <tr>\n",
       "      <th>2</th>\n",
       "      <td>2</td>\n",
       "      <td>por</td>\n",
       "      <td>Latn</td>\n",
       "      <td>braz1246</td>\n",
       "      <td>O JAS 39 Gripen se chocou com a pista por volt...</td>\n",
       "      <td>https://en.wikinews.org/wiki/Fighter_jet_crash...</td>\n",
       "      <td>wikinews</td>\n",
       "      <td>accident</td>\n",
       "      <td>yes</td>\n",
       "      <td>yes</td>\n",
       "      <td>1.0</td>\n",
       "    </tr>\n",
       "    <tr>\n",
       "      <th>3</th>\n",
       "      <td>3</td>\n",
       "      <td>por</td>\n",
       "      <td>Latn</td>\n",
       "      <td>braz1246</td>\n",
       "      <td>O piloto foi identificado como o Líder de Esqu...</td>\n",
       "      <td>https://en.wikinews.org/wiki/Fighter_jet_crash...</td>\n",
       "      <td>wikinews</td>\n",
       "      <td>accident</td>\n",
       "      <td>yes</td>\n",
       "      <td>yes</td>\n",
       "      <td>1.0</td>\n",
       "    </tr>\n",
       "    <tr>\n",
       "      <th>4</th>\n",
       "      <td>4</td>\n",
       "      <td>por</td>\n",
       "      <td>Latn</td>\n",
       "      <td>braz1246</td>\n",
       "      <td>A mídia local informa o capotamento de um veíc...</td>\n",
       "      <td>https://en.wikinews.org/wiki/Fighter_jet_crash...</td>\n",
       "      <td>wikinews</td>\n",
       "      <td>accident</td>\n",
       "      <td>yes</td>\n",
       "      <td>yes</td>\n",
       "      <td>1.0</td>\n",
       "    </tr>\n",
       "  </tbody>\n",
       "</table>\n",
       "</div>"
      ],
      "text/plain": [
       "   id iso_639_3 iso_15924 glottocode  \\\n",
       "0   0       por      Latn   braz1246   \n",
       "1   1       por      Latn   braz1246   \n",
       "2   2       por      Latn   braz1246   \n",
       "3   3       por      Latn   braz1246   \n",
       "4   4       por      Latn   braz1246   \n",
       "\n",
       "                                                text  \\\n",
       "0  Na segunda-feira, cientistas da Escola de Medi...   \n",
       "1  Os principais pesquisadores dizem que isso pod...   \n",
       "2  O JAS 39 Gripen se chocou com a pista por volt...   \n",
       "3  O piloto foi identificado como o Líder de Esqu...   \n",
       "4  A mídia local informa o capotamento de um veíc...   \n",
       "\n",
       "                                                 url    domain     topic  \\\n",
       "0  https://en.wikinews.org/wiki/Scientists_say_ne...  wikinews    health   \n",
       "1  https://en.wikinews.org/wiki/Scientists_say_ne...  wikinews    health   \n",
       "2  https://en.wikinews.org/wiki/Fighter_jet_crash...  wikinews  accident   \n",
       "3  https://en.wikinews.org/wiki/Fighter_jet_crash...  wikinews  accident   \n",
       "4  https://en.wikinews.org/wiki/Fighter_jet_crash...  wikinews  accident   \n",
       "\n",
       "  has_image has_hyperlink last_updated  \n",
       "0       yes           yes          1.0  \n",
       "1       yes           yes          1.0  \n",
       "2       yes           yes          1.0  \n",
       "3       yes           yes          1.0  \n",
       "4       yes           yes          1.0  "
      ]
     },
     "execution_count": 19,
     "metadata": {},
     "output_type": "execute_result"
    }
   ],
   "source": [
    "ds_por = load_dataset(\"openlanguagedata/flores_plus\", \"por_Latn\")\n",
    "ds_por_df = ds_por['dev'].to_pandas()\n",
    "ds_por_df.head()"
   ]
  },
  {
   "cell_type": "code",
   "execution_count": 20,
   "id": "7c513cae",
   "metadata": {},
   "outputs": [
    {
     "data": {
      "application/vnd.jupyter.widget-view+json": {
       "model_id": "1234057d87154171b8f447ed103e3b95",
       "version_major": 2,
       "version_minor": 0
      },
      "text/plain": [
       "Resolving data files:   0%|          | 0/219 [00:00<?, ?it/s]"
      ]
     },
     "metadata": {},
     "output_type": "display_data"
    },
    {
     "data": {
      "application/vnd.jupyter.widget-view+json": {
       "model_id": "d34f15467c9943b48ebb7284a276c25f",
       "version_major": 2,
       "version_minor": 0
      },
      "text/plain": [
       "Resolving data files:   0%|          | 0/213 [00:00<?, ?it/s]"
      ]
     },
     "metadata": {},
     "output_type": "display_data"
    },
    {
     "data": {
      "text/html": [
       "<div>\n",
       "<style scoped>\n",
       "    .dataframe tbody tr th:only-of-type {\n",
       "        vertical-align: middle;\n",
       "    }\n",
       "\n",
       "    .dataframe tbody tr th {\n",
       "        vertical-align: top;\n",
       "    }\n",
       "\n",
       "    .dataframe thead th {\n",
       "        text-align: right;\n",
       "    }\n",
       "</style>\n",
       "<table border=\"1\" class=\"dataframe\">\n",
       "  <thead>\n",
       "    <tr style=\"text-align: right;\">\n",
       "      <th></th>\n",
       "      <th>id</th>\n",
       "      <th>iso_639_3</th>\n",
       "      <th>iso_15924</th>\n",
       "      <th>glottocode</th>\n",
       "      <th>text</th>\n",
       "      <th>url</th>\n",
       "      <th>domain</th>\n",
       "      <th>topic</th>\n",
       "      <th>has_image</th>\n",
       "      <th>has_hyperlink</th>\n",
       "      <th>last_updated</th>\n",
       "    </tr>\n",
       "  </thead>\n",
       "  <tbody>\n",
       "    <tr>\n",
       "      <th>0</th>\n",
       "      <td>0</td>\n",
       "      <td>eng</td>\n",
       "      <td>Latn</td>\n",
       "      <td>stan1293</td>\n",
       "      <td>On Monday, scientists from the Stanford Univer...</td>\n",
       "      <td>https://en.wikinews.org/wiki/Scientists_say_ne...</td>\n",
       "      <td>wikinews</td>\n",
       "      <td>health</td>\n",
       "      <td>yes</td>\n",
       "      <td>yes</td>\n",
       "      <td>1.0</td>\n",
       "    </tr>\n",
       "    <tr>\n",
       "      <th>1</th>\n",
       "      <td>1</td>\n",
       "      <td>eng</td>\n",
       "      <td>Latn</td>\n",
       "      <td>stan1293</td>\n",
       "      <td>Lead researchers say this may bring early dete...</td>\n",
       "      <td>https://en.wikinews.org/wiki/Scientists_say_ne...</td>\n",
       "      <td>wikinews</td>\n",
       "      <td>health</td>\n",
       "      <td>yes</td>\n",
       "      <td>yes</td>\n",
       "      <td>1.0</td>\n",
       "    </tr>\n",
       "    <tr>\n",
       "      <th>2</th>\n",
       "      <td>2</td>\n",
       "      <td>eng</td>\n",
       "      <td>Latn</td>\n",
       "      <td>stan1293</td>\n",
       "      <td>The JAS 39C Gripen crashed onto a runway at ar...</td>\n",
       "      <td>https://en.wikinews.org/wiki/Fighter_jet_crash...</td>\n",
       "      <td>wikinews</td>\n",
       "      <td>accident</td>\n",
       "      <td>yes</td>\n",
       "      <td>yes</td>\n",
       "      <td>1.0</td>\n",
       "    </tr>\n",
       "    <tr>\n",
       "      <th>3</th>\n",
       "      <td>3</td>\n",
       "      <td>eng</td>\n",
       "      <td>Latn</td>\n",
       "      <td>stan1293</td>\n",
       "      <td>The pilot was identified as Squadron Leader Di...</td>\n",
       "      <td>https://en.wikinews.org/wiki/Fighter_jet_crash...</td>\n",
       "      <td>wikinews</td>\n",
       "      <td>accident</td>\n",
       "      <td>yes</td>\n",
       "      <td>yes</td>\n",
       "      <td>1.0</td>\n",
       "    </tr>\n",
       "    <tr>\n",
       "      <th>4</th>\n",
       "      <td>4</td>\n",
       "      <td>eng</td>\n",
       "      <td>Latn</td>\n",
       "      <td>stan1293</td>\n",
       "      <td>Local media reports an airport fire vehicle ro...</td>\n",
       "      <td>https://en.wikinews.org/wiki/Fighter_jet_crash...</td>\n",
       "      <td>wikinews</td>\n",
       "      <td>accident</td>\n",
       "      <td>yes</td>\n",
       "      <td>yes</td>\n",
       "      <td>1.0</td>\n",
       "    </tr>\n",
       "  </tbody>\n",
       "</table>\n",
       "</div>"
      ],
      "text/plain": [
       "   id iso_639_3 iso_15924 glottocode  \\\n",
       "0   0       eng      Latn   stan1293   \n",
       "1   1       eng      Latn   stan1293   \n",
       "2   2       eng      Latn   stan1293   \n",
       "3   3       eng      Latn   stan1293   \n",
       "4   4       eng      Latn   stan1293   \n",
       "\n",
       "                                                text  \\\n",
       "0  On Monday, scientists from the Stanford Univer...   \n",
       "1  Lead researchers say this may bring early dete...   \n",
       "2  The JAS 39C Gripen crashed onto a runway at ar...   \n",
       "3  The pilot was identified as Squadron Leader Di...   \n",
       "4  Local media reports an airport fire vehicle ro...   \n",
       "\n",
       "                                                 url    domain     topic  \\\n",
       "0  https://en.wikinews.org/wiki/Scientists_say_ne...  wikinews    health   \n",
       "1  https://en.wikinews.org/wiki/Scientists_say_ne...  wikinews    health   \n",
       "2  https://en.wikinews.org/wiki/Fighter_jet_crash...  wikinews  accident   \n",
       "3  https://en.wikinews.org/wiki/Fighter_jet_crash...  wikinews  accident   \n",
       "4  https://en.wikinews.org/wiki/Fighter_jet_crash...  wikinews  accident   \n",
       "\n",
       "  has_image has_hyperlink last_updated  \n",
       "0       yes           yes          1.0  \n",
       "1       yes           yes          1.0  \n",
       "2       yes           yes          1.0  \n",
       "3       yes           yes          1.0  \n",
       "4       yes           yes          1.0  "
      ]
     },
     "execution_count": 20,
     "metadata": {},
     "output_type": "execute_result"
    }
   ],
   "source": [
    "ds_en = load_dataset(\"openlanguagedata/flores_plus\", \"eng_Latn\")\n",
    "ds_en_df = ds_en['dev'].to_pandas()\n",
    "ds_en_df.head()"
   ]
  },
  {
   "cell_type": "code",
   "execution_count": 24,
   "id": "90ac2519",
   "metadata": {},
   "outputs": [
    {
     "name": "stdout",
     "output_type": "stream",
     "text": [
      "English: On Monday, scientists from the Stanford University School of Medicine announced the invention of a new diagnostic tool that can sort cells by type: a tiny printable chip that can be manufactured using standard inkjet printers for possibly about one U.S. cent each.\n",
      "Portuguese: Na segunda-feira, cientistas da Escola de Medicina da Universidade de Stanford anunciaram a invenção de uma nova ferramenta de diagnóstico que pode classificar células por tipo: um minúsculo chip imprimível que pode ser fabricado usando impressoras jato de tinta padrão por possivelmente cerca de um centavo de dólar cada.\n"
     ]
    }
   ],
   "source": [
    "id = 0\n",
    "print(f\"English: {ds_en_df.loc[ds_en_df['id'] == id]['text'].values[0]}\")\n",
    "print(f\"Portuguese: {ds_por_df.loc[ds_por_df['id'] == id]['text'].values[0]}\")"
   ]
  },
  {
   "cell_type": "code",
   "execution_count": null,
   "id": "dbdf09f8",
   "metadata": {},
   "outputs": [
    {
     "data": {
      "text/html": [
       "<div>\n",
       "<style scoped>\n",
       "    .dataframe tbody tr th:only-of-type {\n",
       "        vertical-align: middle;\n",
       "    }\n",
       "\n",
       "    .dataframe tbody tr th {\n",
       "        vertical-align: top;\n",
       "    }\n",
       "\n",
       "    .dataframe thead th {\n",
       "        text-align: right;\n",
       "    }\n",
       "</style>\n",
       "<table border=\"1\" class=\"dataframe\">\n",
       "  <thead>\n",
       "    <tr style=\"text-align: right;\">\n",
       "      <th></th>\n",
       "      <th>id</th>\n",
       "      <th>text_pt</th>\n",
       "      <th>text_en</th>\n",
       "    </tr>\n",
       "  </thead>\n",
       "  <tbody>\n",
       "    <tr>\n",
       "      <th>0</th>\n",
       "      <td>0</td>\n",
       "      <td>Na segunda-feira, cientistas da Escola de Medi...</td>\n",
       "      <td>On Monday, scientists from the Stanford Univer...</td>\n",
       "    </tr>\n",
       "    <tr>\n",
       "      <th>1</th>\n",
       "      <td>1</td>\n",
       "      <td>Os principais pesquisadores dizem que isso pod...</td>\n",
       "      <td>Lead researchers say this may bring early dete...</td>\n",
       "    </tr>\n",
       "    <tr>\n",
       "      <th>2</th>\n",
       "      <td>2</td>\n",
       "      <td>O JAS 39 Gripen se chocou com a pista por volt...</td>\n",
       "      <td>The JAS 39C Gripen crashed onto a runway at ar...</td>\n",
       "    </tr>\n",
       "    <tr>\n",
       "      <th>3</th>\n",
       "      <td>3</td>\n",
       "      <td>O piloto foi identificado como o Líder de Esqu...</td>\n",
       "      <td>The pilot was identified as Squadron Leader Di...</td>\n",
       "    </tr>\n",
       "    <tr>\n",
       "      <th>4</th>\n",
       "      <td>4</td>\n",
       "      <td>A mídia local informa o capotamento de um veíc...</td>\n",
       "      <td>Local media reports an airport fire vehicle ro...</td>\n",
       "    </tr>\n",
       "  </tbody>\n",
       "</table>\n",
       "</div>"
      ],
      "text/plain": [
       "   id                                            text_pt  \\\n",
       "0   0  Na segunda-feira, cientistas da Escola de Medi...   \n",
       "1   1  Os principais pesquisadores dizem que isso pod...   \n",
       "2   2  O JAS 39 Gripen se chocou com a pista por volt...   \n",
       "3   3  O piloto foi identificado como o Líder de Esqu...   \n",
       "4   4  A mídia local informa o capotamento de um veíc...   \n",
       "\n",
       "                                             text_en  \n",
       "0  On Monday, scientists from the Stanford Univer...  \n",
       "1  Lead researchers say this may bring early dete...  \n",
       "2  The JAS 39C Gripen crashed onto a runway at ar...  \n",
       "3  The pilot was identified as Squadron Leader Di...  \n",
       "4  Local media reports an airport fire vehicle ro...  "
      ]
     },
     "execution_count": 25,
     "metadata": {},
     "output_type": "execute_result"
    }
   ],
   "source": [
    "df_merged = ds_por_df[['id', 'text']].merge(\n",
    "    ds_en_df[['id', 'text']],\n",
    "    on='id',\n",
    "    suffixes=('_pt', '_en')\n",
    ")\n",
    "\n",
    "df_merged.head()"
   ]
  },
  {
   "cell_type": "code",
   "execution_count": 27,
   "id": "c20a6b76",
   "metadata": {},
   "outputs": [
    {
     "data": {
      "text/plain": [
       "997"
      ]
     },
     "execution_count": 27,
     "metadata": {},
     "output_type": "execute_result"
    }
   ],
   "source": [
    "len(df_merged)"
   ]
  },
  {
   "cell_type": "code",
   "execution_count": 28,
   "id": "7d29495d",
   "metadata": {},
   "outputs": [
    {
     "name": "stderr",
     "output_type": "stream",
     "text": [
      "100%|██████████| 997/997 [09:17<00:00,  1.79it/s]\n"
     ]
    },
    {
     "data": {
      "text/html": [
       "<div>\n",
       "<style scoped>\n",
       "    .dataframe tbody tr th:only-of-type {\n",
       "        vertical-align: middle;\n",
       "    }\n",
       "\n",
       "    .dataframe tbody tr th {\n",
       "        vertical-align: top;\n",
       "    }\n",
       "\n",
       "    .dataframe thead th {\n",
       "        text-align: right;\n",
       "    }\n",
       "</style>\n",
       "<table border=\"1\" class=\"dataframe\">\n",
       "  <thead>\n",
       "    <tr style=\"text-align: right;\">\n",
       "      <th></th>\n",
       "      <th>id</th>\n",
       "      <th>text_pt</th>\n",
       "      <th>text_en</th>\n",
       "      <th>m2m100_translation</th>\n",
       "    </tr>\n",
       "  </thead>\n",
       "  <tbody>\n",
       "    <tr>\n",
       "      <th>0</th>\n",
       "      <td>0</td>\n",
       "      <td>Na segunda-feira, cientistas da Escola de Medi...</td>\n",
       "      <td>On Monday, scientists from the Stanford Univer...</td>\n",
       "      <td>On Monday, scientists from the University of S...</td>\n",
       "    </tr>\n",
       "    <tr>\n",
       "      <th>1</th>\n",
       "      <td>1</td>\n",
       "      <td>Os principais pesquisadores dizem que isso pod...</td>\n",
       "      <td>Lead researchers say this may bring early dete...</td>\n",
       "      <td>Lead researchers say that this can lead to ear...</td>\n",
       "    </tr>\n",
       "    <tr>\n",
       "      <th>2</th>\n",
       "      <td>2</td>\n",
       "      <td>O JAS 39 Gripen se chocou com a pista por volt...</td>\n",
       "      <td>The JAS 39C Gripen crashed onto a runway at ar...</td>\n",
       "      <td>The JAS 39 Gripen shocked with the track aroun...</td>\n",
       "    </tr>\n",
       "    <tr>\n",
       "      <th>3</th>\n",
       "      <td>3</td>\n",
       "      <td>O piloto foi identificado como o Líder de Esqu...</td>\n",
       "      <td>The pilot was identified as Squadron Leader Di...</td>\n",
       "      <td>The pilot was identified as the Squad Leader D...</td>\n",
       "    </tr>\n",
       "    <tr>\n",
       "      <th>4</th>\n",
       "      <td>4</td>\n",
       "      <td>A mídia local informa o capotamento de um veíc...</td>\n",
       "      <td>Local media reports an airport fire vehicle ro...</td>\n",
       "      <td>The local media the capture of a fire vehicle ...</td>\n",
       "    </tr>\n",
       "  </tbody>\n",
       "</table>\n",
       "</div>"
      ],
      "text/plain": [
       "   id                                            text_pt  \\\n",
       "0   0  Na segunda-feira, cientistas da Escola de Medi...   \n",
       "1   1  Os principais pesquisadores dizem que isso pod...   \n",
       "2   2  O JAS 39 Gripen se chocou com a pista por volt...   \n",
       "3   3  O piloto foi identificado como o Líder de Esqu...   \n",
       "4   4  A mídia local informa o capotamento de um veíc...   \n",
       "\n",
       "                                             text_en  \\\n",
       "0  On Monday, scientists from the Stanford Univer...   \n",
       "1  Lead researchers say this may bring early dete...   \n",
       "2  The JAS 39C Gripen crashed onto a runway at ar...   \n",
       "3  The pilot was identified as Squadron Leader Di...   \n",
       "4  Local media reports an airport fire vehicle ro...   \n",
       "\n",
       "                                  m2m100_translation  \n",
       "0  On Monday, scientists from the University of S...  \n",
       "1  Lead researchers say that this can lead to ear...  \n",
       "2  The JAS 39 Gripen shocked with the track aroun...  \n",
       "3  The pilot was identified as the Squad Leader D...  \n",
       "4  The local media the capture of a fire vehicle ...  "
      ]
     },
     "execution_count": 28,
     "metadata": {},
     "output_type": "execute_result"
    }
   ],
   "source": [
    "from tqdm import tqdm\n",
    "\n",
    "tqdm.pandas()\n",
    "\n",
    "df_merged[\"m2m100_translation\"] = df_merged[\"text_pt\"].progress_apply(\n",
    "    lambda x: mt.translate(x, source=dlt.lang.PORTUGUESE, target=dlt.lang.ENGLISH)\n",
    ")\n",
    "\n",
    "df_merged.head()"
   ]
  },
  {
   "cell_type": "code",
   "execution_count": 30,
   "id": "8a0a5f16",
   "metadata": {},
   "outputs": [],
   "source": [
    "df_merged.to_csv(\"../../data/processed/translation_benchmark_flores_plus_pt_en.csv\", index=False)"
   ]
  },
  {
   "cell_type": "code",
   "execution_count": null,
   "id": "6c14215b",
   "metadata": {},
   "outputs": [
    {
     "data": {
      "application/vnd.jupyter.widget-view+json": {
       "model_id": "42ac4eec77364ed6a7e4b23e76fdd6fa",
       "version_major": 2,
       "version_minor": 0
      },
      "text/plain": [
       "tokenizer_config.json:   0%|          | 0.00/529 [00:00<?, ?B/s]"
      ]
     },
     "metadata": {},
     "output_type": "display_data"
    },
    {
     "data": {
      "application/vnd.jupyter.widget-view+json": {
       "model_id": "d06bfecc90ac45ff9a932572feebaefd",
       "version_major": 2,
       "version_minor": 0
      },
      "text/plain": [
       "sentencepiece.bpe.model:   0%|          | 0.00/5.07M [00:00<?, ?B/s]"
      ]
     },
     "metadata": {},
     "output_type": "display_data"
    },
    {
     "data": {
      "application/vnd.jupyter.widget-view+json": {
       "model_id": "688dac3101e94455ad864f74ec09f05e",
       "version_major": 2,
       "version_minor": 0
      },
      "text/plain": [
       "special_tokens_map.json:   0%|          | 0.00/649 [00:00<?, ?B/s]"
      ]
     },
     "metadata": {},
     "output_type": "display_data"
    },
    {
     "data": {
      "application/vnd.jupyter.widget-view+json": {
       "model_id": "d37af9cb6a964569a47c63a4933e3367",
       "version_major": 2,
       "version_minor": 0
      },
      "text/plain": [
       "config.json:   0%|          | 0.00/1.43k [00:00<?, ?B/s]"
      ]
     },
     "metadata": {},
     "output_type": "display_data"
    },
    {
     "data": {
      "application/vnd.jupyter.widget-view+json": {
       "model_id": "3fad22e9934d438f8017ecac5e84e184",
       "version_major": 2,
       "version_minor": 0
      },
      "text/plain": [
       "model.safetensors:   0%|          | 0.00/2.44G [00:00<?, ?B/s]"
      ]
     },
     "metadata": {},
     "output_type": "display_data"
    },
    {
     "data": {
      "application/vnd.jupyter.widget-view+json": {
       "model_id": "99bd0049bdd84e7396461dc3745f15b2",
       "version_major": 2,
       "version_minor": 0
      },
      "text/plain": [
       "generation_config.json:   0%|          | 0.00/261 [00:00<?, ?B/s]"
      ]
     },
     "metadata": {},
     "output_type": "display_data"
    },
    {
     "name": "stderr",
     "output_type": "stream",
     "text": [
      "100%|██████████| 997/997 [10:34<00:00,  1.57it/s]\n"
     ]
    },
    {
     "ename": "OSError",
     "evalue": "Cannot save file into a non-existent directory: '../data/processed'",
     "output_type": "error",
     "traceback": [
      "\u001b[31m---------------------------------------------------------------------------\u001b[39m",
      "\u001b[31mOSError\u001b[39m                                   Traceback (most recent call last)",
      "\u001b[36mCell\u001b[39m\u001b[36m \u001b[39m\u001b[32mIn[31]\u001b[39m\u001b[32m, line 7\u001b[39m\n\u001b[32m      2\u001b[39m mt_mbart50 = dlt.TranslationModel(model_or_path=\u001b[33m\"\u001b[39m\u001b[33mmbart50\u001b[39m\u001b[33m\"\u001b[39m, device=\u001b[33m\"\u001b[39m\u001b[33mgpu\u001b[39m\u001b[33m\"\u001b[39m)\n\u001b[32m      3\u001b[39m df_merged[\u001b[33m\"\u001b[39m\u001b[33mmbart50_translation\u001b[39m\u001b[33m\"\u001b[39m] = df_merged[\u001b[33m\"\u001b[39m\u001b[33mtext_pt\u001b[39m\u001b[33m\"\u001b[39m].progress_apply(\n\u001b[32m      4\u001b[39m     \u001b[38;5;28;01mlambda\u001b[39;00m x: mt_mbart50.translate(x, source=dlt.lang.PORTUGUESE, target=dlt.lang.ENGLISH)\n\u001b[32m      5\u001b[39m )\n\u001b[32m----> \u001b[39m\u001b[32m7\u001b[39m \u001b[43mdf_merged\u001b[49m\u001b[43m.\u001b[49m\u001b[43mto_csv\u001b[49m\u001b[43m(\u001b[49m\u001b[33;43m\"\u001b[39;49m\u001b[33;43m../data/processed/translation_benchmark_flores_plus_pt_en.csv\u001b[39;49m\u001b[33;43m\"\u001b[39;49m\u001b[43m,\u001b[49m\u001b[43m \u001b[49m\u001b[43mindex\u001b[49m\u001b[43m=\u001b[49m\u001b[38;5;28;43;01mFalse\u001b[39;49;00m\u001b[43m)\u001b[49m\n",
      "\u001b[36mFile \u001b[39m\u001b[32m~/documents/patent-ai-project/venv/lib/python3.12/site-packages/pandas/util/_decorators.py:333\u001b[39m, in \u001b[36mdeprecate_nonkeyword_arguments.<locals>.decorate.<locals>.wrapper\u001b[39m\u001b[34m(*args, **kwargs)\u001b[39m\n\u001b[32m    327\u001b[39m \u001b[38;5;28;01mif\u001b[39;00m \u001b[38;5;28mlen\u001b[39m(args) > num_allow_args:\n\u001b[32m    328\u001b[39m     warnings.warn(\n\u001b[32m    329\u001b[39m         msg.format(arguments=_format_argument_list(allow_args)),\n\u001b[32m    330\u001b[39m         \u001b[38;5;167;01mFutureWarning\u001b[39;00m,\n\u001b[32m    331\u001b[39m         stacklevel=find_stack_level(),\n\u001b[32m    332\u001b[39m     )\n\u001b[32m--> \u001b[39m\u001b[32m333\u001b[39m \u001b[38;5;28;01mreturn\u001b[39;00m \u001b[43mfunc\u001b[49m\u001b[43m(\u001b[49m\u001b[43m*\u001b[49m\u001b[43margs\u001b[49m\u001b[43m,\u001b[49m\u001b[43m \u001b[49m\u001b[43m*\u001b[49m\u001b[43m*\u001b[49m\u001b[43mkwargs\u001b[49m\u001b[43m)\u001b[49m\n",
      "\u001b[36mFile \u001b[39m\u001b[32m~/documents/patent-ai-project/venv/lib/python3.12/site-packages/pandas/core/generic.py:3967\u001b[39m, in \u001b[36mNDFrame.to_csv\u001b[39m\u001b[34m(self, path_or_buf, sep, na_rep, float_format, columns, header, index, index_label, mode, encoding, compression, quoting, quotechar, lineterminator, chunksize, date_format, doublequote, escapechar, decimal, errors, storage_options)\u001b[39m\n\u001b[32m   3956\u001b[39m df = \u001b[38;5;28mself\u001b[39m \u001b[38;5;28;01mif\u001b[39;00m \u001b[38;5;28misinstance\u001b[39m(\u001b[38;5;28mself\u001b[39m, ABCDataFrame) \u001b[38;5;28;01melse\u001b[39;00m \u001b[38;5;28mself\u001b[39m.to_frame()\n\u001b[32m   3958\u001b[39m formatter = DataFrameFormatter(\n\u001b[32m   3959\u001b[39m     frame=df,\n\u001b[32m   3960\u001b[39m     header=header,\n\u001b[32m   (...)\u001b[39m\u001b[32m   3964\u001b[39m     decimal=decimal,\n\u001b[32m   3965\u001b[39m )\n\u001b[32m-> \u001b[39m\u001b[32m3967\u001b[39m \u001b[38;5;28;01mreturn\u001b[39;00m \u001b[43mDataFrameRenderer\u001b[49m\u001b[43m(\u001b[49m\u001b[43mformatter\u001b[49m\u001b[43m)\u001b[49m\u001b[43m.\u001b[49m\u001b[43mto_csv\u001b[49m\u001b[43m(\u001b[49m\n\u001b[32m   3968\u001b[39m \u001b[43m    \u001b[49m\u001b[43mpath_or_buf\u001b[49m\u001b[43m,\u001b[49m\n\u001b[32m   3969\u001b[39m \u001b[43m    \u001b[49m\u001b[43mlineterminator\u001b[49m\u001b[43m=\u001b[49m\u001b[43mlineterminator\u001b[49m\u001b[43m,\u001b[49m\n\u001b[32m   3970\u001b[39m \u001b[43m    \u001b[49m\u001b[43msep\u001b[49m\u001b[43m=\u001b[49m\u001b[43msep\u001b[49m\u001b[43m,\u001b[49m\n\u001b[32m   3971\u001b[39m \u001b[43m    \u001b[49m\u001b[43mencoding\u001b[49m\u001b[43m=\u001b[49m\u001b[43mencoding\u001b[49m\u001b[43m,\u001b[49m\n\u001b[32m   3972\u001b[39m \u001b[43m    \u001b[49m\u001b[43merrors\u001b[49m\u001b[43m=\u001b[49m\u001b[43merrors\u001b[49m\u001b[43m,\u001b[49m\n\u001b[32m   3973\u001b[39m \u001b[43m    \u001b[49m\u001b[43mcompression\u001b[49m\u001b[43m=\u001b[49m\u001b[43mcompression\u001b[49m\u001b[43m,\u001b[49m\n\u001b[32m   3974\u001b[39m \u001b[43m    \u001b[49m\u001b[43mquoting\u001b[49m\u001b[43m=\u001b[49m\u001b[43mquoting\u001b[49m\u001b[43m,\u001b[49m\n\u001b[32m   3975\u001b[39m \u001b[43m    \u001b[49m\u001b[43mcolumns\u001b[49m\u001b[43m=\u001b[49m\u001b[43mcolumns\u001b[49m\u001b[43m,\u001b[49m\n\u001b[32m   3976\u001b[39m \u001b[43m    \u001b[49m\u001b[43mindex_label\u001b[49m\u001b[43m=\u001b[49m\u001b[43mindex_label\u001b[49m\u001b[43m,\u001b[49m\n\u001b[32m   3977\u001b[39m \u001b[43m    \u001b[49m\u001b[43mmode\u001b[49m\u001b[43m=\u001b[49m\u001b[43mmode\u001b[49m\u001b[43m,\u001b[49m\n\u001b[32m   3978\u001b[39m \u001b[43m    \u001b[49m\u001b[43mchunksize\u001b[49m\u001b[43m=\u001b[49m\u001b[43mchunksize\u001b[49m\u001b[43m,\u001b[49m\n\u001b[32m   3979\u001b[39m \u001b[43m    \u001b[49m\u001b[43mquotechar\u001b[49m\u001b[43m=\u001b[49m\u001b[43mquotechar\u001b[49m\u001b[43m,\u001b[49m\n\u001b[32m   3980\u001b[39m \u001b[43m    \u001b[49m\u001b[43mdate_format\u001b[49m\u001b[43m=\u001b[49m\u001b[43mdate_format\u001b[49m\u001b[43m,\u001b[49m\n\u001b[32m   3981\u001b[39m \u001b[43m    \u001b[49m\u001b[43mdoublequote\u001b[49m\u001b[43m=\u001b[49m\u001b[43mdoublequote\u001b[49m\u001b[43m,\u001b[49m\n\u001b[32m   3982\u001b[39m \u001b[43m    \u001b[49m\u001b[43mescapechar\u001b[49m\u001b[43m=\u001b[49m\u001b[43mescapechar\u001b[49m\u001b[43m,\u001b[49m\n\u001b[32m   3983\u001b[39m \u001b[43m    \u001b[49m\u001b[43mstorage_options\u001b[49m\u001b[43m=\u001b[49m\u001b[43mstorage_options\u001b[49m\u001b[43m,\u001b[49m\n\u001b[32m   3984\u001b[39m \u001b[43m\u001b[49m\u001b[43m)\u001b[49m\n",
      "\u001b[36mFile \u001b[39m\u001b[32m~/documents/patent-ai-project/venv/lib/python3.12/site-packages/pandas/io/formats/format.py:1014\u001b[39m, in \u001b[36mDataFrameRenderer.to_csv\u001b[39m\u001b[34m(self, path_or_buf, encoding, sep, columns, index_label, mode, compression, quoting, quotechar, lineterminator, chunksize, date_format, doublequote, escapechar, errors, storage_options)\u001b[39m\n\u001b[32m    993\u001b[39m     created_buffer = \u001b[38;5;28;01mFalse\u001b[39;00m\n\u001b[32m    995\u001b[39m csv_formatter = CSVFormatter(\n\u001b[32m    996\u001b[39m     path_or_buf=path_or_buf,\n\u001b[32m    997\u001b[39m     lineterminator=lineterminator,\n\u001b[32m   (...)\u001b[39m\u001b[32m   1012\u001b[39m     formatter=\u001b[38;5;28mself\u001b[39m.fmt,\n\u001b[32m   1013\u001b[39m )\n\u001b[32m-> \u001b[39m\u001b[32m1014\u001b[39m \u001b[43mcsv_formatter\u001b[49m\u001b[43m.\u001b[49m\u001b[43msave\u001b[49m\u001b[43m(\u001b[49m\u001b[43m)\u001b[49m\n\u001b[32m   1016\u001b[39m \u001b[38;5;28;01mif\u001b[39;00m created_buffer:\n\u001b[32m   1017\u001b[39m     \u001b[38;5;28;01massert\u001b[39;00m \u001b[38;5;28misinstance\u001b[39m(path_or_buf, StringIO)\n",
      "\u001b[36mFile \u001b[39m\u001b[32m~/documents/patent-ai-project/venv/lib/python3.12/site-packages/pandas/io/formats/csvs.py:251\u001b[39m, in \u001b[36mCSVFormatter.save\u001b[39m\u001b[34m(self)\u001b[39m\n\u001b[32m    247\u001b[39m \u001b[38;5;250m\u001b[39m\u001b[33;03m\"\"\"\u001b[39;00m\n\u001b[32m    248\u001b[39m \u001b[33;03mCreate the writer & save.\u001b[39;00m\n\u001b[32m    249\u001b[39m \u001b[33;03m\"\"\"\u001b[39;00m\n\u001b[32m    250\u001b[39m \u001b[38;5;66;03m# apply compression and byte/text conversion\u001b[39;00m\n\u001b[32m--> \u001b[39m\u001b[32m251\u001b[39m \u001b[38;5;28;01mwith\u001b[39;00m \u001b[43mget_handle\u001b[49m\u001b[43m(\u001b[49m\n\u001b[32m    252\u001b[39m \u001b[43m    \u001b[49m\u001b[38;5;28;43mself\u001b[39;49m\u001b[43m.\u001b[49m\u001b[43mfilepath_or_buffer\u001b[49m\u001b[43m,\u001b[49m\n\u001b[32m    253\u001b[39m \u001b[43m    \u001b[49m\u001b[38;5;28;43mself\u001b[39;49m\u001b[43m.\u001b[49m\u001b[43mmode\u001b[49m\u001b[43m,\u001b[49m\n\u001b[32m    254\u001b[39m \u001b[43m    \u001b[49m\u001b[43mencoding\u001b[49m\u001b[43m=\u001b[49m\u001b[38;5;28;43mself\u001b[39;49m\u001b[43m.\u001b[49m\u001b[43mencoding\u001b[49m\u001b[43m,\u001b[49m\n\u001b[32m    255\u001b[39m \u001b[43m    \u001b[49m\u001b[43merrors\u001b[49m\u001b[43m=\u001b[49m\u001b[38;5;28;43mself\u001b[39;49m\u001b[43m.\u001b[49m\u001b[43merrors\u001b[49m\u001b[43m,\u001b[49m\n\u001b[32m    256\u001b[39m \u001b[43m    \u001b[49m\u001b[43mcompression\u001b[49m\u001b[43m=\u001b[49m\u001b[38;5;28;43mself\u001b[39;49m\u001b[43m.\u001b[49m\u001b[43mcompression\u001b[49m\u001b[43m,\u001b[49m\n\u001b[32m    257\u001b[39m \u001b[43m    \u001b[49m\u001b[43mstorage_options\u001b[49m\u001b[43m=\u001b[49m\u001b[38;5;28;43mself\u001b[39;49m\u001b[43m.\u001b[49m\u001b[43mstorage_options\u001b[49m\u001b[43m,\u001b[49m\n\u001b[32m    258\u001b[39m \u001b[43m\u001b[49m\u001b[43m)\u001b[49m \u001b[38;5;28;01mas\u001b[39;00m handles:\n\u001b[32m    259\u001b[39m     \u001b[38;5;66;03m# Note: self.encoding is irrelevant here\u001b[39;00m\n\u001b[32m    260\u001b[39m     \u001b[38;5;28mself\u001b[39m.writer = csvlib.writer(\n\u001b[32m    261\u001b[39m         handles.handle,\n\u001b[32m    262\u001b[39m         lineterminator=\u001b[38;5;28mself\u001b[39m.lineterminator,\n\u001b[32m   (...)\u001b[39m\u001b[32m    267\u001b[39m         quotechar=\u001b[38;5;28mself\u001b[39m.quotechar,\n\u001b[32m    268\u001b[39m     )\n\u001b[32m    270\u001b[39m     \u001b[38;5;28mself\u001b[39m._save()\n",
      "\u001b[36mFile \u001b[39m\u001b[32m~/documents/patent-ai-project/venv/lib/python3.12/site-packages/pandas/io/common.py:749\u001b[39m, in \u001b[36mget_handle\u001b[39m\u001b[34m(path_or_buf, mode, encoding, compression, memory_map, is_text, errors, storage_options)\u001b[39m\n\u001b[32m    747\u001b[39m \u001b[38;5;66;03m# Only for write methods\u001b[39;00m\n\u001b[32m    748\u001b[39m \u001b[38;5;28;01mif\u001b[39;00m \u001b[33m\"\u001b[39m\u001b[33mr\u001b[39m\u001b[33m\"\u001b[39m \u001b[38;5;129;01mnot\u001b[39;00m \u001b[38;5;129;01min\u001b[39;00m mode \u001b[38;5;129;01mand\u001b[39;00m is_path:\n\u001b[32m--> \u001b[39m\u001b[32m749\u001b[39m     \u001b[43mcheck_parent_directory\u001b[49m\u001b[43m(\u001b[49m\u001b[38;5;28;43mstr\u001b[39;49m\u001b[43m(\u001b[49m\u001b[43mhandle\u001b[49m\u001b[43m)\u001b[49m\u001b[43m)\u001b[49m\n\u001b[32m    751\u001b[39m \u001b[38;5;28;01mif\u001b[39;00m compression:\n\u001b[32m    752\u001b[39m     \u001b[38;5;28;01mif\u001b[39;00m compression != \u001b[33m\"\u001b[39m\u001b[33mzstd\u001b[39m\u001b[33m\"\u001b[39m:\n\u001b[32m    753\u001b[39m         \u001b[38;5;66;03m# compression libraries do not like an explicit text-mode\u001b[39;00m\n",
      "\u001b[36mFile \u001b[39m\u001b[32m~/documents/patent-ai-project/venv/lib/python3.12/site-packages/pandas/io/common.py:616\u001b[39m, in \u001b[36mcheck_parent_directory\u001b[39m\u001b[34m(path)\u001b[39m\n\u001b[32m    614\u001b[39m parent = Path(path).parent\n\u001b[32m    615\u001b[39m \u001b[38;5;28;01mif\u001b[39;00m \u001b[38;5;129;01mnot\u001b[39;00m parent.is_dir():\n\u001b[32m--> \u001b[39m\u001b[32m616\u001b[39m     \u001b[38;5;28;01mraise\u001b[39;00m \u001b[38;5;167;01mOSError\u001b[39;00m(\u001b[33mrf\u001b[39m\u001b[33m\"\u001b[39m\u001b[33mCannot save file into a non-existent directory: \u001b[39m\u001b[33m'\u001b[39m\u001b[38;5;132;01m{\u001b[39;00mparent\u001b[38;5;132;01m}\u001b[39;00m\u001b[33m'\u001b[39m\u001b[33m\"\u001b[39m)\n",
      "\u001b[31mOSError\u001b[39m: Cannot save file into a non-existent directory: '../data/processed'"
     ]
    }
   ],
   "source": [
    "# Traduzindo os textos em português para inglês usando o modelo mbart50\n",
    "mt_mbart50 = dlt.TranslationModel(model_or_path=\"mbart50\", device=\"gpu\")\n",
    "df_merged[\"mbart50_translation\"] = df_merged[\"text_pt\"].progress_apply(\n",
    "    lambda x: mt_mbart50.translate(x, source=dlt.lang.PORTUGUESE, target=dlt.lang.ENGLISH)\n",
    ")\n",
    "\n",
    "df_merged.to_csv(\"../../data/processed/translation_benchmark_flores_plus_pt_en.csv\", index=False)"
   ]
  },
  {
   "cell_type": "code",
   "execution_count": 36,
   "id": "705d9193",
   "metadata": {},
   "outputs": [],
   "source": [
    "# # Traduzindo os textos em português para inglês usando o modelo nllb-200\n",
    "# mt_nllb200 = dlt.TranslationModel(model_or_path=\"facebook/nllb-200-distilled-600M\", device=\"gpu\")\n",
    "# df_merged[\"nllb200_translation\"] = df_merged[\"text_pt\"].progress_apply(\n",
    "#     lambda x: mt_nllb200.translate(x, source=dlt.lang.PORTUGUESE, target=dlt.lang.ENGLISH)\n",
    "# )\n",
    "\n",
    "# df_merged.to_csv(\"../../data/processed/translation_benchmark_flores_plus_pt_en.csv\", index=False)"
   ]
  },
  {
   "cell_type": "code",
   "execution_count": 37,
   "id": "6f0b683f",
   "metadata": {},
   "outputs": [
    {
     "data": {
      "text/html": [
       "<div>\n",
       "<style scoped>\n",
       "    .dataframe tbody tr th:only-of-type {\n",
       "        vertical-align: middle;\n",
       "    }\n",
       "\n",
       "    .dataframe tbody tr th {\n",
       "        vertical-align: top;\n",
       "    }\n",
       "\n",
       "    .dataframe thead th {\n",
       "        text-align: right;\n",
       "    }\n",
       "</style>\n",
       "<table border=\"1\" class=\"dataframe\">\n",
       "  <thead>\n",
       "    <tr style=\"text-align: right;\">\n",
       "      <th></th>\n",
       "      <th>id</th>\n",
       "      <th>text_pt</th>\n",
       "      <th>text_en</th>\n",
       "      <th>m2m100_translation</th>\n",
       "      <th>mbart50_translation</th>\n",
       "    </tr>\n",
       "  </thead>\n",
       "  <tbody>\n",
       "    <tr>\n",
       "      <th>0</th>\n",
       "      <td>0</td>\n",
       "      <td>Na segunda-feira, cientistas da Escola de Medi...</td>\n",
       "      <td>On Monday, scientists from the Stanford Univer...</td>\n",
       "      <td>On Monday, scientists from the University of S...</td>\n",
       "      <td>On Monday, scientists at Stanford Medical Scho...</td>\n",
       "    </tr>\n",
       "    <tr>\n",
       "      <th>1</th>\n",
       "      <td>1</td>\n",
       "      <td>Os principais pesquisadores dizem que isso pod...</td>\n",
       "      <td>Lead researchers say this may bring early dete...</td>\n",
       "      <td>Lead researchers say that this can lead to ear...</td>\n",
       "      <td>Leading researchers say this can lead to early...</td>\n",
       "    </tr>\n",
       "    <tr>\n",
       "      <th>2</th>\n",
       "      <td>2</td>\n",
       "      <td>O JAS 39 Gripen se chocou com a pista por volt...</td>\n",
       "      <td>The JAS 39C Gripen crashed onto a runway at ar...</td>\n",
       "      <td>The JAS 39 Gripen shocked with the track aroun...</td>\n",
       "      <td>JAS 39 Gripen slammed into the runway at about...</td>\n",
       "    </tr>\n",
       "    <tr>\n",
       "      <th>3</th>\n",
       "      <td>3</td>\n",
       "      <td>O piloto foi identificado como o Líder de Esqu...</td>\n",
       "      <td>The pilot was identified as Squadron Leader Di...</td>\n",
       "      <td>The pilot was identified as the Squad Leader D...</td>\n",
       "      <td>The pilot was identified as Commander-in-Chief...</td>\n",
       "    </tr>\n",
       "    <tr>\n",
       "      <th>4</th>\n",
       "      <td>4</td>\n",
       "      <td>A mídia local informa o capotamento de um veíc...</td>\n",
       "      <td>Local media reports an airport fire vehicle ro...</td>\n",
       "      <td>The local media the capture of a fire vehicle ...</td>\n",
       "      <td>The local media reports a helicopter capsize f...</td>\n",
       "    </tr>\n",
       "  </tbody>\n",
       "</table>\n",
       "</div>"
      ],
      "text/plain": [
       "   id                                            text_pt  \\\n",
       "0   0  Na segunda-feira, cientistas da Escola de Medi...   \n",
       "1   1  Os principais pesquisadores dizem que isso pod...   \n",
       "2   2  O JAS 39 Gripen se chocou com a pista por volt...   \n",
       "3   3  O piloto foi identificado como o Líder de Esqu...   \n",
       "4   4  A mídia local informa o capotamento de um veíc...   \n",
       "\n",
       "                                             text_en  \\\n",
       "0  On Monday, scientists from the Stanford Univer...   \n",
       "1  Lead researchers say this may bring early dete...   \n",
       "2  The JAS 39C Gripen crashed onto a runway at ar...   \n",
       "3  The pilot was identified as Squadron Leader Di...   \n",
       "4  Local media reports an airport fire vehicle ro...   \n",
       "\n",
       "                                  m2m100_translation  \\\n",
       "0  On Monday, scientists from the University of S...   \n",
       "1  Lead researchers say that this can lead to ear...   \n",
       "2  The JAS 39 Gripen shocked with the track aroun...   \n",
       "3  The pilot was identified as the Squad Leader D...   \n",
       "4  The local media the capture of a fire vehicle ...   \n",
       "\n",
       "                                 mbart50_translation  \n",
       "0  On Monday, scientists at Stanford Medical Scho...  \n",
       "1  Leading researchers say this can lead to early...  \n",
       "2  JAS 39 Gripen slammed into the runway at about...  \n",
       "3  The pilot was identified as Commander-in-Chief...  \n",
       "4  The local media reports a helicopter capsize f...  "
      ]
     },
     "execution_count": 37,
     "metadata": {},
     "output_type": "execute_result"
    }
   ],
   "source": [
    "df_merged.head()"
   ]
  },
  {
   "cell_type": "code",
   "execution_count": null,
   "id": "85515736",
   "metadata": {},
   "outputs": [
    {
     "data": {
      "text/html": [
       "<div>\n",
       "<style scoped>\n",
       "    .dataframe tbody tr th:only-of-type {\n",
       "        vertical-align: middle;\n",
       "    }\n",
       "\n",
       "    .dataframe tbody tr th {\n",
       "        vertical-align: top;\n",
       "    }\n",
       "\n",
       "    .dataframe thead th {\n",
       "        text-align: right;\n",
       "    }\n",
       "</style>\n",
       "<table border=\"1\" class=\"dataframe\">\n",
       "  <thead>\n",
       "    <tr style=\"text-align: right;\">\n",
       "      <th></th>\n",
       "      <th>text_en</th>\n",
       "      <th>m2m100_translation</th>\n",
       "      <th>mbart50_translation</th>\n",
       "      <th>bleu_m2m100</th>\n",
       "      <th>bleu_mbart50</th>\n",
       "    </tr>\n",
       "  </thead>\n",
       "  <tbody>\n",
       "    <tr>\n",
       "      <th>0</th>\n",
       "      <td>On Monday, scientists from the Stanford Univer...</td>\n",
       "      <td>On Monday, scientists from the University of S...</td>\n",
       "      <td>On Monday, scientists at Stanford Medical Scho...</td>\n",
       "      <td>0.608199</td>\n",
       "      <td>0.462046</td>\n",
       "    </tr>\n",
       "    <tr>\n",
       "      <th>1</th>\n",
       "      <td>Lead researchers say this may bring early dete...</td>\n",
       "      <td>Lead researchers say that this can lead to ear...</td>\n",
       "      <td>Leading researchers say this can lead to early...</td>\n",
       "      <td>0.285757</td>\n",
       "      <td>0.222648</td>\n",
       "    </tr>\n",
       "    <tr>\n",
       "      <th>2</th>\n",
       "      <td>The JAS 39C Gripen crashed onto a runway at ar...</td>\n",
       "      <td>The JAS 39 Gripen shocked with the track aroun...</td>\n",
       "      <td>JAS 39 Gripen slammed into the runway at about...</td>\n",
       "      <td>0.413621</td>\n",
       "      <td>0.059216</td>\n",
       "    </tr>\n",
       "    <tr>\n",
       "      <th>3</th>\n",
       "      <td>The pilot was identified as Squadron Leader Di...</td>\n",
       "      <td>The pilot was identified as the Squad Leader D...</td>\n",
       "      <td>The pilot was identified as Commander-in-Chief...</td>\n",
       "      <td>0.525382</td>\n",
       "      <td>0.524736</td>\n",
       "    </tr>\n",
       "    <tr>\n",
       "      <th>4</th>\n",
       "      <td>Local media reports an airport fire vehicle ro...</td>\n",
       "      <td>The local media the capture of a fire vehicle ...</td>\n",
       "      <td>The local media reports a helicopter capsize f...</td>\n",
       "      <td>0.045999</td>\n",
       "      <td>0.052841</td>\n",
       "    </tr>\n",
       "  </tbody>\n",
       "</table>\n",
       "</div>"
      ],
      "text/plain": [
       "                                             text_en  \\\n",
       "0  On Monday, scientists from the Stanford Univer...   \n",
       "1  Lead researchers say this may bring early dete...   \n",
       "2  The JAS 39C Gripen crashed onto a runway at ar...   \n",
       "3  The pilot was identified as Squadron Leader Di...   \n",
       "4  Local media reports an airport fire vehicle ro...   \n",
       "\n",
       "                                  m2m100_translation  \\\n",
       "0  On Monday, scientists from the University of S...   \n",
       "1  Lead researchers say that this can lead to ear...   \n",
       "2  The JAS 39 Gripen shocked with the track aroun...   \n",
       "3  The pilot was identified as the Squad Leader D...   \n",
       "4  The local media the capture of a fire vehicle ...   \n",
       "\n",
       "                                 mbart50_translation  bleu_m2m100  \\\n",
       "0  On Monday, scientists at Stanford Medical Scho...     0.608199   \n",
       "1  Leading researchers say this can lead to early...     0.285757   \n",
       "2  JAS 39 Gripen slammed into the runway at about...     0.413621   \n",
       "3  The pilot was identified as Commander-in-Chief...     0.525382   \n",
       "4  The local media reports a helicopter capsize f...     0.045999   \n",
       "\n",
       "   bleu_mbart50  \n",
       "0      0.462046  \n",
       "1      0.222648  \n",
       "2      0.059216  \n",
       "3      0.524736  \n",
       "4      0.052841  "
      ]
     },
     "execution_count": 39,
     "metadata": {},
     "output_type": "execute_result"
    }
   ],
   "source": [
    "from nltk.translate.bleu_score import sentence_bleu, SmoothingFunction\n",
    "\n",
    "def calc_bleu(reference, hypothesis):\n",
    "    smoothie = SmoothingFunction().method4\n",
    "    return sentence_bleu([reference.split()], hypothesis.split(), smoothing_function=smoothie)\n",
    "\n",
    "df_merged[\"bleu_m2m100\"] = df_merged.apply(\n",
    "    lambda row: calc_bleu(row[\"text_en\"], row[\"m2m100_translation\"]), axis=1\n",
    ")\n",
    "\n",
    "# Calculando BLEU para mbart50_translation\n",
    "df_merged[\"bleu_mbart50\"] = df_merged.apply(\n",
    "    lambda row: calc_bleu(row[\"text_en\"], row[\"mbart50_translation\"]), axis=1\n",
    ")\n",
    "\n",
    "df_merged[[\"text_en\", \"m2m100_translation\", \"mbart50_translation\", \"bleu_m2m100\", \"bleu_mbart50\"]].head()"
   ]
  },
  {
   "cell_type": "code",
   "execution_count": 43,
   "id": "34c327f4",
   "metadata": {},
   "outputs": [],
   "source": [
    "df_merged.to_csv(\"../../data/processed/translation_benchmark_flores_plus_pt_en.csv\", index=False)"
   ]
  },
  {
   "cell_type": "code",
   "execution_count": 42,
   "id": "8846bfd7",
   "metadata": {},
   "outputs": [
    {
     "data": {
      "text/plain": [
       "([<matplotlib.axis.XTick at 0x7c3c79c2bb30>,\n",
       "  <matplotlib.axis.XTick at 0x7c3cb0307d70>],\n",
       " [Text(0, 0, 'm2m100'), Text(1, 0, 'mbart50')])"
      ]
     },
     "execution_count": 42,
     "metadata": {},
     "output_type": "execute_result"
    },
    {
     "data": {
      "image/png": "[encoded data removed]",
      "text/plain": [
       "<Figure size 1200x500 with 2 Axes>"
      ]
     },
     "metadata": {},
     "output_type": "display_data"
    }
   ],
   "source": [
    "import matplotlib.pyplot as plt\n",
    "import seaborn as sns\n",
    "\n",
    "sns.set(style=\"whitegrid\")\n",
    "\n",
    "plt.figure(figsize=(12, 5))\n",
    "plt.subplot(1, 2, 1)\n",
    "sns.histplot(df_merged[\"bleu_m2m100\"], bins=30, color=\"blue\", kde=True, label=\"m2m100\")\n",
    "sns.histplot(df_merged[\"bleu_mbart50\"], bins=30, color=\"orange\", kde=True, label=\"mbart50\", alpha=0.7)\n",
    "plt.title(\"BLEU score distribution\")\n",
    "plt.xlabel(\"BLEU score\")\n",
    "plt.ylabel(\"Frequency\")\n",
    "plt.legend()\n",
    "\n",
    "# Boxplot comparativo\n",
    "plt.subplot(1, 2, 2)\n",
    "sns.boxplot(data=df_merged[[\"bleu_m2m100\", \"bleu_mbart50\"]], palette=[\"blue\", \"orange\"])\n",
    "plt.title(\"Boxplot of BLEU scores\")\n",
    "plt.ylabel(\"BLEU score\")\n",
    "plt.xticks([0, 1], [\"m2m100\", \"mbart50\"])"
   ]
  },
  {
   "cell_type": "code",
   "execution_count": null,
   "id": "cae332be",
   "metadata": {},
   "outputs": [],
   "source": []
  }
 ],
 "metadata": {
  "kernelspec": {
   "display_name": "venv",
   "language": "python",
   "name": "python3"
  },
  "language_info": {
   "codemirror_mode": {
    "name": "ipython",
    "version": 3
   },
   "file_extension": ".py",
   "mimetype": "text/x-python",
   "name": "python",
   "nbconvert_exporter": "python",
   "pygments_lexer": "ipython3",
   "version": "3.12.4"
  }
 },
 "nbformat": 4,
 "nbformat_minor": 5
}
